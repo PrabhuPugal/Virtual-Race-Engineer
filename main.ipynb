{
 "cells": [
  {
   "cell_type": "code",
   "execution_count": 2,
   "metadata": {},
   "outputs": [],
   "source": [
    "import fastf1 as ff\n",
    "import numpy as np"
   ]
  },
  {
   "cell_type": "code",
   "execution_count": 3,
   "metadata": {},
   "outputs": [
    {
     "name": "stderr",
     "output_type": "stream",
     "text": [
      "req         WARNING \tDEFAULT CACHE ENABLED! (387.43 MB) C:\\Users\\prabh\\AppData\\Local\\Temp\\fastf1\n",
      "core           INFO \tLoading data for Belgian Grand Prix - Qualifying [v3.3.7]\n",
      "req            INFO \tUpdating cache for session_info...\n",
      "_api           INFO \tFetching session info data...\n",
      "req            INFO \tCache updated!\n",
      "req            INFO \tUpdating cache for driver_info...\n",
      "_api           INFO \tFetching driver list...\n",
      "req            INFO \tCache updated!\n",
      "req            INFO \tUpdating cache for session_status_data...\n",
      "_api           INFO \tFetching session status data...\n",
      "req            INFO \tCache updated!\n",
      "req            INFO \tUpdating cache for track_status_data...\n",
      "_api           INFO \tFetching track status data...\n",
      "req            INFO \tCache updated!\n",
      "req            INFO \tUpdating cache for _extended_timing_data...\n",
      "_api           INFO \tFetching timing data...\n",
      "_api           INFO \tParsing timing data...\n",
      "req            INFO \tCache updated!\n",
      "req            INFO \tUpdating cache for timing_app_data...\n",
      "_api           INFO \tFetching timing app data...\n",
      "req            INFO \tCache updated!\n",
      "core           INFO \tProcessing timing data...\n",
      "req            INFO \tUpdating cache for car_data...\n",
      "_api           INFO \tFetching car data...\n",
      "_api           INFO \tParsing car data...\n",
      "req            INFO \tCache updated!\n",
      "req            INFO \tUpdating cache for position_data...\n",
      "_api           INFO \tFetching position data...\n",
      "_api           INFO \tParsing position data...\n",
      "req            INFO \tCache updated!\n",
      "req            INFO \tUpdating cache for weather_data...\n",
      "_api           INFO \tFetching weather data...\n",
      "req            INFO \tCache updated!\n",
      "req            INFO \tUpdating cache for race_control_messages...\n",
      "_api           INFO \tFetching race control messages...\n",
      "req            INFO \tCache updated!\n",
      "core           INFO \tFinished loading data for 20 drivers: ['33', '63', '44', '3', '5', '10', '11', '77', '31', '4', '16', '6', '55', '14', '18', '99', '22', '47', '7', '9']\n"
     ]
    }
   ],
   "source": [
    "session = ff.get_session(2021,'Belgium','Q')\n",
    "session.load()"
   ]
  },
  {
   "cell_type": "code",
   "execution_count": null,
   "metadata": {},
   "outputs": [],
   "source": []
  },
  {
   "cell_type": "code",
   "execution_count": null,
   "metadata": {},
   "outputs": [],
   "source": []
  }
 ],
 "metadata": {
  "kernelspec": {
   "display_name": "Python 3",
   "language": "python",
   "name": "python3"
  },
  "language_info": {
   "codemirror_mode": {
    "name": "ipython",
    "version": 3
   },
   "file_extension": ".py",
   "mimetype": "text/x-python",
   "name": "python",
   "nbconvert_exporter": "python",
   "pygments_lexer": "ipython3",
   "version": "3.12.3"
  }
 },
 "nbformat": 4,
 "nbformat_minor": 2
}
