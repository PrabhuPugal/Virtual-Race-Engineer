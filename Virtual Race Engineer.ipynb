{
 "cells": [
  {
   "cell_type": "markdown",
   "metadata": {},
   "source": [
    "# **VIRTUAL RACE ENGINEER**"
   ]
  },
  {
   "cell_type": "code",
   "execution_count": 2,
   "metadata": {},
   "outputs": [
    {
     "name": "stderr",
     "output_type": "stream",
     "text": [
      "d:\\Prabhu\\SEM 7\\F1 Data\\.venv\\Lib\\site-packages\\fastf1\\api.py:32: UserWarning: `fastf1.api` will be considered private in future releases and potentially be removed or changed!\n",
      "  warnings.warn(\"`fastf1.api` will be considered private in future releases and \"\n"
     ]
    }
   ],
   "source": [
    "import fastf1 as ff\n",
    "import numpy as np\n",
    "import pandas as pd\n",
    "import matplotlib.pyplot as plt\n",
    "import fastf1.plotting\n",
    "fastf1.plotting.setup_mpl()\n",
    "import fastf1.api as fap\n",
    "fastf1.Cache.enable_cache(r\"D:\\Prabhu\\SEM 7\\F1 Data\")\n",
    "import re\n",
    "import datetime as dt\n",
    "import fastf1.mvapi as famp\n",
    "import fastf1.events as fae\n",
    "import plotly.express as px"
   ]
  },
  {
   "cell_type": "markdown",
   "metadata": {},
   "source": [
    "### LOADING SESSION"
   ]
  },
  {
   "cell_type": "code",
   "execution_count": 3,
   "metadata": {},
   "outputs": [
    {
     "name": "stderr",
     "output_type": "stream",
     "text": [
      "core           INFO \tLoading data for Dutch Grand Prix - Race [v3.3.7]\n",
      "req            INFO \tUsing cached data for session_info\n",
      "req            INFO \tUsing cached data for driver_info\n",
      "req            INFO \tUsing cached data for session_status_data\n",
      "req            INFO \tUsing cached data for lap_count\n",
      "req            INFO \tUsing cached data for track_status_data\n",
      "req            INFO \tUsing cached data for _extended_timing_data\n",
      "req            INFO \tUsing cached data for timing_app_data\n",
      "core           INFO \tProcessing timing data...\n",
      "req            INFO \tUsing cached data for car_data\n",
      "req            INFO \tUsing cached data for position_data\n",
      "req            INFO \tUsing cached data for weather_data\n",
      "req            INFO \tUsing cached data for race_control_messages\n",
      "core           INFO \tFinished loading data for 20 drivers: ['1', '14', '10', '11', '55', '44', '4', '23', '81', '31', '18', '27', '40', '77', '22', '20', '63', '24', '16', '2']\n"
     ]
    }
   ],
   "source": [
    "session = ff.get_session(2023,'Dutch','R')\n",
    "session.load()\n",
    "session_start_time=session.t0_date"
   ]
  },
  {
   "cell_type": "code",
   "execution_count": 66,
   "metadata": {},
   "outputs": [],
   "source": [
    "laps=session.laps\n",
    "drivers=laps['Driver'].unique()"
   ]
  },
  {
   "cell_type": "markdown",
   "metadata": {},
   "source": [
    "### FETCHING TELEMETRY DATA "
   ]
  },
  {
   "cell_type": "code",
   "execution_count": 5,
   "metadata": {},
   "outputs": [],
   "source": [
    "total_telemetry=[]\n",
    "for i in drivers:\n",
    "    drivers_laps=laps.pick_driver(i)\n",
    "    driver_telemetry=drivers_laps.get_car_data()\n",
    "    \n",
    "    driver_telemetry['Driver']=i\n",
    "    total_telemetry.append(driver_telemetry)\n",
    "telemetry_data=pd.concat(total_telemetry,ignore_index=True)"
   ]
  },
  {
   "cell_type": "markdown",
   "metadata": {},
   "source": [
    "### FETCHING WEATHER,TYRE,LAP AND POSITION DATA "
   ]
  },
  {
   "cell_type": "code",
   "execution_count": 6,
   "metadata": {},
   "outputs": [
    {
     "name": "stderr",
     "output_type": "stream",
     "text": [
      "req            INFO \tUsing cached data for weather_data\n"
     ]
    }
   ],
   "source": [
    "weather_data=pd.DataFrame(fap.weather_data(session.api_path))\n",
    "tyre_data = laps[['Driver', 'LapNumber', 'Compound', 'FreshTyre','TyreLife']]\n",
    "lap_data=laps[['Time','Driver','DriverNumber','LapNumber','LapTime','Sector1Time','Sector2Time','Sector3Time','IsAccurate']]\n",
    "position_data=laps[['Driver','DriverNumber','LapNumber','Position','LapStartTime']]"
   ]
  },
  {
   "cell_type": "markdown",
   "metadata": {},
   "source": [
    "### FETCHING RACE CONTROL MESSAGES"
   ]
  },
  {
   "cell_type": "code",
   "execution_count": 7,
   "metadata": {},
   "outputs": [
    {
     "name": "stderr",
     "output_type": "stream",
     "text": [
      "req            INFO \tUsing cached data for race_control_messages\n"
     ]
    }
   ],
   "source": [
    "rcm_data = pd.DataFrame(fap.race_control_messages(session.api_path))\n",
    "master_msg=rcm_data[['Time','Category','Flag','Status','Message']]"
   ]
  },
  {
   "cell_type": "code",
   "execution_count": 8,
   "metadata": {},
   "outputs": [],
   "source": [
    "# #Filter for Yellow, Red, VSC, SC \n",
    "# yellow_flags_key=['YELLOW','DOUBLE YELLOW']\n",
    "# red_flags_key=['RED']\n",
    "# vsc_key=['VSC','VIRTUAL SAFETY CAR']\n",
    "# sc_key=['SC','SAFETY CAR']\n",
    "\n",
    "# #Searching using the keyword in REGEX\n",
    "# yellow_flags = msg[msg['Message'].apply(lambda x: any(re.search(r'\\b{}\\b'.format(keyword), x) for keyword in yellow_flags_key))]\n",
    "# red_flags = msg[msg['Message'].apply(lambda x: any(re.search(r'\\b{}\\b'.format(keyword), x) for keyword in red_flags_key))]\n",
    "# vsc = msg[msg['Message'].apply(lambda x: any(re.search(r'\\b{}\\b'.format(keyword), x) for keyword in vsc_key))]\n",
    "# sc = msg[msg['Message'].apply(lambda x: any(re.search(r'\\b{}\\b'.format(keyword), x) for keyword in sc_key))]\n",
    "# master_msg=pd.concat([yellow_flags,red_flags,vsc,sc], axis=0)\n",
    "\n",
    "# pd.set_option('display.max_columns', None)"
   ]
  },
  {
   "cell_type": "markdown",
   "metadata": {},
   "source": [
    "### FETCHING LAP DATA (PITS STOPS, DRIVER POSITION ETC.)"
   ]
  },
  {
   "cell_type": "code",
   "execution_count": 9,
   "metadata": {},
   "outputs": [
    {
     "name": "stderr",
     "output_type": "stream",
     "text": [
      "req            INFO \tUsing cached data for _extended_timing_data\n"
     ]
    }
   ],
   "source": [
    "lapsdata, streamdata = fap.timing_data(session.api_path)\n",
    "lapsdata=pd.DataFrame(lapsdata)\n",
    "lapsdata['DriverNumber'] = lapsdata['Driver']\n",
    "gapdata=pd.DataFrame(streamdata)\n",
    "gapdata['DriverNumber'] = gapdata['Driver']\n",
    "gap_data = gapdata[['Time','DriverNumber','Position','GapToLeader','IntervalToPositionAhead']]\n",
    "laps_data=lapsdata[['Time','DriverNumber','LapTime','NumberOfPitStops','PitOutTime','PitInTime']]"
   ]
  },
  {
   "cell_type": "markdown",
   "metadata": {},
   "source": [
    "### GETTING CORNERS INFO"
   ]
  },
  {
   "cell_type": "code",
   "execution_count": 10,
   "metadata": {},
   "outputs": [],
   "source": [
    "circuit_info=session.get_circuit_info()\n",
    "corners_data=circuit_info.corners"
   ]
  },
  {
   "cell_type": "markdown",
   "metadata": {},
   "source": [
    "### MAKING A MASTER DATA (POSITION DATA, POSITION DATA, LAPS DATA)\n",
    "###### NOTE:WE ARE KEEPING THE GAP DATA, WEATHER DATA, RACE CONTROL MESSAGES AND THE TELEMETRY DATA SEPERATE BECAUSE EACH DATA IS GENERATED IN A COMPLETELY DIFFERENT TIME"
   ]
  },
  {
   "cell_type": "code",
   "execution_count": 11,
   "metadata": {},
   "outputs": [],
   "source": [
    "master_data = lap_data.merge(position_data, on=['Driver', 'DriverNumber', 'LapNumber'], how='left')\n",
    "master_data = master_data.merge(tyre_data, on=['Driver', 'LapNumber'], how='left')\n",
    "master_data = master_data.merge(laps_data, on=['DriverNumber','Time','LapTime'], how='left')"
   ]
  },
  {
   "cell_type": "markdown",
   "metadata": {},
   "source": [
    "#### FILLING THE MISSING LAPTIME VALUES WITH BACKWARD FILL"
   ]
  },
  {
   "cell_type": "code",
   "execution_count": 12,
   "metadata": {},
   "outputs": [
    {
     "name": "stderr",
     "output_type": "stream",
     "text": [
      "C:\\Users\\prabh\\AppData\\Local\\Temp\\ipykernel_15720\\3161052701.py:2: FutureWarning: Laps.fillna with 'method' is deprecated and will raise in a future version. Use obj.ffill() or obj.bfill() instead.\n",
      "  master_data[columns_to_fill]=master_data[columns_to_fill].fillna(method='bfill')\n"
     ]
    }
   ],
   "source": [
    "columns_to_fill=['LapTime','Sector1Time','Sector2Time','Sector3Time']\n",
    "master_data[columns_to_fill]=master_data[columns_to_fill].fillna(method='bfill')"
   ]
  },
  {
   "cell_type": "markdown",
   "metadata": {},
   "source": [
    "### CONVERTING TIME TO SECONDS"
   ]
  },
  {
   "cell_type": "code",
   "execution_count": 13,
   "metadata": {},
   "outputs": [],
   "source": [
    "master_data['Sector1Time(s)']=master_data['Sector1Time'].dt.total_seconds()\n",
    "master_data['Sector2Time(s)']=master_data['Sector2Time'].dt.total_seconds()\n",
    "master_data['Sector3Time(s)']=master_data['Sector3Time'].dt.total_seconds()\n",
    "master_data['Cum.SectorTime(s)']=master_data['Sector1Time(s)']+master_data['Sector2Time(s)']+master_data['Sector3Time(s)']\n",
    "master_data['LapTime(s)']=master_data['LapTime'].dt.total_seconds()\n",
    "master_data['LapStartTime(s)']=master_data['LapStartTime'].dt.total_seconds()\n",
    "master_data['PitInTime(s)']=master_data['PitInTime'].dt.total_seconds()\n",
    "master_data['PitOutTime(s)']=master_data['PitOutTime'].dt.total_seconds().shift(-1)"
   ]
  },
  {
   "cell_type": "markdown",
   "metadata": {},
   "source": [
    "#### CALCULATING PITSTOP TIME AND LAP DELTA"
   ]
  },
  {
   "cell_type": "code",
   "execution_count": 14,
   "metadata": {},
   "outputs": [],
   "source": [
    "master_data['PitStopTime(s)']=master_data['PitOutTime(s)']-master_data['PitInTime(s)']\n",
    "master_data['PrevLapTime(s)']=master_data['LapTime(s)'].shift(1)\n",
    "master_data['LapΔ(s)']=master_data['LapTime(s)']-master_data['PrevLapTime(s)']"
   ]
  },
  {
   "cell_type": "code",
   "execution_count": 15,
   "metadata": {},
   "outputs": [],
   "source": [
    "master_data=master_data.sort_values(by=['LapNumber','Position'])\n",
    "master_data['CumLapTime(s)'] = master_data.groupby('Driver')['LapTime(s)'].cumsum()"
   ]
  },
  {
   "cell_type": "markdown",
   "metadata": {},
   "source": [
    "#### DEFINING FUNCTION TO CALCULATE GAP TO LEADER AND INTERVAL AT THE END OF EACH LAP"
   ]
  },
  {
   "cell_type": "code",
   "execution_count": 16,
   "metadata": {},
   "outputs": [
    {
     "name": "stderr",
     "output_type": "stream",
     "text": [
      "C:\\Users\\prabh\\AppData\\Local\\Temp\\ipykernel_15720\\4238679693.py:7: SettingWithCopyWarning: \n",
      "A value is trying to be set on a copy of a slice from a DataFrame.\n",
      "Try using .loc[row_indexer,col_indexer] = value instead\n",
      "\n",
      "See the caveats in the documentation: https://pandas.pydata.org/pandas-docs/stable/user_guide/indexing.html#returning-a-view-versus-a-copy\n",
      "  lap.loc[:,'GapToLeader']=lap['CumLapTime(s)']-leader_time\n",
      "C:\\Users\\prabh\\AppData\\Local\\Temp\\ipykernel_15720\\4238679693.py:8: SettingWithCopyWarning: \n",
      "A value is trying to be set on a copy of a slice from a DataFrame.\n",
      "Try using .loc[row_indexer,col_indexer] = value instead\n",
      "\n",
      "See the caveats in the documentation: https://pandas.pydata.org/pandas-docs/stable/user_guide/indexing.html#returning-a-view-versus-a-copy\n",
      "  lap.loc[:,'Interval']=lap['CumLapTime(s)'].diff().fillna(0)\n",
      "C:\\Users\\prabh\\AppData\\Local\\Temp\\ipykernel_15720\\4238679693.py:7: SettingWithCopyWarning: \n",
      "A value is trying to be set on a copy of a slice from a DataFrame.\n",
      "Try using .loc[row_indexer,col_indexer] = value instead\n",
      "\n",
      "See the caveats in the documentation: https://pandas.pydata.org/pandas-docs/stable/user_guide/indexing.html#returning-a-view-versus-a-copy\n",
      "  lap.loc[:,'GapToLeader']=lap['CumLapTime(s)']-leader_time\n",
      "C:\\Users\\prabh\\AppData\\Local\\Temp\\ipykernel_15720\\4238679693.py:8: SettingWithCopyWarning: \n",
      "A value is trying to be set on a copy of a slice from a DataFrame.\n",
      "Try using .loc[row_indexer,col_indexer] = value instead\n",
      "\n",
      "See the caveats in the documentation: https://pandas.pydata.org/pandas-docs/stable/user_guide/indexing.html#returning-a-view-versus-a-copy\n",
      "  lap.loc[:,'Interval']=lap['CumLapTime(s)'].diff().fillna(0)\n",
      "C:\\Users\\prabh\\AppData\\Local\\Temp\\ipykernel_15720\\4238679693.py:7: SettingWithCopyWarning: \n",
      "A value is trying to be set on a copy of a slice from a DataFrame.\n",
      "Try using .loc[row_indexer,col_indexer] = value instead\n",
      "\n",
      "See the caveats in the documentation: https://pandas.pydata.org/pandas-docs/stable/user_guide/indexing.html#returning-a-view-versus-a-copy\n",
      "  lap.loc[:,'GapToLeader']=lap['CumLapTime(s)']-leader_time\n",
      "C:\\Users\\prabh\\AppData\\Local\\Temp\\ipykernel_15720\\4238679693.py:8: SettingWithCopyWarning: \n",
      "A value is trying to be set on a copy of a slice from a DataFrame.\n",
      "Try using .loc[row_indexer,col_indexer] = value instead\n",
      "\n",
      "See the caveats in the documentation: https://pandas.pydata.org/pandas-docs/stable/user_guide/indexing.html#returning-a-view-versus-a-copy\n",
      "  lap.loc[:,'Interval']=lap['CumLapTime(s)'].diff().fillna(0)\n",
      "C:\\Users\\prabh\\AppData\\Local\\Temp\\ipykernel_15720\\4238679693.py:7: SettingWithCopyWarning: \n",
      "A value is trying to be set on a copy of a slice from a DataFrame.\n",
      "Try using .loc[row_indexer,col_indexer] = value instead\n",
      "\n",
      "See the caveats in the documentation: https://pandas.pydata.org/pandas-docs/stable/user_guide/indexing.html#returning-a-view-versus-a-copy\n",
      "  lap.loc[:,'GapToLeader']=lap['CumLapTime(s)']-leader_time\n",
      "C:\\Users\\prabh\\AppData\\Local\\Temp\\ipykernel_15720\\4238679693.py:8: SettingWithCopyWarning: \n",
      "A value is trying to be set on a copy of a slice from a DataFrame.\n",
      "Try using .loc[row_indexer,col_indexer] = value instead\n",
      "\n",
      "See the caveats in the documentation: https://pandas.pydata.org/pandas-docs/stable/user_guide/indexing.html#returning-a-view-versus-a-copy\n",
      "  lap.loc[:,'Interval']=lap['CumLapTime(s)'].diff().fillna(0)\n",
      "C:\\Users\\prabh\\AppData\\Local\\Temp\\ipykernel_15720\\4238679693.py:7: SettingWithCopyWarning: \n",
      "A value is trying to be set on a copy of a slice from a DataFrame.\n",
      "Try using .loc[row_indexer,col_indexer] = value instead\n",
      "\n",
      "See the caveats in the documentation: https://pandas.pydata.org/pandas-docs/stable/user_guide/indexing.html#returning-a-view-versus-a-copy\n",
      "  lap.loc[:,'GapToLeader']=lap['CumLapTime(s)']-leader_time\n",
      "C:\\Users\\prabh\\AppData\\Local\\Temp\\ipykernel_15720\\4238679693.py:8: SettingWithCopyWarning: \n",
      "A value is trying to be set on a copy of a slice from a DataFrame.\n",
      "Try using .loc[row_indexer,col_indexer] = value instead\n",
      "\n",
      "See the caveats in the documentation: https://pandas.pydata.org/pandas-docs/stable/user_guide/indexing.html#returning-a-view-versus-a-copy\n",
      "  lap.loc[:,'Interval']=lap['CumLapTime(s)'].diff().fillna(0)\n",
      "C:\\Users\\prabh\\AppData\\Local\\Temp\\ipykernel_15720\\4238679693.py:7: SettingWithCopyWarning: \n",
      "A value is trying to be set on a copy of a slice from a DataFrame.\n",
      "Try using .loc[row_indexer,col_indexer] = value instead\n",
      "\n",
      "See the caveats in the documentation: https://pandas.pydata.org/pandas-docs/stable/user_guide/indexing.html#returning-a-view-versus-a-copy\n",
      "  lap.loc[:,'GapToLeader']=lap['CumLapTime(s)']-leader_time\n",
      "C:\\Users\\prabh\\AppData\\Local\\Temp\\ipykernel_15720\\4238679693.py:8: SettingWithCopyWarning: \n",
      "A value is trying to be set on a copy of a slice from a DataFrame.\n",
      "Try using .loc[row_indexer,col_indexer] = value instead\n",
      "\n",
      "See the caveats in the documentation: https://pandas.pydata.org/pandas-docs/stable/user_guide/indexing.html#returning-a-view-versus-a-copy\n",
      "  lap.loc[:,'Interval']=lap['CumLapTime(s)'].diff().fillna(0)\n",
      "C:\\Users\\prabh\\AppData\\Local\\Temp\\ipykernel_15720\\4238679693.py:7: SettingWithCopyWarning: \n",
      "A value is trying to be set on a copy of a slice from a DataFrame.\n",
      "Try using .loc[row_indexer,col_indexer] = value instead\n",
      "\n",
      "See the caveats in the documentation: https://pandas.pydata.org/pandas-docs/stable/user_guide/indexing.html#returning-a-view-versus-a-copy\n",
      "  lap.loc[:,'GapToLeader']=lap['CumLapTime(s)']-leader_time\n",
      "C:\\Users\\prabh\\AppData\\Local\\Temp\\ipykernel_15720\\4238679693.py:8: SettingWithCopyWarning: \n",
      "A value is trying to be set on a copy of a slice from a DataFrame.\n",
      "Try using .loc[row_indexer,col_indexer] = value instead\n",
      "\n",
      "See the caveats in the documentation: https://pandas.pydata.org/pandas-docs/stable/user_guide/indexing.html#returning-a-view-versus-a-copy\n",
      "  lap.loc[:,'Interval']=lap['CumLapTime(s)'].diff().fillna(0)\n",
      "C:\\Users\\prabh\\AppData\\Local\\Temp\\ipykernel_15720\\4238679693.py:7: SettingWithCopyWarning: \n",
      "A value is trying to be set on a copy of a slice from a DataFrame.\n",
      "Try using .loc[row_indexer,col_indexer] = value instead\n",
      "\n",
      "See the caveats in the documentation: https://pandas.pydata.org/pandas-docs/stable/user_guide/indexing.html#returning-a-view-versus-a-copy\n",
      "  lap.loc[:,'GapToLeader']=lap['CumLapTime(s)']-leader_time\n",
      "C:\\Users\\prabh\\AppData\\Local\\Temp\\ipykernel_15720\\4238679693.py:8: SettingWithCopyWarning: \n",
      "A value is trying to be set on a copy of a slice from a DataFrame.\n",
      "Try using .loc[row_indexer,col_indexer] = value instead\n",
      "\n",
      "See the caveats in the documentation: https://pandas.pydata.org/pandas-docs/stable/user_guide/indexing.html#returning-a-view-versus-a-copy\n",
      "  lap.loc[:,'Interval']=lap['CumLapTime(s)'].diff().fillna(0)\n",
      "C:\\Users\\prabh\\AppData\\Local\\Temp\\ipykernel_15720\\4238679693.py:7: SettingWithCopyWarning: \n",
      "A value is trying to be set on a copy of a slice from a DataFrame.\n",
      "Try using .loc[row_indexer,col_indexer] = value instead\n",
      "\n",
      "See the caveats in the documentation: https://pandas.pydata.org/pandas-docs/stable/user_guide/indexing.html#returning-a-view-versus-a-copy\n",
      "  lap.loc[:,'GapToLeader']=lap['CumLapTime(s)']-leader_time\n",
      "C:\\Users\\prabh\\AppData\\Local\\Temp\\ipykernel_15720\\4238679693.py:8: SettingWithCopyWarning: \n",
      "A value is trying to be set on a copy of a slice from a DataFrame.\n",
      "Try using .loc[row_indexer,col_indexer] = value instead\n",
      "\n",
      "See the caveats in the documentation: https://pandas.pydata.org/pandas-docs/stable/user_guide/indexing.html#returning-a-view-versus-a-copy\n",
      "  lap.loc[:,'Interval']=lap['CumLapTime(s)'].diff().fillna(0)\n",
      "C:\\Users\\prabh\\AppData\\Local\\Temp\\ipykernel_15720\\4238679693.py:7: SettingWithCopyWarning: \n",
      "A value is trying to be set on a copy of a slice from a DataFrame.\n",
      "Try using .loc[row_indexer,col_indexer] = value instead\n",
      "\n",
      "See the caveats in the documentation: https://pandas.pydata.org/pandas-docs/stable/user_guide/indexing.html#returning-a-view-versus-a-copy\n",
      "  lap.loc[:,'GapToLeader']=lap['CumLapTime(s)']-leader_time\n",
      "C:\\Users\\prabh\\AppData\\Local\\Temp\\ipykernel_15720\\4238679693.py:8: SettingWithCopyWarning: \n",
      "A value is trying to be set on a copy of a slice from a DataFrame.\n",
      "Try using .loc[row_indexer,col_indexer] = value instead\n",
      "\n",
      "See the caveats in the documentation: https://pandas.pydata.org/pandas-docs/stable/user_guide/indexing.html#returning-a-view-versus-a-copy\n",
      "  lap.loc[:,'Interval']=lap['CumLapTime(s)'].diff().fillna(0)\n",
      "C:\\Users\\prabh\\AppData\\Local\\Temp\\ipykernel_15720\\4238679693.py:7: SettingWithCopyWarning: \n",
      "A value is trying to be set on a copy of a slice from a DataFrame.\n",
      "Try using .loc[row_indexer,col_indexer] = value instead\n",
      "\n",
      "See the caveats in the documentation: https://pandas.pydata.org/pandas-docs/stable/user_guide/indexing.html#returning-a-view-versus-a-copy\n",
      "  lap.loc[:,'GapToLeader']=lap['CumLapTime(s)']-leader_time\n",
      "C:\\Users\\prabh\\AppData\\Local\\Temp\\ipykernel_15720\\4238679693.py:8: SettingWithCopyWarning: \n",
      "A value is trying to be set on a copy of a slice from a DataFrame.\n",
      "Try using .loc[row_indexer,col_indexer] = value instead\n",
      "\n",
      "See the caveats in the documentation: https://pandas.pydata.org/pandas-docs/stable/user_guide/indexing.html#returning-a-view-versus-a-copy\n",
      "  lap.loc[:,'Interval']=lap['CumLapTime(s)'].diff().fillna(0)\n",
      "C:\\Users\\prabh\\AppData\\Local\\Temp\\ipykernel_15720\\4238679693.py:7: SettingWithCopyWarning: \n",
      "A value is trying to be set on a copy of a slice from a DataFrame.\n",
      "Try using .loc[row_indexer,col_indexer] = value instead\n",
      "\n",
      "See the caveats in the documentation: https://pandas.pydata.org/pandas-docs/stable/user_guide/indexing.html#returning-a-view-versus-a-copy\n",
      "  lap.loc[:,'GapToLeader']=lap['CumLapTime(s)']-leader_time\n",
      "C:\\Users\\prabh\\AppData\\Local\\Temp\\ipykernel_15720\\4238679693.py:8: SettingWithCopyWarning: \n",
      "A value is trying to be set on a copy of a slice from a DataFrame.\n",
      "Try using .loc[row_indexer,col_indexer] = value instead\n",
      "\n",
      "See the caveats in the documentation: https://pandas.pydata.org/pandas-docs/stable/user_guide/indexing.html#returning-a-view-versus-a-copy\n",
      "  lap.loc[:,'Interval']=lap['CumLapTime(s)'].diff().fillna(0)\n",
      "C:\\Users\\prabh\\AppData\\Local\\Temp\\ipykernel_15720\\4238679693.py:7: SettingWithCopyWarning: \n",
      "A value is trying to be set on a copy of a slice from a DataFrame.\n",
      "Try using .loc[row_indexer,col_indexer] = value instead\n",
      "\n",
      "See the caveats in the documentation: https://pandas.pydata.org/pandas-docs/stable/user_guide/indexing.html#returning-a-view-versus-a-copy\n",
      "  lap.loc[:,'GapToLeader']=lap['CumLapTime(s)']-leader_time\n",
      "C:\\Users\\prabh\\AppData\\Local\\Temp\\ipykernel_15720\\4238679693.py:8: SettingWithCopyWarning: \n",
      "A value is trying to be set on a copy of a slice from a DataFrame.\n",
      "Try using .loc[row_indexer,col_indexer] = value instead\n",
      "\n",
      "See the caveats in the documentation: https://pandas.pydata.org/pandas-docs/stable/user_guide/indexing.html#returning-a-view-versus-a-copy\n",
      "  lap.loc[:,'Interval']=lap['CumLapTime(s)'].diff().fillna(0)\n",
      "C:\\Users\\prabh\\AppData\\Local\\Temp\\ipykernel_15720\\4238679693.py:7: SettingWithCopyWarning: \n",
      "A value is trying to be set on a copy of a slice from a DataFrame.\n",
      "Try using .loc[row_indexer,col_indexer] = value instead\n",
      "\n",
      "See the caveats in the documentation: https://pandas.pydata.org/pandas-docs/stable/user_guide/indexing.html#returning-a-view-versus-a-copy\n",
      "  lap.loc[:,'GapToLeader']=lap['CumLapTime(s)']-leader_time\n",
      "C:\\Users\\prabh\\AppData\\Local\\Temp\\ipykernel_15720\\4238679693.py:8: SettingWithCopyWarning: \n",
      "A value is trying to be set on a copy of a slice from a DataFrame.\n",
      "Try using .loc[row_indexer,col_indexer] = value instead\n",
      "\n",
      "See the caveats in the documentation: https://pandas.pydata.org/pandas-docs/stable/user_guide/indexing.html#returning-a-view-versus-a-copy\n",
      "  lap.loc[:,'Interval']=lap['CumLapTime(s)'].diff().fillna(0)\n",
      "C:\\Users\\prabh\\AppData\\Local\\Temp\\ipykernel_15720\\4238679693.py:7: SettingWithCopyWarning: \n",
      "A value is trying to be set on a copy of a slice from a DataFrame.\n",
      "Try using .loc[row_indexer,col_indexer] = value instead\n",
      "\n",
      "See the caveats in the documentation: https://pandas.pydata.org/pandas-docs/stable/user_guide/indexing.html#returning-a-view-versus-a-copy\n",
      "  lap.loc[:,'GapToLeader']=lap['CumLapTime(s)']-leader_time\n",
      "C:\\Users\\prabh\\AppData\\Local\\Temp\\ipykernel_15720\\4238679693.py:8: SettingWithCopyWarning: \n",
      "A value is trying to be set on a copy of a slice from a DataFrame.\n",
      "Try using .loc[row_indexer,col_indexer] = value instead\n",
      "\n",
      "See the caveats in the documentation: https://pandas.pydata.org/pandas-docs/stable/user_guide/indexing.html#returning-a-view-versus-a-copy\n",
      "  lap.loc[:,'Interval']=lap['CumLapTime(s)'].diff().fillna(0)\n",
      "C:\\Users\\prabh\\AppData\\Local\\Temp\\ipykernel_15720\\4238679693.py:7: SettingWithCopyWarning: \n",
      "A value is trying to be set on a copy of a slice from a DataFrame.\n",
      "Try using .loc[row_indexer,col_indexer] = value instead\n",
      "\n",
      "See the caveats in the documentation: https://pandas.pydata.org/pandas-docs/stable/user_guide/indexing.html#returning-a-view-versus-a-copy\n",
      "  lap.loc[:,'GapToLeader']=lap['CumLapTime(s)']-leader_time\n",
      "C:\\Users\\prabh\\AppData\\Local\\Temp\\ipykernel_15720\\4238679693.py:8: SettingWithCopyWarning: \n",
      "A value is trying to be set on a copy of a slice from a DataFrame.\n",
      "Try using .loc[row_indexer,col_indexer] = value instead\n",
      "\n",
      "See the caveats in the documentation: https://pandas.pydata.org/pandas-docs/stable/user_guide/indexing.html#returning-a-view-versus-a-copy\n",
      "  lap.loc[:,'Interval']=lap['CumLapTime(s)'].diff().fillna(0)\n",
      "C:\\Users\\prabh\\AppData\\Local\\Temp\\ipykernel_15720\\4238679693.py:7: SettingWithCopyWarning: \n",
      "A value is trying to be set on a copy of a slice from a DataFrame.\n",
      "Try using .loc[row_indexer,col_indexer] = value instead\n",
      "\n",
      "See the caveats in the documentation: https://pandas.pydata.org/pandas-docs/stable/user_guide/indexing.html#returning-a-view-versus-a-copy\n",
      "  lap.loc[:,'GapToLeader']=lap['CumLapTime(s)']-leader_time\n",
      "C:\\Users\\prabh\\AppData\\Local\\Temp\\ipykernel_15720\\4238679693.py:8: SettingWithCopyWarning: \n",
      "A value is trying to be set on a copy of a slice from a DataFrame.\n",
      "Try using .loc[row_indexer,col_indexer] = value instead\n",
      "\n",
      "See the caveats in the documentation: https://pandas.pydata.org/pandas-docs/stable/user_guide/indexing.html#returning-a-view-versus-a-copy\n",
      "  lap.loc[:,'Interval']=lap['CumLapTime(s)'].diff().fillna(0)\n",
      "C:\\Users\\prabh\\AppData\\Local\\Temp\\ipykernel_15720\\4238679693.py:7: SettingWithCopyWarning: \n",
      "A value is trying to be set on a copy of a slice from a DataFrame.\n",
      "Try using .loc[row_indexer,col_indexer] = value instead\n",
      "\n",
      "See the caveats in the documentation: https://pandas.pydata.org/pandas-docs/stable/user_guide/indexing.html#returning-a-view-versus-a-copy\n",
      "  lap.loc[:,'GapToLeader']=lap['CumLapTime(s)']-leader_time\n",
      "C:\\Users\\prabh\\AppData\\Local\\Temp\\ipykernel_15720\\4238679693.py:8: SettingWithCopyWarning: \n",
      "A value is trying to be set on a copy of a slice from a DataFrame.\n",
      "Try using .loc[row_indexer,col_indexer] = value instead\n",
      "\n",
      "See the caveats in the documentation: https://pandas.pydata.org/pandas-docs/stable/user_guide/indexing.html#returning-a-view-versus-a-copy\n",
      "  lap.loc[:,'Interval']=lap['CumLapTime(s)'].diff().fillna(0)\n",
      "C:\\Users\\prabh\\AppData\\Local\\Temp\\ipykernel_15720\\4238679693.py:7: SettingWithCopyWarning: \n",
      "A value is trying to be set on a copy of a slice from a DataFrame.\n",
      "Try using .loc[row_indexer,col_indexer] = value instead\n",
      "\n",
      "See the caveats in the documentation: https://pandas.pydata.org/pandas-docs/stable/user_guide/indexing.html#returning-a-view-versus-a-copy\n",
      "  lap.loc[:,'GapToLeader']=lap['CumLapTime(s)']-leader_time\n",
      "C:\\Users\\prabh\\AppData\\Local\\Temp\\ipykernel_15720\\4238679693.py:8: SettingWithCopyWarning: \n",
      "A value is trying to be set on a copy of a slice from a DataFrame.\n",
      "Try using .loc[row_indexer,col_indexer] = value instead\n",
      "\n",
      "See the caveats in the documentation: https://pandas.pydata.org/pandas-docs/stable/user_guide/indexing.html#returning-a-view-versus-a-copy\n",
      "  lap.loc[:,'Interval']=lap['CumLapTime(s)'].diff().fillna(0)\n",
      "C:\\Users\\prabh\\AppData\\Local\\Temp\\ipykernel_15720\\4238679693.py:7: SettingWithCopyWarning: \n",
      "A value is trying to be set on a copy of a slice from a DataFrame.\n",
      "Try using .loc[row_indexer,col_indexer] = value instead\n",
      "\n",
      "See the caveats in the documentation: https://pandas.pydata.org/pandas-docs/stable/user_guide/indexing.html#returning-a-view-versus-a-copy\n",
      "  lap.loc[:,'GapToLeader']=lap['CumLapTime(s)']-leader_time\n",
      "C:\\Users\\prabh\\AppData\\Local\\Temp\\ipykernel_15720\\4238679693.py:8: SettingWithCopyWarning: \n",
      "A value is trying to be set on a copy of a slice from a DataFrame.\n",
      "Try using .loc[row_indexer,col_indexer] = value instead\n",
      "\n",
      "See the caveats in the documentation: https://pandas.pydata.org/pandas-docs/stable/user_guide/indexing.html#returning-a-view-versus-a-copy\n",
      "  lap.loc[:,'Interval']=lap['CumLapTime(s)'].diff().fillna(0)\n",
      "C:\\Users\\prabh\\AppData\\Local\\Temp\\ipykernel_15720\\4238679693.py:7: SettingWithCopyWarning: \n",
      "A value is trying to be set on a copy of a slice from a DataFrame.\n",
      "Try using .loc[row_indexer,col_indexer] = value instead\n",
      "\n",
      "See the caveats in the documentation: https://pandas.pydata.org/pandas-docs/stable/user_guide/indexing.html#returning-a-view-versus-a-copy\n",
      "  lap.loc[:,'GapToLeader']=lap['CumLapTime(s)']-leader_time\n",
      "C:\\Users\\prabh\\AppData\\Local\\Temp\\ipykernel_15720\\4238679693.py:8: SettingWithCopyWarning: \n",
      "A value is trying to be set on a copy of a slice from a DataFrame.\n",
      "Try using .loc[row_indexer,col_indexer] = value instead\n",
      "\n",
      "See the caveats in the documentation: https://pandas.pydata.org/pandas-docs/stable/user_guide/indexing.html#returning-a-view-versus-a-copy\n",
      "  lap.loc[:,'Interval']=lap['CumLapTime(s)'].diff().fillna(0)\n",
      "C:\\Users\\prabh\\AppData\\Local\\Temp\\ipykernel_15720\\4238679693.py:7: SettingWithCopyWarning: \n",
      "A value is trying to be set on a copy of a slice from a DataFrame.\n",
      "Try using .loc[row_indexer,col_indexer] = value instead\n",
      "\n",
      "See the caveats in the documentation: https://pandas.pydata.org/pandas-docs/stable/user_guide/indexing.html#returning-a-view-versus-a-copy\n",
      "  lap.loc[:,'GapToLeader']=lap['CumLapTime(s)']-leader_time\n",
      "C:\\Users\\prabh\\AppData\\Local\\Temp\\ipykernel_15720\\4238679693.py:8: SettingWithCopyWarning: \n",
      "A value is trying to be set on a copy of a slice from a DataFrame.\n",
      "Try using .loc[row_indexer,col_indexer] = value instead\n",
      "\n",
      "See the caveats in the documentation: https://pandas.pydata.org/pandas-docs/stable/user_guide/indexing.html#returning-a-view-versus-a-copy\n",
      "  lap.loc[:,'Interval']=lap['CumLapTime(s)'].diff().fillna(0)\n",
      "C:\\Users\\prabh\\AppData\\Local\\Temp\\ipykernel_15720\\4238679693.py:7: SettingWithCopyWarning: \n",
      "A value is trying to be set on a copy of a slice from a DataFrame.\n",
      "Try using .loc[row_indexer,col_indexer] = value instead\n",
      "\n",
      "See the caveats in the documentation: https://pandas.pydata.org/pandas-docs/stable/user_guide/indexing.html#returning-a-view-versus-a-copy\n",
      "  lap.loc[:,'GapToLeader']=lap['CumLapTime(s)']-leader_time\n",
      "C:\\Users\\prabh\\AppData\\Local\\Temp\\ipykernel_15720\\4238679693.py:8: SettingWithCopyWarning: \n",
      "A value is trying to be set on a copy of a slice from a DataFrame.\n",
      "Try using .loc[row_indexer,col_indexer] = value instead\n",
      "\n",
      "See the caveats in the documentation: https://pandas.pydata.org/pandas-docs/stable/user_guide/indexing.html#returning-a-view-versus-a-copy\n",
      "  lap.loc[:,'Interval']=lap['CumLapTime(s)'].diff().fillna(0)\n",
      "C:\\Users\\prabh\\AppData\\Local\\Temp\\ipykernel_15720\\4238679693.py:7: SettingWithCopyWarning: \n",
      "A value is trying to be set on a copy of a slice from a DataFrame.\n",
      "Try using .loc[row_indexer,col_indexer] = value instead\n",
      "\n",
      "See the caveats in the documentation: https://pandas.pydata.org/pandas-docs/stable/user_guide/indexing.html#returning-a-view-versus-a-copy\n",
      "  lap.loc[:,'GapToLeader']=lap['CumLapTime(s)']-leader_time\n",
      "C:\\Users\\prabh\\AppData\\Local\\Temp\\ipykernel_15720\\4238679693.py:8: SettingWithCopyWarning: \n",
      "A value is trying to be set on a copy of a slice from a DataFrame.\n",
      "Try using .loc[row_indexer,col_indexer] = value instead\n",
      "\n",
      "See the caveats in the documentation: https://pandas.pydata.org/pandas-docs/stable/user_guide/indexing.html#returning-a-view-versus-a-copy\n",
      "  lap.loc[:,'Interval']=lap['CumLapTime(s)'].diff().fillna(0)\n",
      "C:\\Users\\prabh\\AppData\\Local\\Temp\\ipykernel_15720\\4238679693.py:7: SettingWithCopyWarning: \n",
      "A value is trying to be set on a copy of a slice from a DataFrame.\n",
      "Try using .loc[row_indexer,col_indexer] = value instead\n",
      "\n",
      "See the caveats in the documentation: https://pandas.pydata.org/pandas-docs/stable/user_guide/indexing.html#returning-a-view-versus-a-copy\n",
      "  lap.loc[:,'GapToLeader']=lap['CumLapTime(s)']-leader_time\n",
      "C:\\Users\\prabh\\AppData\\Local\\Temp\\ipykernel_15720\\4238679693.py:8: SettingWithCopyWarning: \n",
      "A value is trying to be set on a copy of a slice from a DataFrame.\n",
      "Try using .loc[row_indexer,col_indexer] = value instead\n",
      "\n",
      "See the caveats in the documentation: https://pandas.pydata.org/pandas-docs/stable/user_guide/indexing.html#returning-a-view-versus-a-copy\n",
      "  lap.loc[:,'Interval']=lap['CumLapTime(s)'].diff().fillna(0)\n",
      "C:\\Users\\prabh\\AppData\\Local\\Temp\\ipykernel_15720\\4238679693.py:7: SettingWithCopyWarning: \n",
      "A value is trying to be set on a copy of a slice from a DataFrame.\n",
      "Try using .loc[row_indexer,col_indexer] = value instead\n",
      "\n",
      "See the caveats in the documentation: https://pandas.pydata.org/pandas-docs/stable/user_guide/indexing.html#returning-a-view-versus-a-copy\n",
      "  lap.loc[:,'GapToLeader']=lap['CumLapTime(s)']-leader_time\n",
      "C:\\Users\\prabh\\AppData\\Local\\Temp\\ipykernel_15720\\4238679693.py:8: SettingWithCopyWarning: \n",
      "A value is trying to be set on a copy of a slice from a DataFrame.\n",
      "Try using .loc[row_indexer,col_indexer] = value instead\n",
      "\n",
      "See the caveats in the documentation: https://pandas.pydata.org/pandas-docs/stable/user_guide/indexing.html#returning-a-view-versus-a-copy\n",
      "  lap.loc[:,'Interval']=lap['CumLapTime(s)'].diff().fillna(0)\n",
      "C:\\Users\\prabh\\AppData\\Local\\Temp\\ipykernel_15720\\4238679693.py:7: SettingWithCopyWarning: \n",
      "A value is trying to be set on a copy of a slice from a DataFrame.\n",
      "Try using .loc[row_indexer,col_indexer] = value instead\n",
      "\n",
      "See the caveats in the documentation: https://pandas.pydata.org/pandas-docs/stable/user_guide/indexing.html#returning-a-view-versus-a-copy\n",
      "  lap.loc[:,'GapToLeader']=lap['CumLapTime(s)']-leader_time\n",
      "C:\\Users\\prabh\\AppData\\Local\\Temp\\ipykernel_15720\\4238679693.py:8: SettingWithCopyWarning: \n",
      "A value is trying to be set on a copy of a slice from a DataFrame.\n",
      "Try using .loc[row_indexer,col_indexer] = value instead\n",
      "\n",
      "See the caveats in the documentation: https://pandas.pydata.org/pandas-docs/stable/user_guide/indexing.html#returning-a-view-versus-a-copy\n",
      "  lap.loc[:,'Interval']=lap['CumLapTime(s)'].diff().fillna(0)\n",
      "C:\\Users\\prabh\\AppData\\Local\\Temp\\ipykernel_15720\\4238679693.py:7: SettingWithCopyWarning: \n",
      "A value is trying to be set on a copy of a slice from a DataFrame.\n",
      "Try using .loc[row_indexer,col_indexer] = value instead\n",
      "\n",
      "See the caveats in the documentation: https://pandas.pydata.org/pandas-docs/stable/user_guide/indexing.html#returning-a-view-versus-a-copy\n",
      "  lap.loc[:,'GapToLeader']=lap['CumLapTime(s)']-leader_time\n",
      "C:\\Users\\prabh\\AppData\\Local\\Temp\\ipykernel_15720\\4238679693.py:8: SettingWithCopyWarning: \n",
      "A value is trying to be set on a copy of a slice from a DataFrame.\n",
      "Try using .loc[row_indexer,col_indexer] = value instead\n",
      "\n",
      "See the caveats in the documentation: https://pandas.pydata.org/pandas-docs/stable/user_guide/indexing.html#returning-a-view-versus-a-copy\n",
      "  lap.loc[:,'Interval']=lap['CumLapTime(s)'].diff().fillna(0)\n",
      "C:\\Users\\prabh\\AppData\\Local\\Temp\\ipykernel_15720\\4238679693.py:7: SettingWithCopyWarning: \n",
      "A value is trying to be set on a copy of a slice from a DataFrame.\n",
      "Try using .loc[row_indexer,col_indexer] = value instead\n",
      "\n",
      "See the caveats in the documentation: https://pandas.pydata.org/pandas-docs/stable/user_guide/indexing.html#returning-a-view-versus-a-copy\n",
      "  lap.loc[:,'GapToLeader']=lap['CumLapTime(s)']-leader_time\n",
      "C:\\Users\\prabh\\AppData\\Local\\Temp\\ipykernel_15720\\4238679693.py:8: SettingWithCopyWarning: \n",
      "A value is trying to be set on a copy of a slice from a DataFrame.\n",
      "Try using .loc[row_indexer,col_indexer] = value instead\n",
      "\n",
      "See the caveats in the documentation: https://pandas.pydata.org/pandas-docs/stable/user_guide/indexing.html#returning-a-view-versus-a-copy\n",
      "  lap.loc[:,'Interval']=lap['CumLapTime(s)'].diff().fillna(0)\n",
      "C:\\Users\\prabh\\AppData\\Local\\Temp\\ipykernel_15720\\4238679693.py:7: SettingWithCopyWarning: \n",
      "A value is trying to be set on a copy of a slice from a DataFrame.\n",
      "Try using .loc[row_indexer,col_indexer] = value instead\n",
      "\n",
      "See the caveats in the documentation: https://pandas.pydata.org/pandas-docs/stable/user_guide/indexing.html#returning-a-view-versus-a-copy\n",
      "  lap.loc[:,'GapToLeader']=lap['CumLapTime(s)']-leader_time\n",
      "C:\\Users\\prabh\\AppData\\Local\\Temp\\ipykernel_15720\\4238679693.py:8: SettingWithCopyWarning: \n",
      "A value is trying to be set on a copy of a slice from a DataFrame.\n",
      "Try using .loc[row_indexer,col_indexer] = value instead\n",
      "\n",
      "See the caveats in the documentation: https://pandas.pydata.org/pandas-docs/stable/user_guide/indexing.html#returning-a-view-versus-a-copy\n",
      "  lap.loc[:,'Interval']=lap['CumLapTime(s)'].diff().fillna(0)\n",
      "C:\\Users\\prabh\\AppData\\Local\\Temp\\ipykernel_15720\\4238679693.py:7: SettingWithCopyWarning: \n",
      "A value is trying to be set on a copy of a slice from a DataFrame.\n",
      "Try using .loc[row_indexer,col_indexer] = value instead\n",
      "\n",
      "See the caveats in the documentation: https://pandas.pydata.org/pandas-docs/stable/user_guide/indexing.html#returning-a-view-versus-a-copy\n",
      "  lap.loc[:,'GapToLeader']=lap['CumLapTime(s)']-leader_time\n",
      "C:\\Users\\prabh\\AppData\\Local\\Temp\\ipykernel_15720\\4238679693.py:8: SettingWithCopyWarning: \n",
      "A value is trying to be set on a copy of a slice from a DataFrame.\n",
      "Try using .loc[row_indexer,col_indexer] = value instead\n",
      "\n",
      "See the caveats in the documentation: https://pandas.pydata.org/pandas-docs/stable/user_guide/indexing.html#returning-a-view-versus-a-copy\n",
      "  lap.loc[:,'Interval']=lap['CumLapTime(s)'].diff().fillna(0)\n",
      "C:\\Users\\prabh\\AppData\\Local\\Temp\\ipykernel_15720\\4238679693.py:7: SettingWithCopyWarning: \n",
      "A value is trying to be set on a copy of a slice from a DataFrame.\n",
      "Try using .loc[row_indexer,col_indexer] = value instead\n",
      "\n",
      "See the caveats in the documentation: https://pandas.pydata.org/pandas-docs/stable/user_guide/indexing.html#returning-a-view-versus-a-copy\n",
      "  lap.loc[:,'GapToLeader']=lap['CumLapTime(s)']-leader_time\n",
      "C:\\Users\\prabh\\AppData\\Local\\Temp\\ipykernel_15720\\4238679693.py:8: SettingWithCopyWarning: \n",
      "A value is trying to be set on a copy of a slice from a DataFrame.\n",
      "Try using .loc[row_indexer,col_indexer] = value instead\n",
      "\n",
      "See the caveats in the documentation: https://pandas.pydata.org/pandas-docs/stable/user_guide/indexing.html#returning-a-view-versus-a-copy\n",
      "  lap.loc[:,'Interval']=lap['CumLapTime(s)'].diff().fillna(0)\n",
      "C:\\Users\\prabh\\AppData\\Local\\Temp\\ipykernel_15720\\4238679693.py:7: SettingWithCopyWarning: \n",
      "A value is trying to be set on a copy of a slice from a DataFrame.\n",
      "Try using .loc[row_indexer,col_indexer] = value instead\n",
      "\n",
      "See the caveats in the documentation: https://pandas.pydata.org/pandas-docs/stable/user_guide/indexing.html#returning-a-view-versus-a-copy\n",
      "  lap.loc[:,'GapToLeader']=lap['CumLapTime(s)']-leader_time\n",
      "C:\\Users\\prabh\\AppData\\Local\\Temp\\ipykernel_15720\\4238679693.py:8: SettingWithCopyWarning: \n",
      "A value is trying to be set on a copy of a slice from a DataFrame.\n",
      "Try using .loc[row_indexer,col_indexer] = value instead\n",
      "\n",
      "See the caveats in the documentation: https://pandas.pydata.org/pandas-docs/stable/user_guide/indexing.html#returning-a-view-versus-a-copy\n",
      "  lap.loc[:,'Interval']=lap['CumLapTime(s)'].diff().fillna(0)\n",
      "C:\\Users\\prabh\\AppData\\Local\\Temp\\ipykernel_15720\\4238679693.py:7: SettingWithCopyWarning: \n",
      "A value is trying to be set on a copy of a slice from a DataFrame.\n",
      "Try using .loc[row_indexer,col_indexer] = value instead\n",
      "\n",
      "See the caveats in the documentation: https://pandas.pydata.org/pandas-docs/stable/user_guide/indexing.html#returning-a-view-versus-a-copy\n",
      "  lap.loc[:,'GapToLeader']=lap['CumLapTime(s)']-leader_time\n",
      "C:\\Users\\prabh\\AppData\\Local\\Temp\\ipykernel_15720\\4238679693.py:8: SettingWithCopyWarning: \n",
      "A value is trying to be set on a copy of a slice from a DataFrame.\n",
      "Try using .loc[row_indexer,col_indexer] = value instead\n",
      "\n",
      "See the caveats in the documentation: https://pandas.pydata.org/pandas-docs/stable/user_guide/indexing.html#returning-a-view-versus-a-copy\n",
      "  lap.loc[:,'Interval']=lap['CumLapTime(s)'].diff().fillna(0)\n",
      "C:\\Users\\prabh\\AppData\\Local\\Temp\\ipykernel_15720\\4238679693.py:7: SettingWithCopyWarning: \n",
      "A value is trying to be set on a copy of a slice from a DataFrame.\n",
      "Try using .loc[row_indexer,col_indexer] = value instead\n",
      "\n",
      "See the caveats in the documentation: https://pandas.pydata.org/pandas-docs/stable/user_guide/indexing.html#returning-a-view-versus-a-copy\n",
      "  lap.loc[:,'GapToLeader']=lap['CumLapTime(s)']-leader_time\n",
      "C:\\Users\\prabh\\AppData\\Local\\Temp\\ipykernel_15720\\4238679693.py:8: SettingWithCopyWarning: \n",
      "A value is trying to be set on a copy of a slice from a DataFrame.\n",
      "Try using .loc[row_indexer,col_indexer] = value instead\n",
      "\n",
      "See the caveats in the documentation: https://pandas.pydata.org/pandas-docs/stable/user_guide/indexing.html#returning-a-view-versus-a-copy\n",
      "  lap.loc[:,'Interval']=lap['CumLapTime(s)'].diff().fillna(0)\n",
      "C:\\Users\\prabh\\AppData\\Local\\Temp\\ipykernel_15720\\4238679693.py:7: SettingWithCopyWarning: \n",
      "A value is trying to be set on a copy of a slice from a DataFrame.\n",
      "Try using .loc[row_indexer,col_indexer] = value instead\n",
      "\n",
      "See the caveats in the documentation: https://pandas.pydata.org/pandas-docs/stable/user_guide/indexing.html#returning-a-view-versus-a-copy\n",
      "  lap.loc[:,'GapToLeader']=lap['CumLapTime(s)']-leader_time\n",
      "C:\\Users\\prabh\\AppData\\Local\\Temp\\ipykernel_15720\\4238679693.py:8: SettingWithCopyWarning: \n",
      "A value is trying to be set on a copy of a slice from a DataFrame.\n",
      "Try using .loc[row_indexer,col_indexer] = value instead\n",
      "\n",
      "See the caveats in the documentation: https://pandas.pydata.org/pandas-docs/stable/user_guide/indexing.html#returning-a-view-versus-a-copy\n",
      "  lap.loc[:,'Interval']=lap['CumLapTime(s)'].diff().fillna(0)\n",
      "C:\\Users\\prabh\\AppData\\Local\\Temp\\ipykernel_15720\\4238679693.py:7: SettingWithCopyWarning: \n",
      "A value is trying to be set on a copy of a slice from a DataFrame.\n",
      "Try using .loc[row_indexer,col_indexer] = value instead\n",
      "\n",
      "See the caveats in the documentation: https://pandas.pydata.org/pandas-docs/stable/user_guide/indexing.html#returning-a-view-versus-a-copy\n",
      "  lap.loc[:,'GapToLeader']=lap['CumLapTime(s)']-leader_time\n",
      "C:\\Users\\prabh\\AppData\\Local\\Temp\\ipykernel_15720\\4238679693.py:8: SettingWithCopyWarning: \n",
      "A value is trying to be set on a copy of a slice from a DataFrame.\n",
      "Try using .loc[row_indexer,col_indexer] = value instead\n",
      "\n",
      "See the caveats in the documentation: https://pandas.pydata.org/pandas-docs/stable/user_guide/indexing.html#returning-a-view-versus-a-copy\n",
      "  lap.loc[:,'Interval']=lap['CumLapTime(s)'].diff().fillna(0)\n",
      "C:\\Users\\prabh\\AppData\\Local\\Temp\\ipykernel_15720\\4238679693.py:7: SettingWithCopyWarning: \n",
      "A value is trying to be set on a copy of a slice from a DataFrame.\n",
      "Try using .loc[row_indexer,col_indexer] = value instead\n",
      "\n",
      "See the caveats in the documentation: https://pandas.pydata.org/pandas-docs/stable/user_guide/indexing.html#returning-a-view-versus-a-copy\n",
      "  lap.loc[:,'GapToLeader']=lap['CumLapTime(s)']-leader_time\n",
      "C:\\Users\\prabh\\AppData\\Local\\Temp\\ipykernel_15720\\4238679693.py:8: SettingWithCopyWarning: \n",
      "A value is trying to be set on a copy of a slice from a DataFrame.\n",
      "Try using .loc[row_indexer,col_indexer] = value instead\n",
      "\n",
      "See the caveats in the documentation: https://pandas.pydata.org/pandas-docs/stable/user_guide/indexing.html#returning-a-view-versus-a-copy\n",
      "  lap.loc[:,'Interval']=lap['CumLapTime(s)'].diff().fillna(0)\n",
      "C:\\Users\\prabh\\AppData\\Local\\Temp\\ipykernel_15720\\4238679693.py:7: SettingWithCopyWarning: \n",
      "A value is trying to be set on a copy of a slice from a DataFrame.\n",
      "Try using .loc[row_indexer,col_indexer] = value instead\n",
      "\n",
      "See the caveats in the documentation: https://pandas.pydata.org/pandas-docs/stable/user_guide/indexing.html#returning-a-view-versus-a-copy\n",
      "  lap.loc[:,'GapToLeader']=lap['CumLapTime(s)']-leader_time\n",
      "C:\\Users\\prabh\\AppData\\Local\\Temp\\ipykernel_15720\\4238679693.py:8: SettingWithCopyWarning: \n",
      "A value is trying to be set on a copy of a slice from a DataFrame.\n",
      "Try using .loc[row_indexer,col_indexer] = value instead\n",
      "\n",
      "See the caveats in the documentation: https://pandas.pydata.org/pandas-docs/stable/user_guide/indexing.html#returning-a-view-versus-a-copy\n",
      "  lap.loc[:,'Interval']=lap['CumLapTime(s)'].diff().fillna(0)\n",
      "C:\\Users\\prabh\\AppData\\Local\\Temp\\ipykernel_15720\\4238679693.py:7: SettingWithCopyWarning: \n",
      "A value is trying to be set on a copy of a slice from a DataFrame.\n",
      "Try using .loc[row_indexer,col_indexer] = value instead\n",
      "\n",
      "See the caveats in the documentation: https://pandas.pydata.org/pandas-docs/stable/user_guide/indexing.html#returning-a-view-versus-a-copy\n",
      "  lap.loc[:,'GapToLeader']=lap['CumLapTime(s)']-leader_time\n",
      "C:\\Users\\prabh\\AppData\\Local\\Temp\\ipykernel_15720\\4238679693.py:8: SettingWithCopyWarning: \n",
      "A value is trying to be set on a copy of a slice from a DataFrame.\n",
      "Try using .loc[row_indexer,col_indexer] = value instead\n",
      "\n",
      "See the caveats in the documentation: https://pandas.pydata.org/pandas-docs/stable/user_guide/indexing.html#returning-a-view-versus-a-copy\n",
      "  lap.loc[:,'Interval']=lap['CumLapTime(s)'].diff().fillna(0)\n",
      "C:\\Users\\prabh\\AppData\\Local\\Temp\\ipykernel_15720\\4238679693.py:7: SettingWithCopyWarning: \n",
      "A value is trying to be set on a copy of a slice from a DataFrame.\n",
      "Try using .loc[row_indexer,col_indexer] = value instead\n",
      "\n",
      "See the caveats in the documentation: https://pandas.pydata.org/pandas-docs/stable/user_guide/indexing.html#returning-a-view-versus-a-copy\n",
      "  lap.loc[:,'GapToLeader']=lap['CumLapTime(s)']-leader_time\n",
      "C:\\Users\\prabh\\AppData\\Local\\Temp\\ipykernel_15720\\4238679693.py:8: SettingWithCopyWarning: \n",
      "A value is trying to be set on a copy of a slice from a DataFrame.\n",
      "Try using .loc[row_indexer,col_indexer] = value instead\n",
      "\n",
      "See the caveats in the documentation: https://pandas.pydata.org/pandas-docs/stable/user_guide/indexing.html#returning-a-view-versus-a-copy\n",
      "  lap.loc[:,'Interval']=lap['CumLapTime(s)'].diff().fillna(0)\n",
      "C:\\Users\\prabh\\AppData\\Local\\Temp\\ipykernel_15720\\4238679693.py:7: SettingWithCopyWarning: \n",
      "A value is trying to be set on a copy of a slice from a DataFrame.\n",
      "Try using .loc[row_indexer,col_indexer] = value instead\n",
      "\n",
      "See the caveats in the documentation: https://pandas.pydata.org/pandas-docs/stable/user_guide/indexing.html#returning-a-view-versus-a-copy\n",
      "  lap.loc[:,'GapToLeader']=lap['CumLapTime(s)']-leader_time\n",
      "C:\\Users\\prabh\\AppData\\Local\\Temp\\ipykernel_15720\\4238679693.py:8: SettingWithCopyWarning: \n",
      "A value is trying to be set on a copy of a slice from a DataFrame.\n",
      "Try using .loc[row_indexer,col_indexer] = value instead\n",
      "\n",
      "See the caveats in the documentation: https://pandas.pydata.org/pandas-docs/stable/user_guide/indexing.html#returning-a-view-versus-a-copy\n",
      "  lap.loc[:,'Interval']=lap['CumLapTime(s)'].diff().fillna(0)\n",
      "C:\\Users\\prabh\\AppData\\Local\\Temp\\ipykernel_15720\\4238679693.py:7: SettingWithCopyWarning: \n",
      "A value is trying to be set on a copy of a slice from a DataFrame.\n",
      "Try using .loc[row_indexer,col_indexer] = value instead\n",
      "\n",
      "See the caveats in the documentation: https://pandas.pydata.org/pandas-docs/stable/user_guide/indexing.html#returning-a-view-versus-a-copy\n",
      "  lap.loc[:,'GapToLeader']=lap['CumLapTime(s)']-leader_time\n",
      "C:\\Users\\prabh\\AppData\\Local\\Temp\\ipykernel_15720\\4238679693.py:8: SettingWithCopyWarning: \n",
      "A value is trying to be set on a copy of a slice from a DataFrame.\n",
      "Try using .loc[row_indexer,col_indexer] = value instead\n",
      "\n",
      "See the caveats in the documentation: https://pandas.pydata.org/pandas-docs/stable/user_guide/indexing.html#returning-a-view-versus-a-copy\n",
      "  lap.loc[:,'Interval']=lap['CumLapTime(s)'].diff().fillna(0)\n",
      "C:\\Users\\prabh\\AppData\\Local\\Temp\\ipykernel_15720\\4238679693.py:7: SettingWithCopyWarning: \n",
      "A value is trying to be set on a copy of a slice from a DataFrame.\n",
      "Try using .loc[row_indexer,col_indexer] = value instead\n",
      "\n",
      "See the caveats in the documentation: https://pandas.pydata.org/pandas-docs/stable/user_guide/indexing.html#returning-a-view-versus-a-copy\n",
      "  lap.loc[:,'GapToLeader']=lap['CumLapTime(s)']-leader_time\n",
      "C:\\Users\\prabh\\AppData\\Local\\Temp\\ipykernel_15720\\4238679693.py:8: SettingWithCopyWarning: \n",
      "A value is trying to be set on a copy of a slice from a DataFrame.\n",
      "Try using .loc[row_indexer,col_indexer] = value instead\n",
      "\n",
      "See the caveats in the documentation: https://pandas.pydata.org/pandas-docs/stable/user_guide/indexing.html#returning-a-view-versus-a-copy\n",
      "  lap.loc[:,'Interval']=lap['CumLapTime(s)'].diff().fillna(0)\n",
      "C:\\Users\\prabh\\AppData\\Local\\Temp\\ipykernel_15720\\4238679693.py:7: SettingWithCopyWarning: \n",
      "A value is trying to be set on a copy of a slice from a DataFrame.\n",
      "Try using .loc[row_indexer,col_indexer] = value instead\n",
      "\n",
      "See the caveats in the documentation: https://pandas.pydata.org/pandas-docs/stable/user_guide/indexing.html#returning-a-view-versus-a-copy\n",
      "  lap.loc[:,'GapToLeader']=lap['CumLapTime(s)']-leader_time\n",
      "C:\\Users\\prabh\\AppData\\Local\\Temp\\ipykernel_15720\\4238679693.py:8: SettingWithCopyWarning: \n",
      "A value is trying to be set on a copy of a slice from a DataFrame.\n",
      "Try using .loc[row_indexer,col_indexer] = value instead\n",
      "\n",
      "See the caveats in the documentation: https://pandas.pydata.org/pandas-docs/stable/user_guide/indexing.html#returning-a-view-versus-a-copy\n",
      "  lap.loc[:,'Interval']=lap['CumLapTime(s)'].diff().fillna(0)\n",
      "C:\\Users\\prabh\\AppData\\Local\\Temp\\ipykernel_15720\\4238679693.py:7: SettingWithCopyWarning: \n",
      "A value is trying to be set on a copy of a slice from a DataFrame.\n",
      "Try using .loc[row_indexer,col_indexer] = value instead\n",
      "\n",
      "See the caveats in the documentation: https://pandas.pydata.org/pandas-docs/stable/user_guide/indexing.html#returning-a-view-versus-a-copy\n",
      "  lap.loc[:,'GapToLeader']=lap['CumLapTime(s)']-leader_time\n",
      "C:\\Users\\prabh\\AppData\\Local\\Temp\\ipykernel_15720\\4238679693.py:8: SettingWithCopyWarning: \n",
      "A value is trying to be set on a copy of a slice from a DataFrame.\n",
      "Try using .loc[row_indexer,col_indexer] = value instead\n",
      "\n",
      "See the caveats in the documentation: https://pandas.pydata.org/pandas-docs/stable/user_guide/indexing.html#returning-a-view-versus-a-copy\n",
      "  lap.loc[:,'Interval']=lap['CumLapTime(s)'].diff().fillna(0)\n",
      "C:\\Users\\prabh\\AppData\\Local\\Temp\\ipykernel_15720\\4238679693.py:7: SettingWithCopyWarning: \n",
      "A value is trying to be set on a copy of a slice from a DataFrame.\n",
      "Try using .loc[row_indexer,col_indexer] = value instead\n",
      "\n",
      "See the caveats in the documentation: https://pandas.pydata.org/pandas-docs/stable/user_guide/indexing.html#returning-a-view-versus-a-copy\n",
      "  lap.loc[:,'GapToLeader']=lap['CumLapTime(s)']-leader_time\n",
      "C:\\Users\\prabh\\AppData\\Local\\Temp\\ipykernel_15720\\4238679693.py:8: SettingWithCopyWarning: \n",
      "A value is trying to be set on a copy of a slice from a DataFrame.\n",
      "Try using .loc[row_indexer,col_indexer] = value instead\n",
      "\n",
      "See the caveats in the documentation: https://pandas.pydata.org/pandas-docs/stable/user_guide/indexing.html#returning-a-view-versus-a-copy\n",
      "  lap.loc[:,'Interval']=lap['CumLapTime(s)'].diff().fillna(0)\n",
      "C:\\Users\\prabh\\AppData\\Local\\Temp\\ipykernel_15720\\4238679693.py:7: SettingWithCopyWarning: \n",
      "A value is trying to be set on a copy of a slice from a DataFrame.\n",
      "Try using .loc[row_indexer,col_indexer] = value instead\n",
      "\n",
      "See the caveats in the documentation: https://pandas.pydata.org/pandas-docs/stable/user_guide/indexing.html#returning-a-view-versus-a-copy\n",
      "  lap.loc[:,'GapToLeader']=lap['CumLapTime(s)']-leader_time\n",
      "C:\\Users\\prabh\\AppData\\Local\\Temp\\ipykernel_15720\\4238679693.py:8: SettingWithCopyWarning: \n",
      "A value is trying to be set on a copy of a slice from a DataFrame.\n",
      "Try using .loc[row_indexer,col_indexer] = value instead\n",
      "\n",
      "See the caveats in the documentation: https://pandas.pydata.org/pandas-docs/stable/user_guide/indexing.html#returning-a-view-versus-a-copy\n",
      "  lap.loc[:,'Interval']=lap['CumLapTime(s)'].diff().fillna(0)\n",
      "C:\\Users\\prabh\\AppData\\Local\\Temp\\ipykernel_15720\\4238679693.py:7: SettingWithCopyWarning: \n",
      "A value is trying to be set on a copy of a slice from a DataFrame.\n",
      "Try using .loc[row_indexer,col_indexer] = value instead\n",
      "\n",
      "See the caveats in the documentation: https://pandas.pydata.org/pandas-docs/stable/user_guide/indexing.html#returning-a-view-versus-a-copy\n",
      "  lap.loc[:,'GapToLeader']=lap['CumLapTime(s)']-leader_time\n",
      "C:\\Users\\prabh\\AppData\\Local\\Temp\\ipykernel_15720\\4238679693.py:8: SettingWithCopyWarning: \n",
      "A value is trying to be set on a copy of a slice from a DataFrame.\n",
      "Try using .loc[row_indexer,col_indexer] = value instead\n",
      "\n",
      "See the caveats in the documentation: https://pandas.pydata.org/pandas-docs/stable/user_guide/indexing.html#returning-a-view-versus-a-copy\n",
      "  lap.loc[:,'Interval']=lap['CumLapTime(s)'].diff().fillna(0)\n",
      "C:\\Users\\prabh\\AppData\\Local\\Temp\\ipykernel_15720\\4238679693.py:7: SettingWithCopyWarning: \n",
      "A value is trying to be set on a copy of a slice from a DataFrame.\n",
      "Try using .loc[row_indexer,col_indexer] = value instead\n",
      "\n",
      "See the caveats in the documentation: https://pandas.pydata.org/pandas-docs/stable/user_guide/indexing.html#returning-a-view-versus-a-copy\n",
      "  lap.loc[:,'GapToLeader']=lap['CumLapTime(s)']-leader_time\n",
      "C:\\Users\\prabh\\AppData\\Local\\Temp\\ipykernel_15720\\4238679693.py:8: SettingWithCopyWarning: \n",
      "A value is trying to be set on a copy of a slice from a DataFrame.\n",
      "Try using .loc[row_indexer,col_indexer] = value instead\n",
      "\n",
      "See the caveats in the documentation: https://pandas.pydata.org/pandas-docs/stable/user_guide/indexing.html#returning-a-view-versus-a-copy\n",
      "  lap.loc[:,'Interval']=lap['CumLapTime(s)'].diff().fillna(0)\n",
      "C:\\Users\\prabh\\AppData\\Local\\Temp\\ipykernel_15720\\4238679693.py:7: SettingWithCopyWarning: \n",
      "A value is trying to be set on a copy of a slice from a DataFrame.\n",
      "Try using .loc[row_indexer,col_indexer] = value instead\n",
      "\n",
      "See the caveats in the documentation: https://pandas.pydata.org/pandas-docs/stable/user_guide/indexing.html#returning-a-view-versus-a-copy\n",
      "  lap.loc[:,'GapToLeader']=lap['CumLapTime(s)']-leader_time\n",
      "C:\\Users\\prabh\\AppData\\Local\\Temp\\ipykernel_15720\\4238679693.py:8: SettingWithCopyWarning: \n",
      "A value is trying to be set on a copy of a slice from a DataFrame.\n",
      "Try using .loc[row_indexer,col_indexer] = value instead\n",
      "\n",
      "See the caveats in the documentation: https://pandas.pydata.org/pandas-docs/stable/user_guide/indexing.html#returning-a-view-versus-a-copy\n",
      "  lap.loc[:,'Interval']=lap['CumLapTime(s)'].diff().fillna(0)\n",
      "C:\\Users\\prabh\\AppData\\Local\\Temp\\ipykernel_15720\\4238679693.py:7: SettingWithCopyWarning: \n",
      "A value is trying to be set on a copy of a slice from a DataFrame.\n",
      "Try using .loc[row_indexer,col_indexer] = value instead\n",
      "\n",
      "See the caveats in the documentation: https://pandas.pydata.org/pandas-docs/stable/user_guide/indexing.html#returning-a-view-versus-a-copy\n",
      "  lap.loc[:,'GapToLeader']=lap['CumLapTime(s)']-leader_time\n",
      "C:\\Users\\prabh\\AppData\\Local\\Temp\\ipykernel_15720\\4238679693.py:8: SettingWithCopyWarning: \n",
      "A value is trying to be set on a copy of a slice from a DataFrame.\n",
      "Try using .loc[row_indexer,col_indexer] = value instead\n",
      "\n",
      "See the caveats in the documentation: https://pandas.pydata.org/pandas-docs/stable/user_guide/indexing.html#returning-a-view-versus-a-copy\n",
      "  lap.loc[:,'Interval']=lap['CumLapTime(s)'].diff().fillna(0)\n",
      "C:\\Users\\prabh\\AppData\\Local\\Temp\\ipykernel_15720\\4238679693.py:7: SettingWithCopyWarning: \n",
      "A value is trying to be set on a copy of a slice from a DataFrame.\n",
      "Try using .loc[row_indexer,col_indexer] = value instead\n",
      "\n",
      "See the caveats in the documentation: https://pandas.pydata.org/pandas-docs/stable/user_guide/indexing.html#returning-a-view-versus-a-copy\n",
      "  lap.loc[:,'GapToLeader']=lap['CumLapTime(s)']-leader_time\n",
      "C:\\Users\\prabh\\AppData\\Local\\Temp\\ipykernel_15720\\4238679693.py:8: SettingWithCopyWarning: \n",
      "A value is trying to be set on a copy of a slice from a DataFrame.\n",
      "Try using .loc[row_indexer,col_indexer] = value instead\n",
      "\n",
      "See the caveats in the documentation: https://pandas.pydata.org/pandas-docs/stable/user_guide/indexing.html#returning-a-view-versus-a-copy\n",
      "  lap.loc[:,'Interval']=lap['CumLapTime(s)'].diff().fillna(0)\n",
      "C:\\Users\\prabh\\AppData\\Local\\Temp\\ipykernel_15720\\4238679693.py:7: SettingWithCopyWarning: \n",
      "A value is trying to be set on a copy of a slice from a DataFrame.\n",
      "Try using .loc[row_indexer,col_indexer] = value instead\n",
      "\n",
      "See the caveats in the documentation: https://pandas.pydata.org/pandas-docs/stable/user_guide/indexing.html#returning-a-view-versus-a-copy\n",
      "  lap.loc[:,'GapToLeader']=lap['CumLapTime(s)']-leader_time\n",
      "C:\\Users\\prabh\\AppData\\Local\\Temp\\ipykernel_15720\\4238679693.py:8: SettingWithCopyWarning: \n",
      "A value is trying to be set on a copy of a slice from a DataFrame.\n",
      "Try using .loc[row_indexer,col_indexer] = value instead\n",
      "\n",
      "See the caveats in the documentation: https://pandas.pydata.org/pandas-docs/stable/user_guide/indexing.html#returning-a-view-versus-a-copy\n",
      "  lap.loc[:,'Interval']=lap['CumLapTime(s)'].diff().fillna(0)\n",
      "C:\\Users\\prabh\\AppData\\Local\\Temp\\ipykernel_15720\\4238679693.py:7: SettingWithCopyWarning: \n",
      "A value is trying to be set on a copy of a slice from a DataFrame.\n",
      "Try using .loc[row_indexer,col_indexer] = value instead\n",
      "\n",
      "See the caveats in the documentation: https://pandas.pydata.org/pandas-docs/stable/user_guide/indexing.html#returning-a-view-versus-a-copy\n",
      "  lap.loc[:,'GapToLeader']=lap['CumLapTime(s)']-leader_time\n",
      "C:\\Users\\prabh\\AppData\\Local\\Temp\\ipykernel_15720\\4238679693.py:8: SettingWithCopyWarning: \n",
      "A value is trying to be set on a copy of a slice from a DataFrame.\n",
      "Try using .loc[row_indexer,col_indexer] = value instead\n",
      "\n",
      "See the caveats in the documentation: https://pandas.pydata.org/pandas-docs/stable/user_guide/indexing.html#returning-a-view-versus-a-copy\n",
      "  lap.loc[:,'Interval']=lap['CumLapTime(s)'].diff().fillna(0)\n",
      "C:\\Users\\prabh\\AppData\\Local\\Temp\\ipykernel_15720\\4238679693.py:7: SettingWithCopyWarning: \n",
      "A value is trying to be set on a copy of a slice from a DataFrame.\n",
      "Try using .loc[row_indexer,col_indexer] = value instead\n",
      "\n",
      "See the caveats in the documentation: https://pandas.pydata.org/pandas-docs/stable/user_guide/indexing.html#returning-a-view-versus-a-copy\n",
      "  lap.loc[:,'GapToLeader']=lap['CumLapTime(s)']-leader_time\n",
      "C:\\Users\\prabh\\AppData\\Local\\Temp\\ipykernel_15720\\4238679693.py:8: SettingWithCopyWarning: \n",
      "A value is trying to be set on a copy of a slice from a DataFrame.\n",
      "Try using .loc[row_indexer,col_indexer] = value instead\n",
      "\n",
      "See the caveats in the documentation: https://pandas.pydata.org/pandas-docs/stable/user_guide/indexing.html#returning-a-view-versus-a-copy\n",
      "  lap.loc[:,'Interval']=lap['CumLapTime(s)'].diff().fillna(0)\n",
      "C:\\Users\\prabh\\AppData\\Local\\Temp\\ipykernel_15720\\4238679693.py:7: SettingWithCopyWarning: \n",
      "A value is trying to be set on a copy of a slice from a DataFrame.\n",
      "Try using .loc[row_indexer,col_indexer] = value instead\n",
      "\n",
      "See the caveats in the documentation: https://pandas.pydata.org/pandas-docs/stable/user_guide/indexing.html#returning-a-view-versus-a-copy\n",
      "  lap.loc[:,'GapToLeader']=lap['CumLapTime(s)']-leader_time\n",
      "C:\\Users\\prabh\\AppData\\Local\\Temp\\ipykernel_15720\\4238679693.py:8: SettingWithCopyWarning: \n",
      "A value is trying to be set on a copy of a slice from a DataFrame.\n",
      "Try using .loc[row_indexer,col_indexer] = value instead\n",
      "\n",
      "See the caveats in the documentation: https://pandas.pydata.org/pandas-docs/stable/user_guide/indexing.html#returning-a-view-versus-a-copy\n",
      "  lap.loc[:,'Interval']=lap['CumLapTime(s)'].diff().fillna(0)\n",
      "C:\\Users\\prabh\\AppData\\Local\\Temp\\ipykernel_15720\\4238679693.py:7: SettingWithCopyWarning: \n",
      "A value is trying to be set on a copy of a slice from a DataFrame.\n",
      "Try using .loc[row_indexer,col_indexer] = value instead\n",
      "\n",
      "See the caveats in the documentation: https://pandas.pydata.org/pandas-docs/stable/user_guide/indexing.html#returning-a-view-versus-a-copy\n",
      "  lap.loc[:,'GapToLeader']=lap['CumLapTime(s)']-leader_time\n",
      "C:\\Users\\prabh\\AppData\\Local\\Temp\\ipykernel_15720\\4238679693.py:8: SettingWithCopyWarning: \n",
      "A value is trying to be set on a copy of a slice from a DataFrame.\n",
      "Try using .loc[row_indexer,col_indexer] = value instead\n",
      "\n",
      "See the caveats in the documentation: https://pandas.pydata.org/pandas-docs/stable/user_guide/indexing.html#returning-a-view-versus-a-copy\n",
      "  lap.loc[:,'Interval']=lap['CumLapTime(s)'].diff().fillna(0)\n",
      "C:\\Users\\prabh\\AppData\\Local\\Temp\\ipykernel_15720\\4238679693.py:7: SettingWithCopyWarning: \n",
      "A value is trying to be set on a copy of a slice from a DataFrame.\n",
      "Try using .loc[row_indexer,col_indexer] = value instead\n",
      "\n",
      "See the caveats in the documentation: https://pandas.pydata.org/pandas-docs/stable/user_guide/indexing.html#returning-a-view-versus-a-copy\n",
      "  lap.loc[:,'GapToLeader']=lap['CumLapTime(s)']-leader_time\n",
      "C:\\Users\\prabh\\AppData\\Local\\Temp\\ipykernel_15720\\4238679693.py:8: SettingWithCopyWarning: \n",
      "A value is trying to be set on a copy of a slice from a DataFrame.\n",
      "Try using .loc[row_indexer,col_indexer] = value instead\n",
      "\n",
      "See the caveats in the documentation: https://pandas.pydata.org/pandas-docs/stable/user_guide/indexing.html#returning-a-view-versus-a-copy\n",
      "  lap.loc[:,'Interval']=lap['CumLapTime(s)'].diff().fillna(0)\n",
      "C:\\Users\\prabh\\AppData\\Local\\Temp\\ipykernel_15720\\4238679693.py:7: SettingWithCopyWarning: \n",
      "A value is trying to be set on a copy of a slice from a DataFrame.\n",
      "Try using .loc[row_indexer,col_indexer] = value instead\n",
      "\n",
      "See the caveats in the documentation: https://pandas.pydata.org/pandas-docs/stable/user_guide/indexing.html#returning-a-view-versus-a-copy\n",
      "  lap.loc[:,'GapToLeader']=lap['CumLapTime(s)']-leader_time\n",
      "C:\\Users\\prabh\\AppData\\Local\\Temp\\ipykernel_15720\\4238679693.py:8: SettingWithCopyWarning: \n",
      "A value is trying to be set on a copy of a slice from a DataFrame.\n",
      "Try using .loc[row_indexer,col_indexer] = value instead\n",
      "\n",
      "See the caveats in the documentation: https://pandas.pydata.org/pandas-docs/stable/user_guide/indexing.html#returning-a-view-versus-a-copy\n",
      "  lap.loc[:,'Interval']=lap['CumLapTime(s)'].diff().fillna(0)\n",
      "C:\\Users\\prabh\\AppData\\Local\\Temp\\ipykernel_15720\\4238679693.py:7: SettingWithCopyWarning: \n",
      "A value is trying to be set on a copy of a slice from a DataFrame.\n",
      "Try using .loc[row_indexer,col_indexer] = value instead\n",
      "\n",
      "See the caveats in the documentation: https://pandas.pydata.org/pandas-docs/stable/user_guide/indexing.html#returning-a-view-versus-a-copy\n",
      "  lap.loc[:,'GapToLeader']=lap['CumLapTime(s)']-leader_time\n",
      "C:\\Users\\prabh\\AppData\\Local\\Temp\\ipykernel_15720\\4238679693.py:8: SettingWithCopyWarning: \n",
      "A value is trying to be set on a copy of a slice from a DataFrame.\n",
      "Try using .loc[row_indexer,col_indexer] = value instead\n",
      "\n",
      "See the caveats in the documentation: https://pandas.pydata.org/pandas-docs/stable/user_guide/indexing.html#returning-a-view-versus-a-copy\n",
      "  lap.loc[:,'Interval']=lap['CumLapTime(s)'].diff().fillna(0)\n",
      "C:\\Users\\prabh\\AppData\\Local\\Temp\\ipykernel_15720\\4238679693.py:7: SettingWithCopyWarning: \n",
      "A value is trying to be set on a copy of a slice from a DataFrame.\n",
      "Try using .loc[row_indexer,col_indexer] = value instead\n",
      "\n",
      "See the caveats in the documentation: https://pandas.pydata.org/pandas-docs/stable/user_guide/indexing.html#returning-a-view-versus-a-copy\n",
      "  lap.loc[:,'GapToLeader']=lap['CumLapTime(s)']-leader_time\n",
      "C:\\Users\\prabh\\AppData\\Local\\Temp\\ipykernel_15720\\4238679693.py:8: SettingWithCopyWarning: \n",
      "A value is trying to be set on a copy of a slice from a DataFrame.\n",
      "Try using .loc[row_indexer,col_indexer] = value instead\n",
      "\n",
      "See the caveats in the documentation: https://pandas.pydata.org/pandas-docs/stable/user_guide/indexing.html#returning-a-view-versus-a-copy\n",
      "  lap.loc[:,'Interval']=lap['CumLapTime(s)'].diff().fillna(0)\n",
      "C:\\Users\\prabh\\AppData\\Local\\Temp\\ipykernel_15720\\4238679693.py:7: SettingWithCopyWarning: \n",
      "A value is trying to be set on a copy of a slice from a DataFrame.\n",
      "Try using .loc[row_indexer,col_indexer] = value instead\n",
      "\n",
      "See the caveats in the documentation: https://pandas.pydata.org/pandas-docs/stable/user_guide/indexing.html#returning-a-view-versus-a-copy\n",
      "  lap.loc[:,'GapToLeader']=lap['CumLapTime(s)']-leader_time\n",
      "C:\\Users\\prabh\\AppData\\Local\\Temp\\ipykernel_15720\\4238679693.py:8: SettingWithCopyWarning: \n",
      "A value is trying to be set on a copy of a slice from a DataFrame.\n",
      "Try using .loc[row_indexer,col_indexer] = value instead\n",
      "\n",
      "See the caveats in the documentation: https://pandas.pydata.org/pandas-docs/stable/user_guide/indexing.html#returning-a-view-versus-a-copy\n",
      "  lap.loc[:,'Interval']=lap['CumLapTime(s)'].diff().fillna(0)\n",
      "C:\\Users\\prabh\\AppData\\Local\\Temp\\ipykernel_15720\\4238679693.py:7: SettingWithCopyWarning: \n",
      "A value is trying to be set on a copy of a slice from a DataFrame.\n",
      "Try using .loc[row_indexer,col_indexer] = value instead\n",
      "\n",
      "See the caveats in the documentation: https://pandas.pydata.org/pandas-docs/stable/user_guide/indexing.html#returning-a-view-versus-a-copy\n",
      "  lap.loc[:,'GapToLeader']=lap['CumLapTime(s)']-leader_time\n",
      "C:\\Users\\prabh\\AppData\\Local\\Temp\\ipykernel_15720\\4238679693.py:8: SettingWithCopyWarning: \n",
      "A value is trying to be set on a copy of a slice from a DataFrame.\n",
      "Try using .loc[row_indexer,col_indexer] = value instead\n",
      "\n",
      "See the caveats in the documentation: https://pandas.pydata.org/pandas-docs/stable/user_guide/indexing.html#returning-a-view-versus-a-copy\n",
      "  lap.loc[:,'Interval']=lap['CumLapTime(s)'].diff().fillna(0)\n",
      "C:\\Users\\prabh\\AppData\\Local\\Temp\\ipykernel_15720\\4238679693.py:7: SettingWithCopyWarning: \n",
      "A value is trying to be set on a copy of a slice from a DataFrame.\n",
      "Try using .loc[row_indexer,col_indexer] = value instead\n",
      "\n",
      "See the caveats in the documentation: https://pandas.pydata.org/pandas-docs/stable/user_guide/indexing.html#returning-a-view-versus-a-copy\n",
      "  lap.loc[:,'GapToLeader']=lap['CumLapTime(s)']-leader_time\n",
      "C:\\Users\\prabh\\AppData\\Local\\Temp\\ipykernel_15720\\4238679693.py:8: SettingWithCopyWarning: \n",
      "A value is trying to be set on a copy of a slice from a DataFrame.\n",
      "Try using .loc[row_indexer,col_indexer] = value instead\n",
      "\n",
      "See the caveats in the documentation: https://pandas.pydata.org/pandas-docs/stable/user_guide/indexing.html#returning-a-view-versus-a-copy\n",
      "  lap.loc[:,'Interval']=lap['CumLapTime(s)'].diff().fillna(0)\n",
      "C:\\Users\\prabh\\AppData\\Local\\Temp\\ipykernel_15720\\4238679693.py:7: SettingWithCopyWarning: \n",
      "A value is trying to be set on a copy of a slice from a DataFrame.\n",
      "Try using .loc[row_indexer,col_indexer] = value instead\n",
      "\n",
      "See the caveats in the documentation: https://pandas.pydata.org/pandas-docs/stable/user_guide/indexing.html#returning-a-view-versus-a-copy\n",
      "  lap.loc[:,'GapToLeader']=lap['CumLapTime(s)']-leader_time\n",
      "C:\\Users\\prabh\\AppData\\Local\\Temp\\ipykernel_15720\\4238679693.py:8: SettingWithCopyWarning: \n",
      "A value is trying to be set on a copy of a slice from a DataFrame.\n",
      "Try using .loc[row_indexer,col_indexer] = value instead\n",
      "\n",
      "See the caveats in the documentation: https://pandas.pydata.org/pandas-docs/stable/user_guide/indexing.html#returning-a-view-versus-a-copy\n",
      "  lap.loc[:,'Interval']=lap['CumLapTime(s)'].diff().fillna(0)\n",
      "C:\\Users\\prabh\\AppData\\Local\\Temp\\ipykernel_15720\\4238679693.py:7: SettingWithCopyWarning: \n",
      "A value is trying to be set on a copy of a slice from a DataFrame.\n",
      "Try using .loc[row_indexer,col_indexer] = value instead\n",
      "\n",
      "See the caveats in the documentation: https://pandas.pydata.org/pandas-docs/stable/user_guide/indexing.html#returning-a-view-versus-a-copy\n",
      "  lap.loc[:,'GapToLeader']=lap['CumLapTime(s)']-leader_time\n",
      "C:\\Users\\prabh\\AppData\\Local\\Temp\\ipykernel_15720\\4238679693.py:8: SettingWithCopyWarning: \n",
      "A value is trying to be set on a copy of a slice from a DataFrame.\n",
      "Try using .loc[row_indexer,col_indexer] = value instead\n",
      "\n",
      "See the caveats in the documentation: https://pandas.pydata.org/pandas-docs/stable/user_guide/indexing.html#returning-a-view-versus-a-copy\n",
      "  lap.loc[:,'Interval']=lap['CumLapTime(s)'].diff().fillna(0)\n",
      "C:\\Users\\prabh\\AppData\\Local\\Temp\\ipykernel_15720\\4238679693.py:7: SettingWithCopyWarning: \n",
      "A value is trying to be set on a copy of a slice from a DataFrame.\n",
      "Try using .loc[row_indexer,col_indexer] = value instead\n",
      "\n",
      "See the caveats in the documentation: https://pandas.pydata.org/pandas-docs/stable/user_guide/indexing.html#returning-a-view-versus-a-copy\n",
      "  lap.loc[:,'GapToLeader']=lap['CumLapTime(s)']-leader_time\n",
      "C:\\Users\\prabh\\AppData\\Local\\Temp\\ipykernel_15720\\4238679693.py:8: SettingWithCopyWarning: \n",
      "A value is trying to be set on a copy of a slice from a DataFrame.\n",
      "Try using .loc[row_indexer,col_indexer] = value instead\n",
      "\n",
      "See the caveats in the documentation: https://pandas.pydata.org/pandas-docs/stable/user_guide/indexing.html#returning-a-view-versus-a-copy\n",
      "  lap.loc[:,'Interval']=lap['CumLapTime(s)'].diff().fillna(0)\n",
      "C:\\Users\\prabh\\AppData\\Local\\Temp\\ipykernel_15720\\4238679693.py:7: SettingWithCopyWarning: \n",
      "A value is trying to be set on a copy of a slice from a DataFrame.\n",
      "Try using .loc[row_indexer,col_indexer] = value instead\n",
      "\n",
      "See the caveats in the documentation: https://pandas.pydata.org/pandas-docs/stable/user_guide/indexing.html#returning-a-view-versus-a-copy\n",
      "  lap.loc[:,'GapToLeader']=lap['CumLapTime(s)']-leader_time\n",
      "C:\\Users\\prabh\\AppData\\Local\\Temp\\ipykernel_15720\\4238679693.py:8: SettingWithCopyWarning: \n",
      "A value is trying to be set on a copy of a slice from a DataFrame.\n",
      "Try using .loc[row_indexer,col_indexer] = value instead\n",
      "\n",
      "See the caveats in the documentation: https://pandas.pydata.org/pandas-docs/stable/user_guide/indexing.html#returning-a-view-versus-a-copy\n",
      "  lap.loc[:,'Interval']=lap['CumLapTime(s)'].diff().fillna(0)\n",
      "C:\\Users\\prabh\\AppData\\Local\\Temp\\ipykernel_15720\\4238679693.py:7: SettingWithCopyWarning: \n",
      "A value is trying to be set on a copy of a slice from a DataFrame.\n",
      "Try using .loc[row_indexer,col_indexer] = value instead\n",
      "\n",
      "See the caveats in the documentation: https://pandas.pydata.org/pandas-docs/stable/user_guide/indexing.html#returning-a-view-versus-a-copy\n",
      "  lap.loc[:,'GapToLeader']=lap['CumLapTime(s)']-leader_time\n",
      "C:\\Users\\prabh\\AppData\\Local\\Temp\\ipykernel_15720\\4238679693.py:8: SettingWithCopyWarning: \n",
      "A value is trying to be set on a copy of a slice from a DataFrame.\n",
      "Try using .loc[row_indexer,col_indexer] = value instead\n",
      "\n",
      "See the caveats in the documentation: https://pandas.pydata.org/pandas-docs/stable/user_guide/indexing.html#returning-a-view-versus-a-copy\n",
      "  lap.loc[:,'Interval']=lap['CumLapTime(s)'].diff().fillna(0)\n",
      "C:\\Users\\prabh\\AppData\\Local\\Temp\\ipykernel_15720\\4238679693.py:7: SettingWithCopyWarning: \n",
      "A value is trying to be set on a copy of a slice from a DataFrame.\n",
      "Try using .loc[row_indexer,col_indexer] = value instead\n",
      "\n",
      "See the caveats in the documentation: https://pandas.pydata.org/pandas-docs/stable/user_guide/indexing.html#returning-a-view-versus-a-copy\n",
      "  lap.loc[:,'GapToLeader']=lap['CumLapTime(s)']-leader_time\n",
      "C:\\Users\\prabh\\AppData\\Local\\Temp\\ipykernel_15720\\4238679693.py:8: SettingWithCopyWarning: \n",
      "A value is trying to be set on a copy of a slice from a DataFrame.\n",
      "Try using .loc[row_indexer,col_indexer] = value instead\n",
      "\n",
      "See the caveats in the documentation: https://pandas.pydata.org/pandas-docs/stable/user_guide/indexing.html#returning-a-view-versus-a-copy\n",
      "  lap.loc[:,'Interval']=lap['CumLapTime(s)'].diff().fillna(0)\n",
      "C:\\Users\\prabh\\AppData\\Local\\Temp\\ipykernel_15720\\4238679693.py:7: SettingWithCopyWarning: \n",
      "A value is trying to be set on a copy of a slice from a DataFrame.\n",
      "Try using .loc[row_indexer,col_indexer] = value instead\n",
      "\n",
      "See the caveats in the documentation: https://pandas.pydata.org/pandas-docs/stable/user_guide/indexing.html#returning-a-view-versus-a-copy\n",
      "  lap.loc[:,'GapToLeader']=lap['CumLapTime(s)']-leader_time\n",
      "C:\\Users\\prabh\\AppData\\Local\\Temp\\ipykernel_15720\\4238679693.py:8: SettingWithCopyWarning: \n",
      "A value is trying to be set on a copy of a slice from a DataFrame.\n",
      "Try using .loc[row_indexer,col_indexer] = value instead\n",
      "\n",
      "See the caveats in the documentation: https://pandas.pydata.org/pandas-docs/stable/user_guide/indexing.html#returning-a-view-versus-a-copy\n",
      "  lap.loc[:,'Interval']=lap['CumLapTime(s)'].diff().fillna(0)\n"
     ]
    }
   ],
   "source": [
    "def gap_and_interval(df):\n",
    "    gap_to_leader=[]\n",
    "    interval=[]\n",
    "    for i in df['LapNumber'].unique():\n",
    "        lap=df[df['LapNumber']==i]\n",
    "        leader_time=lap.iloc[0]['CumLapTime(s)']\n",
    "        lap.loc[:,'GapToLeader']=lap['CumLapTime(s)']-leader_time\n",
    "        lap.loc[:,'Interval']=lap['CumLapTime(s)'].diff().fillna(0)\n",
    "        gap_to_leader.extend(lap['GapToLeader'].tolist())\n",
    "        interval.extend(lap['Interval'].tolist())\n",
    "    return gap_to_leader,interval\n",
    "master_data['GapToLeader'],master_data['Interval']=gap_and_interval(master_data)\n",
    "master_data.loc[master_data['Position']==1,'GapToLeader']=0\n",
    "master_data.loc[master_data['Position']==1,'Interval']=0"
   ]
  },
  {
   "cell_type": "markdown",
   "metadata": {},
   "source": [
    "#### SCALING AND NORMALIZING THE DATA"
   ]
  },
  {
   "cell_type": "code",
   "execution_count": 17,
   "metadata": {},
   "outputs": [],
   "source": [
    "# from sklearn.preprocessing import RobustScaler\n",
    "# scaler=RobustScaler()\n",
    "# toscale=['LapTime(s)', 'Sector1Time(s)', 'Sector2Time(s)', 'Sector3Time(s)', \n",
    "#                     'CumLapTime(s)', 'GapToLeader', 'Interval', 'LapStartTime(s)', \n",
    "#                     'PitInTime(s)', 'PitOutTime(s)', 'PitStopTime(s)', 'PrevLapTime(s)', 'LapΔ(s)','FreshTyre','NumberOfPitStops','TyreLife']\n",
    "# master_data[toscale] = scaler.fit_transform(master_data[toscale])\n",
    "# telemetry_columns_to_scale = ['Speed', 'Throttle', 'Brake', 'nGear', 'RPM', 'DRS']\n",
    "# telemetry_data[telemetry_columns_to_scale] = scaler.fit_transform(telemetry_data[telemetry_columns_to_scale])\n",
    "# weather_columns_to_scale = ['AirTemp', 'TrackTemp', 'Humidity', 'Pressure', 'WindSpeed', 'WindDirection','Rainfall']\n",
    "# weather_data[weather_columns_to_scale] = scaler.fit_transform(weather_data[weather_columns_to_scale])"
   ]
  },
  {
   "cell_type": "markdown",
   "metadata": {},
   "source": [
    "#### FINDING MISSING DATA"
   ]
  },
  {
   "cell_type": "code",
   "execution_count": 18,
   "metadata": {},
   "outputs": [],
   "source": [
    "master_missing=master_data.isnull().sum()\n",
    "telemetry_missing=telemetry_data.isnull().sum()\n",
    "weather_missing=weather_data.isnull().sum()"
   ]
  },
  {
   "cell_type": "markdown",
   "metadata": {},
   "source": [
    "#### FILLING MISSING PITSTOP DATA "
   ]
  },
  {
   "cell_type": "code",
   "execution_count": 19,
   "metadata": {},
   "outputs": [],
   "source": [
    "colums_to_fill_zero=['NumberOfPitStops','PitInTime','PitOutTime','PitInTime(s)','PitOutTime(s)','PitStopTime(s)','PrevLapTime(s)','LapΔ(s)']\n",
    "master_data[colums_to_fill_zero]=master_data[colums_to_fill_zero].fillna(0)"
   ]
  },
  {
   "cell_type": "markdown",
   "metadata": {},
   "source": [
    "#### ENCODING CATEGORICAL REPRESENTATION"
   ]
  },
  {
   "cell_type": "code",
   "execution_count": 20,
   "metadata": {},
   "outputs": [],
   "source": [
    "from sklearn.preprocessing import OneHotEncoder\n",
    "master_data=pd.get_dummies(master_data,columns=['Compound'])"
   ]
  },
  {
   "cell_type": "code",
   "execution_count": 21,
   "metadata": {},
   "outputs": [],
   "source": [
    "master_msg=pd.get_dummies(master_msg,columns=['Category','Flag'])\n",
    "master_msg['Time'] = master_msg['Time'] - session_start_time"
   ]
  },
  {
   "cell_type": "code",
   "execution_count": 22,
   "metadata": {},
   "outputs": [
    {
     "data": {
      "text/html": [
       "<div>\n",
       "<style scoped>\n",
       "    .dataframe tbody tr th:only-of-type {\n",
       "        vertical-align: middle;\n",
       "    }\n",
       "\n",
       "    .dataframe tbody tr th {\n",
       "        vertical-align: top;\n",
       "    }\n",
       "\n",
       "    .dataframe thead th {\n",
       "        text-align: right;\n",
       "    }\n",
       "</style>\n",
       "<table border=\"1\" class=\"dataframe\">\n",
       "  <thead>\n",
       "    <tr style=\"text-align: right;\">\n",
       "      <th></th>\n",
       "      <th>Time</th>\n",
       "      <th>Driver</th>\n",
       "      <th>DriverNumber</th>\n",
       "      <th>LapNumber</th>\n",
       "      <th>LapTime</th>\n",
       "      <th>Sector1Time</th>\n",
       "      <th>Sector2Time</th>\n",
       "      <th>Sector3Time</th>\n",
       "      <th>IsAccurate</th>\n",
       "      <th>Position</th>\n",
       "      <th>...</th>\n",
       "      <th>PrevLapTime(s)</th>\n",
       "      <th>LapΔ(s)</th>\n",
       "      <th>CumLapTime(s)</th>\n",
       "      <th>GapToLeader</th>\n",
       "      <th>Interval</th>\n",
       "      <th>Compound_HARD</th>\n",
       "      <th>Compound_INTERMEDIATE</th>\n",
       "      <th>Compound_MEDIUM</th>\n",
       "      <th>Compound_SOFT</th>\n",
       "      <th>Compound_WET</th>\n",
       "    </tr>\n",
       "  </thead>\n",
       "  <tbody>\n",
       "    <tr>\n",
       "      <th>0</th>\n",
       "      <td>0 days 01:03:36.820000</td>\n",
       "      <td>VER</td>\n",
       "      <td>1</td>\n",
       "      <td>1.0</td>\n",
       "      <td>0 days 00:01:31.585000</td>\n",
       "      <td>0 days 00:00:36.330000</td>\n",
       "      <td>0 days 00:00:28.929000</td>\n",
       "      <td>0 days 00:00:30.478000</td>\n",
       "      <td>False</td>\n",
       "      <td>1.0</td>\n",
       "      <td>...</td>\n",
       "      <td>0.000</td>\n",
       "      <td>0.000</td>\n",
       "      <td>91.585</td>\n",
       "      <td>0.000</td>\n",
       "      <td>0.000</td>\n",
       "      <td>False</td>\n",
       "      <td>False</td>\n",
       "      <td>False</td>\n",
       "      <td>True</td>\n",
       "      <td>False</td>\n",
       "    </tr>\n",
       "    <tr>\n",
       "      <th>839</th>\n",
       "      <td>0 days 01:03:37.462000</td>\n",
       "      <td>NOR</td>\n",
       "      <td>4</td>\n",
       "      <td>1.0</td>\n",
       "      <td>0 days 00:01:32.227000</td>\n",
       "      <td>0 days 00:00:37.353000</td>\n",
       "      <td>0 days 00:00:28.594000</td>\n",
       "      <td>0 days 00:00:30.567000</td>\n",
       "      <td>False</td>\n",
       "      <td>2.0</td>\n",
       "      <td>...</td>\n",
       "      <td>83.205</td>\n",
       "      <td>9.022</td>\n",
       "      <td>92.227</td>\n",
       "      <td>0.642</td>\n",
       "      <td>0.642</td>\n",
       "      <td>False</td>\n",
       "      <td>False</td>\n",
       "      <td>False</td>\n",
       "      <td>True</td>\n",
       "      <td>False</td>\n",
       "    </tr>\n",
       "    <tr>\n",
       "      <th>216</th>\n",
       "      <td>0 days 01:03:38.001000</td>\n",
       "      <td>ALO</td>\n",
       "      <td>14</td>\n",
       "      <td>1.0</td>\n",
       "      <td>0 days 00:01:32.766000</td>\n",
       "      <td>0 days 00:00:36.326000</td>\n",
       "      <td>0 days 00:00:28.764000</td>\n",
       "      <td>0 days 00:00:30.590000</td>\n",
       "      <td>False</td>\n",
       "      <td>3.0</td>\n",
       "      <td>...</td>\n",
       "      <td>81.699</td>\n",
       "      <td>11.067</td>\n",
       "      <td>92.766</td>\n",
       "      <td>1.181</td>\n",
       "      <td>0.539</td>\n",
       "      <td>False</td>\n",
       "      <td>False</td>\n",
       "      <td>False</td>\n",
       "      <td>True</td>\n",
       "      <td>False</td>\n",
       "    </tr>\n",
       "    <tr>\n",
       "      <th>1127</th>\n",
       "      <td>0 days 01:03:38.476000</td>\n",
       "      <td>RUS</td>\n",
       "      <td>63</td>\n",
       "      <td>1.0</td>\n",
       "      <td>0 days 00:01:33.241000</td>\n",
       "      <td>0 days 00:00:37.093000</td>\n",
       "      <td>0 days 00:00:28.820000</td>\n",
       "      <td>0 days 00:00:30.679000</td>\n",
       "      <td>False</td>\n",
       "      <td>4.0</td>\n",
       "      <td>...</td>\n",
       "      <td>82.652</td>\n",
       "      <td>10.589</td>\n",
       "      <td>93.241</td>\n",
       "      <td>1.656</td>\n",
       "      <td>0.475</td>\n",
       "      <td>False</td>\n",
       "      <td>False</td>\n",
       "      <td>False</td>\n",
       "      <td>True</td>\n",
       "      <td>False</td>\n",
       "    </tr>\n",
       "    <tr>\n",
       "      <th>560</th>\n",
       "      <td>0 days 01:03:39.511000</td>\n",
       "      <td>ALB</td>\n",
       "      <td>23</td>\n",
       "      <td>1.0</td>\n",
       "      <td>0 days 00:01:34.276000</td>\n",
       "      <td>0 days 00:00:36.857000</td>\n",
       "      <td>0 days 00:00:29.096000</td>\n",
       "      <td>0 days 00:00:31.301000</td>\n",
       "      <td>False</td>\n",
       "      <td>5.0</td>\n",
       "      <td>...</td>\n",
       "      <td>83.883</td>\n",
       "      <td>10.393</td>\n",
       "      <td>94.276</td>\n",
       "      <td>2.691</td>\n",
       "      <td>1.035</td>\n",
       "      <td>False</td>\n",
       "      <td>False</td>\n",
       "      <td>False</td>\n",
       "      <td>True</td>\n",
       "      <td>False</td>\n",
       "    </tr>\n",
       "    <tr>\n",
       "      <th>...</th>\n",
       "      <td>...</td>\n",
       "      <td>...</td>\n",
       "      <td>...</td>\n",
       "      <td>...</td>\n",
       "      <td>...</td>\n",
       "      <td>...</td>\n",
       "      <td>...</td>\n",
       "      <td>...</td>\n",
       "      <td>...</td>\n",
       "      <td>...</td>\n",
       "      <td>...</td>\n",
       "      <td>...</td>\n",
       "      <td>...</td>\n",
       "      <td>...</td>\n",
       "      <td>...</td>\n",
       "      <td>...</td>\n",
       "      <td>...</td>\n",
       "      <td>...</td>\n",
       "      <td>...</td>\n",
       "      <td>...</td>\n",
       "      <td>...</td>\n",
       "    </tr>\n",
       "    <tr>\n",
       "      <th>559</th>\n",
       "      <td>0 days 03:26:34.603000</td>\n",
       "      <td>TSU</td>\n",
       "      <td>22</td>\n",
       "      <td>72.0</td>\n",
       "      <td>0 days 00:01:23.883000</td>\n",
       "      <td>0 days 00:00:28.923000</td>\n",
       "      <td>0 days 00:00:28.789000</td>\n",
       "      <td>0 days 00:00:26.171000</td>\n",
       "      <td>True</td>\n",
       "      <td>13.0</td>\n",
       "      <td>...</td>\n",
       "      <td>83.101</td>\n",
       "      <td>0.782</td>\n",
       "      <td>6247.044</td>\n",
       "      <td>90.151</td>\n",
       "      <td>-0.399</td>\n",
       "      <td>False</td>\n",
       "      <td>True</td>\n",
       "      <td>False</td>\n",
       "      <td>False</td>\n",
       "      <td>False</td>\n",
       "    </tr>\n",
       "    <tr>\n",
       "      <th>982</th>\n",
       "      <td>0 days 03:26:35.827000</td>\n",
       "      <td>LAW</td>\n",
       "      <td>40</td>\n",
       "      <td>72.0</td>\n",
       "      <td>0 days 00:01:23.592000</td>\n",
       "      <td>0 days 00:00:28.792000</td>\n",
       "      <td>0 days 00:00:28.745000</td>\n",
       "      <td>0 days 00:00:26.055000</td>\n",
       "      <td>True</td>\n",
       "      <td>14.0</td>\n",
       "      <td>...</td>\n",
       "      <td>84.122</td>\n",
       "      <td>-0.530</td>\n",
       "      <td>6261.330</td>\n",
       "      <td>104.437</td>\n",
       "      <td>14.286</td>\n",
       "      <td>False</td>\n",
       "      <td>True</td>\n",
       "      <td>False</td>\n",
       "      <td>False</td>\n",
       "      <td>False</td>\n",
       "    </tr>\n",
       "    <tr>\n",
       "      <th>487</th>\n",
       "      <td>0 days 03:26:36.084000</td>\n",
       "      <td>MAG</td>\n",
       "      <td>20</td>\n",
       "      <td>72.0</td>\n",
       "      <td>0 days 00:01:23.550000</td>\n",
       "      <td>0 days 00:00:29.009000</td>\n",
       "      <td>0 days 00:00:28.794000</td>\n",
       "      <td>0 days 00:00:25.747000</td>\n",
       "      <td>True</td>\n",
       "      <td>15.0</td>\n",
       "      <td>...</td>\n",
       "      <td>83.912</td>\n",
       "      <td>-0.362</td>\n",
       "      <td>6315.824</td>\n",
       "      <td>158.931</td>\n",
       "      <td>54.494</td>\n",
       "      <td>False</td>\n",
       "      <td>True</td>\n",
       "      <td>False</td>\n",
       "      <td>False</td>\n",
       "      <td>False</td>\n",
       "    </tr>\n",
       "    <tr>\n",
       "      <th>1270</th>\n",
       "      <td>0 days 03:26:37.061000</td>\n",
       "      <td>BOT</td>\n",
       "      <td>77</td>\n",
       "      <td>72.0</td>\n",
       "      <td>0 days 00:01:23.030000</td>\n",
       "      <td>0 days 00:00:28.882000</td>\n",
       "      <td>0 days 00:00:28.443000</td>\n",
       "      <td>0 days 00:00:25.705000</td>\n",
       "      <td>True</td>\n",
       "      <td>16.0</td>\n",
       "      <td>...</td>\n",
       "      <td>82.873</td>\n",
       "      <td>0.157</td>\n",
       "      <td>6255.933</td>\n",
       "      <td>99.040</td>\n",
       "      <td>-59.891</td>\n",
       "      <td>False</td>\n",
       "      <td>True</td>\n",
       "      <td>False</td>\n",
       "      <td>False</td>\n",
       "      <td>False</td>\n",
       "    </tr>\n",
       "    <tr>\n",
       "      <th>1198</th>\n",
       "      <td>0 days 03:27:05.461000</td>\n",
       "      <td>RUS</td>\n",
       "      <td>63</td>\n",
       "      <td>72.0</td>\n",
       "      <td>0 days 00:01:20.769000</td>\n",
       "      <td>0 days 00:00:27.959000</td>\n",
       "      <td>0 days 00:00:27.849000</td>\n",
       "      <td>0 days 00:00:24.961000</td>\n",
       "      <td>True</td>\n",
       "      <td>17.0</td>\n",
       "      <td>...</td>\n",
       "      <td>80.548</td>\n",
       "      <td>0.221</td>\n",
       "      <td>6248.199</td>\n",
       "      <td>91.306</td>\n",
       "      <td>-7.734</td>\n",
       "      <td>False</td>\n",
       "      <td>True</td>\n",
       "      <td>False</td>\n",
       "      <td>False</td>\n",
       "      <td>False</td>\n",
       "    </tr>\n",
       "  </tbody>\n",
       "</table>\n",
       "<p>1343 rows × 35 columns</p>\n",
       "</div>"
      ],
      "text/plain": [
       "                       Time Driver DriverNumber  LapNumber  \\\n",
       "0    0 days 01:03:36.820000    VER            1        1.0   \n",
       "839  0 days 01:03:37.462000    NOR            4        1.0   \n",
       "216  0 days 01:03:38.001000    ALO           14        1.0   \n",
       "1127 0 days 01:03:38.476000    RUS           63        1.0   \n",
       "560  0 days 01:03:39.511000    ALB           23        1.0   \n",
       "...                     ...    ...          ...        ...   \n",
       "559  0 days 03:26:34.603000    TSU           22       72.0   \n",
       "982  0 days 03:26:35.827000    LAW           40       72.0   \n",
       "487  0 days 03:26:36.084000    MAG           20       72.0   \n",
       "1270 0 days 03:26:37.061000    BOT           77       72.0   \n",
       "1198 0 days 03:27:05.461000    RUS           63       72.0   \n",
       "\n",
       "                    LapTime            Sector1Time            Sector2Time  \\\n",
       "0    0 days 00:01:31.585000 0 days 00:00:36.330000 0 days 00:00:28.929000   \n",
       "839  0 days 00:01:32.227000 0 days 00:00:37.353000 0 days 00:00:28.594000   \n",
       "216  0 days 00:01:32.766000 0 days 00:00:36.326000 0 days 00:00:28.764000   \n",
       "1127 0 days 00:01:33.241000 0 days 00:00:37.093000 0 days 00:00:28.820000   \n",
       "560  0 days 00:01:34.276000 0 days 00:00:36.857000 0 days 00:00:29.096000   \n",
       "...                     ...                    ...                    ...   \n",
       "559  0 days 00:01:23.883000 0 days 00:00:28.923000 0 days 00:00:28.789000   \n",
       "982  0 days 00:01:23.592000 0 days 00:00:28.792000 0 days 00:00:28.745000   \n",
       "487  0 days 00:01:23.550000 0 days 00:00:29.009000 0 days 00:00:28.794000   \n",
       "1270 0 days 00:01:23.030000 0 days 00:00:28.882000 0 days 00:00:28.443000   \n",
       "1198 0 days 00:01:20.769000 0 days 00:00:27.959000 0 days 00:00:27.849000   \n",
       "\n",
       "                Sector3Time  IsAccurate  Position  ... PrevLapTime(s)  \\\n",
       "0    0 days 00:00:30.478000       False       1.0  ...          0.000   \n",
       "839  0 days 00:00:30.567000       False       2.0  ...         83.205   \n",
       "216  0 days 00:00:30.590000       False       3.0  ...         81.699   \n",
       "1127 0 days 00:00:30.679000       False       4.0  ...         82.652   \n",
       "560  0 days 00:00:31.301000       False       5.0  ...         83.883   \n",
       "...                     ...         ...       ...  ...            ...   \n",
       "559  0 days 00:00:26.171000        True      13.0  ...         83.101   \n",
       "982  0 days 00:00:26.055000        True      14.0  ...         84.122   \n",
       "487  0 days 00:00:25.747000        True      15.0  ...         83.912   \n",
       "1270 0 days 00:00:25.705000        True      16.0  ...         82.873   \n",
       "1198 0 days 00:00:24.961000        True      17.0  ...         80.548   \n",
       "\n",
       "      LapΔ(s)  CumLapTime(s)  GapToLeader Interval Compound_HARD  \\\n",
       "0       0.000         91.585        0.000    0.000         False   \n",
       "839     9.022         92.227        0.642    0.642         False   \n",
       "216    11.067         92.766        1.181    0.539         False   \n",
       "1127   10.589         93.241        1.656    0.475         False   \n",
       "560    10.393         94.276        2.691    1.035         False   \n",
       "...       ...            ...          ...      ...           ...   \n",
       "559     0.782       6247.044       90.151   -0.399         False   \n",
       "982    -0.530       6261.330      104.437   14.286         False   \n",
       "487    -0.362       6315.824      158.931   54.494         False   \n",
       "1270    0.157       6255.933       99.040  -59.891         False   \n",
       "1198    0.221       6248.199       91.306   -7.734         False   \n",
       "\n",
       "      Compound_INTERMEDIATE  Compound_MEDIUM  Compound_SOFT  Compound_WET  \n",
       "0                     False            False           True         False  \n",
       "839                   False            False           True         False  \n",
       "216                   False            False           True         False  \n",
       "1127                  False            False           True         False  \n",
       "560                   False            False           True         False  \n",
       "...                     ...              ...            ...           ...  \n",
       "559                    True            False          False         False  \n",
       "982                    True            False          False         False  \n",
       "487                    True            False          False         False  \n",
       "1270                   True            False          False         False  \n",
       "1198                   True            False          False         False  \n",
       "\n",
       "[1343 rows x 35 columns]"
      ]
     },
     "execution_count": 22,
     "metadata": {},
     "output_type": "execute_result"
    }
   ],
   "source": [
    "master_data"
   ]
  },
  {
   "cell_type": "code",
   "execution_count": 23,
   "metadata": {},
   "outputs": [
    {
     "data": {
      "text/html": [
       "<div>\n",
       "<style scoped>\n",
       "    .dataframe tbody tr th:only-of-type {\n",
       "        vertical-align: middle;\n",
       "    }\n",
       "\n",
       "    .dataframe tbody tr th {\n",
       "        vertical-align: top;\n",
       "    }\n",
       "\n",
       "    .dataframe thead th {\n",
       "        text-align: right;\n",
       "    }\n",
       "</style>\n",
       "<table border=\"1\" class=\"dataframe\">\n",
       "  <thead>\n",
       "    <tr style=\"text-align: right;\">\n",
       "      <th></th>\n",
       "      <th>Date</th>\n",
       "      <th>RPM</th>\n",
       "      <th>Speed</th>\n",
       "      <th>nGear</th>\n",
       "      <th>Throttle</th>\n",
       "      <th>Brake</th>\n",
       "      <th>DRS</th>\n",
       "      <th>Source</th>\n",
       "      <th>Time</th>\n",
       "      <th>SessionTime</th>\n",
       "      <th>Driver</th>\n",
       "    </tr>\n",
       "  </thead>\n",
       "  <tbody>\n",
       "    <tr>\n",
       "      <th>0</th>\n",
       "      <td>2023-08-27 13:03:05.416</td>\n",
       "      <td>10093</td>\n",
       "      <td>0</td>\n",
       "      <td>1</td>\n",
       "      <td>15</td>\n",
       "      <td>False</td>\n",
       "      <td>1</td>\n",
       "      <td>car</td>\n",
       "      <td>0 days 00:00:00.082000</td>\n",
       "      <td>0 days 01:02:05.042000</td>\n",
       "      <td>VER</td>\n",
       "    </tr>\n",
       "    <tr>\n",
       "      <th>1</th>\n",
       "      <td>2023-08-27 13:03:05.616</td>\n",
       "      <td>10063</td>\n",
       "      <td>0</td>\n",
       "      <td>1</td>\n",
       "      <td>15</td>\n",
       "      <td>False</td>\n",
       "      <td>1</td>\n",
       "      <td>car</td>\n",
       "      <td>0 days 00:00:00.282000</td>\n",
       "      <td>0 days 01:02:05.242000</td>\n",
       "      <td>VER</td>\n",
       "    </tr>\n",
       "    <tr>\n",
       "      <th>2</th>\n",
       "      <td>2023-08-27 13:03:05.897</td>\n",
       "      <td>8517</td>\n",
       "      <td>1</td>\n",
       "      <td>1</td>\n",
       "      <td>15</td>\n",
       "      <td>False</td>\n",
       "      <td>1</td>\n",
       "      <td>car</td>\n",
       "      <td>0 days 00:00:00.563000</td>\n",
       "      <td>0 days 01:02:05.523000</td>\n",
       "      <td>VER</td>\n",
       "    </tr>\n",
       "    <tr>\n",
       "      <th>3</th>\n",
       "      <td>2023-08-27 13:03:06.097</td>\n",
       "      <td>7117</td>\n",
       "      <td>11</td>\n",
       "      <td>1</td>\n",
       "      <td>15</td>\n",
       "      <td>False</td>\n",
       "      <td>1</td>\n",
       "      <td>car</td>\n",
       "      <td>0 days 00:00:00.763000</td>\n",
       "      <td>0 days 01:02:05.723000</td>\n",
       "      <td>VER</td>\n",
       "    </tr>\n",
       "    <tr>\n",
       "      <th>4</th>\n",
       "      <td>2023-08-27 13:03:06.497</td>\n",
       "      <td>4317</td>\n",
       "      <td>24</td>\n",
       "      <td>1</td>\n",
       "      <td>16</td>\n",
       "      <td>False</td>\n",
       "      <td>1</td>\n",
       "      <td>car</td>\n",
       "      <td>0 days 00:00:01.163000</td>\n",
       "      <td>0 days 01:02:06.123000</td>\n",
       "      <td>VER</td>\n",
       "    </tr>\n",
       "    <tr>\n",
       "      <th>...</th>\n",
       "      <td>...</td>\n",
       "      <td>...</td>\n",
       "      <td>...</td>\n",
       "      <td>...</td>\n",
       "      <td>...</td>\n",
       "      <td>...</td>\n",
       "      <td>...</td>\n",
       "      <td>...</td>\n",
       "      <td>...</td>\n",
       "      <td>...</td>\n",
       "      <td>...</td>\n",
       "    </tr>\n",
       "    <tr>\n",
       "      <th>601328</th>\n",
       "      <td>2023-08-27 15:27:25.367</td>\n",
       "      <td>11670</td>\n",
       "      <td>294</td>\n",
       "      <td>7</td>\n",
       "      <td>99</td>\n",
       "      <td>False</td>\n",
       "      <td>1</td>\n",
       "      <td>car</td>\n",
       "      <td>0 days 02:24:20.033000</td>\n",
       "      <td>0 days 03:26:24.993000</td>\n",
       "      <td>PIA</td>\n",
       "    </tr>\n",
       "    <tr>\n",
       "      <th>601329</th>\n",
       "      <td>2023-08-27 15:27:25.527</td>\n",
       "      <td>11699</td>\n",
       "      <td>295</td>\n",
       "      <td>7</td>\n",
       "      <td>99</td>\n",
       "      <td>False</td>\n",
       "      <td>1</td>\n",
       "      <td>car</td>\n",
       "      <td>0 days 02:24:20.193000</td>\n",
       "      <td>0 days 03:26:25.153000</td>\n",
       "      <td>PIA</td>\n",
       "    </tr>\n",
       "    <tr>\n",
       "      <th>601330</th>\n",
       "      <td>2023-08-27 15:27:25.687</td>\n",
       "      <td>11742</td>\n",
       "      <td>295</td>\n",
       "      <td>7</td>\n",
       "      <td>99</td>\n",
       "      <td>False</td>\n",
       "      <td>1</td>\n",
       "      <td>car</td>\n",
       "      <td>0 days 02:24:20.353000</td>\n",
       "      <td>0 days 03:26:25.313000</td>\n",
       "      <td>PIA</td>\n",
       "    </tr>\n",
       "    <tr>\n",
       "      <th>601331</th>\n",
       "      <td>2023-08-27 15:27:26.047</td>\n",
       "      <td>11758</td>\n",
       "      <td>296</td>\n",
       "      <td>7</td>\n",
       "      <td>99</td>\n",
       "      <td>False</td>\n",
       "      <td>1</td>\n",
       "      <td>car</td>\n",
       "      <td>0 days 02:24:20.713000</td>\n",
       "      <td>0 days 03:26:25.673000</td>\n",
       "      <td>PIA</td>\n",
       "    </tr>\n",
       "    <tr>\n",
       "      <th>601332</th>\n",
       "      <td>2023-08-27 15:27:26.447</td>\n",
       "      <td>11775</td>\n",
       "      <td>297</td>\n",
       "      <td>7</td>\n",
       "      <td>99</td>\n",
       "      <td>False</td>\n",
       "      <td>1</td>\n",
       "      <td>car</td>\n",
       "      <td>0 days 02:24:21.113000</td>\n",
       "      <td>0 days 03:26:26.073000</td>\n",
       "      <td>PIA</td>\n",
       "    </tr>\n",
       "  </tbody>\n",
       "</table>\n",
       "<p>601333 rows × 11 columns</p>\n",
       "</div>"
      ],
      "text/plain": [
       "                          Date    RPM  Speed  nGear  Throttle  Brake  DRS  \\\n",
       "0      2023-08-27 13:03:05.416  10093      0      1        15  False    1   \n",
       "1      2023-08-27 13:03:05.616  10063      0      1        15  False    1   \n",
       "2      2023-08-27 13:03:05.897   8517      1      1        15  False    1   \n",
       "3      2023-08-27 13:03:06.097   7117     11      1        15  False    1   \n",
       "4      2023-08-27 13:03:06.497   4317     24      1        16  False    1   \n",
       "...                        ...    ...    ...    ...       ...    ...  ...   \n",
       "601328 2023-08-27 15:27:25.367  11670    294      7        99  False    1   \n",
       "601329 2023-08-27 15:27:25.527  11699    295      7        99  False    1   \n",
       "601330 2023-08-27 15:27:25.687  11742    295      7        99  False    1   \n",
       "601331 2023-08-27 15:27:26.047  11758    296      7        99  False    1   \n",
       "601332 2023-08-27 15:27:26.447  11775    297      7        99  False    1   \n",
       "\n",
       "       Source                   Time            SessionTime Driver  \n",
       "0         car 0 days 00:00:00.082000 0 days 01:02:05.042000    VER  \n",
       "1         car 0 days 00:00:00.282000 0 days 01:02:05.242000    VER  \n",
       "2         car 0 days 00:00:00.563000 0 days 01:02:05.523000    VER  \n",
       "3         car 0 days 00:00:00.763000 0 days 01:02:05.723000    VER  \n",
       "4         car 0 days 00:00:01.163000 0 days 01:02:06.123000    VER  \n",
       "...       ...                    ...                    ...    ...  \n",
       "601328    car 0 days 02:24:20.033000 0 days 03:26:24.993000    PIA  \n",
       "601329    car 0 days 02:24:20.193000 0 days 03:26:25.153000    PIA  \n",
       "601330    car 0 days 02:24:20.353000 0 days 03:26:25.313000    PIA  \n",
       "601331    car 0 days 02:24:20.713000 0 days 03:26:25.673000    PIA  \n",
       "601332    car 0 days 02:24:21.113000 0 days 03:26:26.073000    PIA  \n",
       "\n",
       "[601333 rows x 11 columns]"
      ]
     },
     "execution_count": 23,
     "metadata": {},
     "output_type": "execute_result"
    }
   ],
   "source": [
    "telemetry_data"
   ]
  },
  {
   "cell_type": "code",
   "execution_count": 24,
   "metadata": {},
   "outputs": [
    {
     "data": {
      "text/html": [
       "<div>\n",
       "<style scoped>\n",
       "    .dataframe tbody tr th:only-of-type {\n",
       "        vertical-align: middle;\n",
       "    }\n",
       "\n",
       "    .dataframe tbody tr th {\n",
       "        vertical-align: top;\n",
       "    }\n",
       "\n",
       "    .dataframe thead th {\n",
       "        text-align: right;\n",
       "    }\n",
       "</style>\n",
       "<table border=\"1\" class=\"dataframe\">\n",
       "  <thead>\n",
       "    <tr style=\"text-align: right;\">\n",
       "      <th></th>\n",
       "      <th>Time</th>\n",
       "      <th>AirTemp</th>\n",
       "      <th>Humidity</th>\n",
       "      <th>Pressure</th>\n",
       "      <th>Rainfall</th>\n",
       "      <th>TrackTemp</th>\n",
       "      <th>WindDirection</th>\n",
       "      <th>WindSpeed</th>\n",
       "    </tr>\n",
       "  </thead>\n",
       "  <tbody>\n",
       "    <tr>\n",
       "      <th>0</th>\n",
       "      <td>0 days 00:00:46.338000</td>\n",
       "      <td>17.4</td>\n",
       "      <td>68.0</td>\n",
       "      <td>1007.4</td>\n",
       "      <td>False</td>\n",
       "      <td>25.5</td>\n",
       "      <td>196</td>\n",
       "      <td>2.7</td>\n",
       "    </tr>\n",
       "    <tr>\n",
       "      <th>1</th>\n",
       "      <td>0 days 00:01:46.337000</td>\n",
       "      <td>17.4</td>\n",
       "      <td>67.0</td>\n",
       "      <td>1007.5</td>\n",
       "      <td>False</td>\n",
       "      <td>25.5</td>\n",
       "      <td>193</td>\n",
       "      <td>3.2</td>\n",
       "    </tr>\n",
       "    <tr>\n",
       "      <th>2</th>\n",
       "      <td>0 days 00:02:46.336000</td>\n",
       "      <td>17.4</td>\n",
       "      <td>66.0</td>\n",
       "      <td>1007.4</td>\n",
       "      <td>False</td>\n",
       "      <td>25.5</td>\n",
       "      <td>177</td>\n",
       "      <td>3.4</td>\n",
       "    </tr>\n",
       "    <tr>\n",
       "      <th>3</th>\n",
       "      <td>0 days 00:03:46.335000</td>\n",
       "      <td>17.5</td>\n",
       "      <td>67.0</td>\n",
       "      <td>1007.4</td>\n",
       "      <td>False</td>\n",
       "      <td>25.6</td>\n",
       "      <td>184</td>\n",
       "      <td>2.4</td>\n",
       "    </tr>\n",
       "    <tr>\n",
       "      <th>4</th>\n",
       "      <td>0 days 00:04:46.349000</td>\n",
       "      <td>17.5</td>\n",
       "      <td>67.0</td>\n",
       "      <td>1007.5</td>\n",
       "      <td>False</td>\n",
       "      <td>25.6</td>\n",
       "      <td>186</td>\n",
       "      <td>2.9</td>\n",
       "    </tr>\n",
       "    <tr>\n",
       "      <th>...</th>\n",
       "      <td>...</td>\n",
       "      <td>...</td>\n",
       "      <td>...</td>\n",
       "      <td>...</td>\n",
       "      <td>...</td>\n",
       "      <td>...</td>\n",
       "      <td>...</td>\n",
       "      <td>...</td>\n",
       "    </tr>\n",
       "    <tr>\n",
       "      <th>204</th>\n",
       "      <td>0 days 03:24:47.183000</td>\n",
       "      <td>15.7</td>\n",
       "      <td>79.0</td>\n",
       "      <td>1008.2</td>\n",
       "      <td>True</td>\n",
       "      <td>19.0</td>\n",
       "      <td>176</td>\n",
       "      <td>3.0</td>\n",
       "    </tr>\n",
       "    <tr>\n",
       "      <th>205</th>\n",
       "      <td>0 days 03:25:47.182000</td>\n",
       "      <td>15.8</td>\n",
       "      <td>77.0</td>\n",
       "      <td>1008.2</td>\n",
       "      <td>True</td>\n",
       "      <td>19.1</td>\n",
       "      <td>161</td>\n",
       "      <td>3.0</td>\n",
       "    </tr>\n",
       "    <tr>\n",
       "      <th>206</th>\n",
       "      <td>0 days 03:26:47.181000</td>\n",
       "      <td>15.8</td>\n",
       "      <td>77.0</td>\n",
       "      <td>1008.2</td>\n",
       "      <td>True</td>\n",
       "      <td>19.1</td>\n",
       "      <td>163</td>\n",
       "      <td>2.7</td>\n",
       "    </tr>\n",
       "    <tr>\n",
       "      <th>207</th>\n",
       "      <td>0 days 03:27:47.180000</td>\n",
       "      <td>15.7</td>\n",
       "      <td>74.0</td>\n",
       "      <td>1008.4</td>\n",
       "      <td>False</td>\n",
       "      <td>18.9</td>\n",
       "      <td>192</td>\n",
       "      <td>3.2</td>\n",
       "    </tr>\n",
       "    <tr>\n",
       "      <th>208</th>\n",
       "      <td>0 days 03:28:47.163000</td>\n",
       "      <td>15.6</td>\n",
       "      <td>73.0</td>\n",
       "      <td>1008.2</td>\n",
       "      <td>False</td>\n",
       "      <td>18.9</td>\n",
       "      <td>164</td>\n",
       "      <td>2.9</td>\n",
       "    </tr>\n",
       "  </tbody>\n",
       "</table>\n",
       "<p>209 rows × 8 columns</p>\n",
       "</div>"
      ],
      "text/plain": [
       "                      Time  AirTemp  Humidity  Pressure  Rainfall  TrackTemp  \\\n",
       "0   0 days 00:00:46.338000     17.4      68.0    1007.4     False       25.5   \n",
       "1   0 days 00:01:46.337000     17.4      67.0    1007.5     False       25.5   \n",
       "2   0 days 00:02:46.336000     17.4      66.0    1007.4     False       25.5   \n",
       "3   0 days 00:03:46.335000     17.5      67.0    1007.4     False       25.6   \n",
       "4   0 days 00:04:46.349000     17.5      67.0    1007.5     False       25.6   \n",
       "..                     ...      ...       ...       ...       ...        ...   \n",
       "204 0 days 03:24:47.183000     15.7      79.0    1008.2      True       19.0   \n",
       "205 0 days 03:25:47.182000     15.8      77.0    1008.2      True       19.1   \n",
       "206 0 days 03:26:47.181000     15.8      77.0    1008.2      True       19.1   \n",
       "207 0 days 03:27:47.180000     15.7      74.0    1008.4     False       18.9   \n",
       "208 0 days 03:28:47.163000     15.6      73.0    1008.2     False       18.9   \n",
       "\n",
       "     WindDirection  WindSpeed  \n",
       "0              196        2.7  \n",
       "1              193        3.2  \n",
       "2              177        3.4  \n",
       "3              184        2.4  \n",
       "4              186        2.9  \n",
       "..             ...        ...  \n",
       "204            176        3.0  \n",
       "205            161        3.0  \n",
       "206            163        2.7  \n",
       "207            192        3.2  \n",
       "208            164        2.9  \n",
       "\n",
       "[209 rows x 8 columns]"
      ]
     },
     "execution_count": 24,
     "metadata": {},
     "output_type": "execute_result"
    }
   ],
   "source": [
    "weather_data"
   ]
  },
  {
   "cell_type": "code",
   "execution_count": null,
   "metadata": {},
   "outputs": [],
   "source": []
  },
  {
   "cell_type": "markdown",
   "metadata": {},
   "source": [
    "#### MERGING ALL DATA WITH MASTER DATA"
   ]
  },
  {
   "cell_type": "code",
   "execution_count": 25,
   "metadata": {},
   "outputs": [],
   "source": [
    "master_data_sorted=master_data.sort_values('Time')\n",
    "master_msg_sorted=master_msg.sort_values('Time')\n",
    "merged_data = pd.merge_asof(master_data_sorted, weather_data, left_on='Time', right_on='Time', direction='nearest')\n",
    "merged_data=pd.merge_asof(merged_data, master_msg_sorted, left_on='Time', right_on='Time', direction='nearest')\n",
    "pd.set_option('display.max_columns', None)\n",
    "# merged_data.to_excel('merged_data.xlsx', index=False)"
   ]
  },
  {
   "cell_type": "markdown",
   "metadata": {},
   "source": [
    "#### FILLING THE NULL VALUES IN STATUS WITH TRACK CLEAR"
   ]
  },
  {
   "cell_type": "code",
   "execution_count": 26,
   "metadata": {},
   "outputs": [],
   "source": [
    "merged_data_missing=merged_data.isnull().sum()\n",
    "merged_data[['Status']]=merged_data[['Status']].fillna(\"TRACK CLEAR\")\n",
    "merged_data_missing=merged_data.isnull().sum()"
   ]
  },
  {
   "cell_type": "markdown",
   "metadata": {},
   "source": [
    "#### DRIVERS AND THEIR TEAMS"
   ]
  },
  {
   "cell_type": "code",
   "execution_count": 77,
   "metadata": {},
   "outputs": [],
   "source": [
    "driver_team_map = {\n",
    "    'VER': 'RedBull',\n",
    "    'PER': 'RedBull',\n",
    "    'HAM': 'Mercedes',\n",
    "    'RUS': 'Mercedes',\n",
    "    'LEC': 'Ferrari',\n",
    "    'SAI': 'Ferrari',\n",
    "    'NOR': 'Mclaren',\n",
    "    'PIA': 'Mclaren',\n",
    "    'ALO': 'Aston Martin',\n",
    "    'STR': 'Aston Martin',\n",
    "    'OCO': 'Alpine',\n",
    "    'GAS': 'Alpine',\n",
    "    'TSU': 'VCARB',\n",
    "    'RIC': 'VCARB',\n",
    "    'LAW': 'VCARB',\n",
    "    'MAG': 'Haas',\n",
    "    'HUL': 'Haas',\n",
    "    'BOT': 'Sauber',\n",
    "    'ZHO': 'Sauber',\n",
    "    'SAR': 'Williams',\n",
    "    'ALB': 'Williams'\n",
    "\n",
    "}"
   ]
  },
  {
   "cell_type": "markdown",
   "metadata": {},
   "source": [
    "#### GETTING THE TEAM COLOR OF THE DRIVER"
   ]
  },
  {
   "cell_type": "code",
   "execution_count": 78,
   "metadata": {},
   "outputs": [],
   "source": [
    "def get_team_color(driver):\n",
    "    team = driver_team_map.get(driver, 'Unknown')\n",
    "    if team == 'Unknown':\n",
    "        return 'black'\n",
    "    return ff.plotting.team_color(team)"
   ]
  },
  {
   "cell_type": "markdown",
   "metadata": {},
   "source": [
    "#### DRIVERS TO PLOT"
   ]
  },
  {
   "cell_type": "code",
   "execution_count": 80,
   "metadata": {},
   "outputs": [],
   "source": [
    "drivers_to_plot = ['LAW', 'ALB']"
   ]
  },
  {
   "cell_type": "markdown",
   "metadata": {},
   "source": [
    "#### LAP TIME PLOTTING BETWEEN DRIVERS USING MATPLOTLIB"
   ]
  },
  {
   "cell_type": "code",
   "execution_count": 81,
   "metadata": {},
   "outputs": [
    {
     "data": {
      "image/png": "[encoded data removed]",
      "text/plain": [
       "<Figure size 1400x800 with 1 Axes>"
      ]
     },
     "metadata": {},
     "output_type": "display_data"
    }
   ],
   "source": [
    "plt.figure(figsize=(14, 8))\n",
    "for driver in drivers_to_plot:\n",
    "    driver_data = merged_data[merged_data['Driver'] == driver]\n",
    "    team_color = get_team_color(driver)\n",
    "    plt.plot(driver_data['LapNumber'], driver_data['LapTime'], marker='o', label=driver, color=team_color)\n",
    "\n",
    "plt.title('Lap Time Evolution')\n",
    "plt.xlabel('Lap Number')\n",
    "plt.ylabel('Lap Time (s)')\n",
    "plt.legend(title='Driver')\n",
    "plt.grid(True)\n",
    "plt.show()"
   ]
  },
  {
   "cell_type": "code",
   "execution_count": 82,
   "metadata": {},
   "outputs": [
    {
     "data": {
      "text/html": [
       "<div>\n",
       "<style scoped>\n",
       "    .dataframe tbody tr th:only-of-type {\n",
       "        vertical-align: middle;\n",
       "    }\n",
       "\n",
       "    .dataframe tbody tr th {\n",
       "        vertical-align: top;\n",
       "    }\n",
       "\n",
       "    .dataframe thead th {\n",
       "        text-align: right;\n",
       "    }\n",
       "</style>\n",
       "<table border=\"1\" class=\"dataframe\">\n",
       "  <thead>\n",
       "    <tr style=\"text-align: right;\">\n",
       "      <th></th>\n",
       "      <th>Time</th>\n",
       "      <th>Driver</th>\n",
       "      <th>DriverNumber</th>\n",
       "      <th>LapNumber</th>\n",
       "      <th>LapTime</th>\n",
       "      <th>Sector1Time</th>\n",
       "      <th>Sector2Time</th>\n",
       "      <th>Sector3Time</th>\n",
       "      <th>IsAccurate</th>\n",
       "      <th>Position</th>\n",
       "      <th>LapStartTime</th>\n",
       "      <th>FreshTyre</th>\n",
       "      <th>TyreLife</th>\n",
       "      <th>NumberOfPitStops</th>\n",
       "      <th>PitOutTime</th>\n",
       "      <th>PitInTime</th>\n",
       "      <th>Sector1Time(s)</th>\n",
       "      <th>Sector2Time(s)</th>\n",
       "      <th>Sector3Time(s)</th>\n",
       "      <th>Cum.SectorTime(s)</th>\n",
       "      <th>LapTime(s)</th>\n",
       "      <th>LapStartTime(s)</th>\n",
       "      <th>PitInTime(s)</th>\n",
       "      <th>PitOutTime(s)</th>\n",
       "      <th>PitStopTime(s)</th>\n",
       "      <th>PrevLapTime(s)</th>\n",
       "      <th>LapΔ(s)</th>\n",
       "      <th>CumLapTime(s)</th>\n",
       "      <th>GapToLeader</th>\n",
       "      <th>Interval</th>\n",
       "      <th>Compound_HARD</th>\n",
       "      <th>Compound_INTERMEDIATE</th>\n",
       "      <th>Compound_MEDIUM</th>\n",
       "      <th>Compound_SOFT</th>\n",
       "      <th>Compound_WET</th>\n",
       "      <th>AirTemp</th>\n",
       "      <th>Humidity</th>\n",
       "      <th>Pressure</th>\n",
       "      <th>Rainfall</th>\n",
       "      <th>TrackTemp</th>\n",
       "      <th>WindDirection</th>\n",
       "      <th>WindSpeed</th>\n",
       "      <th>Status</th>\n",
       "      <th>Message</th>\n",
       "      <th>Category_CarEvent</th>\n",
       "      <th>Category_Drs</th>\n",
       "      <th>Category_Flag</th>\n",
       "      <th>Category_Other</th>\n",
       "      <th>Category_SafetyCar</th>\n",
       "      <th>Flag_BLACK AND WHITE</th>\n",
       "      <th>Flag_BLUE</th>\n",
       "      <th>Flag_CHEQUERED</th>\n",
       "      <th>Flag_CLEAR</th>\n",
       "      <th>Flag_DOUBLE YELLOW</th>\n",
       "      <th>Flag_GREEN</th>\n",
       "      <th>Flag_RED</th>\n",
       "      <th>Flag_YELLOW</th>\n",
       "    </tr>\n",
       "  </thead>\n",
       "  <tbody>\n",
       "    <tr>\n",
       "      <th>0</th>\n",
       "      <td>0 days 01:03:36.820000</td>\n",
       "      <td>VER</td>\n",
       "      <td>1</td>\n",
       "      <td>1.0</td>\n",
       "      <td>0 days 00:01:31.585000</td>\n",
       "      <td>0 days 00:00:36.330000</td>\n",
       "      <td>0 days 00:00:28.929000</td>\n",
       "      <td>0 days 00:00:30.478000</td>\n",
       "      <td>False</td>\n",
       "      <td>1.0</td>\n",
       "      <td>0 days 01:02:04.960000</td>\n",
       "      <td>True</td>\n",
       "      <td>1.0</td>\n",
       "      <td>0.0</td>\n",
       "      <td>0</td>\n",
       "      <td>0</td>\n",
       "      <td>36.330</td>\n",
       "      <td>28.929</td>\n",
       "      <td>30.478</td>\n",
       "      <td>95.737</td>\n",
       "      <td>91.585</td>\n",
       "      <td>3724.960</td>\n",
       "      <td>0.0</td>\n",
       "      <td>0.0</td>\n",
       "      <td>0.0</td>\n",
       "      <td>0.000</td>\n",
       "      <td>0.000</td>\n",
       "      <td>91.585</td>\n",
       "      <td>0.000</td>\n",
       "      <td>0.000</td>\n",
       "      <td>False</td>\n",
       "      <td>False</td>\n",
       "      <td>False</td>\n",
       "      <td>True</td>\n",
       "      <td>False</td>\n",
       "      <td>17.5</td>\n",
       "      <td>67.0</td>\n",
       "      <td>1007.7</td>\n",
       "      <td>True</td>\n",
       "      <td>28.6</td>\n",
       "      <td>157</td>\n",
       "      <td>1.7</td>\n",
       "      <td>TRACK CLEAR</td>\n",
       "      <td>LOW GRIP CONDITIONS</td>\n",
       "      <td>False</td>\n",
       "      <td>False</td>\n",
       "      <td>False</td>\n",
       "      <td>True</td>\n",
       "      <td>False</td>\n",
       "      <td>False</td>\n",
       "      <td>False</td>\n",
       "      <td>False</td>\n",
       "      <td>False</td>\n",
       "      <td>False</td>\n",
       "      <td>False</td>\n",
       "      <td>False</td>\n",
       "      <td>False</td>\n",
       "    </tr>\n",
       "    <tr>\n",
       "      <th>1</th>\n",
       "      <td>0 days 01:03:37.462000</td>\n",
       "      <td>NOR</td>\n",
       "      <td>4</td>\n",
       "      <td>1.0</td>\n",
       "      <td>0 days 00:01:32.227000</td>\n",
       "      <td>0 days 00:00:37.353000</td>\n",
       "      <td>0 days 00:00:28.594000</td>\n",
       "      <td>0 days 00:00:30.567000</td>\n",
       "      <td>False</td>\n",
       "      <td>2.0</td>\n",
       "      <td>0 days 01:02:04.960000</td>\n",
       "      <td>True</td>\n",
       "      <td>1.0</td>\n",
       "      <td>0.0</td>\n",
       "      <td>0</td>\n",
       "      <td>0</td>\n",
       "      <td>37.353</td>\n",
       "      <td>28.594</td>\n",
       "      <td>30.567</td>\n",
       "      <td>96.514</td>\n",
       "      <td>92.227</td>\n",
       "      <td>3724.960</td>\n",
       "      <td>0.0</td>\n",
       "      <td>0.0</td>\n",
       "      <td>0.0</td>\n",
       "      <td>83.205</td>\n",
       "      <td>9.022</td>\n",
       "      <td>92.227</td>\n",
       "      <td>0.642</td>\n",
       "      <td>0.642</td>\n",
       "      <td>False</td>\n",
       "      <td>False</td>\n",
       "      <td>False</td>\n",
       "      <td>True</td>\n",
       "      <td>False</td>\n",
       "      <td>17.5</td>\n",
       "      <td>67.0</td>\n",
       "      <td>1007.7</td>\n",
       "      <td>True</td>\n",
       "      <td>28.6</td>\n",
       "      <td>157</td>\n",
       "      <td>1.7</td>\n",
       "      <td>TRACK CLEAR</td>\n",
       "      <td>LOW GRIP CONDITIONS</td>\n",
       "      <td>False</td>\n",
       "      <td>False</td>\n",
       "      <td>False</td>\n",
       "      <td>True</td>\n",
       "      <td>False</td>\n",
       "      <td>False</td>\n",
       "      <td>False</td>\n",
       "      <td>False</td>\n",
       "      <td>False</td>\n",
       "      <td>False</td>\n",
       "      <td>False</td>\n",
       "      <td>False</td>\n",
       "      <td>False</td>\n",
       "    </tr>\n",
       "    <tr>\n",
       "      <th>2</th>\n",
       "      <td>0 days 01:03:38.001000</td>\n",
       "      <td>ALO</td>\n",
       "      <td>14</td>\n",
       "      <td>1.0</td>\n",
       "      <td>0 days 00:01:32.766000</td>\n",
       "      <td>0 days 00:00:36.326000</td>\n",
       "      <td>0 days 00:00:28.764000</td>\n",
       "      <td>0 days 00:00:30.590000</td>\n",
       "      <td>False</td>\n",
       "      <td>3.0</td>\n",
       "      <td>0 days 01:02:04.960000</td>\n",
       "      <td>True</td>\n",
       "      <td>1.0</td>\n",
       "      <td>0.0</td>\n",
       "      <td>0</td>\n",
       "      <td>0</td>\n",
       "      <td>36.326</td>\n",
       "      <td>28.764</td>\n",
       "      <td>30.590</td>\n",
       "      <td>95.680</td>\n",
       "      <td>92.766</td>\n",
       "      <td>3724.960</td>\n",
       "      <td>0.0</td>\n",
       "      <td>0.0</td>\n",
       "      <td>0.0</td>\n",
       "      <td>81.699</td>\n",
       "      <td>11.067</td>\n",
       "      <td>92.766</td>\n",
       "      <td>1.181</td>\n",
       "      <td>0.539</td>\n",
       "      <td>False</td>\n",
       "      <td>False</td>\n",
       "      <td>False</td>\n",
       "      <td>True</td>\n",
       "      <td>False</td>\n",
       "      <td>17.5</td>\n",
       "      <td>67.0</td>\n",
       "      <td>1007.7</td>\n",
       "      <td>True</td>\n",
       "      <td>28.6</td>\n",
       "      <td>157</td>\n",
       "      <td>1.7</td>\n",
       "      <td>TRACK CLEAR</td>\n",
       "      <td>LOW GRIP CONDITIONS</td>\n",
       "      <td>False</td>\n",
       "      <td>False</td>\n",
       "      <td>False</td>\n",
       "      <td>True</td>\n",
       "      <td>False</td>\n",
       "      <td>False</td>\n",
       "      <td>False</td>\n",
       "      <td>False</td>\n",
       "      <td>False</td>\n",
       "      <td>False</td>\n",
       "      <td>False</td>\n",
       "      <td>False</td>\n",
       "      <td>False</td>\n",
       "    </tr>\n",
       "    <tr>\n",
       "      <th>3</th>\n",
       "      <td>0 days 01:03:38.476000</td>\n",
       "      <td>RUS</td>\n",
       "      <td>63</td>\n",
       "      <td>1.0</td>\n",
       "      <td>0 days 00:01:33.241000</td>\n",
       "      <td>0 days 00:00:37.093000</td>\n",
       "      <td>0 days 00:00:28.820000</td>\n",
       "      <td>0 days 00:00:30.679000</td>\n",
       "      <td>False</td>\n",
       "      <td>4.0</td>\n",
       "      <td>0 days 01:02:04.960000</td>\n",
       "      <td>True</td>\n",
       "      <td>1.0</td>\n",
       "      <td>0.0</td>\n",
       "      <td>0</td>\n",
       "      <td>0</td>\n",
       "      <td>37.093</td>\n",
       "      <td>28.820</td>\n",
       "      <td>30.679</td>\n",
       "      <td>96.592</td>\n",
       "      <td>93.241</td>\n",
       "      <td>3724.960</td>\n",
       "      <td>0.0</td>\n",
       "      <td>0.0</td>\n",
       "      <td>0.0</td>\n",
       "      <td>82.652</td>\n",
       "      <td>10.589</td>\n",
       "      <td>93.241</td>\n",
       "      <td>1.656</td>\n",
       "      <td>0.475</td>\n",
       "      <td>False</td>\n",
       "      <td>False</td>\n",
       "      <td>False</td>\n",
       "      <td>True</td>\n",
       "      <td>False</td>\n",
       "      <td>17.5</td>\n",
       "      <td>67.0</td>\n",
       "      <td>1007.7</td>\n",
       "      <td>True</td>\n",
       "      <td>28.6</td>\n",
       "      <td>157</td>\n",
       "      <td>1.7</td>\n",
       "      <td>TRACK CLEAR</td>\n",
       "      <td>LOW GRIP CONDITIONS</td>\n",
       "      <td>False</td>\n",
       "      <td>False</td>\n",
       "      <td>False</td>\n",
       "      <td>True</td>\n",
       "      <td>False</td>\n",
       "      <td>False</td>\n",
       "      <td>False</td>\n",
       "      <td>False</td>\n",
       "      <td>False</td>\n",
       "      <td>False</td>\n",
       "      <td>False</td>\n",
       "      <td>False</td>\n",
       "      <td>False</td>\n",
       "    </tr>\n",
       "    <tr>\n",
       "      <th>4</th>\n",
       "      <td>0 days 01:03:39.511000</td>\n",
       "      <td>ALB</td>\n",
       "      <td>23</td>\n",
       "      <td>1.0</td>\n",
       "      <td>0 days 00:01:34.276000</td>\n",
       "      <td>0 days 00:00:36.857000</td>\n",
       "      <td>0 days 00:00:29.096000</td>\n",
       "      <td>0 days 00:00:31.301000</td>\n",
       "      <td>False</td>\n",
       "      <td>5.0</td>\n",
       "      <td>0 days 01:02:04.960000</td>\n",
       "      <td>True</td>\n",
       "      <td>1.0</td>\n",
       "      <td>0.0</td>\n",
       "      <td>0</td>\n",
       "      <td>0</td>\n",
       "      <td>36.857</td>\n",
       "      <td>29.096</td>\n",
       "      <td>31.301</td>\n",
       "      <td>97.254</td>\n",
       "      <td>94.276</td>\n",
       "      <td>3724.960</td>\n",
       "      <td>0.0</td>\n",
       "      <td>0.0</td>\n",
       "      <td>0.0</td>\n",
       "      <td>83.883</td>\n",
       "      <td>10.393</td>\n",
       "      <td>94.276</td>\n",
       "      <td>2.691</td>\n",
       "      <td>1.035</td>\n",
       "      <td>False</td>\n",
       "      <td>False</td>\n",
       "      <td>False</td>\n",
       "      <td>True</td>\n",
       "      <td>False</td>\n",
       "      <td>17.5</td>\n",
       "      <td>67.0</td>\n",
       "      <td>1007.7</td>\n",
       "      <td>True</td>\n",
       "      <td>28.6</td>\n",
       "      <td>157</td>\n",
       "      <td>1.7</td>\n",
       "      <td>TRACK CLEAR</td>\n",
       "      <td>LOW GRIP CONDITIONS</td>\n",
       "      <td>False</td>\n",
       "      <td>False</td>\n",
       "      <td>False</td>\n",
       "      <td>True</td>\n",
       "      <td>False</td>\n",
       "      <td>False</td>\n",
       "      <td>False</td>\n",
       "      <td>False</td>\n",
       "      <td>False</td>\n",
       "      <td>False</td>\n",
       "      <td>False</td>\n",
       "      <td>False</td>\n",
       "      <td>False</td>\n",
       "    </tr>\n",
       "    <tr>\n",
       "      <th>...</th>\n",
       "      <td>...</td>\n",
       "      <td>...</td>\n",
       "      <td>...</td>\n",
       "      <td>...</td>\n",
       "      <td>...</td>\n",
       "      <td>...</td>\n",
       "      <td>...</td>\n",
       "      <td>...</td>\n",
       "      <td>...</td>\n",
       "      <td>...</td>\n",
       "      <td>...</td>\n",
       "      <td>...</td>\n",
       "      <td>...</td>\n",
       "      <td>...</td>\n",
       "      <td>...</td>\n",
       "      <td>...</td>\n",
       "      <td>...</td>\n",
       "      <td>...</td>\n",
       "      <td>...</td>\n",
       "      <td>...</td>\n",
       "      <td>...</td>\n",
       "      <td>...</td>\n",
       "      <td>...</td>\n",
       "      <td>...</td>\n",
       "      <td>...</td>\n",
       "      <td>...</td>\n",
       "      <td>...</td>\n",
       "      <td>...</td>\n",
       "      <td>...</td>\n",
       "      <td>...</td>\n",
       "      <td>...</td>\n",
       "      <td>...</td>\n",
       "      <td>...</td>\n",
       "      <td>...</td>\n",
       "      <td>...</td>\n",
       "      <td>...</td>\n",
       "      <td>...</td>\n",
       "      <td>...</td>\n",
       "      <td>...</td>\n",
       "      <td>...</td>\n",
       "      <td>...</td>\n",
       "      <td>...</td>\n",
       "      <td>...</td>\n",
       "      <td>...</td>\n",
       "      <td>...</td>\n",
       "      <td>...</td>\n",
       "      <td>...</td>\n",
       "      <td>...</td>\n",
       "      <td>...</td>\n",
       "      <td>...</td>\n",
       "      <td>...</td>\n",
       "      <td>...</td>\n",
       "      <td>...</td>\n",
       "      <td>...</td>\n",
       "      <td>...</td>\n",
       "      <td>...</td>\n",
       "      <td>...</td>\n",
       "    </tr>\n",
       "    <tr>\n",
       "      <th>1338</th>\n",
       "      <td>0 days 03:26:34.603000</td>\n",
       "      <td>TSU</td>\n",
       "      <td>22</td>\n",
       "      <td>72.0</td>\n",
       "      <td>0 days 00:01:23.883000</td>\n",
       "      <td>0 days 00:00:28.923000</td>\n",
       "      <td>0 days 00:00:28.789000</td>\n",
       "      <td>0 days 00:00:26.171000</td>\n",
       "      <td>True</td>\n",
       "      <td>13.0</td>\n",
       "      <td>0 days 03:25:10.720000</td>\n",
       "      <td>False</td>\n",
       "      <td>14.0</td>\n",
       "      <td>5.0</td>\n",
       "      <td>0</td>\n",
       "      <td>0</td>\n",
       "      <td>28.923</td>\n",
       "      <td>28.789</td>\n",
       "      <td>26.171</td>\n",
       "      <td>83.883</td>\n",
       "      <td>83.883</td>\n",
       "      <td>12310.720</td>\n",
       "      <td>0.0</td>\n",
       "      <td>0.0</td>\n",
       "      <td>0.0</td>\n",
       "      <td>83.101</td>\n",
       "      <td>0.782</td>\n",
       "      <td>6247.044</td>\n",
       "      <td>90.151</td>\n",
       "      <td>-0.399</td>\n",
       "      <td>False</td>\n",
       "      <td>True</td>\n",
       "      <td>False</td>\n",
       "      <td>False</td>\n",
       "      <td>False</td>\n",
       "      <td>15.8</td>\n",
       "      <td>77.0</td>\n",
       "      <td>1008.2</td>\n",
       "      <td>True</td>\n",
       "      <td>19.1</td>\n",
       "      <td>163</td>\n",
       "      <td>2.7</td>\n",
       "      <td>TRACK CLEAR</td>\n",
       "      <td>CHEQUERED FLAG</td>\n",
       "      <td>False</td>\n",
       "      <td>False</td>\n",
       "      <td>True</td>\n",
       "      <td>False</td>\n",
       "      <td>False</td>\n",
       "      <td>False</td>\n",
       "      <td>False</td>\n",
       "      <td>True</td>\n",
       "      <td>False</td>\n",
       "      <td>False</td>\n",
       "      <td>False</td>\n",
       "      <td>False</td>\n",
       "      <td>False</td>\n",
       "    </tr>\n",
       "    <tr>\n",
       "      <th>1339</th>\n",
       "      <td>0 days 03:26:35.827000</td>\n",
       "      <td>LAW</td>\n",
       "      <td>40</td>\n",
       "      <td>72.0</td>\n",
       "      <td>0 days 00:01:23.592000</td>\n",
       "      <td>0 days 00:00:28.792000</td>\n",
       "      <td>0 days 00:00:28.745000</td>\n",
       "      <td>0 days 00:00:26.055000</td>\n",
       "      <td>True</td>\n",
       "      <td>14.0</td>\n",
       "      <td>0 days 03:25:12.235000</td>\n",
       "      <td>False</td>\n",
       "      <td>16.0</td>\n",
       "      <td>7.0</td>\n",
       "      <td>0</td>\n",
       "      <td>0</td>\n",
       "      <td>28.792</td>\n",
       "      <td>28.745</td>\n",
       "      <td>26.055</td>\n",
       "      <td>83.592</td>\n",
       "      <td>83.592</td>\n",
       "      <td>12312.235</td>\n",
       "      <td>0.0</td>\n",
       "      <td>0.0</td>\n",
       "      <td>0.0</td>\n",
       "      <td>84.122</td>\n",
       "      <td>-0.530</td>\n",
       "      <td>6261.330</td>\n",
       "      <td>104.437</td>\n",
       "      <td>14.286</td>\n",
       "      <td>False</td>\n",
       "      <td>True</td>\n",
       "      <td>False</td>\n",
       "      <td>False</td>\n",
       "      <td>False</td>\n",
       "      <td>15.8</td>\n",
       "      <td>77.0</td>\n",
       "      <td>1008.2</td>\n",
       "      <td>True</td>\n",
       "      <td>19.1</td>\n",
       "      <td>163</td>\n",
       "      <td>2.7</td>\n",
       "      <td>TRACK CLEAR</td>\n",
       "      <td>CHEQUERED FLAG</td>\n",
       "      <td>False</td>\n",
       "      <td>False</td>\n",
       "      <td>True</td>\n",
       "      <td>False</td>\n",
       "      <td>False</td>\n",
       "      <td>False</td>\n",
       "      <td>False</td>\n",
       "      <td>True</td>\n",
       "      <td>False</td>\n",
       "      <td>False</td>\n",
       "      <td>False</td>\n",
       "      <td>False</td>\n",
       "      <td>False</td>\n",
       "    </tr>\n",
       "    <tr>\n",
       "      <th>1340</th>\n",
       "      <td>0 days 03:26:36.084000</td>\n",
       "      <td>MAG</td>\n",
       "      <td>20</td>\n",
       "      <td>72.0</td>\n",
       "      <td>0 days 00:01:23.550000</td>\n",
       "      <td>0 days 00:00:29.009000</td>\n",
       "      <td>0 days 00:00:28.794000</td>\n",
       "      <td>0 days 00:00:25.747000</td>\n",
       "      <td>True</td>\n",
       "      <td>15.0</td>\n",
       "      <td>0 days 03:25:12.534000</td>\n",
       "      <td>False</td>\n",
       "      <td>12.0</td>\n",
       "      <td>6.0</td>\n",
       "      <td>0</td>\n",
       "      <td>0</td>\n",
       "      <td>29.009</td>\n",
       "      <td>28.794</td>\n",
       "      <td>25.747</td>\n",
       "      <td>83.550</td>\n",
       "      <td>83.550</td>\n",
       "      <td>12312.534</td>\n",
       "      <td>0.0</td>\n",
       "      <td>0.0</td>\n",
       "      <td>0.0</td>\n",
       "      <td>83.912</td>\n",
       "      <td>-0.362</td>\n",
       "      <td>6315.824</td>\n",
       "      <td>158.931</td>\n",
       "      <td>54.494</td>\n",
       "      <td>False</td>\n",
       "      <td>True</td>\n",
       "      <td>False</td>\n",
       "      <td>False</td>\n",
       "      <td>False</td>\n",
       "      <td>15.8</td>\n",
       "      <td>77.0</td>\n",
       "      <td>1008.2</td>\n",
       "      <td>True</td>\n",
       "      <td>19.1</td>\n",
       "      <td>163</td>\n",
       "      <td>2.7</td>\n",
       "      <td>TRACK CLEAR</td>\n",
       "      <td>CHEQUERED FLAG</td>\n",
       "      <td>False</td>\n",
       "      <td>False</td>\n",
       "      <td>True</td>\n",
       "      <td>False</td>\n",
       "      <td>False</td>\n",
       "      <td>False</td>\n",
       "      <td>False</td>\n",
       "      <td>True</td>\n",
       "      <td>False</td>\n",
       "      <td>False</td>\n",
       "      <td>False</td>\n",
       "      <td>False</td>\n",
       "      <td>False</td>\n",
       "    </tr>\n",
       "    <tr>\n",
       "      <th>1341</th>\n",
       "      <td>0 days 03:26:37.061000</td>\n",
       "      <td>BOT</td>\n",
       "      <td>77</td>\n",
       "      <td>72.0</td>\n",
       "      <td>0 days 00:01:23.030000</td>\n",
       "      <td>0 days 00:00:28.882000</td>\n",
       "      <td>0 days 00:00:28.443000</td>\n",
       "      <td>0 days 00:00:25.705000</td>\n",
       "      <td>True</td>\n",
       "      <td>16.0</td>\n",
       "      <td>0 days 03:25:14.031000</td>\n",
       "      <td>False</td>\n",
       "      <td>9.0</td>\n",
       "      <td>5.0</td>\n",
       "      <td>0</td>\n",
       "      <td>0</td>\n",
       "      <td>28.882</td>\n",
       "      <td>28.443</td>\n",
       "      <td>25.705</td>\n",
       "      <td>83.030</td>\n",
       "      <td>83.030</td>\n",
       "      <td>12314.031</td>\n",
       "      <td>0.0</td>\n",
       "      <td>0.0</td>\n",
       "      <td>0.0</td>\n",
       "      <td>82.873</td>\n",
       "      <td>0.157</td>\n",
       "      <td>6255.933</td>\n",
       "      <td>99.040</td>\n",
       "      <td>-59.891</td>\n",
       "      <td>False</td>\n",
       "      <td>True</td>\n",
       "      <td>False</td>\n",
       "      <td>False</td>\n",
       "      <td>False</td>\n",
       "      <td>15.8</td>\n",
       "      <td>77.0</td>\n",
       "      <td>1008.2</td>\n",
       "      <td>True</td>\n",
       "      <td>19.1</td>\n",
       "      <td>163</td>\n",
       "      <td>2.7</td>\n",
       "      <td>TRACK CLEAR</td>\n",
       "      <td>CHEQUERED FLAG</td>\n",
       "      <td>False</td>\n",
       "      <td>False</td>\n",
       "      <td>True</td>\n",
       "      <td>False</td>\n",
       "      <td>False</td>\n",
       "      <td>False</td>\n",
       "      <td>False</td>\n",
       "      <td>True</td>\n",
       "      <td>False</td>\n",
       "      <td>False</td>\n",
       "      <td>False</td>\n",
       "      <td>False</td>\n",
       "      <td>False</td>\n",
       "    </tr>\n",
       "    <tr>\n",
       "      <th>1342</th>\n",
       "      <td>0 days 03:27:05.461000</td>\n",
       "      <td>RUS</td>\n",
       "      <td>63</td>\n",
       "      <td>72.0</td>\n",
       "      <td>0 days 00:01:20.769000</td>\n",
       "      <td>0 days 00:00:27.959000</td>\n",
       "      <td>0 days 00:00:27.849000</td>\n",
       "      <td>0 days 00:00:24.961000</td>\n",
       "      <td>True</td>\n",
       "      <td>17.0</td>\n",
       "      <td>0 days 03:25:44.692000</td>\n",
       "      <td>False</td>\n",
       "      <td>20.0</td>\n",
       "      <td>7.0</td>\n",
       "      <td>0</td>\n",
       "      <td>0</td>\n",
       "      <td>27.959</td>\n",
       "      <td>27.849</td>\n",
       "      <td>24.961</td>\n",
       "      <td>80.769</td>\n",
       "      <td>80.769</td>\n",
       "      <td>12344.692</td>\n",
       "      <td>0.0</td>\n",
       "      <td>0.0</td>\n",
       "      <td>0.0</td>\n",
       "      <td>80.548</td>\n",
       "      <td>0.221</td>\n",
       "      <td>6248.199</td>\n",
       "      <td>91.306</td>\n",
       "      <td>-7.734</td>\n",
       "      <td>False</td>\n",
       "      <td>True</td>\n",
       "      <td>False</td>\n",
       "      <td>False</td>\n",
       "      <td>False</td>\n",
       "      <td>15.8</td>\n",
       "      <td>77.0</td>\n",
       "      <td>1008.2</td>\n",
       "      <td>True</td>\n",
       "      <td>19.1</td>\n",
       "      <td>163</td>\n",
       "      <td>2.7</td>\n",
       "      <td>TRACK CLEAR</td>\n",
       "      <td>CHEQUERED FLAG</td>\n",
       "      <td>False</td>\n",
       "      <td>False</td>\n",
       "      <td>True</td>\n",
       "      <td>False</td>\n",
       "      <td>False</td>\n",
       "      <td>False</td>\n",
       "      <td>False</td>\n",
       "      <td>True</td>\n",
       "      <td>False</td>\n",
       "      <td>False</td>\n",
       "      <td>False</td>\n",
       "      <td>False</td>\n",
       "      <td>False</td>\n",
       "    </tr>\n",
       "  </tbody>\n",
       "</table>\n",
       "<p>1343 rows × 57 columns</p>\n",
       "</div>"
      ],
      "text/plain": [
       "                       Time Driver DriverNumber  LapNumber  \\\n",
       "0    0 days 01:03:36.820000    VER            1        1.0   \n",
       "1    0 days 01:03:37.462000    NOR            4        1.0   \n",
       "2    0 days 01:03:38.001000    ALO           14        1.0   \n",
       "3    0 days 01:03:38.476000    RUS           63        1.0   \n",
       "4    0 days 01:03:39.511000    ALB           23        1.0   \n",
       "...                     ...    ...          ...        ...   \n",
       "1338 0 days 03:26:34.603000    TSU           22       72.0   \n",
       "1339 0 days 03:26:35.827000    LAW           40       72.0   \n",
       "1340 0 days 03:26:36.084000    MAG           20       72.0   \n",
       "1341 0 days 03:26:37.061000    BOT           77       72.0   \n",
       "1342 0 days 03:27:05.461000    RUS           63       72.0   \n",
       "\n",
       "                    LapTime            Sector1Time            Sector2Time  \\\n",
       "0    0 days 00:01:31.585000 0 days 00:00:36.330000 0 days 00:00:28.929000   \n",
       "1    0 days 00:01:32.227000 0 days 00:00:37.353000 0 days 00:00:28.594000   \n",
       "2    0 days 00:01:32.766000 0 days 00:00:36.326000 0 days 00:00:28.764000   \n",
       "3    0 days 00:01:33.241000 0 days 00:00:37.093000 0 days 00:00:28.820000   \n",
       "4    0 days 00:01:34.276000 0 days 00:00:36.857000 0 days 00:00:29.096000   \n",
       "...                     ...                    ...                    ...   \n",
       "1338 0 days 00:01:23.883000 0 days 00:00:28.923000 0 days 00:00:28.789000   \n",
       "1339 0 days 00:01:23.592000 0 days 00:00:28.792000 0 days 00:00:28.745000   \n",
       "1340 0 days 00:01:23.550000 0 days 00:00:29.009000 0 days 00:00:28.794000   \n",
       "1341 0 days 00:01:23.030000 0 days 00:00:28.882000 0 days 00:00:28.443000   \n",
       "1342 0 days 00:01:20.769000 0 days 00:00:27.959000 0 days 00:00:27.849000   \n",
       "\n",
       "                Sector3Time  IsAccurate  Position           LapStartTime  \\\n",
       "0    0 days 00:00:30.478000       False       1.0 0 days 01:02:04.960000   \n",
       "1    0 days 00:00:30.567000       False       2.0 0 days 01:02:04.960000   \n",
       "2    0 days 00:00:30.590000       False       3.0 0 days 01:02:04.960000   \n",
       "3    0 days 00:00:30.679000       False       4.0 0 days 01:02:04.960000   \n",
       "4    0 days 00:00:31.301000       False       5.0 0 days 01:02:04.960000   \n",
       "...                     ...         ...       ...                    ...   \n",
       "1338 0 days 00:00:26.171000        True      13.0 0 days 03:25:10.720000   \n",
       "1339 0 days 00:00:26.055000        True      14.0 0 days 03:25:12.235000   \n",
       "1340 0 days 00:00:25.747000        True      15.0 0 days 03:25:12.534000   \n",
       "1341 0 days 00:00:25.705000        True      16.0 0 days 03:25:14.031000   \n",
       "1342 0 days 00:00:24.961000        True      17.0 0 days 03:25:44.692000   \n",
       "\n",
       "      FreshTyre  TyreLife  NumberOfPitStops PitOutTime PitInTime  \\\n",
       "0          True       1.0               0.0          0         0   \n",
       "1          True       1.0               0.0          0         0   \n",
       "2          True       1.0               0.0          0         0   \n",
       "3          True       1.0               0.0          0         0   \n",
       "4          True       1.0               0.0          0         0   \n",
       "...         ...       ...               ...        ...       ...   \n",
       "1338      False      14.0               5.0          0         0   \n",
       "1339      False      16.0               7.0          0         0   \n",
       "1340      False      12.0               6.0          0         0   \n",
       "1341      False       9.0               5.0          0         0   \n",
       "1342      False      20.0               7.0          0         0   \n",
       "\n",
       "      Sector1Time(s)  Sector2Time(s)  Sector3Time(s)  Cum.SectorTime(s)  \\\n",
       "0             36.330          28.929          30.478             95.737   \n",
       "1             37.353          28.594          30.567             96.514   \n",
       "2             36.326          28.764          30.590             95.680   \n",
       "3             37.093          28.820          30.679             96.592   \n",
       "4             36.857          29.096          31.301             97.254   \n",
       "...              ...             ...             ...                ...   \n",
       "1338          28.923          28.789          26.171             83.883   \n",
       "1339          28.792          28.745          26.055             83.592   \n",
       "1340          29.009          28.794          25.747             83.550   \n",
       "1341          28.882          28.443          25.705             83.030   \n",
       "1342          27.959          27.849          24.961             80.769   \n",
       "\n",
       "      LapTime(s)  LapStartTime(s)  PitInTime(s)  PitOutTime(s)  \\\n",
       "0         91.585         3724.960           0.0            0.0   \n",
       "1         92.227         3724.960           0.0            0.0   \n",
       "2         92.766         3724.960           0.0            0.0   \n",
       "3         93.241         3724.960           0.0            0.0   \n",
       "4         94.276         3724.960           0.0            0.0   \n",
       "...          ...              ...           ...            ...   \n",
       "1338      83.883        12310.720           0.0            0.0   \n",
       "1339      83.592        12312.235           0.0            0.0   \n",
       "1340      83.550        12312.534           0.0            0.0   \n",
       "1341      83.030        12314.031           0.0            0.0   \n",
       "1342      80.769        12344.692           0.0            0.0   \n",
       "\n",
       "      PitStopTime(s)  PrevLapTime(s)  LapΔ(s)  CumLapTime(s)  GapToLeader  \\\n",
       "0                0.0           0.000    0.000         91.585        0.000   \n",
       "1                0.0          83.205    9.022         92.227        0.642   \n",
       "2                0.0          81.699   11.067         92.766        1.181   \n",
       "3                0.0          82.652   10.589         93.241        1.656   \n",
       "4                0.0          83.883   10.393         94.276        2.691   \n",
       "...              ...             ...      ...            ...          ...   \n",
       "1338             0.0          83.101    0.782       6247.044       90.151   \n",
       "1339             0.0          84.122   -0.530       6261.330      104.437   \n",
       "1340             0.0          83.912   -0.362       6315.824      158.931   \n",
       "1341             0.0          82.873    0.157       6255.933       99.040   \n",
       "1342             0.0          80.548    0.221       6248.199       91.306   \n",
       "\n",
       "      Interval  Compound_HARD  Compound_INTERMEDIATE  Compound_MEDIUM  \\\n",
       "0        0.000          False                  False            False   \n",
       "1        0.642          False                  False            False   \n",
       "2        0.539          False                  False            False   \n",
       "3        0.475          False                  False            False   \n",
       "4        1.035          False                  False            False   \n",
       "...        ...            ...                    ...              ...   \n",
       "1338    -0.399          False                   True            False   \n",
       "1339    14.286          False                   True            False   \n",
       "1340    54.494          False                   True            False   \n",
       "1341   -59.891          False                   True            False   \n",
       "1342    -7.734          False                   True            False   \n",
       "\n",
       "      Compound_SOFT  Compound_WET  AirTemp  Humidity  Pressure  Rainfall  \\\n",
       "0              True         False     17.5      67.0    1007.7      True   \n",
       "1              True         False     17.5      67.0    1007.7      True   \n",
       "2              True         False     17.5      67.0    1007.7      True   \n",
       "3              True         False     17.5      67.0    1007.7      True   \n",
       "4              True         False     17.5      67.0    1007.7      True   \n",
       "...             ...           ...      ...       ...       ...       ...   \n",
       "1338          False         False     15.8      77.0    1008.2      True   \n",
       "1339          False         False     15.8      77.0    1008.2      True   \n",
       "1340          False         False     15.8      77.0    1008.2      True   \n",
       "1341          False         False     15.8      77.0    1008.2      True   \n",
       "1342          False         False     15.8      77.0    1008.2      True   \n",
       "\n",
       "      TrackTemp  WindDirection  WindSpeed       Status              Message  \\\n",
       "0          28.6            157        1.7  TRACK CLEAR  LOW GRIP CONDITIONS   \n",
       "1          28.6            157        1.7  TRACK CLEAR  LOW GRIP CONDITIONS   \n",
       "2          28.6            157        1.7  TRACK CLEAR  LOW GRIP CONDITIONS   \n",
       "3          28.6            157        1.7  TRACK CLEAR  LOW GRIP CONDITIONS   \n",
       "4          28.6            157        1.7  TRACK CLEAR  LOW GRIP CONDITIONS   \n",
       "...         ...            ...        ...          ...                  ...   \n",
       "1338       19.1            163        2.7  TRACK CLEAR       CHEQUERED FLAG   \n",
       "1339       19.1            163        2.7  TRACK CLEAR       CHEQUERED FLAG   \n",
       "1340       19.1            163        2.7  TRACK CLEAR       CHEQUERED FLAG   \n",
       "1341       19.1            163        2.7  TRACK CLEAR       CHEQUERED FLAG   \n",
       "1342       19.1            163        2.7  TRACK CLEAR       CHEQUERED FLAG   \n",
       "\n",
       "      Category_CarEvent  Category_Drs  Category_Flag  Category_Other  \\\n",
       "0                 False         False          False            True   \n",
       "1                 False         False          False            True   \n",
       "2                 False         False          False            True   \n",
       "3                 False         False          False            True   \n",
       "4                 False         False          False            True   \n",
       "...                 ...           ...            ...             ...   \n",
       "1338              False         False           True           False   \n",
       "1339              False         False           True           False   \n",
       "1340              False         False           True           False   \n",
       "1341              False         False           True           False   \n",
       "1342              False         False           True           False   \n",
       "\n",
       "      Category_SafetyCar  Flag_BLACK AND WHITE  Flag_BLUE  Flag_CHEQUERED  \\\n",
       "0                  False                 False      False           False   \n",
       "1                  False                 False      False           False   \n",
       "2                  False                 False      False           False   \n",
       "3                  False                 False      False           False   \n",
       "4                  False                 False      False           False   \n",
       "...                  ...                   ...        ...             ...   \n",
       "1338               False                 False      False            True   \n",
       "1339               False                 False      False            True   \n",
       "1340               False                 False      False            True   \n",
       "1341               False                 False      False            True   \n",
       "1342               False                 False      False            True   \n",
       "\n",
       "      Flag_CLEAR  Flag_DOUBLE YELLOW  Flag_GREEN  Flag_RED  Flag_YELLOW  \n",
       "0          False               False       False     False        False  \n",
       "1          False               False       False     False        False  \n",
       "2          False               False       False     False        False  \n",
       "3          False               False       False     False        False  \n",
       "4          False               False       False     False        False  \n",
       "...          ...                 ...         ...       ...          ...  \n",
       "1338       False               False       False     False        False  \n",
       "1339       False               False       False     False        False  \n",
       "1340       False               False       False     False        False  \n",
       "1341       False               False       False     False        False  \n",
       "1342       False               False       False     False        False  \n",
       "\n",
       "[1343 rows x 57 columns]"
      ]
     },
     "execution_count": 82,
     "metadata": {},
     "output_type": "execute_result"
    }
   ],
   "source": [
    "merged_data"
   ]
  },
  {
   "cell_type": "markdown",
   "metadata": {},
   "source": [
    "#### LAP TIME PLOTTING BETWEEN DRIVERS USING PLOTLY"
   ]
  },
  {
   "cell_type": "code",
   "execution_count": 83,
   "metadata": {},
   "outputs": [
    {
     "data": {
      "application/vnd.plotly.v1+json": {
       "config": {
        "plotlyServerURL": "https://plot.ly"
       },
       "data": [
        {
         "customdata": [
          [
           "#1634cb",
           "LAW",
           1,
           50.452,
           451.9999999999982
          ],
          [
           "#1634cb",
           "LAW",
           2,
           9.962999999999994,
           962.9999999999939
          ],
          [
           "#1634cb",
           "LAW",
           1,
           26.817999999999998,
           817.9999999999978
          ],
          [
           "#1634cb",
           "LAW",
           1,
           28.442999999999998,
           442.99999999999784
          ],
          [
           "#1634cb",
           "LAW",
           1,
           25.078999999999994,
           78.99999999999352
          ],
          [
           "#1634cb",
           "LAW",
           1,
           24.796000000000006,
           796.0000000000065
          ],
          [
           "#1634cb",
           "LAW",
           1,
           25.370000000000005,
           370.00000000000455
          ],
          [
           "#1634cb",
           "LAW",
           1,
           25.897999999999996,
           897.9999999999961
          ],
          [
           "#1634cb",
           "LAW",
           1,
           27.417,
           417.0000000000016
          ],
          [
           "#1634cb",
           "LAW",
           1,
           30.194000000000003,
           194.00000000000261
          ],
          [
           "#1634cb",
           "LAW",
           1,
           50.916,
           915.9999999999968
          ],
          [
           "#1634cb",
           "LAW",
           1,
           18.834000000000003,
           834.0000000000032
          ],
          [
           "#1634cb",
           "LAW",
           1,
           18.430000000000007,
           430.0000000000068
          ],
          [
           "#1634cb",
           "LAW",
           1,
           18.260999999999996,
           260.9999999999957
          ],
          [
           "#1634cb",
           "LAW",
           1,
           17.473,
           472.999999999999
          ],
          [
           "#1634cb",
           "LAW",
           1,
           46.185,
           185.00000000000227
          ],
          [
           "#1634cb",
           "LAW",
           1,
           54.595,
           594.9999999999989
          ],
          [
           "#1634cb",
           "LAW",
           1,
           49.79600000000001,
           796.0000000000065
          ],
          [
           "#1634cb",
           "LAW",
           1,
           48.409000000000006,
           409.000000000006
          ],
          [
           "#1634cb",
           "LAW",
           1,
           50.092,
           91.99999999999875
          ],
          [
           "#1634cb",
           "LAW",
           1,
           54.003,
           3.0000000000001137
          ],
          [
           "#1634cb",
           "LAW",
           1,
           18.516999999999996,
           516.9999999999959
          ],
          [
           "#1634cb",
           "LAW",
           1,
           18.354,
           353.9999999999992
          ],
          [
           "#1634cb",
           "LAW",
           1,
           17.626000000000005,
           626.0000000000048
          ],
          [
           "#1634cb",
           "LAW",
           1,
           18.141000000000005,
           141.00000000000534
          ],
          [
           "#1634cb",
           "LAW",
           1,
           17.742999999999995,
           742.999999999995
          ],
          [
           "#1634cb",
           "LAW",
           1,
           17.554000000000002,
           554.000000000002
          ],
          [
           "#1634cb",
           "LAW",
           1,
           17.525000000000006,
           525.0000000000057
          ],
          [
           "#1634cb",
           "LAW",
           1,
           17.593000000000004,
           593.0000000000035
          ],
          [
           "#1634cb",
           "LAW",
           1,
           17.733000000000004,
           733.0000000000041
          ],
          [
           "#1634cb",
           "LAW",
           1,
           17.583,
           582.9999999999984
          ],
          [
           "#1634cb",
           "LAW",
           1,
           17.266000000000005,
           266.00000000000534
          ],
          [
           "#1634cb",
           "LAW",
           1,
           17.546999999999997,
           546.999999999997
          ],
          [
           "#1634cb",
           "LAW",
           1,
           17.778000000000006,
           778.0000000000058
          ],
          [
           "#1634cb",
           "LAW",
           1,
           17.576999999999998,
           576.9999999999982
          ],
          [
           "#1634cb",
           "LAW",
           1,
           17.227999999999994,
           227.99999999999443
          ],
          [
           "#1634cb",
           "LAW",
           1,
           17.373000000000005,
           373.00000000000466
          ],
          [
           "#1634cb",
           "LAW",
           1,
           17.528999999999996,
           528.9999999999964
          ],
          [
           "#1634cb",
           "LAW",
           1,
           17.876000000000005,
           876.0000000000048
          ],
          [
           "#1634cb",
           "LAW",
           1,
           17.691999999999993,
           691.9999999999931
          ],
          [
           "#1634cb",
           "LAW",
           1,
           18.887,
           887.0000000000005
          ],
          [
           "#1634cb",
           "LAW",
           1,
           17.129999999999995,
           129.99999999999545
          ],
          [
           "#1634cb",
           "LAW",
           1,
           16.924999999999997,
           924.9999999999972
          ],
          [
           "#1634cb",
           "LAW",
           1,
           16.974999999999994,
           974.9999999999943
          ],
          [
           "#1634cb",
           "LAW",
           1,
           18.021,
           21.000000000000796
          ],
          [
           "#1634cb",
           "LAW",
           1,
           20.281000000000006,
           281.0000000000059
          ],
          [
           "#1634cb",
           "LAW",
           1,
           33.458,
           457.9999999999984
          ],
          [
           "#1634cb",
           "LAW",
           1,
           15.007999999999996,
           7.999999999995566
          ],
          [
           "#1634cb",
           "LAW",
           1,
           14.819999999999993,
           819.9999999999932
          ],
          [
           "#1634cb",
           "LAW",
           1,
           15.040000000000006,
           40.00000000000625
          ],
          [
           "#1634cb",
           "LAW",
           1,
           15.064999999999998,
           64.99999999999773
          ],
          [
           "#1634cb",
           "LAW",
           1,
           15.253,
           253.0000000000001
          ],
          [
           "#1634cb",
           "LAW",
           1,
           15.120000000000005,
           120.00000000000455
          ],
          [
           "#1634cb",
           "LAW",
           1,
           15.308000000000007,
           308.00000000000693
          ],
          [
           "#1634cb",
           "LAW",
           1,
           15.364000000000004,
           364.0000000000043
          ],
          [
           "#1634cb",
           "LAW",
           1,
           15.424999999999997,
           424.99999999999716
          ],
          [
           "#1634cb",
           "LAW",
           1,
           15.432000000000002,
           432.00000000000216
          ],
          [
           "#1634cb",
           "LAW",
           1,
           15.081000000000003,
           81.00000000000307
          ],
          [
           "#1634cb",
           "LAW",
           1,
           19.266000000000005,
           266.00000000000534
          ],
          [
           "#1634cb",
           "LAW",
           1,
           40.943,
           942.9999999999978
          ],
          [
           "#1634cb",
           "LAW",
           1,
           24.989000000000004,
           989.0000000000043
          ],
          [
           "#1634cb",
           "LAW",
           1,
           27.438000000000002,
           438.0000000000024
          ],
          [
           "#1634cb",
           "LAW",
           2,
           21.28800000000001,
           288.0000000000109
          ],
          [
           "#1634cb",
           "LAW",
           2,
           3.418999999999997,
           418.99999999999693
          ],
          [
           "#1634cb",
           "LAW",
           2,
           3.418999999999997,
           418.99999999999693
          ],
          [
           "#1634cb",
           "LAW",
           2,
           3.418999999999997,
           418.99999999999693
          ],
          [
           "#1634cb",
           "LAW",
           1,
           29.528000000000006,
           528.0000000000058
          ],
          [
           "#1634cb",
           "LAW",
           1,
           26.290999999999997,
           290.9999999999968
          ],
          [
           "#1634cb",
           "LAW",
           1,
           24.067999999999998,
           67.99999999999784
          ],
          [
           "#1634cb",
           "LAW",
           1,
           23.296000000000006,
           296.0000000000065
          ],
          [
           "#1634cb",
           "LAW",
           1,
           24.122,
           121.99999999999989
          ],
          [
           "#1634cb",
           "LAW",
           1,
           23.592,
           591.9999999999987
          ]
         ],
         "hovertemplate": "<b>Driver</b>: %{customdata[1]}<br><b>Lap Number</b>: %{x}<br><b>Lap Time</b>: %{customdata[2]}:%{customdata[3]:02.0f}.%{customdata[4]:03.0f}<extra></extra>",
         "legendgroup": "LAW",
         "line": {
          "color": "#1634cb",
          "dash": "solid"
         },
         "marker": {
          "symbol": "circle"
         },
         "mode": "lines+markers",
         "name": "LAW",
         "orientation": "v",
         "showlegend": true,
         "type": "scatter",
         "x": [
          1,
          2,
          3,
          4,
          5,
          6,
          7,
          8,
          9,
          10,
          11,
          12,
          13,
          14,
          15,
          16,
          17,
          18,
          19,
          20,
          21,
          22,
          23,
          24,
          25,
          26,
          27,
          28,
          29,
          30,
          31,
          32,
          33,
          34,
          35,
          36,
          37,
          38,
          39,
          40,
          41,
          42,
          43,
          44,
          45,
          46,
          47,
          48,
          49,
          50,
          51,
          52,
          53,
          54,
          55,
          56,
          57,
          58,
          59,
          60,
          61,
          62,
          63,
          64,
          65,
          66,
          67,
          68,
          69,
          70,
          71,
          72
         ],
         "xaxis": "x",
         "y": [
          110.452,
          129.963,
          86.818,
          88.443,
          85.079,
          84.796,
          85.37,
          85.898,
          87.417,
          90.194,
          110.916,
          78.834,
          78.43,
          78.261,
          77.473,
          106.185,
          114.595,
          109.796,
          108.409,
          110.092,
          114.003,
          78.517,
          78.354,
          77.626,
          78.141,
          77.743,
          77.554,
          77.525,
          77.593,
          77.733,
          77.583,
          77.266,
          77.547,
          77.778,
          77.577,
          77.228,
          77.373,
          77.529,
          77.876,
          77.692,
          78.887,
          77.13,
          76.925,
          76.975,
          78.021,
          80.281,
          93.458,
          75.008,
          74.82,
          75.04,
          75.065,
          75.253,
          75.12,
          75.308,
          75.364,
          75.425,
          75.432,
          75.081,
          79.266,
          100.943,
          84.989,
          87.438,
          141.288,
          123.419,
          123.419,
          123.419,
          89.528,
          86.291,
          84.068,
          83.296,
          84.122,
          83.592
         ],
         "yaxis": "y"
        },
        {
         "customdata": [
          [
           "#00a0dd",
           "ALB",
           1,
           34.275999999999996,
           275.99999999999625
          ],
          [
           "#00a0dd",
           "ALB",
           1,
           48.18000000000001,
           180.00000000000682
          ],
          [
           "#00a0dd",
           "ALB",
           1,
           50.236000000000004,
           236.0000000000042
          ],
          [
           "#00a0dd",
           "ALB",
           1,
           48.340999999999994,
           340.999999999994
          ],
          [
           "#00a0dd",
           "ALB",
           1,
           41.277,
           277.000000000001
          ],
          [
           "#00a0dd",
           "ALB",
           1,
           34.45099999999999,
           450.9999999999934
          ],
          [
           "#00a0dd",
           "ALB",
           1,
           26.739999999999995,
           739.9999999999949
          ],
          [
           "#00a0dd",
           "ALB",
           1,
           22.358999999999995,
           358.99999999999466
          ],
          [
           "#00a0dd",
           "ALB",
           1,
           19.783,
           783.0000000000013
          ],
          [
           "#00a0dd",
           "ALB",
           1,
           20.382999999999996,
           382.99999999999557
          ],
          [
           "#00a0dd",
           "ALB",
           1,
           17.858999999999995,
           858.9999999999947
          ],
          [
           "#00a0dd",
           "ALB",
           1,
           17.102000000000004,
           102.00000000000387
          ],
          [
           "#00a0dd",
           "ALB",
           1,
           17.081999999999994,
           81.99999999999363
          ],
          [
           "#00a0dd",
           "ALB",
           1,
           17.314999999999998,
           314.9999999999977
          ],
          [
           "#00a0dd",
           "ALB",
           1,
           17.543999999999997,
           543.9999999999969
          ],
          [
           "#00a0dd",
           "ALB",
           1,
           34.524,
           524.0000000000009
          ],
          [
           "#00a0dd",
           "ALB",
           1,
           52.736000000000004,
           736.0000000000042
          ],
          [
           "#00a0dd",
           "ALB",
           1,
           57.209,
           209.00000000000318
          ],
          [
           "#00a0dd",
           "ALB",
           2,
           0.04200000000000159,
           42.00000000000159
          ],
          [
           "#00a0dd",
           "ALB",
           1,
           56.634,
           634.0000000000003
          ],
          [
           "#00a0dd",
           "ALB",
           2,
           1.176000000000002,
           176.00000000000193
          ],
          [
           "#00a0dd",
           "ALB",
           1,
           18.652,
           652.000000000001
          ],
          [
           "#00a0dd",
           "ALB",
           1,
           17.043000000000006,
           43.00000000000637
          ],
          [
           "#00a0dd",
           "ALB",
           1,
           17.040000000000006,
           40.00000000000625
          ],
          [
           "#00a0dd",
           "ALB",
           1,
           16.227999999999994,
           227.99999999999443
          ],
          [
           "#00a0dd",
           "ALB",
           1,
           16.391000000000005,
           391.00000000000534
          ],
          [
           "#00a0dd",
           "ALB",
           1,
           16.754000000000005,
           754.0000000000049
          ],
          [
           "#00a0dd",
           "ALB",
           1,
           16.451999999999998,
           451.9999999999982
          ],
          [
           "#00a0dd",
           "ALB",
           1,
           16.299999999999997,
           299.99999999999716
          ],
          [
           "#00a0dd",
           "ALB",
           1,
           16.402,
           402.000000000001
          ],
          [
           "#00a0dd",
           "ALB",
           1,
           16.174999999999997,
           174.99999999999716
          ],
          [
           "#00a0dd",
           "ALB",
           1,
           16.147999999999996,
           147.99999999999613
          ],
          [
           "#00a0dd",
           "ALB",
           1,
           16.336,
           335.9999999999985
          ],
          [
           "#00a0dd",
           "ALB",
           1,
           16.376999999999995,
           376.99999999999534
          ],
          [
           "#00a0dd",
           "ALB",
           1,
           16.211,
           210.99999999999852
          ],
          [
           "#00a0dd",
           "ALB",
           1,
           16.251999999999995,
           251.99999999999534
          ],
          [
           "#00a0dd",
           "ALB",
           1,
           16.167,
           167.0000000000016
          ],
          [
           "#00a0dd",
           "ALB",
           1,
           16.195999999999998,
           195.99999999999795
          ],
          [
           "#00a0dd",
           "ALB",
           1,
           16.218999999999994,
           218.9999999999941
          ],
          [
           "#00a0dd",
           "ALB",
           1,
           16.206999999999994,
           206.99999999999363
          ],
          [
           "#00a0dd",
           "ALB",
           1,
           16.483999999999995,
           483.99999999999466
          ],
          [
           "#00a0dd",
           "ALB",
           1,
           16.269999999999996,
           269.999999999996
          ],
          [
           "#00a0dd",
           "ALB",
           1,
           16.364000000000004,
           364.0000000000043
          ],
          [
           "#00a0dd",
           "ALB",
           1,
           19.870000000000005,
           870.0000000000045
          ],
          [
           "#00a0dd",
           "ALB",
           1,
           34.284000000000006,
           284.000000000006
          ],
          [
           "#00a0dd",
           "ALB",
           1,
           15.363,
           362.99999999999955
          ],
          [
           "#00a0dd",
           "ALB",
           1,
           15.019000000000005,
           19.000000000005457
          ],
          [
           "#00a0dd",
           "ALB",
           1,
           15.265,
           265.00000000000057
          ],
          [
           "#00a0dd",
           "ALB",
           1,
           15.132000000000005,
           132.000000000005
          ],
          [
           "#00a0dd",
           "ALB",
           1,
           15.024000000000001,
           24.00000000000091
          ],
          [
           "#00a0dd",
           "ALB",
           1,
           14.917000000000002,
           917.0000000000016
          ],
          [
           "#00a0dd",
           "ALB",
           1,
           16.367000000000004,
           367.00000000000443
          ],
          [
           "#00a0dd",
           "ALB",
           1,
           15.396,
           396.0000000000008
          ],
          [
           "#00a0dd",
           "ALB",
           1,
           15.081999999999994,
           81.99999999999363
          ],
          [
           "#00a0dd",
           "ALB",
           1,
           14.468000000000004,
           468.0000000000035
          ],
          [
           "#00a0dd",
           "ALB",
           1,
           14.816000000000003,
           816.0000000000025
          ],
          [
           "#00a0dd",
           "ALB",
           1,
           14.709999999999994,
           709.9999999999937
          ],
          [
           "#00a0dd",
           "ALB",
           1,
           14.613,
           612.9999999999995
          ],
          [
           "#00a0dd",
           "ALB",
           1,
           14.483000000000004,
           483.0000000000041
          ],
          [
           "#00a0dd",
           "ALB",
           1,
           16.861000000000004,
           861.0000000000042
          ],
          [
           "#00a0dd",
           "ALB",
           1,
           33.95099999999999,
           950.9999999999934
          ],
          [
           "#00a0dd",
           "ALB",
           1,
           45.254999999999995,
           254.99999999999545
          ],
          [
           "#00a0dd",
           "ALB",
           1,
           56.099999999999994,
           99.99999999999432
          ],
          [
           "#00a0dd",
           "ALB",
           2,
           10.645999999999987,
           645.9999999999866
          ],
          [
           "#00a0dd",
           "ALB",
           2,
           10.645999999999987,
           645.9999999999866
          ],
          [
           "#00a0dd",
           "ALB",
           2,
           10.645999999999987,
           645.9999999999866
          ],
          [
           "#00a0dd",
           "ALB",
           1,
           28.510000000000005,
           510.0000000000051
          ],
          [
           "#00a0dd",
           "ALB",
           1,
           25.116,
           115.99999999999966
          ],
          [
           "#00a0dd",
           "ALB",
           1,
           22.887,
           887.0000000000005
          ],
          [
           "#00a0dd",
           "ALB",
           1,
           22.400999999999996,
           400.99999999999625
          ],
          [
           "#00a0dd",
           "ALB",
           1,
           22.247,
           246.9999999999999
          ],
          [
           "#00a0dd",
           "ALB",
           1,
           22.495999999999995,
           495.9999999999951
          ]
         ],
         "hovertemplate": "<b>Driver</b>: %{customdata[1]}<br><b>Lap Number</b>: %{x}<br><b>Lap Time</b>: %{customdata[2]}:%{customdata[3]:02.0f}.%{customdata[4]:03.0f}<extra></extra>",
         "legendgroup": "ALB",
         "line": {
          "color": "#00a0dd",
          "dash": "solid"
         },
         "marker": {
          "symbol": "circle"
         },
         "mode": "lines+markers",
         "name": "ALB",
         "orientation": "v",
         "showlegend": true,
         "type": "scatter",
         "x": [
          1,
          2,
          3,
          4,
          5,
          6,
          7,
          8,
          9,
          10,
          11,
          12,
          13,
          14,
          15,
          16,
          17,
          18,
          19,
          20,
          21,
          22,
          23,
          24,
          25,
          26,
          27,
          28,
          29,
          30,
          31,
          32,
          33,
          34,
          35,
          36,
          37,
          38,
          39,
          40,
          41,
          42,
          43,
          44,
          45,
          46,
          47,
          48,
          49,
          50,
          51,
          52,
          53,
          54,
          55,
          56,
          57,
          58,
          59,
          60,
          61,
          62,
          63,
          64,
          65,
          66,
          67,
          68,
          69,
          70,
          71,
          72
         ],
         "xaxis": "x",
         "y": [
          94.276,
          108.18,
          110.236,
          108.341,
          101.277,
          94.451,
          86.74,
          82.359,
          79.783,
          80.383,
          77.859,
          77.102,
          77.082,
          77.315,
          77.544,
          94.524,
          112.736,
          117.209,
          120.042,
          116.634,
          121.176,
          78.652,
          77.043,
          77.04,
          76.228,
          76.391,
          76.754,
          76.452,
          76.3,
          76.402,
          76.175,
          76.148,
          76.336,
          76.377,
          76.211,
          76.252,
          76.167,
          76.196,
          76.219,
          76.207,
          76.484,
          76.27,
          76.364,
          79.87,
          94.284,
          75.363,
          75.019,
          75.265,
          75.132,
          75.024,
          74.917,
          76.367,
          75.396,
          75.082,
          74.468,
          74.816,
          74.71,
          74.613,
          74.483,
          76.861,
          93.951,
          105.255,
          116.1,
          130.646,
          130.646,
          130.646,
          88.51,
          85.116,
          82.887,
          82.401,
          82.247,
          82.496
         ],
         "yaxis": "y"
        }
       ],
       "layout": {
        "legend": {
         "title": {
          "text": "Driver"
         },
         "tracegroupgap": 0
        },
        "template": {
         "data": {
          "bar": [
           {
            "error_x": {
             "color": "#2a3f5f"
            },
            "error_y": {
             "color": "#2a3f5f"
            },
            "marker": {
             "line": {
              "color": "#E5ECF6",
              "width": 0.5
             },
             "pattern": {
              "fillmode": "overlay",
              "size": 10,
              "solidity": 0.2
             }
            },
            "type": "bar"
           }
          ],
          "barpolar": [
           {
            "marker": {
             "line": {
              "color": "#E5ECF6",
              "width": 0.5
             },
             "pattern": {
              "fillmode": "overlay",
              "size": 10,
              "solidity": 0.2
             }
            },
            "type": "barpolar"
           }
          ],
          "carpet": [
           {
            "aaxis": {
             "endlinecolor": "#2a3f5f",
             "gridcolor": "white",
             "linecolor": "white",
             "minorgridcolor": "white",
             "startlinecolor": "#2a3f5f"
            },
            "baxis": {
             "endlinecolor": "#2a3f5f",
             "gridcolor": "white",
             "linecolor": "white",
             "minorgridcolor": "white",
             "startlinecolor": "#2a3f5f"
            },
            "type": "carpet"
           }
          ],
          "choropleth": [
           {
            "colorbar": {
             "outlinewidth": 0,
             "ticks": ""
            },
            "type": "choropleth"
           }
          ],
          "contour": [
           {
            "colorbar": {
             "outlinewidth": 0,
             "ticks": ""
            },
            "colorscale": [
             [
              0,
              "#0d0887"
             ],
             [
              0.1111111111111111,
              "#46039f"
             ],
             [
              0.2222222222222222,
              "#7201a8"
             ],
             [
              0.3333333333333333,
              "#9c179e"
             ],
             [
              0.4444444444444444,
              "#bd3786"
             ],
             [
              0.5555555555555556,
              "#d8576b"
             ],
             [
              0.6666666666666666,
              "#ed7953"
             ],
             [
              0.7777777777777778,
              "#fb9f3a"
             ],
             [
              0.8888888888888888,
              "#fdca26"
             ],
             [
              1,
              "#f0f921"
             ]
            ],
            "type": "contour"
           }
          ],
          "contourcarpet": [
           {
            "colorbar": {
             "outlinewidth": 0,
             "ticks": ""
            },
            "type": "contourcarpet"
           }
          ],
          "heatmap": [
           {
            "colorbar": {
             "outlinewidth": 0,
             "ticks": ""
            },
            "colorscale": [
             [
              0,
              "#0d0887"
             ],
             [
              0.1111111111111111,
              "#46039f"
             ],
             [
              0.2222222222222222,
              "#7201a8"
             ],
             [
              0.3333333333333333,
              "#9c179e"
             ],
             [
              0.4444444444444444,
              "#bd3786"
             ],
             [
              0.5555555555555556,
              "#d8576b"
             ],
             [
              0.6666666666666666,
              "#ed7953"
             ],
             [
              0.7777777777777778,
              "#fb9f3a"
             ],
             [
              0.8888888888888888,
              "#fdca26"
             ],
             [
              1,
              "#f0f921"
             ]
            ],
            "type": "heatmap"
           }
          ],
          "heatmapgl": [
           {
            "colorbar": {
             "outlinewidth": 0,
             "ticks": ""
            },
            "colorscale": [
             [
              0,
              "#0d0887"
             ],
             [
              0.1111111111111111,
              "#46039f"
             ],
             [
              0.2222222222222222,
              "#7201a8"
             ],
             [
              0.3333333333333333,
              "#9c179e"
             ],
             [
              0.4444444444444444,
              "#bd3786"
             ],
             [
              0.5555555555555556,
              "#d8576b"
             ],
             [
              0.6666666666666666,
              "#ed7953"
             ],
             [
              0.7777777777777778,
              "#fb9f3a"
             ],
             [
              0.8888888888888888,
              "#fdca26"
             ],
             [
              1,
              "#f0f921"
             ]
            ],
            "type": "heatmapgl"
           }
          ],
          "histogram": [
           {
            "marker": {
             "pattern": {
              "fillmode": "overlay",
              "size": 10,
              "solidity": 0.2
             }
            },
            "type": "histogram"
           }
          ],
          "histogram2d": [
           {
            "colorbar": {
             "outlinewidth": 0,
             "ticks": ""
            },
            "colorscale": [
             [
              0,
              "#0d0887"
             ],
             [
              0.1111111111111111,
              "#46039f"
             ],
             [
              0.2222222222222222,
              "#7201a8"
             ],
             [
              0.3333333333333333,
              "#9c179e"
             ],
             [
              0.4444444444444444,
              "#bd3786"
             ],
             [
              0.5555555555555556,
              "#d8576b"
             ],
             [
              0.6666666666666666,
              "#ed7953"
             ],
             [
              0.7777777777777778,
              "#fb9f3a"
             ],
             [
              0.8888888888888888,
              "#fdca26"
             ],
             [
              1,
              "#f0f921"
             ]
            ],
            "type": "histogram2d"
           }
          ],
          "histogram2dcontour": [
           {
            "colorbar": {
             "outlinewidth": 0,
             "ticks": ""
            },
            "colorscale": [
             [
              0,
              "#0d0887"
             ],
             [
              0.1111111111111111,
              "#46039f"
             ],
             [
              0.2222222222222222,
              "#7201a8"
             ],
             [
              0.3333333333333333,
              "#9c179e"
             ],
             [
              0.4444444444444444,
              "#bd3786"
             ],
             [
              0.5555555555555556,
              "#d8576b"
             ],
             [
              0.6666666666666666,
              "#ed7953"
             ],
             [
              0.7777777777777778,
              "#fb9f3a"
             ],
             [
              0.8888888888888888,
              "#fdca26"
             ],
             [
              1,
              "#f0f921"
             ]
            ],
            "type": "histogram2dcontour"
           }
          ],
          "mesh3d": [
           {
            "colorbar": {
             "outlinewidth": 0,
             "ticks": ""
            },
            "type": "mesh3d"
           }
          ],
          "parcoords": [
           {
            "line": {
             "colorbar": {
              "outlinewidth": 0,
              "ticks": ""
             }
            },
            "type": "parcoords"
           }
          ],
          "pie": [
           {
            "automargin": true,
            "type": "pie"
           }
          ],
          "scatter": [
           {
            "fillpattern": {
             "fillmode": "overlay",
             "size": 10,
             "solidity": 0.2
            },
            "type": "scatter"
           }
          ],
          "scatter3d": [
           {
            "line": {
             "colorbar": {
              "outlinewidth": 0,
              "ticks": ""
             }
            },
            "marker": {
             "colorbar": {
              "outlinewidth": 0,
              "ticks": ""
             }
            },
            "type": "scatter3d"
           }
          ],
          "scattercarpet": [
           {
            "marker": {
             "colorbar": {
              "outlinewidth": 0,
              "ticks": ""
             }
            },
            "type": "scattercarpet"
           }
          ],
          "scattergeo": [
           {
            "marker": {
             "colorbar": {
              "outlinewidth": 0,
              "ticks": ""
             }
            },
            "type": "scattergeo"
           }
          ],
          "scattergl": [
           {
            "marker": {
             "colorbar": {
              "outlinewidth": 0,
              "ticks": ""
             }
            },
            "type": "scattergl"
           }
          ],
          "scattermapbox": [
           {
            "marker": {
             "colorbar": {
              "outlinewidth": 0,
              "ticks": ""
             }
            },
            "type": "scattermapbox"
           }
          ],
          "scatterpolar": [
           {
            "marker": {
             "colorbar": {
              "outlinewidth": 0,
              "ticks": ""
             }
            },
            "type": "scatterpolar"
           }
          ],
          "scatterpolargl": [
           {
            "marker": {
             "colorbar": {
              "outlinewidth": 0,
              "ticks": ""
             }
            },
            "type": "scatterpolargl"
           }
          ],
          "scatterternary": [
           {
            "marker": {
             "colorbar": {
              "outlinewidth": 0,
              "ticks": ""
             }
            },
            "type": "scatterternary"
           }
          ],
          "surface": [
           {
            "colorbar": {
             "outlinewidth": 0,
             "ticks": ""
            },
            "colorscale": [
             [
              0,
              "#0d0887"
             ],
             [
              0.1111111111111111,
              "#46039f"
             ],
             [
              0.2222222222222222,
              "#7201a8"
             ],
             [
              0.3333333333333333,
              "#9c179e"
             ],
             [
              0.4444444444444444,
              "#bd3786"
             ],
             [
              0.5555555555555556,
              "#d8576b"
             ],
             [
              0.6666666666666666,
              "#ed7953"
             ],
             [
              0.7777777777777778,
              "#fb9f3a"
             ],
             [
              0.8888888888888888,
              "#fdca26"
             ],
             [
              1,
              "#f0f921"
             ]
            ],
            "type": "surface"
           }
          ],
          "table": [
           {
            "cells": {
             "fill": {
              "color": "#EBF0F8"
             },
             "line": {
              "color": "white"
             }
            },
            "header": {
             "fill": {
              "color": "#C8D4E3"
             },
             "line": {
              "color": "white"
             }
            },
            "type": "table"
           }
          ]
         },
         "layout": {
          "annotationdefaults": {
           "arrowcolor": "#2a3f5f",
           "arrowhead": 0,
           "arrowwidth": 1
          },
          "autotypenumbers": "strict",
          "coloraxis": {
           "colorbar": {
            "outlinewidth": 0,
            "ticks": ""
           }
          },
          "colorscale": {
           "diverging": [
            [
             0,
             "#8e0152"
            ],
            [
             0.1,
             "#c51b7d"
            ],
            [
             0.2,
             "#de77ae"
            ],
            [
             0.3,
             "#f1b6da"
            ],
            [
             0.4,
             "#fde0ef"
            ],
            [
             0.5,
             "#f7f7f7"
            ],
            [
             0.6,
             "#e6f5d0"
            ],
            [
             0.7,
             "#b8e186"
            ],
            [
             0.8,
             "#7fbc41"
            ],
            [
             0.9,
             "#4d9221"
            ],
            [
             1,
             "#276419"
            ]
           ],
           "sequential": [
            [
             0,
             "#0d0887"
            ],
            [
             0.1111111111111111,
             "#46039f"
            ],
            [
             0.2222222222222222,
             "#7201a8"
            ],
            [
             0.3333333333333333,
             "#9c179e"
            ],
            [
             0.4444444444444444,
             "#bd3786"
            ],
            [
             0.5555555555555556,
             "#d8576b"
            ],
            [
             0.6666666666666666,
             "#ed7953"
            ],
            [
             0.7777777777777778,
             "#fb9f3a"
            ],
            [
             0.8888888888888888,
             "#fdca26"
            ],
            [
             1,
             "#f0f921"
            ]
           ],
           "sequentialminus": [
            [
             0,
             "#0d0887"
            ],
            [
             0.1111111111111111,
             "#46039f"
            ],
            [
             0.2222222222222222,
             "#7201a8"
            ],
            [
             0.3333333333333333,
             "#9c179e"
            ],
            [
             0.4444444444444444,
             "#bd3786"
            ],
            [
             0.5555555555555556,
             "#d8576b"
            ],
            [
             0.6666666666666666,
             "#ed7953"
            ],
            [
             0.7777777777777778,
             "#fb9f3a"
            ],
            [
             0.8888888888888888,
             "#fdca26"
            ],
            [
             1,
             "#f0f921"
            ]
           ]
          },
          "colorway": [
           "#636efa",
           "#EF553B",
           "#00cc96",
           "#ab63fa",
           "#FFA15A",
           "#19d3f3",
           "#FF6692",
           "#B6E880",
           "#FF97FF",
           "#FECB52"
          ],
          "font": {
           "color": "#2a3f5f"
          },
          "geo": {
           "bgcolor": "white",
           "lakecolor": "white",
           "landcolor": "#E5ECF6",
           "showlakes": true,
           "showland": true,
           "subunitcolor": "white"
          },
          "hoverlabel": {
           "align": "left"
          },
          "hovermode": "closest",
          "mapbox": {
           "style": "light"
          },
          "paper_bgcolor": "white",
          "plot_bgcolor": "#E5ECF6",
          "polar": {
           "angularaxis": {
            "gridcolor": "white",
            "linecolor": "white",
            "ticks": ""
           },
           "bgcolor": "#E5ECF6",
           "radialaxis": {
            "gridcolor": "white",
            "linecolor": "white",
            "ticks": ""
           }
          },
          "scene": {
           "xaxis": {
            "backgroundcolor": "#E5ECF6",
            "gridcolor": "white",
            "gridwidth": 2,
            "linecolor": "white",
            "showbackground": true,
            "ticks": "",
            "zerolinecolor": "white"
           },
           "yaxis": {
            "backgroundcolor": "#E5ECF6",
            "gridcolor": "white",
            "gridwidth": 2,
            "linecolor": "white",
            "showbackground": true,
            "ticks": "",
            "zerolinecolor": "white"
           },
           "zaxis": {
            "backgroundcolor": "#E5ECF6",
            "gridcolor": "white",
            "gridwidth": 2,
            "linecolor": "white",
            "showbackground": true,
            "ticks": "",
            "zerolinecolor": "white"
           }
          },
          "shapedefaults": {
           "line": {
            "color": "#2a3f5f"
           }
          },
          "ternary": {
           "aaxis": {
            "gridcolor": "white",
            "linecolor": "white",
            "ticks": ""
           },
           "baxis": {
            "gridcolor": "white",
            "linecolor": "white",
            "ticks": ""
           },
           "bgcolor": "#E5ECF6",
           "caxis": {
            "gridcolor": "white",
            "linecolor": "white",
            "ticks": ""
           }
          },
          "title": {
           "x": 0.05
          },
          "xaxis": {
           "automargin": true,
           "gridcolor": "white",
           "linecolor": "white",
           "ticks": "",
           "title": {
            "standoff": 15
           },
           "zerolinecolor": "white",
           "zerolinewidth": 2
          },
          "yaxis": {
           "automargin": true,
           "gridcolor": "white",
           "linecolor": "white",
           "ticks": "",
           "title": {
            "standoff": 15
           },
           "zerolinecolor": "white",
           "zerolinewidth": 2
          }
         }
        },
        "title": {
         "text": "Lap Time Evolution"
        },
        "xaxis": {
         "anchor": "y",
         "domain": [
          0,
          1
         ],
         "title": {
          "text": "Lap Number"
         }
        },
        "yaxis": {
         "anchor": "x",
         "domain": [
          0,
          1
         ],
         "ticktext": [
          "0:00.000",
          "0:10.000",
          "0:20.000",
          "0:30.000",
          "0:40.000",
          "0:50.000",
          "1:00.000",
          "1:10.000",
          "1:20.000",
          "1:30.000",
          "1:40.000",
          "1:50.000",
          "2:00.000",
          "2:10.000",
          "2:20.000",
          "2:30.000"
         ],
         "tickvals": [
          0,
          10,
          20,
          30,
          40,
          50,
          60,
          70,
          80,
          90,
          100,
          110,
          120,
          130,
          140,
          150
         ],
         "title": {
          "text": "Lap Time (min:sec.msec)"
         }
        }
       }
      }
     },
     "metadata": {},
     "output_type": "display_data"
    }
   ],
   "source": [
    "# Format y-axis labels in intervals of 10 seconds\n",
    "def format_yaxis_labels(value):\n",
    "    minutes = int(value // 60)\n",
    "    seconds = int(value % 60)\n",
    "    milliseconds = int((value % 1) * 1000)\n",
    "    return f'{minutes}:{seconds:02}.{milliseconds:03}'\n",
    "\n",
    "# Prepare data for plotting\n",
    "plot_data_list = []\n",
    "for driver in drivers_to_plot:\n",
    "    driver_data = merged_data[merged_data['Driver'] == driver].copy()\n",
    "    driver_data['LapTime_sec'] = driver_data['LapTime'].dt.total_seconds()\n",
    "    driver_data['TeamColor'] = get_team_color(driver)\n",
    "    driver_data['Minutes'] = driver_data['LapTime_sec'] // 60\n",
    "    driver_data['Seconds'] = driver_data['LapTime_sec'] % 60\n",
    "    driver_data['Milliseconds'] = (driver_data['LapTime_sec'] % 1) * 1000\n",
    "    plot_data_list.append(driver_data)\n",
    "\n",
    "plot_data = pd.concat(plot_data_list, ignore_index=True)\n",
    "\n",
    "# Determine y-axis tick values for intervals of 10 seconds\n",
    "max_lap_time_sec = plot_data['LapTime_sec'].max()\n",
    "y_tick_values = list(range(0, int(max_lap_time_sec) + 10, 10))\n",
    "\n",
    "# Create line plot with markers\n",
    "fig = px.line(\n",
    "    plot_data,\n",
    "    x='LapNumber',\n",
    "    y='LapTime_sec',\n",
    "    color='Driver',\n",
    "    hover_data={\n",
    "        'LapTime_sec': False,  # We'll customize this below\n",
    "        'LapNumber': True,\n",
    "        'TeamColor': False,\n",
    "        'Driver': True,\n",
    "        'Minutes': True,\n",
    "        'Seconds': True,\n",
    "        'Milliseconds': True\n",
    "    },\n",
    "    title='Lap Time Evolution',\n",
    "    labels={\n",
    "        'LapNumber': 'Lap Number',\n",
    "        'LapTime_sec': 'Lap Time'\n",
    "    },\n",
    "    markers=True,\n",
    "    color_discrete_map={driver: get_team_color(driver) for driver in drivers_to_plot}\n",
    ")\n",
    "\n",
    "# Update hover template to format lap time\n",
    "fig.update_traces(\n",
    "    hovertemplate='<b>Driver</b>: %{customdata[1]}<br>' +\n",
    "                  '<b>Lap Number</b>: %{x}<br>' +\n",
    "                  '<b>Lap Time</b>: %{customdata[2]}:%{customdata[3]:02.0f}.%{customdata[4]:03.0f}<extra></extra>'\n",
    ")\n",
    "\n",
    "# Update y-axis to use formatted labels at 10-second intervals\n",
    "fig.update_yaxes(\n",
    "    tickvals=y_tick_values,\n",
    "    ticktext=[format_yaxis_labels(val) for val in y_tick_values],\n",
    "    title='Lap Time (min:sec.msec)'\n",
    ")\n",
    "\n",
    "# Show plot\n",
    "fig.show()"
   ]
  },
  {
   "cell_type": "code",
   "execution_count": null,
   "metadata": {},
   "outputs": [],
   "source": []
  }
 ],
 "metadata": {
  "kernelspec": {
   "display_name": ".venv",
   "language": "python",
   "name": "python3"
  },
  "language_info": {
   "codemirror_mode": {
    "name": "ipython",
    "version": 3
   },
   "file_extension": ".py",
   "mimetype": "text/x-python",
   "name": "python",
   "nbconvert_exporter": "python",
   "pygments_lexer": "ipython3",
   "version": "3.12.3"
  }
 },
 "nbformat": 4,
 "nbformat_minor": 2
}
