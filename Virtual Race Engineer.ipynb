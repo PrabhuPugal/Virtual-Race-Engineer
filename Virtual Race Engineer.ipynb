{
 "cells": [
  {
   "cell_type": "markdown",
   "metadata": {},
   "source": [
    "# **VIRTUAL RACE ENGINEER**"
   ]
  },
  {
   "cell_type": "code",
   "execution_count": 1,
   "metadata": {},
   "outputs": [
    {
     "name": "stderr",
     "output_type": "stream",
     "text": [
      "d:\\Prabhu\\SEM 7\\F1 Data\\.venv\\Lib\\site-packages\\fastf1\\api.py:32: UserWarning: `fastf1.api` will be considered private in future releases and potentially be removed or changed!\n",
      "  warnings.warn(\"`fastf1.api` will be considered private in future releases and \"\n"
     ]
    }
   ],
   "source": [
    "import fastf1 as ff\n",
    "import numpy as np\n",
    "import pandas as pd\n",
    "import matplotlib.pyplot as plt\n",
    "import fastf1.plotting\n",
    "fastf1.plotting.setup_mpl()\n",
    "import fastf1.api as fap\n",
    "fastf1.Cache.enable_cache(r\"D:\\Prabhu\\SEM 7\\F1 Data\")"
   ]
  },
  {
   "cell_type": "code",
   "execution_count": null,
   "metadata": {},
   "outputs": [],
   "source": []
  }
 ],
 "metadata": {
  "kernelspec": {
   "display_name": ".venv",
   "language": "python",
   "name": "python3"
  },
  "language_info": {
   "codemirror_mode": {
    "name": "ipython",
    "version": 3
   },
   "file_extension": ".py",
   "mimetype": "text/x-python",
   "name": "python",
   "nbconvert_exporter": "python",
   "pygments_lexer": "ipython3",
   "version": "3.12.3"
  }
 },
 "nbformat": 4,
 "nbformat_minor": 2
}
