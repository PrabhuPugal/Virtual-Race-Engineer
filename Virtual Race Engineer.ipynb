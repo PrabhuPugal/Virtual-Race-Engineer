{
 "cells": [
  {
   "cell_type": "markdown",
   "metadata": {},
   "source": [
    "# **VIRTUAL RACE ENGINEER**"
   ]
  },
  {
   "cell_type": "code",
   "execution_count": 2,
   "metadata": {},
   "outputs": [
    {
     "name": "stderr",
     "output_type": "stream",
     "text": [
      "d:\\Prabhu\\SEM 7\\F1 Data\\.venv\\Lib\\site-packages\\fastf1\\api.py:32: UserWarning: `fastf1.api` will be considered private in future releases and potentially be removed or changed!\n",
      "  warnings.warn(\"`fastf1.api` will be considered private in future releases and \"\n"
     ]
    }
   ],
   "source": [
    "import fastf1 as ff\n",
    "import numpy as np\n",
    "import pandas as pd\n",
    "import matplotlib.pyplot as plt\n",
    "import fastf1.plotting\n",
    "fastf1.plotting.setup_mpl()\n",
    "import fastf1.api as fap\n",
    "fastf1.Cache.enable_cache(r\"D:\\Prabhu\\SEM 7\\F1 Data\")\n",
    "import re"
   ]
  },
  {
   "cell_type": "markdown",
   "metadata": {},
   "source": [
    "### LOADING SESSION"
   ]
  },
  {
   "cell_type": "code",
   "execution_count": 3,
   "metadata": {},
   "outputs": [
    {
     "name": "stderr",
     "output_type": "stream",
     "text": [
      "core           INFO \tLoading data for Dutch Grand Prix - Race [v3.3.7]\n",
      "req            INFO \tUsing cached data for session_info\n",
      "req            INFO \tUsing cached data for driver_info\n",
      "req            INFO \tUsing cached data for session_status_data\n",
      "req            INFO \tUsing cached data for lap_count\n",
      "req            INFO \tUsing cached data for track_status_data\n",
      "req            INFO \tUsing cached data for _extended_timing_data\n",
      "req            INFO \tUsing cached data for timing_app_data\n",
      "core           INFO \tProcessing timing data...\n",
      "req            INFO \tUsing cached data for car_data\n",
      "req            INFO \tUsing cached data for position_data\n",
      "req            INFO \tUsing cached data for weather_data\n",
      "req            INFO \tUsing cached data for race_control_messages\n",
      "core           INFO \tFinished loading data for 20 drivers: ['1', '14', '10', '11', '55', '44', '4', '23', '81', '31', '18', '27', '40', '77', '22', '20', '63', '24', '16', '2']\n"
     ]
    }
   ],
   "source": [
    "session = ff.get_session(2023,'Dutch','R')\n",
    "session.load()"
   ]
  },
  {
   "cell_type": "code",
   "execution_count": 4,
   "metadata": {},
   "outputs": [],
   "source": [
    "laps=session.laps\n",
    "drivers=laps['Driver'].unique()"
   ]
  },
  {
   "cell_type": "markdown",
   "metadata": {},
   "source": [
    "### FETCHING TELEMETRY DATA"
   ]
  },
  {
   "cell_type": "code",
   "execution_count": 44,
   "metadata": {},
   "outputs": [],
   "source": [
    "total_telemetry=[]\n",
    "for i in drivers:\n",
    "    drivers_laps=laps.pick_driver(i)\n",
    "    driver_telemetry=drivers_laps.get_car_data()\n",
    "\n",
    "    driver_telemetry['Driver']=i\n",
    "    total_telemetry.append(driver_telemetry)\n",
    "telemetry=pd.concat(total_telemetry,ignore_index=True)\n"
   ]
  },
  {
   "cell_type": "markdown",
   "metadata": {},
   "source": [
    "### FETCHING WEATHER,TYRE,LAP AND POSITION DATA "
   ]
  },
  {
   "cell_type": "code",
   "execution_count": 45,
   "metadata": {},
   "outputs": [
    {
     "name": "stderr",
     "output_type": "stream",
     "text": [
      "req            INFO \tUsing cached data for weather_data\n"
     ]
    }
   ],
   "source": [
    "weather_data=pd.DataFrame(fap.weather_data(session.api_path))\n",
    "tyre_data = laps[['Driver', 'LapNumber', 'Compound', 'FreshTyre','TyreLife']]\n",
    "lap_data=laps[['Driver','LapNumber','LapTime','Sector1Time','Sector2Time','Sector3Time','IsAccurate']]\n",
    "position_data=laps[['Driver','LapNumber','Position']]"
   ]
  },
  {
   "cell_type": "markdown",
   "metadata": {},
   "source": [
    "### FETCHING RACE CONTROL MESSAGES"
   ]
  },
  {
   "cell_type": "code",
   "execution_count": 41,
   "metadata": {},
   "outputs": [
    {
     "name": "stderr",
     "output_type": "stream",
     "text": [
      "req            INFO \tUsing cached data for race_control_messages\n"
     ]
    }
   ],
   "source": [
    "rcm_data = pd.DataFrame(fap.race_control_messages(session.api_path))\n",
    "msg=rcm_data[['Time','Status','Message']]\n",
    "\n",
    "#Filter for Yellow, Red, VSC, SC \n",
    "yellow_flags_key=['YELLOW','DOUBLE YELLOW']\n",
    "red_flags_key=['RED']\n",
    "vsc_key=['VSC','VIRTUAL SAFETY CAR']\n",
    "sc_key=['SC','SAFETY CAR']\n",
    "\n",
    "#Searching using the keyword in REGEX\n",
    "yellow_flags = msg[msg['Message'].apply(lambda x: any(re.search(r'\\b{}\\b'.format(keyword), x) for keyword in yellow_flags_key))]\n",
    "red_flags = msg[msg['Message'].apply(lambda x: any(re.search(r'\\b{}\\b'.format(keyword), x) for keyword in red_flags_key))]\n",
    "vsc = msg[msg['Message'].apply(lambda x: any(re.search(r'\\b{}\\b'.format(keyword), x) for keyword in vsc_key))]\n",
    "sc = msg[msg['Message'].apply(lambda x: any(re.search(r'\\b{}\\b'.format(keyword), x) for keyword in sc_key))]\n"
   ]
  },
  {
   "cell_type": "code",
   "execution_count": null,
   "metadata": {},
   "outputs": [],
   "source": []
  }
 ],
 "metadata": {
  "kernelspec": {
   "display_name": ".venv",
   "language": "python",
   "name": "python3"
  },
  "language_info": {
   "codemirror_mode": {
    "name": "ipython",
    "version": 3
   },
   "file_extension": ".py",
   "mimetype": "text/x-python",
   "name": "python",
   "nbconvert_exporter": "python",
   "pygments_lexer": "ipython3",
   "version": "3.12.3"
  }
 },
 "nbformat": 4,
 "nbformat_minor": 2
}
