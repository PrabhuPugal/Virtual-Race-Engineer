{
 "cells": [
  {
   "cell_type": "markdown",
   "metadata": {},
   "source": [
    "# **VIRTUAL RACE ENGINEER**"
   ]
  },
  {
   "cell_type": "code",
   "execution_count": 93,
   "metadata": {},
   "outputs": [],
   "source": [
    "import fastf1 as ff\n",
    "import numpy as np\n",
    "import pandas as pd\n",
    "import matplotlib.pyplot as plt\n",
    "import fastf1.plotting\n",
    "fastf1.plotting.setup_mpl()\n",
    "import fastf1.api as fap\n",
    "fastf1.Cache.enable_cache(r\"D:\\Prabhu\\SEM 7\\F1 Data\")\n",
    "import re\n",
    "import datetime as dt\n"
   ]
  },
  {
   "cell_type": "markdown",
   "metadata": {},
   "source": [
    "### LOADING SESSION"
   ]
  },
  {
   "cell_type": "code",
   "execution_count": 87,
   "metadata": {},
   "outputs": [
    {
     "name": "stderr",
     "output_type": "stream",
     "text": [
      "core           INFO \tLoading data for Dutch Grand Prix - Race [v3.3.7]\n",
      "req            INFO \tUsing cached data for session_info\n",
      "req            INFO \tUsing cached data for driver_info\n",
      "req            INFO \tUsing cached data for session_status_data\n",
      "req            INFO \tUsing cached data for lap_count\n",
      "req            INFO \tUsing cached data for track_status_data\n",
      "req            INFO \tUsing cached data for _extended_timing_data\n",
      "req            INFO \tUsing cached data for timing_app_data\n",
      "core           INFO \tProcessing timing data...\n",
      "req            INFO \tUsing cached data for car_data\n",
      "req            INFO \tUsing cached data for position_data\n",
      "req            INFO \tUsing cached data for weather_data\n",
      "req            INFO \tUsing cached data for race_control_messages\n",
      "core           INFO \tFinished loading data for 20 drivers: ['1', '14', '10', '11', '55', '44', '4', '23', '81', '31', '18', '27', '40', '77', '22', '20', '63', '24', '16', '2']\n"
     ]
    }
   ],
   "source": [
    "session = ff.get_session(2023,'Dutch','R')\n",
    "session.load()"
   ]
  },
  {
   "cell_type": "code",
   "execution_count": 88,
   "metadata": {},
   "outputs": [],
   "source": [
    "laps=session.laps\n",
    "drivers=laps['Driver'].unique()"
   ]
  },
  {
   "cell_type": "markdown",
   "metadata": {},
   "source": [
    "### FETCHING TELEMETRY DATA"
   ]
  },
  {
   "cell_type": "code",
   "execution_count": 89,
   "metadata": {},
   "outputs": [],
   "source": [
    "total_telemetry=[]\n",
    "for i in drivers:\n",
    "    drivers_laps=laps.pick_driver(i)\n",
    "    driver_telemetry=drivers_laps.get_car_data()\n",
    "\n",
    "    driver_telemetry['Driver']=i\n",
    "    total_telemetry.append(driver_telemetry)\n",
    "telemetry=pd.concat(total_telemetry,ignore_index=True)\n"
   ]
  },
  {
   "cell_type": "markdown",
   "metadata": {},
   "source": [
    "### FETCHING WEATHER,TYRE,LAP AND POSITION DATA "
   ]
  },
  {
   "cell_type": "code",
   "execution_count": 90,
   "metadata": {},
   "outputs": [
    {
     "name": "stderr",
     "output_type": "stream",
     "text": [
      "req            INFO \tUsing cached data for weather_data\n"
     ]
    }
   ],
   "source": [
    "weather_data=pd.DataFrame(fap.weather_data(session.api_path))\n",
    "tyre_data = laps[['Driver', 'LapNumber', 'Compound', 'FreshTyre','TyreLife']]\n",
    "lap_data=laps[['Driver','LapNumber','LapTime','Sector1Time','Sector2Time','Sector3Time','IsAccurate']]\n",
    "position_data=laps[['Driver','LapNumber','Position']]"
   ]
  },
  {
   "cell_type": "markdown",
   "metadata": {},
   "source": [
    "### FETCHING RACE CONTROL MESSAGES"
   ]
  },
  {
   "cell_type": "code",
   "execution_count": 91,
   "metadata": {},
   "outputs": [
    {
     "name": "stderr",
     "output_type": "stream",
     "text": [
      "req            INFO \tUsing cached data for race_control_messages\n"
     ]
    }
   ],
   "source": [
    "rcm_data = pd.DataFrame(fap.race_control_messages(session.api_path))\n",
    "msg=rcm_data[['Time','Status','Message']]\n",
    "\n",
    "#Filter for Yellow, Red, VSC, SC \n",
    "yellow_flags_key=['YELLOW','DOUBLE YELLOW']\n",
    "red_flags_key=['RED']\n",
    "vsc_key=['VSC','VIRTUAL SAFETY CAR']\n",
    "sc_key=['SC','SAFETY CAR']\n",
    "\n",
    "#Searching using the keyword in REGEX\n",
    "yellow_flags = msg[msg['Message'].apply(lambda x: any(re.search(r'\\b{}\\b'.format(keyword), x) for keyword in yellow_flags_key))]\n",
    "red_flags = msg[msg['Message'].apply(lambda x: any(re.search(r'\\b{}\\b'.format(keyword), x) for keyword in red_flags_key))]\n",
    "vsc = msg[msg['Message'].apply(lambda x: any(re.search(r'\\b{}\\b'.format(keyword), x) for keyword in vsc_key))]\n",
    "sc = msg[msg['Message'].apply(lambda x: any(re.search(r'\\b{}\\b'.format(keyword), x) for keyword in sc_key))]\n"
   ]
  },
  {
   "cell_type": "markdown",
   "metadata": {},
   "source": [
    "### FETCHING LAP DATA (PITS STOPS, DRIVER POSITION ETC.)"
   ]
  },
  {
   "cell_type": "code",
   "execution_count": 94,
   "metadata": {},
   "outputs": [
    {
     "name": "stderr",
     "output_type": "stream",
     "text": [
      "req            INFO \tUsing cached data for _extended_timing_data\n"
     ]
    },
    {
     "name": "stderr",
     "output_type": "stream",
     "text": [
      "C:\\Users\\prabh\\AppData\\Local\\Temp\\ipykernel_11276\\3235686768.py:7: SettingWithCopyWarning: \n",
      "A value is trying to be set on a copy of a slice from a DataFrame.\n",
      "Try using .loc[row_indexer,col_indexer] = value instead\n",
      "\n",
      "See the caveats in the documentation: https://pandas.pydata.org/pandas-docs/stable/user_guide/indexing.html#returning-a-view-versus-a-copy\n",
      "  laps_data['PitInTimeSec']=laps_data['PitInTime'].dt.total_seconds()\n",
      "C:\\Users\\prabh\\AppData\\Local\\Temp\\ipykernel_11276\\3235686768.py:8: SettingWithCopyWarning: \n",
      "A value is trying to be set on a copy of a slice from a DataFrame.\n",
      "Try using .loc[row_indexer,col_indexer] = value instead\n",
      "\n",
      "See the caveats in the documentation: https://pandas.pydata.org/pandas-docs/stable/user_guide/indexing.html#returning-a-view-versus-a-copy\n",
      "  laps_data['PitOutTimeSec']=laps_data['PitOutTime'].dt.total_seconds()\n"
     ]
    }
   ],
   "source": [
    "lapsdata, streamdata = fap.timing_data(session.api_path)\n",
    "# pd.set_option('display.max_columns', None)\n",
    "lapsdata=pd.DataFrame(lapsdata)\n",
    "streamdata=pd.DataFrame(streamdata)\n",
    "combined=pd.concat([lapsdata,streamdata])\n",
    "laps_data=combined[['Driver','LapTime','NumberOfLaps','NumberOfPitStops','PitOutTime','PitInTime','Position','GapToLeader','IntervalToPositionAhead']]\n",
    "laps_data['PitInTimeSec']=laps_data['PitInTime'].dt.total_seconds()\n",
    "laps_data['PitOutTimeSec']=laps_data['PitOutTime'].dt.total_seconds()\n",
    "laps_data['Total Pitstop Time Lost']=laps_data['PitOutTime']-laps"
   ]
  },
  {
   "cell_type": "code",
   "execution_count": null,
   "metadata": {},
   "outputs": [],
   "source": [
    "\n"
   ]
  },
  {
   "cell_type": "code",
   "execution_count": null,
   "metadata": {},
   "outputs": [],
   "source": []
  }
 ],
 "metadata": {
  "kernelspec": {
   "display_name": ".venv",
   "language": "python",
   "name": "python3"
  },
  "language_info": {
   "codemirror_mode": {
    "name": "ipython",
    "version": 3
   },
   "file_extension": ".py",
   "mimetype": "text/x-python",
   "name": "python",
   "nbconvert_exporter": "python",
   "pygments_lexer": "ipython3",
   "version": "3.12.3"
  }
 },
 "nbformat": 4,
 "nbformat_minor": 2
}
