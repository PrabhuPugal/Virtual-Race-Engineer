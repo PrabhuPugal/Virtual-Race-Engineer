{
 "cells": [
  {
   "cell_type": "markdown",
   "metadata": {},
   "source": [
    "# **VIRTUAL RACE ENGINEER**"
   ]
  },
  {
   "cell_type": "code",
   "execution_count": 95,
   "metadata": {},
   "outputs": [],
   "source": [
    "import fastf1 as ff\n",
    "import numpy as np\n",
    "import pandas as pd\n",
    "import matplotlib.pyplot as plt\n",
    "import fastf1.plotting\n",
    "fastf1.plotting.setup_mpl()\n",
    "import fastf1.api as fap\n",
    "fastf1.Cache.enable_cache(r\"D:\\Prabhu\\SEM 7\\F1 Data\")\n",
    "import re\n",
    "import datetime as dt\n"
   ]
  },
  {
   "cell_type": "markdown",
   "metadata": {},
   "source": [
    "### LOADING SESSION"
   ]
  },
  {
   "cell_type": "code",
   "execution_count": 96,
   "metadata": {},
   "outputs": [
    {
     "name": "stderr",
     "output_type": "stream",
     "text": [
      "core           INFO \tLoading data for Dutch Grand Prix - Race [v3.3.7]\n",
      "req            INFO \tUsing cached data for session_info\n",
      "req            INFO \tUsing cached data for driver_info\n",
      "req            INFO \tUsing cached data for session_status_data\n",
      "req            INFO \tUsing cached data for lap_count\n",
      "req            INFO \tUsing cached data for track_status_data\n",
      "req            INFO \tUsing cached data for _extended_timing_data\n",
      "req            INFO \tUsing cached data for timing_app_data\n",
      "core           INFO \tProcessing timing data...\n",
      "req            INFO \tUsing cached data for car_data\n",
      "req            INFO \tUsing cached data for position_data\n",
      "req            INFO \tUsing cached data for weather_data\n",
      "req            INFO \tUsing cached data for race_control_messages\n",
      "core           INFO \tFinished loading data for 20 drivers: ['1', '14', '10', '11', '55', '44', '4', '23', '81', '31', '18', '27', '40', '77', '22', '20', '63', '24', '16', '2']\n"
     ]
    }
   ],
   "source": [
    "session = ff.get_session(2023,'Dutch','R')\n",
    "session.load()"
   ]
  },
  {
   "cell_type": "code",
   "execution_count": 97,
   "metadata": {},
   "outputs": [],
   "source": [
    "laps=session.laps\n",
    "drivers=laps['Driver'].unique()"
   ]
  },
  {
   "cell_type": "markdown",
   "metadata": {},
   "source": [
    "### FETCHING TELEMETRY DATA"
   ]
  },
  {
   "cell_type": "code",
   "execution_count": 98,
   "metadata": {},
   "outputs": [],
   "source": [
    "total_telemetry=[]\n",
    "for i in drivers:\n",
    "    drivers_laps=laps.pick_driver(i)\n",
    "    driver_telemetry=drivers_laps.get_car_data()\n",
    "\n",
    "    driver_telemetry['Driver']=i\n",
    "    total_telemetry.append(driver_telemetry)\n",
    "telemetry=pd.concat(total_telemetry,ignore_index=True)\n"
   ]
  },
  {
   "cell_type": "markdown",
   "metadata": {},
   "source": [
    "### FETCHING WEATHER,TYRE,LAP AND POSITION DATA "
   ]
  },
  {
   "cell_type": "code",
   "execution_count": 99,
   "metadata": {},
   "outputs": [
    {
     "name": "stderr",
     "output_type": "stream",
     "text": [
      "req            INFO \tUsing cached data for weather_data\n"
     ]
    }
   ],
   "source": [
    "weather_data=pd.DataFrame(fap.weather_data(session.api_path))\n",
    "tyre_data = laps[['Driver', 'LapNumber', 'Compound', 'FreshTyre','TyreLife']]\n",
    "lap_data=laps[['Driver','LapNumber','LapTime','Sector1Time','Sector2Time','Sector3Time','IsAccurate']]\n",
    "position_data=laps[['Driver','LapNumber','Position']]"
   ]
  },
  {
   "cell_type": "markdown",
   "metadata": {},
   "source": [
    "### FETCHING RACE CONTROL MESSAGES"
   ]
  },
  {
   "cell_type": "code",
   "execution_count": 100,
   "metadata": {},
   "outputs": [
    {
     "name": "stderr",
     "output_type": "stream",
     "text": [
      "req            INFO \tUsing cached data for race_control_messages\n"
     ]
    }
   ],
   "source": [
    "rcm_data = pd.DataFrame(fap.race_control_messages(session.api_path))\n",
    "msg=rcm_data[['Time','Status','Message']]\n",
    "\n",
    "#Filter for Yellow, Red, VSC, SC \n",
    "yellow_flags_key=['YELLOW','DOUBLE YELLOW']\n",
    "red_flags_key=['RED']\n",
    "vsc_key=['VSC','VIRTUAL SAFETY CAR']\n",
    "sc_key=['SC','SAFETY CAR']\n",
    "\n",
    "#Searching using the keyword in REGEX\n",
    "yellow_flags = msg[msg['Message'].apply(lambda x: any(re.search(r'\\b{}\\b'.format(keyword), x) for keyword in yellow_flags_key))]\n",
    "red_flags = msg[msg['Message'].apply(lambda x: any(re.search(r'\\b{}\\b'.format(keyword), x) for keyword in red_flags_key))]\n",
    "vsc = msg[msg['Message'].apply(lambda x: any(re.search(r'\\b{}\\b'.format(keyword), x) for keyword in vsc_key))]\n",
    "sc = msg[msg['Message'].apply(lambda x: any(re.search(r'\\b{}\\b'.format(keyword), x) for keyword in sc_key))]\n"
   ]
  },
  {
   "cell_type": "markdown",
   "metadata": {},
   "source": [
    "### FETCHING LAP DATA (PITS STOPS, DRIVER POSITION ETC.)"
   ]
  },
  {
   "cell_type": "code",
   "execution_count": 103,
   "metadata": {},
   "outputs": [
    {
     "name": "stderr",
     "output_type": "stream",
     "text": [
      "req            INFO \tUsing cached data for _extended_timing_data\n"
     ]
    },
    {
     "name": "stderr",
     "output_type": "stream",
     "text": [
      "C:\\Users\\prabh\\AppData\\Local\\Temp\\ipykernel_11276\\910154449.py:7: SettingWithCopyWarning: \n",
      "A value is trying to be set on a copy of a slice from a DataFrame.\n",
      "Try using .loc[row_indexer,col_indexer] = value instead\n",
      "\n",
      "See the caveats in the documentation: https://pandas.pydata.org/pandas-docs/stable/user_guide/indexing.html#returning-a-view-versus-a-copy\n",
      "  laps_data['PitInTimeSec']=laps_data['PitInTime'].dt.total_seconds()\n",
      "C:\\Users\\prabh\\AppData\\Local\\Temp\\ipykernel_11276\\910154449.py:8: SettingWithCopyWarning: \n",
      "A value is trying to be set on a copy of a slice from a DataFrame.\n",
      "Try using .loc[row_indexer,col_indexer] = value instead\n",
      "\n",
      "See the caveats in the documentation: https://pandas.pydata.org/pandas-docs/stable/user_guide/indexing.html#returning-a-view-versus-a-copy\n",
      "  laps_data['PitOutTimeSec']=laps_data['PitOutTime'].dt.total_seconds()\n"
     ]
    },
    {
     "data": {
      "text/html": [
       "<div>\n",
       "<style scoped>\n",
       "    .dataframe tbody tr th:only-of-type {\n",
       "        vertical-align: middle;\n",
       "    }\n",
       "\n",
       "    .dataframe tbody tr th {\n",
       "        vertical-align: top;\n",
       "    }\n",
       "\n",
       "    .dataframe thead th {\n",
       "        text-align: right;\n",
       "    }\n",
       "</style>\n",
       "<table border=\"1\" class=\"dataframe\">\n",
       "  <thead>\n",
       "    <tr style=\"text-align: right;\">\n",
       "      <th></th>\n",
       "      <th>Driver</th>\n",
       "      <th>LapTime</th>\n",
       "      <th>NumberOfLaps</th>\n",
       "      <th>NumberOfPitStops</th>\n",
       "      <th>PitOutTime</th>\n",
       "      <th>PitInTime</th>\n",
       "      <th>Position</th>\n",
       "      <th>GapToLeader</th>\n",
       "      <th>IntervalToPositionAhead</th>\n",
       "      <th>PitInTimeSec</th>\n",
       "      <th>PitOutTimeSec</th>\n",
       "    </tr>\n",
       "  </thead>\n",
       "  <tbody>\n",
       "    <tr>\n",
       "      <th>0</th>\n",
       "      <td>1</td>\n",
       "      <td>NaT</td>\n",
       "      <td>1.0</td>\n",
       "      <td>0.0</td>\n",
       "      <td>0 days 00:14:44.885000</td>\n",
       "      <td>NaT</td>\n",
       "      <td>NaN</td>\n",
       "      <td>NaN</td>\n",
       "      <td>NaN</td>\n",
       "      <td>NaN</td>\n",
       "      <td>884.885</td>\n",
       "    </tr>\n",
       "    <tr>\n",
       "      <th>1</th>\n",
       "      <td>1</td>\n",
       "      <td>0 days 00:01:49.972000</td>\n",
       "      <td>2.0</td>\n",
       "      <td>0.0</td>\n",
       "      <td>NaT</td>\n",
       "      <td>0 days 01:05:25.519000</td>\n",
       "      <td>NaN</td>\n",
       "      <td>NaN</td>\n",
       "      <td>NaN</td>\n",
       "      <td>3925.519</td>\n",
       "      <td>NaN</td>\n",
       "    </tr>\n",
       "    <tr>\n",
       "      <th>2</th>\n",
       "      <td>1</td>\n",
       "      <td>0 days 00:01:48.658000</td>\n",
       "      <td>3.0</td>\n",
       "      <td>1.0</td>\n",
       "      <td>0 days 01:05:45.581000</td>\n",
       "      <td>NaT</td>\n",
       "      <td>NaN</td>\n",
       "      <td>NaN</td>\n",
       "      <td>NaN</td>\n",
       "      <td>NaN</td>\n",
       "      <td>3945.581</td>\n",
       "    </tr>\n",
       "    <tr>\n",
       "      <th>3</th>\n",
       "      <td>1</td>\n",
       "      <td>0 days 00:01:25.251000</td>\n",
       "      <td>4.0</td>\n",
       "      <td>1.0</td>\n",
       "      <td>NaT</td>\n",
       "      <td>NaT</td>\n",
       "      <td>NaN</td>\n",
       "      <td>NaN</td>\n",
       "      <td>NaN</td>\n",
       "      <td>NaN</td>\n",
       "      <td>NaN</td>\n",
       "    </tr>\n",
       "    <tr>\n",
       "      <th>4</th>\n",
       "      <td>1</td>\n",
       "      <td>0 days 00:01:23.461000</td>\n",
       "      <td>5.0</td>\n",
       "      <td>1.0</td>\n",
       "      <td>NaT</td>\n",
       "      <td>NaT</td>\n",
       "      <td>NaN</td>\n",
       "      <td>NaN</td>\n",
       "      <td>NaN</td>\n",
       "      <td>NaN</td>\n",
       "      <td>NaN</td>\n",
       "    </tr>\n",
       "    <tr>\n",
       "      <th>...</th>\n",
       "      <td>...</td>\n",
       "      <td>...</td>\n",
       "      <td>...</td>\n",
       "      <td>...</td>\n",
       "      <td>...</td>\n",
       "      <td>...</td>\n",
       "      <td>...</td>\n",
       "      <td>...</td>\n",
       "      <td>...</td>\n",
       "      <td>...</td>\n",
       "      <td>...</td>\n",
       "    </tr>\n",
       "    <tr>\n",
       "      <th>29975</th>\n",
       "      <td>20</td>\n",
       "      <td>NaT</td>\n",
       "      <td>NaN</td>\n",
       "      <td>NaN</td>\n",
       "      <td>NaT</td>\n",
       "      <td>NaT</td>\n",
       "      <td>14.0</td>\n",
       "      <td>+26.521</td>\n",
       "      <td>+0.344</td>\n",
       "      <td>NaN</td>\n",
       "      <td>NaN</td>\n",
       "    </tr>\n",
       "    <tr>\n",
       "      <th>29976</th>\n",
       "      <td>20</td>\n",
       "      <td>NaT</td>\n",
       "      <td>NaN</td>\n",
       "      <td>NaN</td>\n",
       "      <td>NaT</td>\n",
       "      <td>NaT</td>\n",
       "      <td>14.0</td>\n",
       "      <td>+23.775</td>\n",
       "      <td>+0.305</td>\n",
       "      <td>NaN</td>\n",
       "      <td>NaN</td>\n",
       "    </tr>\n",
       "    <tr>\n",
       "      <th>29977</th>\n",
       "      <td>20</td>\n",
       "      <td>NaT</td>\n",
       "      <td>NaN</td>\n",
       "      <td>NaN</td>\n",
       "      <td>NaT</td>\n",
       "      <td>NaT</td>\n",
       "      <td>14.0</td>\n",
       "      <td>+26.469</td>\n",
       "      <td>+0.300</td>\n",
       "      <td>NaN</td>\n",
       "      <td>NaN</td>\n",
       "    </tr>\n",
       "    <tr>\n",
       "      <th>29978</th>\n",
       "      <td>20</td>\n",
       "      <td>NaT</td>\n",
       "      <td>NaN</td>\n",
       "      <td>NaN</td>\n",
       "      <td>NaT</td>\n",
       "      <td>NaT</td>\n",
       "      <td>15.0</td>\n",
       "      <td>+23.775</td>\n",
       "      <td>+0.305</td>\n",
       "      <td>NaN</td>\n",
       "      <td>NaN</td>\n",
       "    </tr>\n",
       "    <tr>\n",
       "      <th>29979</th>\n",
       "      <td>20</td>\n",
       "      <td>NaT</td>\n",
       "      <td>NaN</td>\n",
       "      <td>NaN</td>\n",
       "      <td>NaT</td>\n",
       "      <td>NaT</td>\n",
       "      <td>14.0</td>\n",
       "      <td>+26.410</td>\n",
       "      <td>+0.263</td>\n",
       "      <td>NaN</td>\n",
       "      <td>NaN</td>\n",
       "    </tr>\n",
       "  </tbody>\n",
       "</table>\n",
       "<p>31321 rows × 11 columns</p>\n",
       "</div>"
      ],
      "text/plain": [
       "      Driver                LapTime  NumberOfLaps  NumberOfPitStops  \\\n",
       "0          1                    NaT           1.0               0.0   \n",
       "1          1 0 days 00:01:49.972000           2.0               0.0   \n",
       "2          1 0 days 00:01:48.658000           3.0               1.0   \n",
       "3          1 0 days 00:01:25.251000           4.0               1.0   \n",
       "4          1 0 days 00:01:23.461000           5.0               1.0   \n",
       "...      ...                    ...           ...               ...   \n",
       "29975     20                    NaT           NaN               NaN   \n",
       "29976     20                    NaT           NaN               NaN   \n",
       "29977     20                    NaT           NaN               NaN   \n",
       "29978     20                    NaT           NaN               NaN   \n",
       "29979     20                    NaT           NaN               NaN   \n",
       "\n",
       "                  PitOutTime              PitInTime  Position GapToLeader  \\\n",
       "0     0 days 00:14:44.885000                    NaT       NaN         NaN   \n",
       "1                        NaT 0 days 01:05:25.519000       NaN         NaN   \n",
       "2     0 days 01:05:45.581000                    NaT       NaN         NaN   \n",
       "3                        NaT                    NaT       NaN         NaN   \n",
       "4                        NaT                    NaT       NaN         NaN   \n",
       "...                      ...                    ...       ...         ...   \n",
       "29975                    NaT                    NaT      14.0     +26.521   \n",
       "29976                    NaT                    NaT      14.0     +23.775   \n",
       "29977                    NaT                    NaT      14.0     +26.469   \n",
       "29978                    NaT                    NaT      15.0     +23.775   \n",
       "29979                    NaT                    NaT      14.0     +26.410   \n",
       "\n",
       "      IntervalToPositionAhead  PitInTimeSec  PitOutTimeSec  \n",
       "0                         NaN           NaN        884.885  \n",
       "1                         NaN      3925.519            NaN  \n",
       "2                         NaN           NaN       3945.581  \n",
       "3                         NaN           NaN            NaN  \n",
       "4                         NaN           NaN            NaN  \n",
       "...                       ...           ...            ...  \n",
       "29975                  +0.344           NaN            NaN  \n",
       "29976                  +0.305           NaN            NaN  \n",
       "29977                  +0.300           NaN            NaN  \n",
       "29978                  +0.305           NaN            NaN  \n",
       "29979                  +0.263           NaN            NaN  \n",
       "\n",
       "[31321 rows x 11 columns]"
      ]
     },
     "execution_count": 103,
     "metadata": {},
     "output_type": "execute_result"
    }
   ],
   "source": [
    "lapsdata, streamdata = fap.timing_data(session.api_path)\n",
    "# pd.set_option('display.max_columns', None)\n",
    "lapsdata=pd.DataFrame(lapsdata)\n",
    "streamdata=pd.DataFrame(streamdata)\n",
    "combined=pd.concat([lapsdata,streamdata])\n",
    "laps_data=combined[['Driver','LapTime','NumberOfLaps','NumberOfPitStops','PitOutTime','PitInTime','Position','GapToLeader','IntervalToPositionAhead']]\n",
    "laps_data['PitInTimeSec']=laps_data['PitInTime'].dt.total_seconds()\n",
    "laps_data['PitOutTimeSec']=laps_data['PitOutTime'].dt.total_seconds()\n",
    "laps_data"
   ]
  },
  {
   "cell_type": "code",
   "execution_count": null,
   "metadata": {},
   "outputs": [],
   "source": [
    "\n"
   ]
  },
  {
   "cell_type": "code",
   "execution_count": null,
   "metadata": {},
   "outputs": [],
   "source": []
  }
 ],
 "metadata": {
  "kernelspec": {
   "display_name": ".venv",
   "language": "python",
   "name": "python3"
  },
  "language_info": {
   "codemirror_mode": {
    "name": "ipython",
    "version": 3
   },
   "file_extension": ".py",
   "mimetype": "text/x-python",
   "name": "python",
   "nbconvert_exporter": "python",
   "pygments_lexer": "ipython3",
   "version": "3.12.3"
  }
 },
 "nbformat": 4,
 "nbformat_minor": 2
}
