{
 "cells": [
  {
   "cell_type": "markdown",
   "metadata": {},
   "source": [
    "# **VIRTUAL RACE ENGINEER**"
   ]
  },
  {
   "cell_type": "code",
   "execution_count": 2,
   "metadata": {},
   "outputs": [
    {
     "name": "stderr",
     "output_type": "stream",
     "text": [
      "d:\\Prabhu\\SEM 7\\F1 Data\\.venv\\Lib\\site-packages\\fastf1\\api.py:32: UserWarning: `fastf1.api` will be considered private in future releases and potentially be removed or changed!\n",
      "  warnings.warn(\"`fastf1.api` will be considered private in future releases and \"\n"
     ]
    }
   ],
   "source": [
    "import fastf1 as ff\n",
    "import numpy as np\n",
    "import pandas as pd\n",
    "import matplotlib.pyplot as plt\n",
    "import fastf1.plotting\n",
    "fastf1.plotting.setup_mpl()\n",
    "import fastf1.api as fap\n",
    "fastf1.Cache.enable_cache(r\"D:\\Prabhu\\SEM 7\\F1 Data\")\n",
    "import re\n",
    "import datetime as dt\n",
    "import fastf1.mvapi as famp\n",
    "import fastf1.events as fae\n",
    "import plotly.express as px"
   ]
  },
  {
   "cell_type": "markdown",
   "metadata": {},
   "source": [
    "### LOADING SESSION"
   ]
  },
  {
   "cell_type": "code",
   "execution_count": 3,
   "metadata": {},
   "outputs": [
    {
     "name": "stderr",
     "output_type": "stream",
     "text": [
      "core           INFO \tLoading data for Dutch Grand Prix - Race [v3.3.7]\n",
      "req            INFO \tUsing cached data for session_info\n",
      "req            INFO \tUsing cached data for driver_info\n",
      "req            INFO \tUsing cached data for session_status_data\n",
      "req            INFO \tUsing cached data for lap_count\n",
      "req            INFO \tUsing cached data for track_status_data\n",
      "req            INFO \tUsing cached data for _extended_timing_data\n",
      "req            INFO \tUsing cached data for timing_app_data\n",
      "core           INFO \tProcessing timing data...\n",
      "req            INFO \tUsing cached data for car_data\n",
      "req            INFO \tUsing cached data for position_data\n",
      "req            INFO \tUsing cached data for weather_data\n",
      "req            INFO \tUsing cached data for race_control_messages\n",
      "core           INFO \tFinished loading data for 20 drivers: ['1', '14', '10', '11', '55', '44', '4', '23', '81', '31', '18', '27', '40', '77', '22', '20', '63', '24', '16', '2']\n"
     ]
    }
   ],
   "source": [
    "session = ff.get_session(2023,'Dutch','R')\n",
    "session.load()\n",
    "session_start_time=session.t0_date"
   ]
  },
  {
   "cell_type": "code",
   "execution_count": 4,
   "metadata": {},
   "outputs": [],
   "source": [
    "laps=session.laps\n",
    "drivers=laps['Driver'].unique()"
   ]
  },
  {
   "cell_type": "markdown",
   "metadata": {},
   "source": [
    "### FETCHING TELEMETRY DATA "
   ]
  },
  {
   "cell_type": "code",
   "execution_count": 5,
   "metadata": {},
   "outputs": [],
   "source": [
    "total_telemetry=[]\n",
    "for i in drivers:\n",
    "    drivers_laps=laps.pick_driver(i)\n",
    "    driver_telemetry=drivers_laps.get_car_data()\n",
    "    \n",
    "    driver_telemetry['Driver']=i\n",
    "    total_telemetry.append(driver_telemetry)\n",
    "telemetry_data=pd.concat(total_telemetry,ignore_index=True)"
   ]
  },
  {
   "cell_type": "markdown",
   "metadata": {},
   "source": [
    "### FETCHING WEATHER,TYRE,LAP AND POSITION DATA "
   ]
  },
  {
   "cell_type": "code",
   "execution_count": 6,
   "metadata": {},
   "outputs": [
    {
     "name": "stderr",
     "output_type": "stream",
     "text": [
      "req            INFO \tUsing cached data for weather_data\n"
     ]
    }
   ],
   "source": [
    "weather_data=pd.DataFrame(fap.weather_data(session.api_path))\n",
    "tyre_data = laps[['Driver', 'LapNumber', 'Compound', 'FreshTyre','TyreLife']]\n",
    "lap_data=laps[['Time','Driver','DriverNumber','LapNumber','LapTime','Sector1Time','Sector2Time','Sector3Time','IsAccurate']]\n",
    "position_data=laps[['Driver','DriverNumber','LapNumber','Position','LapStartTime']]"
   ]
  },
  {
   "cell_type": "markdown",
   "metadata": {},
   "source": [
    "### FETCHING RACE CONTROL MESSAGES"
   ]
  },
  {
   "cell_type": "code",
   "execution_count": 7,
   "metadata": {},
   "outputs": [
    {
     "name": "stderr",
     "output_type": "stream",
     "text": [
      "req            INFO \tUsing cached data for race_control_messages\n"
     ]
    }
   ],
   "source": [
    "rcm_data = pd.DataFrame(fap.race_control_messages(session.api_path))\n",
    "master_msg=rcm_data[['Time','Category','Flag','Status','Message']]"
   ]
  },
  {
   "cell_type": "code",
   "execution_count": 8,
   "metadata": {},
   "outputs": [],
   "source": [
    "# #Filter for Yellow, Red, VSC, SC \n",
    "# yellow_flags_key=['YELLOW','DOUBLE YELLOW']\n",
    "# red_flags_key=['RED']\n",
    "# vsc_key=['VSC','VIRTUAL SAFETY CAR']\n",
    "# sc_key=['SC','SAFETY CAR']\n",
    "\n",
    "# #Searching using the keyword in REGEX\n",
    "# yellow_flags = msg[msg['Message'].apply(lambda x: any(re.search(r'\\b{}\\b'.format(keyword), x) for keyword in yellow_flags_key))]\n",
    "# red_flags = msg[msg['Message'].apply(lambda x: any(re.search(r'\\b{}\\b'.format(keyword), x) for keyword in red_flags_key))]\n",
    "# vsc = msg[msg['Message'].apply(lambda x: any(re.search(r'\\b{}\\b'.format(keyword), x) for keyword in vsc_key))]\n",
    "# sc = msg[msg['Message'].apply(lambda x: any(re.search(r'\\b{}\\b'.format(keyword), x) for keyword in sc_key))]\n",
    "# master_msg=pd.concat([yellow_flags,red_flags,vsc,sc], axis=0)\n",
    "\n",
    "# pd.set_option('display.max_columns', None)"
   ]
  },
  {
   "cell_type": "markdown",
   "metadata": {},
   "source": [
    "### FETCHING LAP DATA (PITS STOPS, DRIVER POSITION ETC.)"
   ]
  },
  {
   "cell_type": "code",
   "execution_count": 9,
   "metadata": {},
   "outputs": [
    {
     "name": "stderr",
     "output_type": "stream",
     "text": [
      "req            INFO \tUsing cached data for _extended_timing_data\n"
     ]
    }
   ],
   "source": [
    "lapsdata, streamdata = fap.timing_data(session.api_path)\n",
    "lapsdata=pd.DataFrame(lapsdata)\n",
    "lapsdata['DriverNumber'] = lapsdata['Driver']\n",
    "gapdata=pd.DataFrame(streamdata)\n",
    "gapdata['DriverNumber'] = gapdata['Driver']\n",
    "gap_data = gapdata[['Time','DriverNumber','Position','GapToLeader','IntervalToPositionAhead']]\n",
    "laps_data=lapsdata[['Time','DriverNumber','LapTime','NumberOfPitStops','PitOutTime','PitInTime']]"
   ]
  },
  {
   "cell_type": "markdown",
   "metadata": {},
   "source": [
    "### GETTING CORNERS INFO"
   ]
  },
  {
   "cell_type": "code",
   "execution_count": 10,
   "metadata": {},
   "outputs": [],
   "source": [
    "circuit_info=session.get_circuit_info()\n",
    "corners_data=circuit_info.corners"
   ]
  },
  {
   "cell_type": "markdown",
   "metadata": {},
   "source": [
    "### MAKING A MASTER DATA (POSITION DATA, POSITION DATA, LAPS DATA)\n",
    "###### NOTE:WE ARE KEEPING THE GAP DATA, WEATHER DATA, RACE CONTROL MESSAGES AND THE TELEMETRY DATA SEPERATE BECAUSE EACH DATA IS GENERATED IN A COMPLETELY DIFFERENT TIME"
   ]
  },
  {
   "cell_type": "code",
   "execution_count": 11,
   "metadata": {},
   "outputs": [],
   "source": [
    "master_data = lap_data.merge(position_data, on=['Driver', 'DriverNumber', 'LapNumber'], how='left')\n",
    "master_data = master_data.merge(tyre_data, on=['Driver', 'LapNumber'], how='left')\n",
    "master_data = master_data.merge(laps_data, on=['DriverNumber','Time','LapTime'], how='left')"
   ]
  },
  {
   "cell_type": "markdown",
   "metadata": {},
   "source": [
    "#### FILLING THE MISSING LAPTIME VALUES WITH BACKWARD FILL"
   ]
  },
  {
   "cell_type": "code",
   "execution_count": 12,
   "metadata": {},
   "outputs": [
    {
     "name": "stderr",
     "output_type": "stream",
     "text": [
      "C:\\Users\\prabh\\AppData\\Local\\Temp\\ipykernel_15720\\3161052701.py:2: FutureWarning: Laps.fillna with 'method' is deprecated and will raise in a future version. Use obj.ffill() or obj.bfill() instead.\n",
      "  master_data[columns_to_fill]=master_data[columns_to_fill].fillna(method='bfill')\n"
     ]
    }
   ],
   "source": [
    "columns_to_fill=['LapTime','Sector1Time','Sector2Time','Sector3Time']\n",
    "master_data[columns_to_fill]=master_data[columns_to_fill].fillna(method='bfill')"
   ]
  },
  {
   "cell_type": "markdown",
   "metadata": {},
   "source": [
    "### CONVERTING TIME TO SECONDS"
   ]
  },
  {
   "cell_type": "code",
   "execution_count": 13,
   "metadata": {},
   "outputs": [],
   "source": [
    "master_data['Sector1Time(s)']=master_data['Sector1Time'].dt.total_seconds()\n",
    "master_data['Sector2Time(s)']=master_data['Sector2Time'].dt.total_seconds()\n",
    "master_data['Sector3Time(s)']=master_data['Sector3Time'].dt.total_seconds()\n",
    "master_data['Cum.SectorTime(s)']=master_data['Sector1Time(s)']+master_data['Sector2Time(s)']+master_data['Sector3Time(s)']\n",
    "master_data['LapTime(s)']=master_data['LapTime'].dt.total_seconds()\n",
    "master_data['LapStartTime(s)']=master_data['LapStartTime'].dt.total_seconds()\n",
    "master_data['PitInTime(s)']=master_data['PitInTime'].dt.total_seconds()\n",
    "master_data['PitOutTime(s)']=master_data['PitOutTime'].dt.total_seconds().shift(-1)"
   ]
  },
  {
   "cell_type": "markdown",
   "metadata": {},
   "source": [
    "#### CALCULATING PITSTOP TIME AND LAP DELTA"
   ]
  },
  {
   "cell_type": "code",
   "execution_count": 14,
   "metadata": {},
   "outputs": [],
   "source": [
    "master_data['PitStopTime(s)']=master_data['PitOutTime(s)']-master_data['PitInTime(s)']\n",
    "master_data['PrevLapTime(s)']=master_data['LapTime(s)'].shift(1)\n",
    "master_data['LapΔ(s)']=master_data['LapTime(s)']-master_data['PrevLapTime(s)']"
   ]
  },
  {
   "cell_type": "code",
   "execution_count": 15,
   "metadata": {},
   "outputs": [],
   "source": [
    "master_data=master_data.sort_values(by=['LapNumber','Position'])\n",
    "master_data['CumLapTime(s)'] = master_data.groupby('Driver')['LapTime(s)'].cumsum()"
   ]
  },
  {
   "cell_type": "markdown",
   "metadata": {},
   "source": [
    "#### DEFINING FUNCTION TO CALCULATE GAP TO LEADER AND INTERVAL AT THE END OF EACH LAP"
   ]
  },
  {
   "cell_type": "code",
   "execution_count": 16,
   "metadata": {},
   "outputs": [
    {
     "name": "stderr",
     "output_type": "stream",
     "text": [
      "C:\\Users\\prabh\\AppData\\Local\\Temp\\ipykernel_15720\\4238679693.py:7: SettingWithCopyWarning: \n",
      "A value is trying to be set on a copy of a slice from a DataFrame.\n",
      "Try using .loc[row_indexer,col_indexer] = value instead\n",
      "\n",
      "See the caveats in the documentation: https://pandas.pydata.org/pandas-docs/stable/user_guide/indexing.html#returning-a-view-versus-a-copy\n",
      "  lap.loc[:,'GapToLeader']=lap['CumLapTime(s)']-leader_time\n",
      "C:\\Users\\prabh\\AppData\\Local\\Temp\\ipykernel_15720\\4238679693.py:8: SettingWithCopyWarning: \n",
      "A value is trying to be set on a copy of a slice from a DataFrame.\n",
      "Try using .loc[row_indexer,col_indexer] = value instead\n",
      "\n",
      "See the caveats in the documentation: https://pandas.pydata.org/pandas-docs/stable/user_guide/indexing.html#returning-a-view-versus-a-copy\n",
      "  lap.loc[:,'Interval']=lap['CumLapTime(s)'].diff().fillna(0)\n",
      "C:\\Users\\prabh\\AppData\\Local\\Temp\\ipykernel_15720\\4238679693.py:7: SettingWithCopyWarning: \n",
      "A value is trying to be set on a copy of a slice from a DataFrame.\n",
      "Try using .loc[row_indexer,col_indexer] = value instead\n",
      "\n",
      "See the caveats in the documentation: https://pandas.pydata.org/pandas-docs/stable/user_guide/indexing.html#returning-a-view-versus-a-copy\n",
      "  lap.loc[:,'GapToLeader']=lap['CumLapTime(s)']-leader_time\n",
      "C:\\Users\\prabh\\AppData\\Local\\Temp\\ipykernel_15720\\4238679693.py:8: SettingWithCopyWarning: \n",
      "A value is trying to be set on a copy of a slice from a DataFrame.\n",
      "Try using .loc[row_indexer,col_indexer] = value instead\n",
      "\n",
      "See the caveats in the documentation: https://pandas.pydata.org/pandas-docs/stable/user_guide/indexing.html#returning-a-view-versus-a-copy\n",
      "  lap.loc[:,'Interval']=lap['CumLapTime(s)'].diff().fillna(0)\n",
      "C:\\Users\\prabh\\AppData\\Local\\Temp\\ipykernel_15720\\4238679693.py:7: SettingWithCopyWarning: \n",
      "A value is trying to be set on a copy of a slice from a DataFrame.\n",
      "Try using .loc[row_indexer,col_indexer] = value instead\n",
      "\n",
      "See the caveats in the documentation: https://pandas.pydata.org/pandas-docs/stable/user_guide/indexing.html#returning-a-view-versus-a-copy\n",
      "  lap.loc[:,'GapToLeader']=lap['CumLapTime(s)']-leader_time\n",
      "C:\\Users\\prabh\\AppData\\Local\\Temp\\ipykernel_15720\\4238679693.py:8: SettingWithCopyWarning: \n",
      "A value is trying to be set on a copy of a slice from a DataFrame.\n",
      "Try using .loc[row_indexer,col_indexer] = value instead\n",
      "\n",
      "See the caveats in the documentation: https://pandas.pydata.org/pandas-docs/stable/user_guide/indexing.html#returning-a-view-versus-a-copy\n",
      "  lap.loc[:,'Interval']=lap['CumLapTime(s)'].diff().fillna(0)\n",
      "C:\\Users\\prabh\\AppData\\Local\\Temp\\ipykernel_15720\\4238679693.py:7: SettingWithCopyWarning: \n",
      "A value is trying to be set on a copy of a slice from a DataFrame.\n",
      "Try using .loc[row_indexer,col_indexer] = value instead\n",
      "\n",
      "See the caveats in the documentation: https://pandas.pydata.org/pandas-docs/stable/user_guide/indexing.html#returning-a-view-versus-a-copy\n",
      "  lap.loc[:,'GapToLeader']=lap['CumLapTime(s)']-leader_time\n",
      "C:\\Users\\prabh\\AppData\\Local\\Temp\\ipykernel_15720\\4238679693.py:8: SettingWithCopyWarning: \n",
      "A value is trying to be set on a copy of a slice from a DataFrame.\n",
      "Try using .loc[row_indexer,col_indexer] = value instead\n",
      "\n",
      "See the caveats in the documentation: https://pandas.pydata.org/pandas-docs/stable/user_guide/indexing.html#returning-a-view-versus-a-copy\n",
      "  lap.loc[:,'Interval']=lap['CumLapTime(s)'].diff().fillna(0)\n",
      "C:\\Users\\prabh\\AppData\\Local\\Temp\\ipykernel_15720\\4238679693.py:7: SettingWithCopyWarning: \n",
      "A value is trying to be set on a copy of a slice from a DataFrame.\n",
      "Try using .loc[row_indexer,col_indexer] = value instead\n",
      "\n",
      "See the caveats in the documentation: https://pandas.pydata.org/pandas-docs/stable/user_guide/indexing.html#returning-a-view-versus-a-copy\n",
      "  lap.loc[:,'GapToLeader']=lap['CumLapTime(s)']-leader_time\n",
      "C:\\Users\\prabh\\AppData\\Local\\Temp\\ipykernel_15720\\4238679693.py:8: SettingWithCopyWarning: \n",
      "A value is trying to be set on a copy of a slice from a DataFrame.\n",
      "Try using .loc[row_indexer,col_indexer] = value instead\n",
      "\n",
      "See the caveats in the documentation: https://pandas.pydata.org/pandas-docs/stable/user_guide/indexing.html#returning-a-view-versus-a-copy\n",
      "  lap.loc[:,'Interval']=lap['CumLapTime(s)'].diff().fillna(0)\n",
      "C:\\Users\\prabh\\AppData\\Local\\Temp\\ipykernel_15720\\4238679693.py:7: SettingWithCopyWarning: \n",
      "A value is trying to be set on a copy of a slice from a DataFrame.\n",
      "Try using .loc[row_indexer,col_indexer] = value instead\n",
      "\n",
      "See the caveats in the documentation: https://pandas.pydata.org/pandas-docs/stable/user_guide/indexing.html#returning-a-view-versus-a-copy\n",
      "  lap.loc[:,'GapToLeader']=lap['CumLapTime(s)']-leader_time\n",
      "C:\\Users\\prabh\\AppData\\Local\\Temp\\ipykernel_15720\\4238679693.py:8: SettingWithCopyWarning: \n",
      "A value is trying to be set on a copy of a slice from a DataFrame.\n",
      "Try using .loc[row_indexer,col_indexer] = value instead\n",
      "\n",
      "See the caveats in the documentation: https://pandas.pydata.org/pandas-docs/stable/user_guide/indexing.html#returning-a-view-versus-a-copy\n",
      "  lap.loc[:,'Interval']=lap['CumLapTime(s)'].diff().fillna(0)\n",
      "C:\\Users\\prabh\\AppData\\Local\\Temp\\ipykernel_15720\\4238679693.py:7: SettingWithCopyWarning: \n",
      "A value is trying to be set on a copy of a slice from a DataFrame.\n",
      "Try using .loc[row_indexer,col_indexer] = value instead\n",
      "\n",
      "See the caveats in the documentation: https://pandas.pydata.org/pandas-docs/stable/user_guide/indexing.html#returning-a-view-versus-a-copy\n",
      "  lap.loc[:,'GapToLeader']=lap['CumLapTime(s)']-leader_time\n",
      "C:\\Users\\prabh\\AppData\\Local\\Temp\\ipykernel_15720\\4238679693.py:8: SettingWithCopyWarning: \n",
      "A value is trying to be set on a copy of a slice from a DataFrame.\n",
      "Try using .loc[row_indexer,col_indexer] = value instead\n",
      "\n",
      "See the caveats in the documentation: https://pandas.pydata.org/pandas-docs/stable/user_guide/indexing.html#returning-a-view-versus-a-copy\n",
      "  lap.loc[:,'Interval']=lap['CumLapTime(s)'].diff().fillna(0)\n",
      "C:\\Users\\prabh\\AppData\\Local\\Temp\\ipykernel_15720\\4238679693.py:7: SettingWithCopyWarning: \n",
      "A value is trying to be set on a copy of a slice from a DataFrame.\n",
      "Try using .loc[row_indexer,col_indexer] = value instead\n",
      "\n",
      "See the caveats in the documentation: https://pandas.pydata.org/pandas-docs/stable/user_guide/indexing.html#returning-a-view-versus-a-copy\n",
      "  lap.loc[:,'GapToLeader']=lap['CumLapTime(s)']-leader_time\n",
      "C:\\Users\\prabh\\AppData\\Local\\Temp\\ipykernel_15720\\4238679693.py:8: SettingWithCopyWarning: \n",
      "A value is trying to be set on a copy of a slice from a DataFrame.\n",
      "Try using .loc[row_indexer,col_indexer] = value instead\n",
      "\n",
      "See the caveats in the documentation: https://pandas.pydata.org/pandas-docs/stable/user_guide/indexing.html#returning-a-view-versus-a-copy\n",
      "  lap.loc[:,'Interval']=lap['CumLapTime(s)'].diff().fillna(0)\n",
      "C:\\Users\\prabh\\AppData\\Local\\Temp\\ipykernel_15720\\4238679693.py:7: SettingWithCopyWarning: \n",
      "A value is trying to be set on a copy of a slice from a DataFrame.\n",
      "Try using .loc[row_indexer,col_indexer] = value instead\n",
      "\n",
      "See the caveats in the documentation: https://pandas.pydata.org/pandas-docs/stable/user_guide/indexing.html#returning-a-view-versus-a-copy\n",
      "  lap.loc[:,'GapToLeader']=lap['CumLapTime(s)']-leader_time\n",
      "C:\\Users\\prabh\\AppData\\Local\\Temp\\ipykernel_15720\\4238679693.py:8: SettingWithCopyWarning: \n",
      "A value is trying to be set on a copy of a slice from a DataFrame.\n",
      "Try using .loc[row_indexer,col_indexer] = value instead\n",
      "\n",
      "See the caveats in the documentation: https://pandas.pydata.org/pandas-docs/stable/user_guide/indexing.html#returning-a-view-versus-a-copy\n",
      "  lap.loc[:,'Interval']=lap['CumLapTime(s)'].diff().fillna(0)\n",
      "C:\\Users\\prabh\\AppData\\Local\\Temp\\ipykernel_15720\\4238679693.py:7: SettingWithCopyWarning: \n",
      "A value is trying to be set on a copy of a slice from a DataFrame.\n",
      "Try using .loc[row_indexer,col_indexer] = value instead\n",
      "\n",
      "See the caveats in the documentation: https://pandas.pydata.org/pandas-docs/stable/user_guide/indexing.html#returning-a-view-versus-a-copy\n",
      "  lap.loc[:,'GapToLeader']=lap['CumLapTime(s)']-leader_time\n",
      "C:\\Users\\prabh\\AppData\\Local\\Temp\\ipykernel_15720\\4238679693.py:8: SettingWithCopyWarning: \n",
      "A value is trying to be set on a copy of a slice from a DataFrame.\n",
      "Try using .loc[row_indexer,col_indexer] = value instead\n",
      "\n",
      "See the caveats in the documentation: https://pandas.pydata.org/pandas-docs/stable/user_guide/indexing.html#returning-a-view-versus-a-copy\n",
      "  lap.loc[:,'Interval']=lap['CumLapTime(s)'].diff().fillna(0)\n",
      "C:\\Users\\prabh\\AppData\\Local\\Temp\\ipykernel_15720\\4238679693.py:7: SettingWithCopyWarning: \n",
      "A value is trying to be set on a copy of a slice from a DataFrame.\n",
      "Try using .loc[row_indexer,col_indexer] = value instead\n",
      "\n",
      "See the caveats in the documentation: https://pandas.pydata.org/pandas-docs/stable/user_guide/indexing.html#returning-a-view-versus-a-copy\n",
      "  lap.loc[:,'GapToLeader']=lap['CumLapTime(s)']-leader_time\n",
      "C:\\Users\\prabh\\AppData\\Local\\Temp\\ipykernel_15720\\4238679693.py:8: SettingWithCopyWarning: \n",
      "A value is trying to be set on a copy of a slice from a DataFrame.\n",
      "Try using .loc[row_indexer,col_indexer] = value instead\n",
      "\n",
      "See the caveats in the documentation: https://pandas.pydata.org/pandas-docs/stable/user_guide/indexing.html#returning-a-view-versus-a-copy\n",
      "  lap.loc[:,'Interval']=lap['CumLapTime(s)'].diff().fillna(0)\n",
      "C:\\Users\\prabh\\AppData\\Local\\Temp\\ipykernel_15720\\4238679693.py:7: SettingWithCopyWarning: \n",
      "A value is trying to be set on a copy of a slice from a DataFrame.\n",
      "Try using .loc[row_indexer,col_indexer] = value instead\n",
      "\n",
      "See the caveats in the documentation: https://pandas.pydata.org/pandas-docs/stable/user_guide/indexing.html#returning-a-view-versus-a-copy\n",
      "  lap.loc[:,'GapToLeader']=lap['CumLapTime(s)']-leader_time\n",
      "C:\\Users\\prabh\\AppData\\Local\\Temp\\ipykernel_15720\\4238679693.py:8: SettingWithCopyWarning: \n",
      "A value is trying to be set on a copy of a slice from a DataFrame.\n",
      "Try using .loc[row_indexer,col_indexer] = value instead\n",
      "\n",
      "See the caveats in the documentation: https://pandas.pydata.org/pandas-docs/stable/user_guide/indexing.html#returning-a-view-versus-a-copy\n",
      "  lap.loc[:,'Interval']=lap['CumLapTime(s)'].diff().fillna(0)\n",
      "C:\\Users\\prabh\\AppData\\Local\\Temp\\ipykernel_15720\\4238679693.py:7: SettingWithCopyWarning: \n",
      "A value is trying to be set on a copy of a slice from a DataFrame.\n",
      "Try using .loc[row_indexer,col_indexer] = value instead\n",
      "\n",
      "See the caveats in the documentation: https://pandas.pydata.org/pandas-docs/stable/user_guide/indexing.html#returning-a-view-versus-a-copy\n",
      "  lap.loc[:,'GapToLeader']=lap['CumLapTime(s)']-leader_time\n",
      "C:\\Users\\prabh\\AppData\\Local\\Temp\\ipykernel_15720\\4238679693.py:8: SettingWithCopyWarning: \n",
      "A value is trying to be set on a copy of a slice from a DataFrame.\n",
      "Try using .loc[row_indexer,col_indexer] = value instead\n",
      "\n",
      "See the caveats in the documentation: https://pandas.pydata.org/pandas-docs/stable/user_guide/indexing.html#returning-a-view-versus-a-copy\n",
      "  lap.loc[:,'Interval']=lap['CumLapTime(s)'].diff().fillna(0)\n",
      "C:\\Users\\prabh\\AppData\\Local\\Temp\\ipykernel_15720\\4238679693.py:7: SettingWithCopyWarning: \n",
      "A value is trying to be set on a copy of a slice from a DataFrame.\n",
      "Try using .loc[row_indexer,col_indexer] = value instead\n",
      "\n",
      "See the caveats in the documentation: https://pandas.pydata.org/pandas-docs/stable/user_guide/indexing.html#returning-a-view-versus-a-copy\n",
      "  lap.loc[:,'GapToLeader']=lap['CumLapTime(s)']-leader_time\n",
      "C:\\Users\\prabh\\AppData\\Local\\Temp\\ipykernel_15720\\4238679693.py:8: SettingWithCopyWarning: \n",
      "A value is trying to be set on a copy of a slice from a DataFrame.\n",
      "Try using .loc[row_indexer,col_indexer] = value instead\n",
      "\n",
      "See the caveats in the documentation: https://pandas.pydata.org/pandas-docs/stable/user_guide/indexing.html#returning-a-view-versus-a-copy\n",
      "  lap.loc[:,'Interval']=lap['CumLapTime(s)'].diff().fillna(0)\n",
      "C:\\Users\\prabh\\AppData\\Local\\Temp\\ipykernel_15720\\4238679693.py:7: SettingWithCopyWarning: \n",
      "A value is trying to be set on a copy of a slice from a DataFrame.\n",
      "Try using .loc[row_indexer,col_indexer] = value instead\n",
      "\n",
      "See the caveats in the documentation: https://pandas.pydata.org/pandas-docs/stable/user_guide/indexing.html#returning-a-view-versus-a-copy\n",
      "  lap.loc[:,'GapToLeader']=lap['CumLapTime(s)']-leader_time\n",
      "C:\\Users\\prabh\\AppData\\Local\\Temp\\ipykernel_15720\\4238679693.py:8: SettingWithCopyWarning: \n",
      "A value is trying to be set on a copy of a slice from a DataFrame.\n",
      "Try using .loc[row_indexer,col_indexer] = value instead\n",
      "\n",
      "See the caveats in the documentation: https://pandas.pydata.org/pandas-docs/stable/user_guide/indexing.html#returning-a-view-versus-a-copy\n",
      "  lap.loc[:,'Interval']=lap['CumLapTime(s)'].diff().fillna(0)\n",
      "C:\\Users\\prabh\\AppData\\Local\\Temp\\ipykernel_15720\\4238679693.py:7: SettingWithCopyWarning: \n",
      "A value is trying to be set on a copy of a slice from a DataFrame.\n",
      "Try using .loc[row_indexer,col_indexer] = value instead\n",
      "\n",
      "See the caveats in the documentation: https://pandas.pydata.org/pandas-docs/stable/user_guide/indexing.html#returning-a-view-versus-a-copy\n",
      "  lap.loc[:,'GapToLeader']=lap['CumLapTime(s)']-leader_time\n",
      "C:\\Users\\prabh\\AppData\\Local\\Temp\\ipykernel_15720\\4238679693.py:8: SettingWithCopyWarning: \n",
      "A value is trying to be set on a copy of a slice from a DataFrame.\n",
      "Try using .loc[row_indexer,col_indexer] = value instead\n",
      "\n",
      "See the caveats in the documentation: https://pandas.pydata.org/pandas-docs/stable/user_guide/indexing.html#returning-a-view-versus-a-copy\n",
      "  lap.loc[:,'Interval']=lap['CumLapTime(s)'].diff().fillna(0)\n",
      "C:\\Users\\prabh\\AppData\\Local\\Temp\\ipykernel_15720\\4238679693.py:7: SettingWithCopyWarning: \n",
      "A value is trying to be set on a copy of a slice from a DataFrame.\n",
      "Try using .loc[row_indexer,col_indexer] = value instead\n",
      "\n",
      "See the caveats in the documentation: https://pandas.pydata.org/pandas-docs/stable/user_guide/indexing.html#returning-a-view-versus-a-copy\n",
      "  lap.loc[:,'GapToLeader']=lap['CumLapTime(s)']-leader_time\n",
      "C:\\Users\\prabh\\AppData\\Local\\Temp\\ipykernel_15720\\4238679693.py:8: SettingWithCopyWarning: \n",
      "A value is trying to be set on a copy of a slice from a DataFrame.\n",
      "Try using .loc[row_indexer,col_indexer] = value instead\n",
      "\n",
      "See the caveats in the documentation: https://pandas.pydata.org/pandas-docs/stable/user_guide/indexing.html#returning-a-view-versus-a-copy\n",
      "  lap.loc[:,'Interval']=lap['CumLapTime(s)'].diff().fillna(0)\n",
      "C:\\Users\\prabh\\AppData\\Local\\Temp\\ipykernel_15720\\4238679693.py:7: SettingWithCopyWarning: \n",
      "A value is trying to be set on a copy of a slice from a DataFrame.\n",
      "Try using .loc[row_indexer,col_indexer] = value instead\n",
      "\n",
      "See the caveats in the documentation: https://pandas.pydata.org/pandas-docs/stable/user_guide/indexing.html#returning-a-view-versus-a-copy\n",
      "  lap.loc[:,'GapToLeader']=lap['CumLapTime(s)']-leader_time\n",
      "C:\\Users\\prabh\\AppData\\Local\\Temp\\ipykernel_15720\\4238679693.py:8: SettingWithCopyWarning: \n",
      "A value is trying to be set on a copy of a slice from a DataFrame.\n",
      "Try using .loc[row_indexer,col_indexer] = value instead\n",
      "\n",
      "See the caveats in the documentation: https://pandas.pydata.org/pandas-docs/stable/user_guide/indexing.html#returning-a-view-versus-a-copy\n",
      "  lap.loc[:,'Interval']=lap['CumLapTime(s)'].diff().fillna(0)\n",
      "C:\\Users\\prabh\\AppData\\Local\\Temp\\ipykernel_15720\\4238679693.py:7: SettingWithCopyWarning: \n",
      "A value is trying to be set on a copy of a slice from a DataFrame.\n",
      "Try using .loc[row_indexer,col_indexer] = value instead\n",
      "\n",
      "See the caveats in the documentation: https://pandas.pydata.org/pandas-docs/stable/user_guide/indexing.html#returning-a-view-versus-a-copy\n",
      "  lap.loc[:,'GapToLeader']=lap['CumLapTime(s)']-leader_time\n",
      "C:\\Users\\prabh\\AppData\\Local\\Temp\\ipykernel_15720\\4238679693.py:8: SettingWithCopyWarning: \n",
      "A value is trying to be set on a copy of a slice from a DataFrame.\n",
      "Try using .loc[row_indexer,col_indexer] = value instead\n",
      "\n",
      "See the caveats in the documentation: https://pandas.pydata.org/pandas-docs/stable/user_guide/indexing.html#returning-a-view-versus-a-copy\n",
      "  lap.loc[:,'Interval']=lap['CumLapTime(s)'].diff().fillna(0)\n",
      "C:\\Users\\prabh\\AppData\\Local\\Temp\\ipykernel_15720\\4238679693.py:7: SettingWithCopyWarning: \n",
      "A value is trying to be set on a copy of a slice from a DataFrame.\n",
      "Try using .loc[row_indexer,col_indexer] = value instead\n",
      "\n",
      "See the caveats in the documentation: https://pandas.pydata.org/pandas-docs/stable/user_guide/indexing.html#returning-a-view-versus-a-copy\n",
      "  lap.loc[:,'GapToLeader']=lap['CumLapTime(s)']-leader_time\n",
      "C:\\Users\\prabh\\AppData\\Local\\Temp\\ipykernel_15720\\4238679693.py:8: SettingWithCopyWarning: \n",
      "A value is trying to be set on a copy of a slice from a DataFrame.\n",
      "Try using .loc[row_indexer,col_indexer] = value instead\n",
      "\n",
      "See the caveats in the documentation: https://pandas.pydata.org/pandas-docs/stable/user_guide/indexing.html#returning-a-view-versus-a-copy\n",
      "  lap.loc[:,'Interval']=lap['CumLapTime(s)'].diff().fillna(0)\n",
      "C:\\Users\\prabh\\AppData\\Local\\Temp\\ipykernel_15720\\4238679693.py:7: SettingWithCopyWarning: \n",
      "A value is trying to be set on a copy of a slice from a DataFrame.\n",
      "Try using .loc[row_indexer,col_indexer] = value instead\n",
      "\n",
      "See the caveats in the documentation: https://pandas.pydata.org/pandas-docs/stable/user_guide/indexing.html#returning-a-view-versus-a-copy\n",
      "  lap.loc[:,'GapToLeader']=lap['CumLapTime(s)']-leader_time\n",
      "C:\\Users\\prabh\\AppData\\Local\\Temp\\ipykernel_15720\\4238679693.py:8: SettingWithCopyWarning: \n",
      "A value is trying to be set on a copy of a slice from a DataFrame.\n",
      "Try using .loc[row_indexer,col_indexer] = value instead\n",
      "\n",
      "See the caveats in the documentation: https://pandas.pydata.org/pandas-docs/stable/user_guide/indexing.html#returning-a-view-versus-a-copy\n",
      "  lap.loc[:,'Interval']=lap['CumLapTime(s)'].diff().fillna(0)\n",
      "C:\\Users\\prabh\\AppData\\Local\\Temp\\ipykernel_15720\\4238679693.py:7: SettingWithCopyWarning: \n",
      "A value is trying to be set on a copy of a slice from a DataFrame.\n",
      "Try using .loc[row_indexer,col_indexer] = value instead\n",
      "\n",
      "See the caveats in the documentation: https://pandas.pydata.org/pandas-docs/stable/user_guide/indexing.html#returning-a-view-versus-a-copy\n",
      "  lap.loc[:,'GapToLeader']=lap['CumLapTime(s)']-leader_time\n",
      "C:\\Users\\prabh\\AppData\\Local\\Temp\\ipykernel_15720\\4238679693.py:8: SettingWithCopyWarning: \n",
      "A value is trying to be set on a copy of a slice from a DataFrame.\n",
      "Try using .loc[row_indexer,col_indexer] = value instead\n",
      "\n",
      "See the caveats in the documentation: https://pandas.pydata.org/pandas-docs/stable/user_guide/indexing.html#returning-a-view-versus-a-copy\n",
      "  lap.loc[:,'Interval']=lap['CumLapTime(s)'].diff().fillna(0)\n",
      "C:\\Users\\prabh\\AppData\\Local\\Temp\\ipykernel_15720\\4238679693.py:7: SettingWithCopyWarning: \n",
      "A value is trying to be set on a copy of a slice from a DataFrame.\n",
      "Try using .loc[row_indexer,col_indexer] = value instead\n",
      "\n",
      "See the caveats in the documentation: https://pandas.pydata.org/pandas-docs/stable/user_guide/indexing.html#returning-a-view-versus-a-copy\n",
      "  lap.loc[:,'GapToLeader']=lap['CumLapTime(s)']-leader_time\n",
      "C:\\Users\\prabh\\AppData\\Local\\Temp\\ipykernel_15720\\4238679693.py:8: SettingWithCopyWarning: \n",
      "A value is trying to be set on a copy of a slice from a DataFrame.\n",
      "Try using .loc[row_indexer,col_indexer] = value instead\n",
      "\n",
      "See the caveats in the documentation: https://pandas.pydata.org/pandas-docs/stable/user_guide/indexing.html#returning-a-view-versus-a-copy\n",
      "  lap.loc[:,'Interval']=lap['CumLapTime(s)'].diff().fillna(0)\n",
      "C:\\Users\\prabh\\AppData\\Local\\Temp\\ipykernel_15720\\4238679693.py:7: SettingWithCopyWarning: \n",
      "A value is trying to be set on a copy of a slice from a DataFrame.\n",
      "Try using .loc[row_indexer,col_indexer] = value instead\n",
      "\n",
      "See the caveats in the documentation: https://pandas.pydata.org/pandas-docs/stable/user_guide/indexing.html#returning-a-view-versus-a-copy\n",
      "  lap.loc[:,'GapToLeader']=lap['CumLapTime(s)']-leader_time\n",
      "C:\\Users\\prabh\\AppData\\Local\\Temp\\ipykernel_15720\\4238679693.py:8: SettingWithCopyWarning: \n",
      "A value is trying to be set on a copy of a slice from a DataFrame.\n",
      "Try using .loc[row_indexer,col_indexer] = value instead\n",
      "\n",
      "See the caveats in the documentation: https://pandas.pydata.org/pandas-docs/stable/user_guide/indexing.html#returning-a-view-versus-a-copy\n",
      "  lap.loc[:,'Interval']=lap['CumLapTime(s)'].diff().fillna(0)\n",
      "C:\\Users\\prabh\\AppData\\Local\\Temp\\ipykernel_15720\\4238679693.py:7: SettingWithCopyWarning: \n",
      "A value is trying to be set on a copy of a slice from a DataFrame.\n",
      "Try using .loc[row_indexer,col_indexer] = value instead\n",
      "\n",
      "See the caveats in the documentation: https://pandas.pydata.org/pandas-docs/stable/user_guide/indexing.html#returning-a-view-versus-a-copy\n",
      "  lap.loc[:,'GapToLeader']=lap['CumLapTime(s)']-leader_time\n",
      "C:\\Users\\prabh\\AppData\\Local\\Temp\\ipykernel_15720\\4238679693.py:8: SettingWithCopyWarning: \n",
      "A value is trying to be set on a copy of a slice from a DataFrame.\n",
      "Try using .loc[row_indexer,col_indexer] = value instead\n",
      "\n",
      "See the caveats in the documentation: https://pandas.pydata.org/pandas-docs/stable/user_guide/indexing.html#returning-a-view-versus-a-copy\n",
      "  lap.loc[:,'Interval']=lap['CumLapTime(s)'].diff().fillna(0)\n",
      "C:\\Users\\prabh\\AppData\\Local\\Temp\\ipykernel_15720\\4238679693.py:7: SettingWithCopyWarning: \n",
      "A value is trying to be set on a copy of a slice from a DataFrame.\n",
      "Try using .loc[row_indexer,col_indexer] = value instead\n",
      "\n",
      "See the caveats in the documentation: https://pandas.pydata.org/pandas-docs/stable/user_guide/indexing.html#returning-a-view-versus-a-copy\n",
      "  lap.loc[:,'GapToLeader']=lap['CumLapTime(s)']-leader_time\n",
      "C:\\Users\\prabh\\AppData\\Local\\Temp\\ipykernel_15720\\4238679693.py:8: SettingWithCopyWarning: \n",
      "A value is trying to be set on a copy of a slice from a DataFrame.\n",
      "Try using .loc[row_indexer,col_indexer] = value instead\n",
      "\n",
      "See the caveats in the documentation: https://pandas.pydata.org/pandas-docs/stable/user_guide/indexing.html#returning-a-view-versus-a-copy\n",
      "  lap.loc[:,'Interval']=lap['CumLapTime(s)'].diff().fillna(0)\n",
      "C:\\Users\\prabh\\AppData\\Local\\Temp\\ipykernel_15720\\4238679693.py:7: SettingWithCopyWarning: \n",
      "A value is trying to be set on a copy of a slice from a DataFrame.\n",
      "Try using .loc[row_indexer,col_indexer] = value instead\n",
      "\n",
      "See the caveats in the documentation: https://pandas.pydata.org/pandas-docs/stable/user_guide/indexing.html#returning-a-view-versus-a-copy\n",
      "  lap.loc[:,'GapToLeader']=lap['CumLapTime(s)']-leader_time\n",
      "C:\\Users\\prabh\\AppData\\Local\\Temp\\ipykernel_15720\\4238679693.py:8: SettingWithCopyWarning: \n",
      "A value is trying to be set on a copy of a slice from a DataFrame.\n",
      "Try using .loc[row_indexer,col_indexer] = value instead\n",
      "\n",
      "See the caveats in the documentation: https://pandas.pydata.org/pandas-docs/stable/user_guide/indexing.html#returning-a-view-versus-a-copy\n",
      "  lap.loc[:,'Interval']=lap['CumLapTime(s)'].diff().fillna(0)\n",
      "C:\\Users\\prabh\\AppData\\Local\\Temp\\ipykernel_15720\\4238679693.py:7: SettingWithCopyWarning: \n",
      "A value is trying to be set on a copy of a slice from a DataFrame.\n",
      "Try using .loc[row_indexer,col_indexer] = value instead\n",
      "\n",
      "See the caveats in the documentation: https://pandas.pydata.org/pandas-docs/stable/user_guide/indexing.html#returning-a-view-versus-a-copy\n",
      "  lap.loc[:,'GapToLeader']=lap['CumLapTime(s)']-leader_time\n",
      "C:\\Users\\prabh\\AppData\\Local\\Temp\\ipykernel_15720\\4238679693.py:8: SettingWithCopyWarning: \n",
      "A value is trying to be set on a copy of a slice from a DataFrame.\n",
      "Try using .loc[row_indexer,col_indexer] = value instead\n",
      "\n",
      "See the caveats in the documentation: https://pandas.pydata.org/pandas-docs/stable/user_guide/indexing.html#returning-a-view-versus-a-copy\n",
      "  lap.loc[:,'Interval']=lap['CumLapTime(s)'].diff().fillna(0)\n",
      "C:\\Users\\prabh\\AppData\\Local\\Temp\\ipykernel_15720\\4238679693.py:7: SettingWithCopyWarning: \n",
      "A value is trying to be set on a copy of a slice from a DataFrame.\n",
      "Try using .loc[row_indexer,col_indexer] = value instead\n",
      "\n",
      "See the caveats in the documentation: https://pandas.pydata.org/pandas-docs/stable/user_guide/indexing.html#returning-a-view-versus-a-copy\n",
      "  lap.loc[:,'GapToLeader']=lap['CumLapTime(s)']-leader_time\n",
      "C:\\Users\\prabh\\AppData\\Local\\Temp\\ipykernel_15720\\4238679693.py:8: SettingWithCopyWarning: \n",
      "A value is trying to be set on a copy of a slice from a DataFrame.\n",
      "Try using .loc[row_indexer,col_indexer] = value instead\n",
      "\n",
      "See the caveats in the documentation: https://pandas.pydata.org/pandas-docs/stable/user_guide/indexing.html#returning-a-view-versus-a-copy\n",
      "  lap.loc[:,'Interval']=lap['CumLapTime(s)'].diff().fillna(0)\n",
      "C:\\Users\\prabh\\AppData\\Local\\Temp\\ipykernel_15720\\4238679693.py:7: SettingWithCopyWarning: \n",
      "A value is trying to be set on a copy of a slice from a DataFrame.\n",
      "Try using .loc[row_indexer,col_indexer] = value instead\n",
      "\n",
      "See the caveats in the documentation: https://pandas.pydata.org/pandas-docs/stable/user_guide/indexing.html#returning-a-view-versus-a-copy\n",
      "  lap.loc[:,'GapToLeader']=lap['CumLapTime(s)']-leader_time\n",
      "C:\\Users\\prabh\\AppData\\Local\\Temp\\ipykernel_15720\\4238679693.py:8: SettingWithCopyWarning: \n",
      "A value is trying to be set on a copy of a slice from a DataFrame.\n",
      "Try using .loc[row_indexer,col_indexer] = value instead\n",
      "\n",
      "See the caveats in the documentation: https://pandas.pydata.org/pandas-docs/stable/user_guide/indexing.html#returning-a-view-versus-a-copy\n",
      "  lap.loc[:,'Interval']=lap['CumLapTime(s)'].diff().fillna(0)\n",
      "C:\\Users\\prabh\\AppData\\Local\\Temp\\ipykernel_15720\\4238679693.py:7: SettingWithCopyWarning: \n",
      "A value is trying to be set on a copy of a slice from a DataFrame.\n",
      "Try using .loc[row_indexer,col_indexer] = value instead\n",
      "\n",
      "See the caveats in the documentation: https://pandas.pydata.org/pandas-docs/stable/user_guide/indexing.html#returning-a-view-versus-a-copy\n",
      "  lap.loc[:,'GapToLeader']=lap['CumLapTime(s)']-leader_time\n",
      "C:\\Users\\prabh\\AppData\\Local\\Temp\\ipykernel_15720\\4238679693.py:8: SettingWithCopyWarning: \n",
      "A value is trying to be set on a copy of a slice from a DataFrame.\n",
      "Try using .loc[row_indexer,col_indexer] = value instead\n",
      "\n",
      "See the caveats in the documentation: https://pandas.pydata.org/pandas-docs/stable/user_guide/indexing.html#returning-a-view-versus-a-copy\n",
      "  lap.loc[:,'Interval']=lap['CumLapTime(s)'].diff().fillna(0)\n",
      "C:\\Users\\prabh\\AppData\\Local\\Temp\\ipykernel_15720\\4238679693.py:7: SettingWithCopyWarning: \n",
      "A value is trying to be set on a copy of a slice from a DataFrame.\n",
      "Try using .loc[row_indexer,col_indexer] = value instead\n",
      "\n",
      "See the caveats in the documentation: https://pandas.pydata.org/pandas-docs/stable/user_guide/indexing.html#returning-a-view-versus-a-copy\n",
      "  lap.loc[:,'GapToLeader']=lap['CumLapTime(s)']-leader_time\n",
      "C:\\Users\\prabh\\AppData\\Local\\Temp\\ipykernel_15720\\4238679693.py:8: SettingWithCopyWarning: \n",
      "A value is trying to be set on a copy of a slice from a DataFrame.\n",
      "Try using .loc[row_indexer,col_indexer] = value instead\n",
      "\n",
      "See the caveats in the documentation: https://pandas.pydata.org/pandas-docs/stable/user_guide/indexing.html#returning-a-view-versus-a-copy\n",
      "  lap.loc[:,'Interval']=lap['CumLapTime(s)'].diff().fillna(0)\n",
      "C:\\Users\\prabh\\AppData\\Local\\Temp\\ipykernel_15720\\4238679693.py:7: SettingWithCopyWarning: \n",
      "A value is trying to be set on a copy of a slice from a DataFrame.\n",
      "Try using .loc[row_indexer,col_indexer] = value instead\n",
      "\n",
      "See the caveats in the documentation: https://pandas.pydata.org/pandas-docs/stable/user_guide/indexing.html#returning-a-view-versus-a-copy\n",
      "  lap.loc[:,'GapToLeader']=lap['CumLapTime(s)']-leader_time\n",
      "C:\\Users\\prabh\\AppData\\Local\\Temp\\ipykernel_15720\\4238679693.py:8: SettingWithCopyWarning: \n",
      "A value is trying to be set on a copy of a slice from a DataFrame.\n",
      "Try using .loc[row_indexer,col_indexer] = value instead\n",
      "\n",
      "See the caveats in the documentation: https://pandas.pydata.org/pandas-docs/stable/user_guide/indexing.html#returning-a-view-versus-a-copy\n",
      "  lap.loc[:,'Interval']=lap['CumLapTime(s)'].diff().fillna(0)\n",
      "C:\\Users\\prabh\\AppData\\Local\\Temp\\ipykernel_15720\\4238679693.py:7: SettingWithCopyWarning: \n",
      "A value is trying to be set on a copy of a slice from a DataFrame.\n",
      "Try using .loc[row_indexer,col_indexer] = value instead\n",
      "\n",
      "See the caveats in the documentation: https://pandas.pydata.org/pandas-docs/stable/user_guide/indexing.html#returning-a-view-versus-a-copy\n",
      "  lap.loc[:,'GapToLeader']=lap['CumLapTime(s)']-leader_time\n",
      "C:\\Users\\prabh\\AppData\\Local\\Temp\\ipykernel_15720\\4238679693.py:8: SettingWithCopyWarning: \n",
      "A value is trying to be set on a copy of a slice from a DataFrame.\n",
      "Try using .loc[row_indexer,col_indexer] = value instead\n",
      "\n",
      "See the caveats in the documentation: https://pandas.pydata.org/pandas-docs/stable/user_guide/indexing.html#returning-a-view-versus-a-copy\n",
      "  lap.loc[:,'Interval']=lap['CumLapTime(s)'].diff().fillna(0)\n",
      "C:\\Users\\prabh\\AppData\\Local\\Temp\\ipykernel_15720\\4238679693.py:7: SettingWithCopyWarning: \n",
      "A value is trying to be set on a copy of a slice from a DataFrame.\n",
      "Try using .loc[row_indexer,col_indexer] = value instead\n",
      "\n",
      "See the caveats in the documentation: https://pandas.pydata.org/pandas-docs/stable/user_guide/indexing.html#returning-a-view-versus-a-copy\n",
      "  lap.loc[:,'GapToLeader']=lap['CumLapTime(s)']-leader_time\n",
      "C:\\Users\\prabh\\AppData\\Local\\Temp\\ipykernel_15720\\4238679693.py:8: SettingWithCopyWarning: \n",
      "A value is trying to be set on a copy of a slice from a DataFrame.\n",
      "Try using .loc[row_indexer,col_indexer] = value instead\n",
      "\n",
      "See the caveats in the documentation: https://pandas.pydata.org/pandas-docs/stable/user_guide/indexing.html#returning-a-view-versus-a-copy\n",
      "  lap.loc[:,'Interval']=lap['CumLapTime(s)'].diff().fillna(0)\n",
      "C:\\Users\\prabh\\AppData\\Local\\Temp\\ipykernel_15720\\4238679693.py:7: SettingWithCopyWarning: \n",
      "A value is trying to be set on a copy of a slice from a DataFrame.\n",
      "Try using .loc[row_indexer,col_indexer] = value instead\n",
      "\n",
      "See the caveats in the documentation: https://pandas.pydata.org/pandas-docs/stable/user_guide/indexing.html#returning-a-view-versus-a-copy\n",
      "  lap.loc[:,'GapToLeader']=lap['CumLapTime(s)']-leader_time\n",
      "C:\\Users\\prabh\\AppData\\Local\\Temp\\ipykernel_15720\\4238679693.py:8: SettingWithCopyWarning: \n",
      "A value is trying to be set on a copy of a slice from a DataFrame.\n",
      "Try using .loc[row_indexer,col_indexer] = value instead\n",
      "\n",
      "See the caveats in the documentation: https://pandas.pydata.org/pandas-docs/stable/user_guide/indexing.html#returning-a-view-versus-a-copy\n",
      "  lap.loc[:,'Interval']=lap['CumLapTime(s)'].diff().fillna(0)\n",
      "C:\\Users\\prabh\\AppData\\Local\\Temp\\ipykernel_15720\\4238679693.py:7: SettingWithCopyWarning: \n",
      "A value is trying to be set on a copy of a slice from a DataFrame.\n",
      "Try using .loc[row_indexer,col_indexer] = value instead\n",
      "\n",
      "See the caveats in the documentation: https://pandas.pydata.org/pandas-docs/stable/user_guide/indexing.html#returning-a-view-versus-a-copy\n",
      "  lap.loc[:,'GapToLeader']=lap['CumLapTime(s)']-leader_time\n",
      "C:\\Users\\prabh\\AppData\\Local\\Temp\\ipykernel_15720\\4238679693.py:8: SettingWithCopyWarning: \n",
      "A value is trying to be set on a copy of a slice from a DataFrame.\n",
      "Try using .loc[row_indexer,col_indexer] = value instead\n",
      "\n",
      "See the caveats in the documentation: https://pandas.pydata.org/pandas-docs/stable/user_guide/indexing.html#returning-a-view-versus-a-copy\n",
      "  lap.loc[:,'Interval']=lap['CumLapTime(s)'].diff().fillna(0)\n",
      "C:\\Users\\prabh\\AppData\\Local\\Temp\\ipykernel_15720\\4238679693.py:7: SettingWithCopyWarning: \n",
      "A value is trying to be set on a copy of a slice from a DataFrame.\n",
      "Try using .loc[row_indexer,col_indexer] = value instead\n",
      "\n",
      "See the caveats in the documentation: https://pandas.pydata.org/pandas-docs/stable/user_guide/indexing.html#returning-a-view-versus-a-copy\n",
      "  lap.loc[:,'GapToLeader']=lap['CumLapTime(s)']-leader_time\n",
      "C:\\Users\\prabh\\AppData\\Local\\Temp\\ipykernel_15720\\4238679693.py:8: SettingWithCopyWarning: \n",
      "A value is trying to be set on a copy of a slice from a DataFrame.\n",
      "Try using .loc[row_indexer,col_indexer] = value instead\n",
      "\n",
      "See the caveats in the documentation: https://pandas.pydata.org/pandas-docs/stable/user_guide/indexing.html#returning-a-view-versus-a-copy\n",
      "  lap.loc[:,'Interval']=lap['CumLapTime(s)'].diff().fillna(0)\n",
      "C:\\Users\\prabh\\AppData\\Local\\Temp\\ipykernel_15720\\4238679693.py:7: SettingWithCopyWarning: \n",
      "A value is trying to be set on a copy of a slice from a DataFrame.\n",
      "Try using .loc[row_indexer,col_indexer] = value instead\n",
      "\n",
      "See the caveats in the documentation: https://pandas.pydata.org/pandas-docs/stable/user_guide/indexing.html#returning-a-view-versus-a-copy\n",
      "  lap.loc[:,'GapToLeader']=lap['CumLapTime(s)']-leader_time\n",
      "C:\\Users\\prabh\\AppData\\Local\\Temp\\ipykernel_15720\\4238679693.py:8: SettingWithCopyWarning: \n",
      "A value is trying to be set on a copy of a slice from a DataFrame.\n",
      "Try using .loc[row_indexer,col_indexer] = value instead\n",
      "\n",
      "See the caveats in the documentation: https://pandas.pydata.org/pandas-docs/stable/user_guide/indexing.html#returning-a-view-versus-a-copy\n",
      "  lap.loc[:,'Interval']=lap['CumLapTime(s)'].diff().fillna(0)\n",
      "C:\\Users\\prabh\\AppData\\Local\\Temp\\ipykernel_15720\\4238679693.py:7: SettingWithCopyWarning: \n",
      "A value is trying to be set on a copy of a slice from a DataFrame.\n",
      "Try using .loc[row_indexer,col_indexer] = value instead\n",
      "\n",
      "See the caveats in the documentation: https://pandas.pydata.org/pandas-docs/stable/user_guide/indexing.html#returning-a-view-versus-a-copy\n",
      "  lap.loc[:,'GapToLeader']=lap['CumLapTime(s)']-leader_time\n",
      "C:\\Users\\prabh\\AppData\\Local\\Temp\\ipykernel_15720\\4238679693.py:8: SettingWithCopyWarning: \n",
      "A value is trying to be set on a copy of a slice from a DataFrame.\n",
      "Try using .loc[row_indexer,col_indexer] = value instead\n",
      "\n",
      "See the caveats in the documentation: https://pandas.pydata.org/pandas-docs/stable/user_guide/indexing.html#returning-a-view-versus-a-copy\n",
      "  lap.loc[:,'Interval']=lap['CumLapTime(s)'].diff().fillna(0)\n",
      "C:\\Users\\prabh\\AppData\\Local\\Temp\\ipykernel_15720\\4238679693.py:7: SettingWithCopyWarning: \n",
      "A value is trying to be set on a copy of a slice from a DataFrame.\n",
      "Try using .loc[row_indexer,col_indexer] = value instead\n",
      "\n",
      "See the caveats in the documentation: https://pandas.pydata.org/pandas-docs/stable/user_guide/indexing.html#returning-a-view-versus-a-copy\n",
      "  lap.loc[:,'GapToLeader']=lap['CumLapTime(s)']-leader_time\n",
      "C:\\Users\\prabh\\AppData\\Local\\Temp\\ipykernel_15720\\4238679693.py:8: SettingWithCopyWarning: \n",
      "A value is trying to be set on a copy of a slice from a DataFrame.\n",
      "Try using .loc[row_indexer,col_indexer] = value instead\n",
      "\n",
      "See the caveats in the documentation: https://pandas.pydata.org/pandas-docs/stable/user_guide/indexing.html#returning-a-view-versus-a-copy\n",
      "  lap.loc[:,'Interval']=lap['CumLapTime(s)'].diff().fillna(0)\n",
      "C:\\Users\\prabh\\AppData\\Local\\Temp\\ipykernel_15720\\4238679693.py:7: SettingWithCopyWarning: \n",
      "A value is trying to be set on a copy of a slice from a DataFrame.\n",
      "Try using .loc[row_indexer,col_indexer] = value instead\n",
      "\n",
      "See the caveats in the documentation: https://pandas.pydata.org/pandas-docs/stable/user_guide/indexing.html#returning-a-view-versus-a-copy\n",
      "  lap.loc[:,'GapToLeader']=lap['CumLapTime(s)']-leader_time\n",
      "C:\\Users\\prabh\\AppData\\Local\\Temp\\ipykernel_15720\\4238679693.py:8: SettingWithCopyWarning: \n",
      "A value is trying to be set on a copy of a slice from a DataFrame.\n",
      "Try using .loc[row_indexer,col_indexer] = value instead\n",
      "\n",
      "See the caveats in the documentation: https://pandas.pydata.org/pandas-docs/stable/user_guide/indexing.html#returning-a-view-versus-a-copy\n",
      "  lap.loc[:,'Interval']=lap['CumLapTime(s)'].diff().fillna(0)\n",
      "C:\\Users\\prabh\\AppData\\Local\\Temp\\ipykernel_15720\\4238679693.py:7: SettingWithCopyWarning: \n",
      "A value is trying to be set on a copy of a slice from a DataFrame.\n",
      "Try using .loc[row_indexer,col_indexer] = value instead\n",
      "\n",
      "See the caveats in the documentation: https://pandas.pydata.org/pandas-docs/stable/user_guide/indexing.html#returning-a-view-versus-a-copy\n",
      "  lap.loc[:,'GapToLeader']=lap['CumLapTime(s)']-leader_time\n",
      "C:\\Users\\prabh\\AppData\\Local\\Temp\\ipykernel_15720\\4238679693.py:8: SettingWithCopyWarning: \n",
      "A value is trying to be set on a copy of a slice from a DataFrame.\n",
      "Try using .loc[row_indexer,col_indexer] = value instead\n",
      "\n",
      "See the caveats in the documentation: https://pandas.pydata.org/pandas-docs/stable/user_guide/indexing.html#returning-a-view-versus-a-copy\n",
      "  lap.loc[:,'Interval']=lap['CumLapTime(s)'].diff().fillna(0)\n",
      "C:\\Users\\prabh\\AppData\\Local\\Temp\\ipykernel_15720\\4238679693.py:7: SettingWithCopyWarning: \n",
      "A value is trying to be set on a copy of a slice from a DataFrame.\n",
      "Try using .loc[row_indexer,col_indexer] = value instead\n",
      "\n",
      "See the caveats in the documentation: https://pandas.pydata.org/pandas-docs/stable/user_guide/indexing.html#returning-a-view-versus-a-copy\n",
      "  lap.loc[:,'GapToLeader']=lap['CumLapTime(s)']-leader_time\n",
      "C:\\Users\\prabh\\AppData\\Local\\Temp\\ipykernel_15720\\4238679693.py:8: SettingWithCopyWarning: \n",
      "A value is trying to be set on a copy of a slice from a DataFrame.\n",
      "Try using .loc[row_indexer,col_indexer] = value instead\n",
      "\n",
      "See the caveats in the documentation: https://pandas.pydata.org/pandas-docs/stable/user_guide/indexing.html#returning-a-view-versus-a-copy\n",
      "  lap.loc[:,'Interval']=lap['CumLapTime(s)'].diff().fillna(0)\n",
      "C:\\Users\\prabh\\AppData\\Local\\Temp\\ipykernel_15720\\4238679693.py:7: SettingWithCopyWarning: \n",
      "A value is trying to be set on a copy of a slice from a DataFrame.\n",
      "Try using .loc[row_indexer,col_indexer] = value instead\n",
      "\n",
      "See the caveats in the documentation: https://pandas.pydata.org/pandas-docs/stable/user_guide/indexing.html#returning-a-view-versus-a-copy\n",
      "  lap.loc[:,'GapToLeader']=lap['CumLapTime(s)']-leader_time\n",
      "C:\\Users\\prabh\\AppData\\Local\\Temp\\ipykernel_15720\\4238679693.py:8: SettingWithCopyWarning: \n",
      "A value is trying to be set on a copy of a slice from a DataFrame.\n",
      "Try using .loc[row_indexer,col_indexer] = value instead\n",
      "\n",
      "See the caveats in the documentation: https://pandas.pydata.org/pandas-docs/stable/user_guide/indexing.html#returning-a-view-versus-a-copy\n",
      "  lap.loc[:,'Interval']=lap['CumLapTime(s)'].diff().fillna(0)\n",
      "C:\\Users\\prabh\\AppData\\Local\\Temp\\ipykernel_15720\\4238679693.py:7: SettingWithCopyWarning: \n",
      "A value is trying to be set on a copy of a slice from a DataFrame.\n",
      "Try using .loc[row_indexer,col_indexer] = value instead\n",
      "\n",
      "See the caveats in the documentation: https://pandas.pydata.org/pandas-docs/stable/user_guide/indexing.html#returning-a-view-versus-a-copy\n",
      "  lap.loc[:,'GapToLeader']=lap['CumLapTime(s)']-leader_time\n",
      "C:\\Users\\prabh\\AppData\\Local\\Temp\\ipykernel_15720\\4238679693.py:8: SettingWithCopyWarning: \n",
      "A value is trying to be set on a copy of a slice from a DataFrame.\n",
      "Try using .loc[row_indexer,col_indexer] = value instead\n",
      "\n",
      "See the caveats in the documentation: https://pandas.pydata.org/pandas-docs/stable/user_guide/indexing.html#returning-a-view-versus-a-copy\n",
      "  lap.loc[:,'Interval']=lap['CumLapTime(s)'].diff().fillna(0)\n",
      "C:\\Users\\prabh\\AppData\\Local\\Temp\\ipykernel_15720\\4238679693.py:7: SettingWithCopyWarning: \n",
      "A value is trying to be set on a copy of a slice from a DataFrame.\n",
      "Try using .loc[row_indexer,col_indexer] = value instead\n",
      "\n",
      "See the caveats in the documentation: https://pandas.pydata.org/pandas-docs/stable/user_guide/indexing.html#returning-a-view-versus-a-copy\n",
      "  lap.loc[:,'GapToLeader']=lap['CumLapTime(s)']-leader_time\n",
      "C:\\Users\\prabh\\AppData\\Local\\Temp\\ipykernel_15720\\4238679693.py:8: SettingWithCopyWarning: \n",
      "A value is trying to be set on a copy of a slice from a DataFrame.\n",
      "Try using .loc[row_indexer,col_indexer] = value instead\n",
      "\n",
      "See the caveats in the documentation: https://pandas.pydata.org/pandas-docs/stable/user_guide/indexing.html#returning-a-view-versus-a-copy\n",
      "  lap.loc[:,'Interval']=lap['CumLapTime(s)'].diff().fillna(0)\n",
      "C:\\Users\\prabh\\AppData\\Local\\Temp\\ipykernel_15720\\4238679693.py:7: SettingWithCopyWarning: \n",
      "A value is trying to be set on a copy of a slice from a DataFrame.\n",
      "Try using .loc[row_indexer,col_indexer] = value instead\n",
      "\n",
      "See the caveats in the documentation: https://pandas.pydata.org/pandas-docs/stable/user_guide/indexing.html#returning-a-view-versus-a-copy\n",
      "  lap.loc[:,'GapToLeader']=lap['CumLapTime(s)']-leader_time\n",
      "C:\\Users\\prabh\\AppData\\Local\\Temp\\ipykernel_15720\\4238679693.py:8: SettingWithCopyWarning: \n",
      "A value is trying to be set on a copy of a slice from a DataFrame.\n",
      "Try using .loc[row_indexer,col_indexer] = value instead\n",
      "\n",
      "See the caveats in the documentation: https://pandas.pydata.org/pandas-docs/stable/user_guide/indexing.html#returning-a-view-versus-a-copy\n",
      "  lap.loc[:,'Interval']=lap['CumLapTime(s)'].diff().fillna(0)\n",
      "C:\\Users\\prabh\\AppData\\Local\\Temp\\ipykernel_15720\\4238679693.py:7: SettingWithCopyWarning: \n",
      "A value is trying to be set on a copy of a slice from a DataFrame.\n",
      "Try using .loc[row_indexer,col_indexer] = value instead\n",
      "\n",
      "See the caveats in the documentation: https://pandas.pydata.org/pandas-docs/stable/user_guide/indexing.html#returning-a-view-versus-a-copy\n",
      "  lap.loc[:,'GapToLeader']=lap['CumLapTime(s)']-leader_time\n",
      "C:\\Users\\prabh\\AppData\\Local\\Temp\\ipykernel_15720\\4238679693.py:8: SettingWithCopyWarning: \n",
      "A value is trying to be set on a copy of a slice from a DataFrame.\n",
      "Try using .loc[row_indexer,col_indexer] = value instead\n",
      "\n",
      "See the caveats in the documentation: https://pandas.pydata.org/pandas-docs/stable/user_guide/indexing.html#returning-a-view-versus-a-copy\n",
      "  lap.loc[:,'Interval']=lap['CumLapTime(s)'].diff().fillna(0)\n",
      "C:\\Users\\prabh\\AppData\\Local\\Temp\\ipykernel_15720\\4238679693.py:7: SettingWithCopyWarning: \n",
      "A value is trying to be set on a copy of a slice from a DataFrame.\n",
      "Try using .loc[row_indexer,col_indexer] = value instead\n",
      "\n",
      "See the caveats in the documentation: https://pandas.pydata.org/pandas-docs/stable/user_guide/indexing.html#returning-a-view-versus-a-copy\n",
      "  lap.loc[:,'GapToLeader']=lap['CumLapTime(s)']-leader_time\n",
      "C:\\Users\\prabh\\AppData\\Local\\Temp\\ipykernel_15720\\4238679693.py:8: SettingWithCopyWarning: \n",
      "A value is trying to be set on a copy of a slice from a DataFrame.\n",
      "Try using .loc[row_indexer,col_indexer] = value instead\n",
      "\n",
      "See the caveats in the documentation: https://pandas.pydata.org/pandas-docs/stable/user_guide/indexing.html#returning-a-view-versus-a-copy\n",
      "  lap.loc[:,'Interval']=lap['CumLapTime(s)'].diff().fillna(0)\n",
      "C:\\Users\\prabh\\AppData\\Local\\Temp\\ipykernel_15720\\4238679693.py:7: SettingWithCopyWarning: \n",
      "A value is trying to be set on a copy of a slice from a DataFrame.\n",
      "Try using .loc[row_indexer,col_indexer] = value instead\n",
      "\n",
      "See the caveats in the documentation: https://pandas.pydata.org/pandas-docs/stable/user_guide/indexing.html#returning-a-view-versus-a-copy\n",
      "  lap.loc[:,'GapToLeader']=lap['CumLapTime(s)']-leader_time\n",
      "C:\\Users\\prabh\\AppData\\Local\\Temp\\ipykernel_15720\\4238679693.py:8: SettingWithCopyWarning: \n",
      "A value is trying to be set on a copy of a slice from a DataFrame.\n",
      "Try using .loc[row_indexer,col_indexer] = value instead\n",
      "\n",
      "See the caveats in the documentation: https://pandas.pydata.org/pandas-docs/stable/user_guide/indexing.html#returning-a-view-versus-a-copy\n",
      "  lap.loc[:,'Interval']=lap['CumLapTime(s)'].diff().fillna(0)\n",
      "C:\\Users\\prabh\\AppData\\Local\\Temp\\ipykernel_15720\\4238679693.py:7: SettingWithCopyWarning: \n",
      "A value is trying to be set on a copy of a slice from a DataFrame.\n",
      "Try using .loc[row_indexer,col_indexer] = value instead\n",
      "\n",
      "See the caveats in the documentation: https://pandas.pydata.org/pandas-docs/stable/user_guide/indexing.html#returning-a-view-versus-a-copy\n",
      "  lap.loc[:,'GapToLeader']=lap['CumLapTime(s)']-leader_time\n",
      "C:\\Users\\prabh\\AppData\\Local\\Temp\\ipykernel_15720\\4238679693.py:8: SettingWithCopyWarning: \n",
      "A value is trying to be set on a copy of a slice from a DataFrame.\n",
      "Try using .loc[row_indexer,col_indexer] = value instead\n",
      "\n",
      "See the caveats in the documentation: https://pandas.pydata.org/pandas-docs/stable/user_guide/indexing.html#returning-a-view-versus-a-copy\n",
      "  lap.loc[:,'Interval']=lap['CumLapTime(s)'].diff().fillna(0)\n",
      "C:\\Users\\prabh\\AppData\\Local\\Temp\\ipykernel_15720\\4238679693.py:7: SettingWithCopyWarning: \n",
      "A value is trying to be set on a copy of a slice from a DataFrame.\n",
      "Try using .loc[row_indexer,col_indexer] = value instead\n",
      "\n",
      "See the caveats in the documentation: https://pandas.pydata.org/pandas-docs/stable/user_guide/indexing.html#returning-a-view-versus-a-copy\n",
      "  lap.loc[:,'GapToLeader']=lap['CumLapTime(s)']-leader_time\n",
      "C:\\Users\\prabh\\AppData\\Local\\Temp\\ipykernel_15720\\4238679693.py:8: SettingWithCopyWarning: \n",
      "A value is trying to be set on a copy of a slice from a DataFrame.\n",
      "Try using .loc[row_indexer,col_indexer] = value instead\n",
      "\n",
      "See the caveats in the documentation: https://pandas.pydata.org/pandas-docs/stable/user_guide/indexing.html#returning-a-view-versus-a-copy\n",
      "  lap.loc[:,'Interval']=lap['CumLapTime(s)'].diff().fillna(0)\n",
      "C:\\Users\\prabh\\AppData\\Local\\Temp\\ipykernel_15720\\4238679693.py:7: SettingWithCopyWarning: \n",
      "A value is trying to be set on a copy of a slice from a DataFrame.\n",
      "Try using .loc[row_indexer,col_indexer] = value instead\n",
      "\n",
      "See the caveats in the documentation: https://pandas.pydata.org/pandas-docs/stable/user_guide/indexing.html#returning-a-view-versus-a-copy\n",
      "  lap.loc[:,'GapToLeader']=lap['CumLapTime(s)']-leader_time\n",
      "C:\\Users\\prabh\\AppData\\Local\\Temp\\ipykernel_15720\\4238679693.py:8: SettingWithCopyWarning: \n",
      "A value is trying to be set on a copy of a slice from a DataFrame.\n",
      "Try using .loc[row_indexer,col_indexer] = value instead\n",
      "\n",
      "See the caveats in the documentation: https://pandas.pydata.org/pandas-docs/stable/user_guide/indexing.html#returning-a-view-versus-a-copy\n",
      "  lap.loc[:,'Interval']=lap['CumLapTime(s)'].diff().fillna(0)\n",
      "C:\\Users\\prabh\\AppData\\Local\\Temp\\ipykernel_15720\\4238679693.py:7: SettingWithCopyWarning: \n",
      "A value is trying to be set on a copy of a slice from a DataFrame.\n",
      "Try using .loc[row_indexer,col_indexer] = value instead\n",
      "\n",
      "See the caveats in the documentation: https://pandas.pydata.org/pandas-docs/stable/user_guide/indexing.html#returning-a-view-versus-a-copy\n",
      "  lap.loc[:,'GapToLeader']=lap['CumLapTime(s)']-leader_time\n",
      "C:\\Users\\prabh\\AppData\\Local\\Temp\\ipykernel_15720\\4238679693.py:8: SettingWithCopyWarning: \n",
      "A value is trying to be set on a copy of a slice from a DataFrame.\n",
      "Try using .loc[row_indexer,col_indexer] = value instead\n",
      "\n",
      "See the caveats in the documentation: https://pandas.pydata.org/pandas-docs/stable/user_guide/indexing.html#returning-a-view-versus-a-copy\n",
      "  lap.loc[:,'Interval']=lap['CumLapTime(s)'].diff().fillna(0)\n",
      "C:\\Users\\prabh\\AppData\\Local\\Temp\\ipykernel_15720\\4238679693.py:7: SettingWithCopyWarning: \n",
      "A value is trying to be set on a copy of a slice from a DataFrame.\n",
      "Try using .loc[row_indexer,col_indexer] = value instead\n",
      "\n",
      "See the caveats in the documentation: https://pandas.pydata.org/pandas-docs/stable/user_guide/indexing.html#returning-a-view-versus-a-copy\n",
      "  lap.loc[:,'GapToLeader']=lap['CumLapTime(s)']-leader_time\n",
      "C:\\Users\\prabh\\AppData\\Local\\Temp\\ipykernel_15720\\4238679693.py:8: SettingWithCopyWarning: \n",
      "A value is trying to be set on a copy of a slice from a DataFrame.\n",
      "Try using .loc[row_indexer,col_indexer] = value instead\n",
      "\n",
      "See the caveats in the documentation: https://pandas.pydata.org/pandas-docs/stable/user_guide/indexing.html#returning-a-view-versus-a-copy\n",
      "  lap.loc[:,'Interval']=lap['CumLapTime(s)'].diff().fillna(0)\n",
      "C:\\Users\\prabh\\AppData\\Local\\Temp\\ipykernel_15720\\4238679693.py:7: SettingWithCopyWarning: \n",
      "A value is trying to be set on a copy of a slice from a DataFrame.\n",
      "Try using .loc[row_indexer,col_indexer] = value instead\n",
      "\n",
      "See the caveats in the documentation: https://pandas.pydata.org/pandas-docs/stable/user_guide/indexing.html#returning-a-view-versus-a-copy\n",
      "  lap.loc[:,'GapToLeader']=lap['CumLapTime(s)']-leader_time\n",
      "C:\\Users\\prabh\\AppData\\Local\\Temp\\ipykernel_15720\\4238679693.py:8: SettingWithCopyWarning: \n",
      "A value is trying to be set on a copy of a slice from a DataFrame.\n",
      "Try using .loc[row_indexer,col_indexer] = value instead\n",
      "\n",
      "See the caveats in the documentation: https://pandas.pydata.org/pandas-docs/stable/user_guide/indexing.html#returning-a-view-versus-a-copy\n",
      "  lap.loc[:,'Interval']=lap['CumLapTime(s)'].diff().fillna(0)\n",
      "C:\\Users\\prabh\\AppData\\Local\\Temp\\ipykernel_15720\\4238679693.py:7: SettingWithCopyWarning: \n",
      "A value is trying to be set on a copy of a slice from a DataFrame.\n",
      "Try using .loc[row_indexer,col_indexer] = value instead\n",
      "\n",
      "See the caveats in the documentation: https://pandas.pydata.org/pandas-docs/stable/user_guide/indexing.html#returning-a-view-versus-a-copy\n",
      "  lap.loc[:,'GapToLeader']=lap['CumLapTime(s)']-leader_time\n",
      "C:\\Users\\prabh\\AppData\\Local\\Temp\\ipykernel_15720\\4238679693.py:8: SettingWithCopyWarning: \n",
      "A value is trying to be set on a copy of a slice from a DataFrame.\n",
      "Try using .loc[row_indexer,col_indexer] = value instead\n",
      "\n",
      "See the caveats in the documentation: https://pandas.pydata.org/pandas-docs/stable/user_guide/indexing.html#returning-a-view-versus-a-copy\n",
      "  lap.loc[:,'Interval']=lap['CumLapTime(s)'].diff().fillna(0)\n",
      "C:\\Users\\prabh\\AppData\\Local\\Temp\\ipykernel_15720\\4238679693.py:7: SettingWithCopyWarning: \n",
      "A value is trying to be set on a copy of a slice from a DataFrame.\n",
      "Try using .loc[row_indexer,col_indexer] = value instead\n",
      "\n",
      "See the caveats in the documentation: https://pandas.pydata.org/pandas-docs/stable/user_guide/indexing.html#returning-a-view-versus-a-copy\n",
      "  lap.loc[:,'GapToLeader']=lap['CumLapTime(s)']-leader_time\n",
      "C:\\Users\\prabh\\AppData\\Local\\Temp\\ipykernel_15720\\4238679693.py:8: SettingWithCopyWarning: \n",
      "A value is trying to be set on a copy of a slice from a DataFrame.\n",
      "Try using .loc[row_indexer,col_indexer] = value instead\n",
      "\n",
      "See the caveats in the documentation: https://pandas.pydata.org/pandas-docs/stable/user_guide/indexing.html#returning-a-view-versus-a-copy\n",
      "  lap.loc[:,'Interval']=lap['CumLapTime(s)'].diff().fillna(0)\n",
      "C:\\Users\\prabh\\AppData\\Local\\Temp\\ipykernel_15720\\4238679693.py:7: SettingWithCopyWarning: \n",
      "A value is trying to be set on a copy of a slice from a DataFrame.\n",
      "Try using .loc[row_indexer,col_indexer] = value instead\n",
      "\n",
      "See the caveats in the documentation: https://pandas.pydata.org/pandas-docs/stable/user_guide/indexing.html#returning-a-view-versus-a-copy\n",
      "  lap.loc[:,'GapToLeader']=lap['CumLapTime(s)']-leader_time\n",
      "C:\\Users\\prabh\\AppData\\Local\\Temp\\ipykernel_15720\\4238679693.py:8: SettingWithCopyWarning: \n",
      "A value is trying to be set on a copy of a slice from a DataFrame.\n",
      "Try using .loc[row_indexer,col_indexer] = value instead\n",
      "\n",
      "See the caveats in the documentation: https://pandas.pydata.org/pandas-docs/stable/user_guide/indexing.html#returning-a-view-versus-a-copy\n",
      "  lap.loc[:,'Interval']=lap['CumLapTime(s)'].diff().fillna(0)\n",
      "C:\\Users\\prabh\\AppData\\Local\\Temp\\ipykernel_15720\\4238679693.py:7: SettingWithCopyWarning: \n",
      "A value is trying to be set on a copy of a slice from a DataFrame.\n",
      "Try using .loc[row_indexer,col_indexer] = value instead\n",
      "\n",
      "See the caveats in the documentation: https://pandas.pydata.org/pandas-docs/stable/user_guide/indexing.html#returning-a-view-versus-a-copy\n",
      "  lap.loc[:,'GapToLeader']=lap['CumLapTime(s)']-leader_time\n",
      "C:\\Users\\prabh\\AppData\\Local\\Temp\\ipykernel_15720\\4238679693.py:8: SettingWithCopyWarning: \n",
      "A value is trying to be set on a copy of a slice from a DataFrame.\n",
      "Try using .loc[row_indexer,col_indexer] = value instead\n",
      "\n",
      "See the caveats in the documentation: https://pandas.pydata.org/pandas-docs/stable/user_guide/indexing.html#returning-a-view-versus-a-copy\n",
      "  lap.loc[:,'Interval']=lap['CumLapTime(s)'].diff().fillna(0)\n",
      "C:\\Users\\prabh\\AppData\\Local\\Temp\\ipykernel_15720\\4238679693.py:7: SettingWithCopyWarning: \n",
      "A value is trying to be set on a copy of a slice from a DataFrame.\n",
      "Try using .loc[row_indexer,col_indexer] = value instead\n",
      "\n",
      "See the caveats in the documentation: https://pandas.pydata.org/pandas-docs/stable/user_guide/indexing.html#returning-a-view-versus-a-copy\n",
      "  lap.loc[:,'GapToLeader']=lap['CumLapTime(s)']-leader_time\n",
      "C:\\Users\\prabh\\AppData\\Local\\Temp\\ipykernel_15720\\4238679693.py:8: SettingWithCopyWarning: \n",
      "A value is trying to be set on a copy of a slice from a DataFrame.\n",
      "Try using .loc[row_indexer,col_indexer] = value instead\n",
      "\n",
      "See the caveats in the documentation: https://pandas.pydata.org/pandas-docs/stable/user_guide/indexing.html#returning-a-view-versus-a-copy\n",
      "  lap.loc[:,'Interval']=lap['CumLapTime(s)'].diff().fillna(0)\n",
      "C:\\Users\\prabh\\AppData\\Local\\Temp\\ipykernel_15720\\4238679693.py:7: SettingWithCopyWarning: \n",
      "A value is trying to be set on a copy of a slice from a DataFrame.\n",
      "Try using .loc[row_indexer,col_indexer] = value instead\n",
      "\n",
      "See the caveats in the documentation: https://pandas.pydata.org/pandas-docs/stable/user_guide/indexing.html#returning-a-view-versus-a-copy\n",
      "  lap.loc[:,'GapToLeader']=lap['CumLapTime(s)']-leader_time\n",
      "C:\\Users\\prabh\\AppData\\Local\\Temp\\ipykernel_15720\\4238679693.py:8: SettingWithCopyWarning: \n",
      "A value is trying to be set on a copy of a slice from a DataFrame.\n",
      "Try using .loc[row_indexer,col_indexer] = value instead\n",
      "\n",
      "See the caveats in the documentation: https://pandas.pydata.org/pandas-docs/stable/user_guide/indexing.html#returning-a-view-versus-a-copy\n",
      "  lap.loc[:,'Interval']=lap['CumLapTime(s)'].diff().fillna(0)\n",
      "C:\\Users\\prabh\\AppData\\Local\\Temp\\ipykernel_15720\\4238679693.py:7: SettingWithCopyWarning: \n",
      "A value is trying to be set on a copy of a slice from a DataFrame.\n",
      "Try using .loc[row_indexer,col_indexer] = value instead\n",
      "\n",
      "See the caveats in the documentation: https://pandas.pydata.org/pandas-docs/stable/user_guide/indexing.html#returning-a-view-versus-a-copy\n",
      "  lap.loc[:,'GapToLeader']=lap['CumLapTime(s)']-leader_time\n",
      "C:\\Users\\prabh\\AppData\\Local\\Temp\\ipykernel_15720\\4238679693.py:8: SettingWithCopyWarning: \n",
      "A value is trying to be set on a copy of a slice from a DataFrame.\n",
      "Try using .loc[row_indexer,col_indexer] = value instead\n",
      "\n",
      "See the caveats in the documentation: https://pandas.pydata.org/pandas-docs/stable/user_guide/indexing.html#returning-a-view-versus-a-copy\n",
      "  lap.loc[:,'Interval']=lap['CumLapTime(s)'].diff().fillna(0)\n",
      "C:\\Users\\prabh\\AppData\\Local\\Temp\\ipykernel_15720\\4238679693.py:7: SettingWithCopyWarning: \n",
      "A value is trying to be set on a copy of a slice from a DataFrame.\n",
      "Try using .loc[row_indexer,col_indexer] = value instead\n",
      "\n",
      "See the caveats in the documentation: https://pandas.pydata.org/pandas-docs/stable/user_guide/indexing.html#returning-a-view-versus-a-copy\n",
      "  lap.loc[:,'GapToLeader']=lap['CumLapTime(s)']-leader_time\n",
      "C:\\Users\\prabh\\AppData\\Local\\Temp\\ipykernel_15720\\4238679693.py:8: SettingWithCopyWarning: \n",
      "A value is trying to be set on a copy of a slice from a DataFrame.\n",
      "Try using .loc[row_indexer,col_indexer] = value instead\n",
      "\n",
      "See the caveats in the documentation: https://pandas.pydata.org/pandas-docs/stable/user_guide/indexing.html#returning-a-view-versus-a-copy\n",
      "  lap.loc[:,'Interval']=lap['CumLapTime(s)'].diff().fillna(0)\n",
      "C:\\Users\\prabh\\AppData\\Local\\Temp\\ipykernel_15720\\4238679693.py:7: SettingWithCopyWarning: \n",
      "A value is trying to be set on a copy of a slice from a DataFrame.\n",
      "Try using .loc[row_indexer,col_indexer] = value instead\n",
      "\n",
      "See the caveats in the documentation: https://pandas.pydata.org/pandas-docs/stable/user_guide/indexing.html#returning-a-view-versus-a-copy\n",
      "  lap.loc[:,'GapToLeader']=lap['CumLapTime(s)']-leader_time\n",
      "C:\\Users\\prabh\\AppData\\Local\\Temp\\ipykernel_15720\\4238679693.py:8: SettingWithCopyWarning: \n",
      "A value is trying to be set on a copy of a slice from a DataFrame.\n",
      "Try using .loc[row_indexer,col_indexer] = value instead\n",
      "\n",
      "See the caveats in the documentation: https://pandas.pydata.org/pandas-docs/stable/user_guide/indexing.html#returning-a-view-versus-a-copy\n",
      "  lap.loc[:,'Interval']=lap['CumLapTime(s)'].diff().fillna(0)\n",
      "C:\\Users\\prabh\\AppData\\Local\\Temp\\ipykernel_15720\\4238679693.py:7: SettingWithCopyWarning: \n",
      "A value is trying to be set on a copy of a slice from a DataFrame.\n",
      "Try using .loc[row_indexer,col_indexer] = value instead\n",
      "\n",
      "See the caveats in the documentation: https://pandas.pydata.org/pandas-docs/stable/user_guide/indexing.html#returning-a-view-versus-a-copy\n",
      "  lap.loc[:,'GapToLeader']=lap['CumLapTime(s)']-leader_time\n",
      "C:\\Users\\prabh\\AppData\\Local\\Temp\\ipykernel_15720\\4238679693.py:8: SettingWithCopyWarning: \n",
      "A value is trying to be set on a copy of a slice from a DataFrame.\n",
      "Try using .loc[row_indexer,col_indexer] = value instead\n",
      "\n",
      "See the caveats in the documentation: https://pandas.pydata.org/pandas-docs/stable/user_guide/indexing.html#returning-a-view-versus-a-copy\n",
      "  lap.loc[:,'Interval']=lap['CumLapTime(s)'].diff().fillna(0)\n",
      "C:\\Users\\prabh\\AppData\\Local\\Temp\\ipykernel_15720\\4238679693.py:7: SettingWithCopyWarning: \n",
      "A value is trying to be set on a copy of a slice from a DataFrame.\n",
      "Try using .loc[row_indexer,col_indexer] = value instead\n",
      "\n",
      "See the caveats in the documentation: https://pandas.pydata.org/pandas-docs/stable/user_guide/indexing.html#returning-a-view-versus-a-copy\n",
      "  lap.loc[:,'GapToLeader']=lap['CumLapTime(s)']-leader_time\n",
      "C:\\Users\\prabh\\AppData\\Local\\Temp\\ipykernel_15720\\4238679693.py:8: SettingWithCopyWarning: \n",
      "A value is trying to be set on a copy of a slice from a DataFrame.\n",
      "Try using .loc[row_indexer,col_indexer] = value instead\n",
      "\n",
      "See the caveats in the documentation: https://pandas.pydata.org/pandas-docs/stable/user_guide/indexing.html#returning-a-view-versus-a-copy\n",
      "  lap.loc[:,'Interval']=lap['CumLapTime(s)'].diff().fillna(0)\n",
      "C:\\Users\\prabh\\AppData\\Local\\Temp\\ipykernel_15720\\4238679693.py:7: SettingWithCopyWarning: \n",
      "A value is trying to be set on a copy of a slice from a DataFrame.\n",
      "Try using .loc[row_indexer,col_indexer] = value instead\n",
      "\n",
      "See the caveats in the documentation: https://pandas.pydata.org/pandas-docs/stable/user_guide/indexing.html#returning-a-view-versus-a-copy\n",
      "  lap.loc[:,'GapToLeader']=lap['CumLapTime(s)']-leader_time\n",
      "C:\\Users\\prabh\\AppData\\Local\\Temp\\ipykernel_15720\\4238679693.py:8: SettingWithCopyWarning: \n",
      "A value is trying to be set on a copy of a slice from a DataFrame.\n",
      "Try using .loc[row_indexer,col_indexer] = value instead\n",
      "\n",
      "See the caveats in the documentation: https://pandas.pydata.org/pandas-docs/stable/user_guide/indexing.html#returning-a-view-versus-a-copy\n",
      "  lap.loc[:,'Interval']=lap['CumLapTime(s)'].diff().fillna(0)\n",
      "C:\\Users\\prabh\\AppData\\Local\\Temp\\ipykernel_15720\\4238679693.py:7: SettingWithCopyWarning: \n",
      "A value is trying to be set on a copy of a slice from a DataFrame.\n",
      "Try using .loc[row_indexer,col_indexer] = value instead\n",
      "\n",
      "See the caveats in the documentation: https://pandas.pydata.org/pandas-docs/stable/user_guide/indexing.html#returning-a-view-versus-a-copy\n",
      "  lap.loc[:,'GapToLeader']=lap['CumLapTime(s)']-leader_time\n",
      "C:\\Users\\prabh\\AppData\\Local\\Temp\\ipykernel_15720\\4238679693.py:8: SettingWithCopyWarning: \n",
      "A value is trying to be set on a copy of a slice from a DataFrame.\n",
      "Try using .loc[row_indexer,col_indexer] = value instead\n",
      "\n",
      "See the caveats in the documentation: https://pandas.pydata.org/pandas-docs/stable/user_guide/indexing.html#returning-a-view-versus-a-copy\n",
      "  lap.loc[:,'Interval']=lap['CumLapTime(s)'].diff().fillna(0)\n",
      "C:\\Users\\prabh\\AppData\\Local\\Temp\\ipykernel_15720\\4238679693.py:7: SettingWithCopyWarning: \n",
      "A value is trying to be set on a copy of a slice from a DataFrame.\n",
      "Try using .loc[row_indexer,col_indexer] = value instead\n",
      "\n",
      "See the caveats in the documentation: https://pandas.pydata.org/pandas-docs/stable/user_guide/indexing.html#returning-a-view-versus-a-copy\n",
      "  lap.loc[:,'GapToLeader']=lap['CumLapTime(s)']-leader_time\n",
      "C:\\Users\\prabh\\AppData\\Local\\Temp\\ipykernel_15720\\4238679693.py:8: SettingWithCopyWarning: \n",
      "A value is trying to be set on a copy of a slice from a DataFrame.\n",
      "Try using .loc[row_indexer,col_indexer] = value instead\n",
      "\n",
      "See the caveats in the documentation: https://pandas.pydata.org/pandas-docs/stable/user_guide/indexing.html#returning-a-view-versus-a-copy\n",
      "  lap.loc[:,'Interval']=lap['CumLapTime(s)'].diff().fillna(0)\n",
      "C:\\Users\\prabh\\AppData\\Local\\Temp\\ipykernel_15720\\4238679693.py:7: SettingWithCopyWarning: \n",
      "A value is trying to be set on a copy of a slice from a DataFrame.\n",
      "Try using .loc[row_indexer,col_indexer] = value instead\n",
      "\n",
      "See the caveats in the documentation: https://pandas.pydata.org/pandas-docs/stable/user_guide/indexing.html#returning-a-view-versus-a-copy\n",
      "  lap.loc[:,'GapToLeader']=lap['CumLapTime(s)']-leader_time\n",
      "C:\\Users\\prabh\\AppData\\Local\\Temp\\ipykernel_15720\\4238679693.py:8: SettingWithCopyWarning: \n",
      "A value is trying to be set on a copy of a slice from a DataFrame.\n",
      "Try using .loc[row_indexer,col_indexer] = value instead\n",
      "\n",
      "See the caveats in the documentation: https://pandas.pydata.org/pandas-docs/stable/user_guide/indexing.html#returning-a-view-versus-a-copy\n",
      "  lap.loc[:,'Interval']=lap['CumLapTime(s)'].diff().fillna(0)\n"
     ]
    }
   ],
   "source": [
    "def gap_and_interval(df):\n",
    "    gap_to_leader=[]\n",
    "    interval=[]\n",
    "    for i in df['LapNumber'].unique():\n",
    "        lap=df[df['LapNumber']==i]\n",
    "        leader_time=lap.iloc[0]['CumLapTime(s)']\n",
    "        lap.loc[:,'GapToLeader']=lap['CumLapTime(s)']-leader_time\n",
    "        lap.loc[:,'Interval']=lap['CumLapTime(s)'].diff().fillna(0)\n",
    "        gap_to_leader.extend(lap['GapToLeader'].tolist())\n",
    "        interval.extend(lap['Interval'].tolist())\n",
    "    return gap_to_leader,interval\n",
    "master_data['GapToLeader'],master_data['Interval']=gap_and_interval(master_data)\n",
    "master_data.loc[master_data['Position']==1,'GapToLeader']=0\n",
    "master_data.loc[master_data['Position']==1,'Interval']=0"
   ]
  },
  {
   "cell_type": "markdown",
   "metadata": {},
   "source": [
    "#### SCALING AND NORMALIZING THE DATA"
   ]
  },
  {
   "cell_type": "code",
   "execution_count": 17,
   "metadata": {},
   "outputs": [],
   "source": [
    "# from sklearn.preprocessing import RobustScaler\n",
    "# scaler=RobustScaler()\n",
    "# toscale=['LapTime(s)', 'Sector1Time(s)', 'Sector2Time(s)', 'Sector3Time(s)', \n",
    "#                     'CumLapTime(s)', 'GapToLeader', 'Interval', 'LapStartTime(s)', \n",
    "#                     'PitInTime(s)', 'PitOutTime(s)', 'PitStopTime(s)', 'PrevLapTime(s)', 'LapΔ(s)','FreshTyre','NumberOfPitStops','TyreLife']\n",
    "# master_data[toscale] = scaler.fit_transform(master_data[toscale])\n",
    "# telemetry_columns_to_scale = ['Speed', 'Throttle', 'Brake', 'nGear', 'RPM', 'DRS']\n",
    "# telemetry_data[telemetry_columns_to_scale] = scaler.fit_transform(telemetry_data[telemetry_columns_to_scale])\n",
    "# weather_columns_to_scale = ['AirTemp', 'TrackTemp', 'Humidity', 'Pressure', 'WindSpeed', 'WindDirection','Rainfall']\n",
    "# weather_data[weather_columns_to_scale] = scaler.fit_transform(weather_data[weather_columns_to_scale])"
   ]
  },
  {
   "cell_type": "markdown",
   "metadata": {},
   "source": [
    "#### FINDING MISSING DATA"
   ]
  },
  {
   "cell_type": "code",
   "execution_count": 18,
   "metadata": {},
   "outputs": [],
   "source": [
    "master_missing=master_data.isnull().sum()\n",
    "telemetry_missing=telemetry_data.isnull().sum()\n",
    "weather_missing=weather_data.isnull().sum()"
   ]
  },
  {
   "cell_type": "markdown",
   "metadata": {},
   "source": [
    "#### FILLING MISSING PITSTOP DATA "
   ]
  },
  {
   "cell_type": "code",
   "execution_count": 19,
   "metadata": {},
   "outputs": [],
   "source": [
    "colums_to_fill_zero=['NumberOfPitStops','PitInTime','PitOutTime','PitInTime(s)','PitOutTime(s)','PitStopTime(s)','PrevLapTime(s)','LapΔ(s)']\n",
    "master_data[colums_to_fill_zero]=master_data[colums_to_fill_zero].fillna(0)"
   ]
  },
  {
   "cell_type": "markdown",
   "metadata": {},
   "source": [
    "#### ENCODING CATEGORICAL REPRESENTATION"
   ]
  },
  {
   "cell_type": "code",
   "execution_count": 20,
   "metadata": {},
   "outputs": [],
   "source": [
    "from sklearn.preprocessing import OneHotEncoder\n",
    "master_data=pd.get_dummies(master_data,columns=['Compound'])"
   ]
  },
  {
   "cell_type": "code",
   "execution_count": 21,
   "metadata": {},
   "outputs": [],
   "source": [
    "master_msg=pd.get_dummies(master_msg,columns=['Category','Flag'])\n",
    "master_msg['Time'] = master_msg['Time'] - session_start_time"
   ]
  },
  {
   "cell_type": "code",
   "execution_count": 22,
   "metadata": {},
   "outputs": [
    {
     "data": {
      "text/html": [
       "<div>\n",
       "<style scoped>\n",
       "    .dataframe tbody tr th:only-of-type {\n",
       "        vertical-align: middle;\n",
       "    }\n",
       "\n",
       "    .dataframe tbody tr th {\n",
       "        vertical-align: top;\n",
       "    }\n",
       "\n",
       "    .dataframe thead th {\n",
       "        text-align: right;\n",
       "    }\n",
       "</style>\n",
       "<table border=\"1\" class=\"dataframe\">\n",
       "  <thead>\n",
       "    <tr style=\"text-align: right;\">\n",
       "      <th></th>\n",
       "      <th>Time</th>\n",
       "      <th>Driver</th>\n",
       "      <th>DriverNumber</th>\n",
       "      <th>LapNumber</th>\n",
       "      <th>LapTime</th>\n",
       "      <th>Sector1Time</th>\n",
       "      <th>Sector2Time</th>\n",
       "      <th>Sector3Time</th>\n",
       "      <th>IsAccurate</th>\n",
       "      <th>Position</th>\n",
       "      <th>...</th>\n",
       "      <th>PrevLapTime(s)</th>\n",
       "      <th>LapΔ(s)</th>\n",
       "      <th>CumLapTime(s)</th>\n",
       "      <th>GapToLeader</th>\n",
       "      <th>Interval</th>\n",
       "      <th>Compound_HARD</th>\n",
       "      <th>Compound_INTERMEDIATE</th>\n",
       "      <th>Compound_MEDIUM</th>\n",
       "      <th>Compound_SOFT</th>\n",
       "      <th>Compound_WET</th>\n",
       "    </tr>\n",
       "  </thead>\n",
       "  <tbody>\n",
       "    <tr>\n",
       "      <th>0</th>\n",
       "      <td>0 days 01:03:36.820000</td>\n",
       "      <td>VER</td>\n",
       "      <td>1</td>\n",
       "      <td>1.0</td>\n",
       "      <td>0 days 00:01:31.585000</td>\n",
       "      <td>0 days 00:00:36.330000</td>\n",
       "      <td>0 days 00:00:28.929000</td>\n",
       "      <td>0 days 00:00:30.478000</td>\n",
       "      <td>False</td>\n",
       "      <td>1.0</td>\n",
       "      <td>...</td>\n",
       "      <td>0.000</td>\n",
       "      <td>0.000</td>\n",
       "      <td>91.585</td>\n",
       "      <td>0.000</td>\n",
       "      <td>0.000</td>\n",
       "      <td>False</td>\n",
       "      <td>False</td>\n",
       "      <td>False</td>\n",
       "      <td>True</td>\n",
       "      <td>False</td>\n",
       "    </tr>\n",
       "    <tr>\n",
       "      <th>839</th>\n",
       "      <td>0 days 01:03:37.462000</td>\n",
       "      <td>NOR</td>\n",
       "      <td>4</td>\n",
       "      <td>1.0</td>\n",
       "      <td>0 days 00:01:32.227000</td>\n",
       "      <td>0 days 00:00:37.353000</td>\n",
       "      <td>0 days 00:00:28.594000</td>\n",
       "      <td>0 days 00:00:30.567000</td>\n",
       "      <td>False</td>\n",
       "      <td>2.0</td>\n",
       "      <td>...</td>\n",
       "      <td>83.205</td>\n",
       "      <td>9.022</td>\n",
       "      <td>92.227</td>\n",
       "      <td>0.642</td>\n",
       "      <td>0.642</td>\n",
       "      <td>False</td>\n",
       "      <td>False</td>\n",
       "      <td>False</td>\n",
       "      <td>True</td>\n",
       "      <td>False</td>\n",
       "    </tr>\n",
       "    <tr>\n",
       "      <th>216</th>\n",
       "      <td>0 days 01:03:38.001000</td>\n",
       "      <td>ALO</td>\n",
       "      <td>14</td>\n",
       "      <td>1.0</td>\n",
       "      <td>0 days 00:01:32.766000</td>\n",
       "      <td>0 days 00:00:36.326000</td>\n",
       "      <td>0 days 00:00:28.764000</td>\n",
       "      <td>0 days 00:00:30.590000</td>\n",
       "      <td>False</td>\n",
       "      <td>3.0</td>\n",
       "      <td>...</td>\n",
       "      <td>81.699</td>\n",
       "      <td>11.067</td>\n",
       "      <td>92.766</td>\n",
       "      <td>1.181</td>\n",
       "      <td>0.539</td>\n",
       "      <td>False</td>\n",
       "      <td>False</td>\n",
       "      <td>False</td>\n",
       "      <td>True</td>\n",
       "      <td>False</td>\n",
       "    </tr>\n",
       "    <tr>\n",
       "      <th>1127</th>\n",
       "      <td>0 days 01:03:38.476000</td>\n",
       "      <td>RUS</td>\n",
       "      <td>63</td>\n",
       "      <td>1.0</td>\n",
       "      <td>0 days 00:01:33.241000</td>\n",
       "      <td>0 days 00:00:37.093000</td>\n",
       "      <td>0 days 00:00:28.820000</td>\n",
       "      <td>0 days 00:00:30.679000</td>\n",
       "      <td>False</td>\n",
       "      <td>4.0</td>\n",
       "      <td>...</td>\n",
       "      <td>82.652</td>\n",
       "      <td>10.589</td>\n",
       "      <td>93.241</td>\n",
       "      <td>1.656</td>\n",
       "      <td>0.475</td>\n",
       "      <td>False</td>\n",
       "      <td>False</td>\n",
       "      <td>False</td>\n",
       "      <td>True</td>\n",
       "      <td>False</td>\n",
       "    </tr>\n",
       "    <tr>\n",
       "      <th>560</th>\n",
       "      <td>0 days 01:03:39.511000</td>\n",
       "      <td>ALB</td>\n",
       "      <td>23</td>\n",
       "      <td>1.0</td>\n",
       "      <td>0 days 00:01:34.276000</td>\n",
       "      <td>0 days 00:00:36.857000</td>\n",
       "      <td>0 days 00:00:29.096000</td>\n",
       "      <td>0 days 00:00:31.301000</td>\n",
       "      <td>False</td>\n",
       "      <td>5.0</td>\n",
       "      <td>...</td>\n",
       "      <td>83.883</td>\n",
       "      <td>10.393</td>\n",
       "      <td>94.276</td>\n",
       "      <td>2.691</td>\n",
       "      <td>1.035</td>\n",
       "      <td>False</td>\n",
       "      <td>False</td>\n",
       "      <td>False</td>\n",
       "      <td>True</td>\n",
       "      <td>False</td>\n",
       "    </tr>\n",
       "    <tr>\n",
       "      <th>...</th>\n",
       "      <td>...</td>\n",
       "      <td>...</td>\n",
       "      <td>...</td>\n",
       "      <td>...</td>\n",
       "      <td>...</td>\n",
       "      <td>...</td>\n",
       "      <td>...</td>\n",
       "      <td>...</td>\n",
       "      <td>...</td>\n",
       "      <td>...</td>\n",
       "      <td>...</td>\n",
       "      <td>...</td>\n",
       "      <td>...</td>\n",
       "      <td>...</td>\n",
       "      <td>...</td>\n",
       "      <td>...</td>\n",
       "      <td>...</td>\n",
       "      <td>...</td>\n",
       "      <td>...</td>\n",
       "      <td>...</td>\n",
       "      <td>...</td>\n",
       "    </tr>\n",
       "    <tr>\n",
       "      <th>559</th>\n",
       "      <td>0 days 03:26:34.603000</td>\n",
       "      <td>TSU</td>\n",
       "      <td>22</td>\n",
       "      <td>72.0</td>\n",
       "      <td>0 days 00:01:23.883000</td>\n",
       "      <td>0 days 00:00:28.923000</td>\n",
       "      <td>0 days 00:00:28.789000</td>\n",
       "      <td>0 days 00:00:26.171000</td>\n",
       "      <td>True</td>\n",
       "      <td>13.0</td>\n",
       "      <td>...</td>\n",
       "      <td>83.101</td>\n",
       "      <td>0.782</td>\n",
       "      <td>6247.044</td>\n",
       "      <td>90.151</td>\n",
       "      <td>-0.399</td>\n",
       "      <td>False</td>\n",
       "      <td>True</td>\n",
       "      <td>False</td>\n",
       "      <td>False</td>\n",
       "      <td>False</td>\n",
       "    </tr>\n",
       "    <tr>\n",
       "      <th>982</th>\n",
       "      <td>0 days 03:26:35.827000</td>\n",
       "      <td>LAW</td>\n",
       "      <td>40</td>\n",
       "      <td>72.0</td>\n",
       "      <td>0 days 00:01:23.592000</td>\n",
       "      <td>0 days 00:00:28.792000</td>\n",
       "      <td>0 days 00:00:28.745000</td>\n",
       "      <td>0 days 00:00:26.055000</td>\n",
       "      <td>True</td>\n",
       "      <td>14.0</td>\n",
       "      <td>...</td>\n",
       "      <td>84.122</td>\n",
       "      <td>-0.530</td>\n",
       "      <td>6261.330</td>\n",
       "      <td>104.437</td>\n",
       "      <td>14.286</td>\n",
       "      <td>False</td>\n",
       "      <td>True</td>\n",
       "      <td>False</td>\n",
       "      <td>False</td>\n",
       "      <td>False</td>\n",
       "    </tr>\n",
       "    <tr>\n",
       "      <th>487</th>\n",
       "      <td>0 days 03:26:36.084000</td>\n",
       "      <td>MAG</td>\n",
       "      <td>20</td>\n",
       "      <td>72.0</td>\n",
       "      <td>0 days 00:01:23.550000</td>\n",
       "      <td>0 days 00:00:29.009000</td>\n",
       "      <td>0 days 00:00:28.794000</td>\n",
       "      <td>0 days 00:00:25.747000</td>\n",
       "      <td>True</td>\n",
       "      <td>15.0</td>\n",
       "      <td>...</td>\n",
       "      <td>83.912</td>\n",
       "      <td>-0.362</td>\n",
       "      <td>6315.824</td>\n",
       "      <td>158.931</td>\n",
       "      <td>54.494</td>\n",
       "      <td>False</td>\n",
       "      <td>True</td>\n",
       "      <td>False</td>\n",
       "      <td>False</td>\n",
       "      <td>False</td>\n",
       "    </tr>\n",
       "    <tr>\n",
       "      <th>1270</th>\n",
       "      <td>0 days 03:26:37.061000</td>\n",
       "      <td>BOT</td>\n",
       "      <td>77</td>\n",
       "      <td>72.0</td>\n",
       "      <td>0 days 00:01:23.030000</td>\n",
       "      <td>0 days 00:00:28.882000</td>\n",
       "      <td>0 days 00:00:28.443000</td>\n",
       "      <td>0 days 00:00:25.705000</td>\n",
       "      <td>True</td>\n",
       "      <td>16.0</td>\n",
       "      <td>...</td>\n",
       "      <td>82.873</td>\n",
       "      <td>0.157</td>\n",
       "      <td>6255.933</td>\n",
       "      <td>99.040</td>\n",
       "      <td>-59.891</td>\n",
       "      <td>False</td>\n",
       "      <td>True</td>\n",
       "      <td>False</td>\n",
       "      <td>False</td>\n",
       "      <td>False</td>\n",
       "    </tr>\n",
       "    <tr>\n",
       "      <th>1198</th>\n",
       "      <td>0 days 03:27:05.461000</td>\n",
       "      <td>RUS</td>\n",
       "      <td>63</td>\n",
       "      <td>72.0</td>\n",
       "      <td>0 days 00:01:20.769000</td>\n",
       "      <td>0 days 00:00:27.959000</td>\n",
       "      <td>0 days 00:00:27.849000</td>\n",
       "      <td>0 days 00:00:24.961000</td>\n",
       "      <td>True</td>\n",
       "      <td>17.0</td>\n",
       "      <td>...</td>\n",
       "      <td>80.548</td>\n",
       "      <td>0.221</td>\n",
       "      <td>6248.199</td>\n",
       "      <td>91.306</td>\n",
       "      <td>-7.734</td>\n",
       "      <td>False</td>\n",
       "      <td>True</td>\n",
       "      <td>False</td>\n",
       "      <td>False</td>\n",
       "      <td>False</td>\n",
       "    </tr>\n",
       "  </tbody>\n",
       "</table>\n",
       "<p>1343 rows × 35 columns</p>\n",
       "</div>"
      ],
      "text/plain": [
       "                       Time Driver DriverNumber  LapNumber  \\\n",
       "0    0 days 01:03:36.820000    VER            1        1.0   \n",
       "839  0 days 01:03:37.462000    NOR            4        1.0   \n",
       "216  0 days 01:03:38.001000    ALO           14        1.0   \n",
       "1127 0 days 01:03:38.476000    RUS           63        1.0   \n",
       "560  0 days 01:03:39.511000    ALB           23        1.0   \n",
       "...                     ...    ...          ...        ...   \n",
       "559  0 days 03:26:34.603000    TSU           22       72.0   \n",
       "982  0 days 03:26:35.827000    LAW           40       72.0   \n",
       "487  0 days 03:26:36.084000    MAG           20       72.0   \n",
       "1270 0 days 03:26:37.061000    BOT           77       72.0   \n",
       "1198 0 days 03:27:05.461000    RUS           63       72.0   \n",
       "\n",
       "                    LapTime            Sector1Time            Sector2Time  \\\n",
       "0    0 days 00:01:31.585000 0 days 00:00:36.330000 0 days 00:00:28.929000   \n",
       "839  0 days 00:01:32.227000 0 days 00:00:37.353000 0 days 00:00:28.594000   \n",
       "216  0 days 00:01:32.766000 0 days 00:00:36.326000 0 days 00:00:28.764000   \n",
       "1127 0 days 00:01:33.241000 0 days 00:00:37.093000 0 days 00:00:28.820000   \n",
       "560  0 days 00:01:34.276000 0 days 00:00:36.857000 0 days 00:00:29.096000   \n",
       "...                     ...                    ...                    ...   \n",
       "559  0 days 00:01:23.883000 0 days 00:00:28.923000 0 days 00:00:28.789000   \n",
       "982  0 days 00:01:23.592000 0 days 00:00:28.792000 0 days 00:00:28.745000   \n",
       "487  0 days 00:01:23.550000 0 days 00:00:29.009000 0 days 00:00:28.794000   \n",
       "1270 0 days 00:01:23.030000 0 days 00:00:28.882000 0 days 00:00:28.443000   \n",
       "1198 0 days 00:01:20.769000 0 days 00:00:27.959000 0 days 00:00:27.849000   \n",
       "\n",
       "                Sector3Time  IsAccurate  Position  ... PrevLapTime(s)  \\\n",
       "0    0 days 00:00:30.478000       False       1.0  ...          0.000   \n",
       "839  0 days 00:00:30.567000       False       2.0  ...         83.205   \n",
       "216  0 days 00:00:30.590000       False       3.0  ...         81.699   \n",
       "1127 0 days 00:00:30.679000       False       4.0  ...         82.652   \n",
       "560  0 days 00:00:31.301000       False       5.0  ...         83.883   \n",
       "...                     ...         ...       ...  ...            ...   \n",
       "559  0 days 00:00:26.171000        True      13.0  ...         83.101   \n",
       "982  0 days 00:00:26.055000        True      14.0  ...         84.122   \n",
       "487  0 days 00:00:25.747000        True      15.0  ...         83.912   \n",
       "1270 0 days 00:00:25.705000        True      16.0  ...         82.873   \n",
       "1198 0 days 00:00:24.961000        True      17.0  ...         80.548   \n",
       "\n",
       "      LapΔ(s)  CumLapTime(s)  GapToLeader Interval Compound_HARD  \\\n",
       "0       0.000         91.585        0.000    0.000         False   \n",
       "839     9.022         92.227        0.642    0.642         False   \n",
       "216    11.067         92.766        1.181    0.539         False   \n",
       "1127   10.589         93.241        1.656    0.475         False   \n",
       "560    10.393         94.276        2.691    1.035         False   \n",
       "...       ...            ...          ...      ...           ...   \n",
       "559     0.782       6247.044       90.151   -0.399         False   \n",
       "982    -0.530       6261.330      104.437   14.286         False   \n",
       "487    -0.362       6315.824      158.931   54.494         False   \n",
       "1270    0.157       6255.933       99.040  -59.891         False   \n",
       "1198    0.221       6248.199       91.306   -7.734         False   \n",
       "\n",
       "      Compound_INTERMEDIATE  Compound_MEDIUM  Compound_SOFT  Compound_WET  \n",
       "0                     False            False           True         False  \n",
       "839                   False            False           True         False  \n",
       "216                   False            False           True         False  \n",
       "1127                  False            False           True         False  \n",
       "560                   False            False           True         False  \n",
       "...                     ...              ...            ...           ...  \n",
       "559                    True            False          False         False  \n",
       "982                    True            False          False         False  \n",
       "487                    True            False          False         False  \n",
       "1270                   True            False          False         False  \n",
       "1198                   True            False          False         False  \n",
       "\n",
       "[1343 rows x 35 columns]"
      ]
     },
     "execution_count": 22,
     "metadata": {},
     "output_type": "execute_result"
    }
   ],
   "source": [
    "master_data"
   ]
  },
  {
   "cell_type": "code",
   "execution_count": 23,
   "metadata": {},
   "outputs": [
    {
     "data": {
      "text/html": [
       "<div>\n",
       "<style scoped>\n",
       "    .dataframe tbody tr th:only-of-type {\n",
       "        vertical-align: middle;\n",
       "    }\n",
       "\n",
       "    .dataframe tbody tr th {\n",
       "        vertical-align: top;\n",
       "    }\n",
       "\n",
       "    .dataframe thead th {\n",
       "        text-align: right;\n",
       "    }\n",
       "</style>\n",
       "<table border=\"1\" class=\"dataframe\">\n",
       "  <thead>\n",
       "    <tr style=\"text-align: right;\">\n",
       "      <th></th>\n",
       "      <th>Date</th>\n",
       "      <th>RPM</th>\n",
       "      <th>Speed</th>\n",
       "      <th>nGear</th>\n",
       "      <th>Throttle</th>\n",
       "      <th>Brake</th>\n",
       "      <th>DRS</th>\n",
       "      <th>Source</th>\n",
       "      <th>Time</th>\n",
       "      <th>SessionTime</th>\n",
       "      <th>Driver</th>\n",
       "    </tr>\n",
       "  </thead>\n",
       "  <tbody>\n",
       "    <tr>\n",
       "      <th>0</th>\n",
       "      <td>2023-08-27 13:03:05.416</td>\n",
       "      <td>10093</td>\n",
       "      <td>0</td>\n",
       "      <td>1</td>\n",
       "      <td>15</td>\n",
       "      <td>False</td>\n",
       "      <td>1</td>\n",
       "      <td>car</td>\n",
       "      <td>0 days 00:00:00.082000</td>\n",
       "      <td>0 days 01:02:05.042000</td>\n",
       "      <td>VER</td>\n",
       "    </tr>\n",
       "    <tr>\n",
       "      <th>1</th>\n",
       "      <td>2023-08-27 13:03:05.616</td>\n",
       "      <td>10063</td>\n",
       "      <td>0</td>\n",
       "      <td>1</td>\n",
       "      <td>15</td>\n",
       "      <td>False</td>\n",
       "      <td>1</td>\n",
       "      <td>car</td>\n",
       "      <td>0 days 00:00:00.282000</td>\n",
       "      <td>0 days 01:02:05.242000</td>\n",
       "      <td>VER</td>\n",
       "    </tr>\n",
       "    <tr>\n",
       "      <th>2</th>\n",
       "      <td>2023-08-27 13:03:05.897</td>\n",
       "      <td>8517</td>\n",
       "      <td>1</td>\n",
       "      <td>1</td>\n",
       "      <td>15</td>\n",
       "      <td>False</td>\n",
       "      <td>1</td>\n",
       "      <td>car</td>\n",
       "      <td>0 days 00:00:00.563000</td>\n",
       "      <td>0 days 01:02:05.523000</td>\n",
       "      <td>VER</td>\n",
       "    </tr>\n",
       "    <tr>\n",
       "      <th>3</th>\n",
       "      <td>2023-08-27 13:03:06.097</td>\n",
       "      <td>7117</td>\n",
       "      <td>11</td>\n",
       "      <td>1</td>\n",
       "      <td>15</td>\n",
       "      <td>False</td>\n",
       "      <td>1</td>\n",
       "      <td>car</td>\n",
       "      <td>0 days 00:00:00.763000</td>\n",
       "      <td>0 days 01:02:05.723000</td>\n",
       "      <td>VER</td>\n",
       "    </tr>\n",
       "    <tr>\n",
       "      <th>4</th>\n",
       "      <td>2023-08-27 13:03:06.497</td>\n",
       "      <td>4317</td>\n",
       "      <td>24</td>\n",
       "      <td>1</td>\n",
       "      <td>16</td>\n",
       "      <td>False</td>\n",
       "      <td>1</td>\n",
       "      <td>car</td>\n",
       "      <td>0 days 00:00:01.163000</td>\n",
       "      <td>0 days 01:02:06.123000</td>\n",
       "      <td>VER</td>\n",
       "    </tr>\n",
       "    <tr>\n",
       "      <th>...</th>\n",
       "      <td>...</td>\n",
       "      <td>...</td>\n",
       "      <td>...</td>\n",
       "      <td>...</td>\n",
       "      <td>...</td>\n",
       "      <td>...</td>\n",
       "      <td>...</td>\n",
       "      <td>...</td>\n",
       "      <td>...</td>\n",
       "      <td>...</td>\n",
       "      <td>...</td>\n",
       "    </tr>\n",
       "    <tr>\n",
       "      <th>601328</th>\n",
       "      <td>2023-08-27 15:27:25.367</td>\n",
       "      <td>11670</td>\n",
       "      <td>294</td>\n",
       "      <td>7</td>\n",
       "      <td>99</td>\n",
       "      <td>False</td>\n",
       "      <td>1</td>\n",
       "      <td>car</td>\n",
       "      <td>0 days 02:24:20.033000</td>\n",
       "      <td>0 days 03:26:24.993000</td>\n",
       "      <td>PIA</td>\n",
       "    </tr>\n",
       "    <tr>\n",
       "      <th>601329</th>\n",
       "      <td>2023-08-27 15:27:25.527</td>\n",
       "      <td>11699</td>\n",
       "      <td>295</td>\n",
       "      <td>7</td>\n",
       "      <td>99</td>\n",
       "      <td>False</td>\n",
       "      <td>1</td>\n",
       "      <td>car</td>\n",
       "      <td>0 days 02:24:20.193000</td>\n",
       "      <td>0 days 03:26:25.153000</td>\n",
       "      <td>PIA</td>\n",
       "    </tr>\n",
       "    <tr>\n",
       "      <th>601330</th>\n",
       "      <td>2023-08-27 15:27:25.687</td>\n",
       "      <td>11742</td>\n",
       "      <td>295</td>\n",
       "      <td>7</td>\n",
       "      <td>99</td>\n",
       "      <td>False</td>\n",
       "      <td>1</td>\n",
       "      <td>car</td>\n",
       "      <td>0 days 02:24:20.353000</td>\n",
       "      <td>0 days 03:26:25.313000</td>\n",
       "      <td>PIA</td>\n",
       "    </tr>\n",
       "    <tr>\n",
       "      <th>601331</th>\n",
       "      <td>2023-08-27 15:27:26.047</td>\n",
       "      <td>11758</td>\n",
       "      <td>296</td>\n",
       "      <td>7</td>\n",
       "      <td>99</td>\n",
       "      <td>False</td>\n",
       "      <td>1</td>\n",
       "      <td>car</td>\n",
       "      <td>0 days 02:24:20.713000</td>\n",
       "      <td>0 days 03:26:25.673000</td>\n",
       "      <td>PIA</td>\n",
       "    </tr>\n",
       "    <tr>\n",
       "      <th>601332</th>\n",
       "      <td>2023-08-27 15:27:26.447</td>\n",
       "      <td>11775</td>\n",
       "      <td>297</td>\n",
       "      <td>7</td>\n",
       "      <td>99</td>\n",
       "      <td>False</td>\n",
       "      <td>1</td>\n",
       "      <td>car</td>\n",
       "      <td>0 days 02:24:21.113000</td>\n",
       "      <td>0 days 03:26:26.073000</td>\n",
       "      <td>PIA</td>\n",
       "    </tr>\n",
       "  </tbody>\n",
       "</table>\n",
       "<p>601333 rows × 11 columns</p>\n",
       "</div>"
      ],
      "text/plain": [
       "                          Date    RPM  Speed  nGear  Throttle  Brake  DRS  \\\n",
       "0      2023-08-27 13:03:05.416  10093      0      1        15  False    1   \n",
       "1      2023-08-27 13:03:05.616  10063      0      1        15  False    1   \n",
       "2      2023-08-27 13:03:05.897   8517      1      1        15  False    1   \n",
       "3      2023-08-27 13:03:06.097   7117     11      1        15  False    1   \n",
       "4      2023-08-27 13:03:06.497   4317     24      1        16  False    1   \n",
       "...                        ...    ...    ...    ...       ...    ...  ...   \n",
       "601328 2023-08-27 15:27:25.367  11670    294      7        99  False    1   \n",
       "601329 2023-08-27 15:27:25.527  11699    295      7        99  False    1   \n",
       "601330 2023-08-27 15:27:25.687  11742    295      7        99  False    1   \n",
       "601331 2023-08-27 15:27:26.047  11758    296      7        99  False    1   \n",
       "601332 2023-08-27 15:27:26.447  11775    297      7        99  False    1   \n",
       "\n",
       "       Source                   Time            SessionTime Driver  \n",
       "0         car 0 days 00:00:00.082000 0 days 01:02:05.042000    VER  \n",
       "1         car 0 days 00:00:00.282000 0 days 01:02:05.242000    VER  \n",
       "2         car 0 days 00:00:00.563000 0 days 01:02:05.523000    VER  \n",
       "3         car 0 days 00:00:00.763000 0 days 01:02:05.723000    VER  \n",
       "4         car 0 days 00:00:01.163000 0 days 01:02:06.123000    VER  \n",
       "...       ...                    ...                    ...    ...  \n",
       "601328    car 0 days 02:24:20.033000 0 days 03:26:24.993000    PIA  \n",
       "601329    car 0 days 02:24:20.193000 0 days 03:26:25.153000    PIA  \n",
       "601330    car 0 days 02:24:20.353000 0 days 03:26:25.313000    PIA  \n",
       "601331    car 0 days 02:24:20.713000 0 days 03:26:25.673000    PIA  \n",
       "601332    car 0 days 02:24:21.113000 0 days 03:26:26.073000    PIA  \n",
       "\n",
       "[601333 rows x 11 columns]"
      ]
     },
     "execution_count": 23,
     "metadata": {},
     "output_type": "execute_result"
    }
   ],
   "source": [
    "telemetry_data"
   ]
  },
  {
   "cell_type": "code",
   "execution_count": 24,
   "metadata": {},
   "outputs": [
    {
     "data": {
      "text/html": [
       "<div>\n",
       "<style scoped>\n",
       "    .dataframe tbody tr th:only-of-type {\n",
       "        vertical-align: middle;\n",
       "    }\n",
       "\n",
       "    .dataframe tbody tr th {\n",
       "        vertical-align: top;\n",
       "    }\n",
       "\n",
       "    .dataframe thead th {\n",
       "        text-align: right;\n",
       "    }\n",
       "</style>\n",
       "<table border=\"1\" class=\"dataframe\">\n",
       "  <thead>\n",
       "    <tr style=\"text-align: right;\">\n",
       "      <th></th>\n",
       "      <th>Time</th>\n",
       "      <th>AirTemp</th>\n",
       "      <th>Humidity</th>\n",
       "      <th>Pressure</th>\n",
       "      <th>Rainfall</th>\n",
       "      <th>TrackTemp</th>\n",
       "      <th>WindDirection</th>\n",
       "      <th>WindSpeed</th>\n",
       "    </tr>\n",
       "  </thead>\n",
       "  <tbody>\n",
       "    <tr>\n",
       "      <th>0</th>\n",
       "      <td>0 days 00:00:46.338000</td>\n",
       "      <td>17.4</td>\n",
       "      <td>68.0</td>\n",
       "      <td>1007.4</td>\n",
       "      <td>False</td>\n",
       "      <td>25.5</td>\n",
       "      <td>196</td>\n",
       "      <td>2.7</td>\n",
       "    </tr>\n",
       "    <tr>\n",
       "      <th>1</th>\n",
       "      <td>0 days 00:01:46.337000</td>\n",
       "      <td>17.4</td>\n",
       "      <td>67.0</td>\n",
       "      <td>1007.5</td>\n",
       "      <td>False</td>\n",
       "      <td>25.5</td>\n",
       "      <td>193</td>\n",
       "      <td>3.2</td>\n",
       "    </tr>\n",
       "    <tr>\n",
       "      <th>2</th>\n",
       "      <td>0 days 00:02:46.336000</td>\n",
       "      <td>17.4</td>\n",
       "      <td>66.0</td>\n",
       "      <td>1007.4</td>\n",
       "      <td>False</td>\n",
       "      <td>25.5</td>\n",
       "      <td>177</td>\n",
       "      <td>3.4</td>\n",
       "    </tr>\n",
       "    <tr>\n",
       "      <th>3</th>\n",
       "      <td>0 days 00:03:46.335000</td>\n",
       "      <td>17.5</td>\n",
       "      <td>67.0</td>\n",
       "      <td>1007.4</td>\n",
       "      <td>False</td>\n",
       "      <td>25.6</td>\n",
       "      <td>184</td>\n",
       "      <td>2.4</td>\n",
       "    </tr>\n",
       "    <tr>\n",
       "      <th>4</th>\n",
       "      <td>0 days 00:04:46.349000</td>\n",
       "      <td>17.5</td>\n",
       "      <td>67.0</td>\n",
       "      <td>1007.5</td>\n",
       "      <td>False</td>\n",
       "      <td>25.6</td>\n",
       "      <td>186</td>\n",
       "      <td>2.9</td>\n",
       "    </tr>\n",
       "    <tr>\n",
       "      <th>...</th>\n",
       "      <td>...</td>\n",
       "      <td>...</td>\n",
       "      <td>...</td>\n",
       "      <td>...</td>\n",
       "      <td>...</td>\n",
       "      <td>...</td>\n",
       "      <td>...</td>\n",
       "      <td>...</td>\n",
       "    </tr>\n",
       "    <tr>\n",
       "      <th>204</th>\n",
       "      <td>0 days 03:24:47.183000</td>\n",
       "      <td>15.7</td>\n",
       "      <td>79.0</td>\n",
       "      <td>1008.2</td>\n",
       "      <td>True</td>\n",
       "      <td>19.0</td>\n",
       "      <td>176</td>\n",
       "      <td>3.0</td>\n",
       "    </tr>\n",
       "    <tr>\n",
       "      <th>205</th>\n",
       "      <td>0 days 03:25:47.182000</td>\n",
       "      <td>15.8</td>\n",
       "      <td>77.0</td>\n",
       "      <td>1008.2</td>\n",
       "      <td>True</td>\n",
       "      <td>19.1</td>\n",
       "      <td>161</td>\n",
       "      <td>3.0</td>\n",
       "    </tr>\n",
       "    <tr>\n",
       "      <th>206</th>\n",
       "      <td>0 days 03:26:47.181000</td>\n",
       "      <td>15.8</td>\n",
       "      <td>77.0</td>\n",
       "      <td>1008.2</td>\n",
       "      <td>True</td>\n",
       "      <td>19.1</td>\n",
       "      <td>163</td>\n",
       "      <td>2.7</td>\n",
       "    </tr>\n",
       "    <tr>\n",
       "      <th>207</th>\n",
       "      <td>0 days 03:27:47.180000</td>\n",
       "      <td>15.7</td>\n",
       "      <td>74.0</td>\n",
       "      <td>1008.4</td>\n",
       "      <td>False</td>\n",
       "      <td>18.9</td>\n",
       "      <td>192</td>\n",
       "      <td>3.2</td>\n",
       "    </tr>\n",
       "    <tr>\n",
       "      <th>208</th>\n",
       "      <td>0 days 03:28:47.163000</td>\n",
       "      <td>15.6</td>\n",
       "      <td>73.0</td>\n",
       "      <td>1008.2</td>\n",
       "      <td>False</td>\n",
       "      <td>18.9</td>\n",
       "      <td>164</td>\n",
       "      <td>2.9</td>\n",
       "    </tr>\n",
       "  </tbody>\n",
       "</table>\n",
       "<p>209 rows × 8 columns</p>\n",
       "</div>"
      ],
      "text/plain": [
       "                      Time  AirTemp  Humidity  Pressure  Rainfall  TrackTemp  \\\n",
       "0   0 days 00:00:46.338000     17.4      68.0    1007.4     False       25.5   \n",
       "1   0 days 00:01:46.337000     17.4      67.0    1007.5     False       25.5   \n",
       "2   0 days 00:02:46.336000     17.4      66.0    1007.4     False       25.5   \n",
       "3   0 days 00:03:46.335000     17.5      67.0    1007.4     False       25.6   \n",
       "4   0 days 00:04:46.349000     17.5      67.0    1007.5     False       25.6   \n",
       "..                     ...      ...       ...       ...       ...        ...   \n",
       "204 0 days 03:24:47.183000     15.7      79.0    1008.2      True       19.0   \n",
       "205 0 days 03:25:47.182000     15.8      77.0    1008.2      True       19.1   \n",
       "206 0 days 03:26:47.181000     15.8      77.0    1008.2      True       19.1   \n",
       "207 0 days 03:27:47.180000     15.7      74.0    1008.4     False       18.9   \n",
       "208 0 days 03:28:47.163000     15.6      73.0    1008.2     False       18.9   \n",
       "\n",
       "     WindDirection  WindSpeed  \n",
       "0              196        2.7  \n",
       "1              193        3.2  \n",
       "2              177        3.4  \n",
       "3              184        2.4  \n",
       "4              186        2.9  \n",
       "..             ...        ...  \n",
       "204            176        3.0  \n",
       "205            161        3.0  \n",
       "206            163        2.7  \n",
       "207            192        3.2  \n",
       "208            164        2.9  \n",
       "\n",
       "[209 rows x 8 columns]"
      ]
     },
     "execution_count": 24,
     "metadata": {},
     "output_type": "execute_result"
    }
   ],
   "source": [
    "weather_data"
   ]
  },
  {
   "cell_type": "code",
   "execution_count": null,
   "metadata": {},
   "outputs": [],
   "source": []
  },
  {
   "cell_type": "markdown",
   "metadata": {},
   "source": [
    "#### MERGING ALL DATA WITH MASTER DATA"
   ]
  },
  {
   "cell_type": "code",
   "execution_count": 25,
   "metadata": {},
   "outputs": [],
   "source": [
    "master_data_sorted=master_data.sort_values('Time')\n",
    "master_msg_sorted=master_msg.sort_values('Time')\n",
    "merged_data = pd.merge_asof(master_data_sorted, weather_data, left_on='Time', right_on='Time', direction='nearest')\n",
    "merged_data=pd.merge_asof(merged_data, master_msg_sorted, left_on='Time', right_on='Time', direction='nearest')\n",
    "pd.set_option('display.max_columns', None)\n",
    "# merged_data.to_excel('merged_data.xlsx', index=False)"
   ]
  },
  {
   "cell_type": "markdown",
   "metadata": {},
   "source": [
    "#### FILLING THE NULL VALUES IN STATUS WITH TRACK CLEAR"
   ]
  },
  {
   "cell_type": "code",
   "execution_count": 26,
   "metadata": {},
   "outputs": [],
   "source": [
    "merged_data_missing=merged_data.isnull().sum()\n",
    "merged_data[['Status']]=merged_data[['Status']].fillna(\"TRACK CLEAR\")\n",
    "merged_data_missing=merged_data.isnull().sum()"
   ]
  },
  {
   "cell_type": "markdown",
   "metadata": {},
   "source": [
    "#### DRIVERS AND THEIR TEAMS"
   ]
  },
  {
   "cell_type": "code",
   "execution_count": 27,
   "metadata": {},
   "outputs": [],
   "source": [
    "driver_team_map = {\n",
    "    'VER': 'RedBull',\n",
    "    'PER': 'RedBull',\n",
    "    'HAM': 'Mercedes',\n",
    "    'RUS': 'Mercedes',\n",
    "    'LEC': 'Ferrari',\n",
    "    'SAI': 'Ferrari',\n",
    "    'NOR': 'Mclaren',\n",
    "    'PIA': 'Mclaren',\n",
    "    'ALO': 'Aston Martin',\n",
    "    'STR': 'Aston Martin',\n",
    "    'OCO': 'Alpine',\n",
    "    'GAS': 'Alpine',\n",
    "    'TSU': 'Alpha Tauri',\n",
    "    'RIC': 'Alpha Tauri',\n",
    "    'LAW': 'Alpha Tauri',\n",
    "    'MAG': 'Haas',\n",
    "    'HUL': 'Haas',\n",
    "    'BOT': 'Sauber',\n",
    "    'ZHO': 'Sauber',\n",
    "    'SAR': 'Williams',\n",
    "    'ALB': 'Williams'\n",
    "\n",
    "}"
   ]
  },
  {
   "cell_type": "markdown",
   "metadata": {},
   "source": [
    "#### GETTING THE TEAM COLOR OF THE DRIVER"
   ]
  },
  {
   "cell_type": "code",
   "execution_count": 28,
   "metadata": {},
   "outputs": [],
   "source": [
    "def get_team_color(driver):\n",
    "    team = driver_team_map.get(driver, 'Unknown')\n",
    "    if team == 'Unknown':\n",
    "        return 'black'\n",
    "    return ff.plotting.team_color(team)"
   ]
  },
  {
   "cell_type": "markdown",
   "metadata": {},
   "source": [
    "#### DRIVERS TO PLOT"
   ]
  },
  {
   "cell_type": "code",
   "execution_count": 29,
   "metadata": {},
   "outputs": [],
   "source": [
    "drivers_to_plot = ['SAI', 'NOR']"
   ]
  },
  {
   "cell_type": "markdown",
   "metadata": {},
   "source": [
    "#### LAP TIME PLOTTING BETWEEN DRIVERS USING MATPLOTLIB"
   ]
  },
  {
   "cell_type": "code",
   "execution_count": 30,
   "metadata": {},
   "outputs": [
    {
     "data": {
      "image/png": "[encoded data removed]",
      "text/plain": [
       "<Figure size 1400x800 with 1 Axes>"
      ]
     },
     "metadata": {},
     "output_type": "display_data"
    }
   ],
   "source": [
    "plt.figure(figsize=(14, 8))\n",
    "for driver in drivers_to_plot:\n",
    "    driver_data = merged_data[merged_data['Driver'] == driver]\n",
    "    team_color = get_team_color(driver)\n",
    "    plt.plot(driver_data['LapNumber'], driver_data['LapTime'], marker='o', label=driver, color=team_color)\n",
    "\n",
    "plt.title('Lap Time Evolution')\n",
    "plt.xlabel('Lap Number')\n",
    "plt.ylabel('Lap Time (s)')\n",
    "plt.legend(title='Driver')\n",
    "plt.grid(True)\n",
    "plt.show()"
   ]
  },
  {
   "cell_type": "code",
   "execution_count": 31,
   "metadata": {},
   "outputs": [
    {
     "data": {
      "text/html": [
       "<div>\n",
       "<style scoped>\n",
       "    .dataframe tbody tr th:only-of-type {\n",
       "        vertical-align: middle;\n",
       "    }\n",
       "\n",
       "    .dataframe tbody tr th {\n",
       "        vertical-align: top;\n",
       "    }\n",
       "\n",
       "    .dataframe thead th {\n",
       "        text-align: right;\n",
       "    }\n",
       "</style>\n",
       "<table border=\"1\" class=\"dataframe\">\n",
       "  <thead>\n",
       "    <tr style=\"text-align: right;\">\n",
       "      <th></th>\n",
       "      <th>Time</th>\n",
       "      <th>Driver</th>\n",
       "      <th>DriverNumber</th>\n",
       "      <th>LapNumber</th>\n",
       "      <th>LapTime</th>\n",
       "      <th>Sector1Time</th>\n",
       "      <th>Sector2Time</th>\n",
       "      <th>Sector3Time</th>\n",
       "      <th>IsAccurate</th>\n",
       "      <th>Position</th>\n",
       "      <th>LapStartTime</th>\n",
       "      <th>FreshTyre</th>\n",
       "      <th>TyreLife</th>\n",
       "      <th>NumberOfPitStops</th>\n",
       "      <th>PitOutTime</th>\n",
       "      <th>PitInTime</th>\n",
       "      <th>Sector1Time(s)</th>\n",
       "      <th>Sector2Time(s)</th>\n",
       "      <th>Sector3Time(s)</th>\n",
       "      <th>Cum.SectorTime(s)</th>\n",
       "      <th>LapTime(s)</th>\n",
       "      <th>LapStartTime(s)</th>\n",
       "      <th>PitInTime(s)</th>\n",
       "      <th>PitOutTime(s)</th>\n",
       "      <th>PitStopTime(s)</th>\n",
       "      <th>PrevLapTime(s)</th>\n",
       "      <th>LapΔ(s)</th>\n",
       "      <th>CumLapTime(s)</th>\n",
       "      <th>GapToLeader</th>\n",
       "      <th>Interval</th>\n",
       "      <th>Compound_HARD</th>\n",
       "      <th>Compound_INTERMEDIATE</th>\n",
       "      <th>Compound_MEDIUM</th>\n",
       "      <th>Compound_SOFT</th>\n",
       "      <th>Compound_WET</th>\n",
       "      <th>AirTemp</th>\n",
       "      <th>Humidity</th>\n",
       "      <th>Pressure</th>\n",
       "      <th>Rainfall</th>\n",
       "      <th>TrackTemp</th>\n",
       "      <th>WindDirection</th>\n",
       "      <th>WindSpeed</th>\n",
       "      <th>Status</th>\n",
       "      <th>Message</th>\n",
       "      <th>Category_CarEvent</th>\n",
       "      <th>Category_Drs</th>\n",
       "      <th>Category_Flag</th>\n",
       "      <th>Category_Other</th>\n",
       "      <th>Category_SafetyCar</th>\n",
       "      <th>Flag_BLACK AND WHITE</th>\n",
       "      <th>Flag_BLUE</th>\n",
       "      <th>Flag_CHEQUERED</th>\n",
       "      <th>Flag_CLEAR</th>\n",
       "      <th>Flag_DOUBLE YELLOW</th>\n",
       "      <th>Flag_GREEN</th>\n",
       "      <th>Flag_RED</th>\n",
       "      <th>Flag_YELLOW</th>\n",
       "    </tr>\n",
       "  </thead>\n",
       "  <tbody>\n",
       "    <tr>\n",
       "      <th>0</th>\n",
       "      <td>0 days 01:03:36.820000</td>\n",
       "      <td>VER</td>\n",
       "      <td>1</td>\n",
       "      <td>1.0</td>\n",
       "      <td>0 days 00:01:31.585000</td>\n",
       "      <td>0 days 00:00:36.330000</td>\n",
       "      <td>0 days 00:00:28.929000</td>\n",
       "      <td>0 days 00:00:30.478000</td>\n",
       "      <td>False</td>\n",
       "      <td>1.0</td>\n",
       "      <td>0 days 01:02:04.960000</td>\n",
       "      <td>True</td>\n",
       "      <td>1.0</td>\n",
       "      <td>0.0</td>\n",
       "      <td>0</td>\n",
       "      <td>0</td>\n",
       "      <td>36.330</td>\n",
       "      <td>28.929</td>\n",
       "      <td>30.478</td>\n",
       "      <td>95.737</td>\n",
       "      <td>91.585</td>\n",
       "      <td>3724.960</td>\n",
       "      <td>0.0</td>\n",
       "      <td>0.0</td>\n",
       "      <td>0.0</td>\n",
       "      <td>0.000</td>\n",
       "      <td>0.000</td>\n",
       "      <td>91.585</td>\n",
       "      <td>0.000</td>\n",
       "      <td>0.000</td>\n",
       "      <td>False</td>\n",
       "      <td>False</td>\n",
       "      <td>False</td>\n",
       "      <td>True</td>\n",
       "      <td>False</td>\n",
       "      <td>17.5</td>\n",
       "      <td>67.0</td>\n",
       "      <td>1007.7</td>\n",
       "      <td>True</td>\n",
       "      <td>28.6</td>\n",
       "      <td>157</td>\n",
       "      <td>1.7</td>\n",
       "      <td>TRACK CLEAR</td>\n",
       "      <td>LOW GRIP CONDITIONS</td>\n",
       "      <td>False</td>\n",
       "      <td>False</td>\n",
       "      <td>False</td>\n",
       "      <td>True</td>\n",
       "      <td>False</td>\n",
       "      <td>False</td>\n",
       "      <td>False</td>\n",
       "      <td>False</td>\n",
       "      <td>False</td>\n",
       "      <td>False</td>\n",
       "      <td>False</td>\n",
       "      <td>False</td>\n",
       "      <td>False</td>\n",
       "    </tr>\n",
       "    <tr>\n",
       "      <th>1</th>\n",
       "      <td>0 days 01:03:37.462000</td>\n",
       "      <td>NOR</td>\n",
       "      <td>4</td>\n",
       "      <td>1.0</td>\n",
       "      <td>0 days 00:01:32.227000</td>\n",
       "      <td>0 days 00:00:37.353000</td>\n",
       "      <td>0 days 00:00:28.594000</td>\n",
       "      <td>0 days 00:00:30.567000</td>\n",
       "      <td>False</td>\n",
       "      <td>2.0</td>\n",
       "      <td>0 days 01:02:04.960000</td>\n",
       "      <td>True</td>\n",
       "      <td>1.0</td>\n",
       "      <td>0.0</td>\n",
       "      <td>0</td>\n",
       "      <td>0</td>\n",
       "      <td>37.353</td>\n",
       "      <td>28.594</td>\n",
       "      <td>30.567</td>\n",
       "      <td>96.514</td>\n",
       "      <td>92.227</td>\n",
       "      <td>3724.960</td>\n",
       "      <td>0.0</td>\n",
       "      <td>0.0</td>\n",
       "      <td>0.0</td>\n",
       "      <td>83.205</td>\n",
       "      <td>9.022</td>\n",
       "      <td>92.227</td>\n",
       "      <td>0.642</td>\n",
       "      <td>0.642</td>\n",
       "      <td>False</td>\n",
       "      <td>False</td>\n",
       "      <td>False</td>\n",
       "      <td>True</td>\n",
       "      <td>False</td>\n",
       "      <td>17.5</td>\n",
       "      <td>67.0</td>\n",
       "      <td>1007.7</td>\n",
       "      <td>True</td>\n",
       "      <td>28.6</td>\n",
       "      <td>157</td>\n",
       "      <td>1.7</td>\n",
       "      <td>TRACK CLEAR</td>\n",
       "      <td>LOW GRIP CONDITIONS</td>\n",
       "      <td>False</td>\n",
       "      <td>False</td>\n",
       "      <td>False</td>\n",
       "      <td>True</td>\n",
       "      <td>False</td>\n",
       "      <td>False</td>\n",
       "      <td>False</td>\n",
       "      <td>False</td>\n",
       "      <td>False</td>\n",
       "      <td>False</td>\n",
       "      <td>False</td>\n",
       "      <td>False</td>\n",
       "      <td>False</td>\n",
       "    </tr>\n",
       "    <tr>\n",
       "      <th>2</th>\n",
       "      <td>0 days 01:03:38.001000</td>\n",
       "      <td>ALO</td>\n",
       "      <td>14</td>\n",
       "      <td>1.0</td>\n",
       "      <td>0 days 00:01:32.766000</td>\n",
       "      <td>0 days 00:00:36.326000</td>\n",
       "      <td>0 days 00:00:28.764000</td>\n",
       "      <td>0 days 00:00:30.590000</td>\n",
       "      <td>False</td>\n",
       "      <td>3.0</td>\n",
       "      <td>0 days 01:02:04.960000</td>\n",
       "      <td>True</td>\n",
       "      <td>1.0</td>\n",
       "      <td>0.0</td>\n",
       "      <td>0</td>\n",
       "      <td>0</td>\n",
       "      <td>36.326</td>\n",
       "      <td>28.764</td>\n",
       "      <td>30.590</td>\n",
       "      <td>95.680</td>\n",
       "      <td>92.766</td>\n",
       "      <td>3724.960</td>\n",
       "      <td>0.0</td>\n",
       "      <td>0.0</td>\n",
       "      <td>0.0</td>\n",
       "      <td>81.699</td>\n",
       "      <td>11.067</td>\n",
       "      <td>92.766</td>\n",
       "      <td>1.181</td>\n",
       "      <td>0.539</td>\n",
       "      <td>False</td>\n",
       "      <td>False</td>\n",
       "      <td>False</td>\n",
       "      <td>True</td>\n",
       "      <td>False</td>\n",
       "      <td>17.5</td>\n",
       "      <td>67.0</td>\n",
       "      <td>1007.7</td>\n",
       "      <td>True</td>\n",
       "      <td>28.6</td>\n",
       "      <td>157</td>\n",
       "      <td>1.7</td>\n",
       "      <td>TRACK CLEAR</td>\n",
       "      <td>LOW GRIP CONDITIONS</td>\n",
       "      <td>False</td>\n",
       "      <td>False</td>\n",
       "      <td>False</td>\n",
       "      <td>True</td>\n",
       "      <td>False</td>\n",
       "      <td>False</td>\n",
       "      <td>False</td>\n",
       "      <td>False</td>\n",
       "      <td>False</td>\n",
       "      <td>False</td>\n",
       "      <td>False</td>\n",
       "      <td>False</td>\n",
       "      <td>False</td>\n",
       "    </tr>\n",
       "    <tr>\n",
       "      <th>3</th>\n",
       "      <td>0 days 01:03:38.476000</td>\n",
       "      <td>RUS</td>\n",
       "      <td>63</td>\n",
       "      <td>1.0</td>\n",
       "      <td>0 days 00:01:33.241000</td>\n",
       "      <td>0 days 00:00:37.093000</td>\n",
       "      <td>0 days 00:00:28.820000</td>\n",
       "      <td>0 days 00:00:30.679000</td>\n",
       "      <td>False</td>\n",
       "      <td>4.0</td>\n",
       "      <td>0 days 01:02:04.960000</td>\n",
       "      <td>True</td>\n",
       "      <td>1.0</td>\n",
       "      <td>0.0</td>\n",
       "      <td>0</td>\n",
       "      <td>0</td>\n",
       "      <td>37.093</td>\n",
       "      <td>28.820</td>\n",
       "      <td>30.679</td>\n",
       "      <td>96.592</td>\n",
       "      <td>93.241</td>\n",
       "      <td>3724.960</td>\n",
       "      <td>0.0</td>\n",
       "      <td>0.0</td>\n",
       "      <td>0.0</td>\n",
       "      <td>82.652</td>\n",
       "      <td>10.589</td>\n",
       "      <td>93.241</td>\n",
       "      <td>1.656</td>\n",
       "      <td>0.475</td>\n",
       "      <td>False</td>\n",
       "      <td>False</td>\n",
       "      <td>False</td>\n",
       "      <td>True</td>\n",
       "      <td>False</td>\n",
       "      <td>17.5</td>\n",
       "      <td>67.0</td>\n",
       "      <td>1007.7</td>\n",
       "      <td>True</td>\n",
       "      <td>28.6</td>\n",
       "      <td>157</td>\n",
       "      <td>1.7</td>\n",
       "      <td>TRACK CLEAR</td>\n",
       "      <td>LOW GRIP CONDITIONS</td>\n",
       "      <td>False</td>\n",
       "      <td>False</td>\n",
       "      <td>False</td>\n",
       "      <td>True</td>\n",
       "      <td>False</td>\n",
       "      <td>False</td>\n",
       "      <td>False</td>\n",
       "      <td>False</td>\n",
       "      <td>False</td>\n",
       "      <td>False</td>\n",
       "      <td>False</td>\n",
       "      <td>False</td>\n",
       "      <td>False</td>\n",
       "    </tr>\n",
       "    <tr>\n",
       "      <th>4</th>\n",
       "      <td>0 days 01:03:39.511000</td>\n",
       "      <td>ALB</td>\n",
       "      <td>23</td>\n",
       "      <td>1.0</td>\n",
       "      <td>0 days 00:01:34.276000</td>\n",
       "      <td>0 days 00:00:36.857000</td>\n",
       "      <td>0 days 00:00:29.096000</td>\n",
       "      <td>0 days 00:00:31.301000</td>\n",
       "      <td>False</td>\n",
       "      <td>5.0</td>\n",
       "      <td>0 days 01:02:04.960000</td>\n",
       "      <td>True</td>\n",
       "      <td>1.0</td>\n",
       "      <td>0.0</td>\n",
       "      <td>0</td>\n",
       "      <td>0</td>\n",
       "      <td>36.857</td>\n",
       "      <td>29.096</td>\n",
       "      <td>31.301</td>\n",
       "      <td>97.254</td>\n",
       "      <td>94.276</td>\n",
       "      <td>3724.960</td>\n",
       "      <td>0.0</td>\n",
       "      <td>0.0</td>\n",
       "      <td>0.0</td>\n",
       "      <td>83.883</td>\n",
       "      <td>10.393</td>\n",
       "      <td>94.276</td>\n",
       "      <td>2.691</td>\n",
       "      <td>1.035</td>\n",
       "      <td>False</td>\n",
       "      <td>False</td>\n",
       "      <td>False</td>\n",
       "      <td>True</td>\n",
       "      <td>False</td>\n",
       "      <td>17.5</td>\n",
       "      <td>67.0</td>\n",
       "      <td>1007.7</td>\n",
       "      <td>True</td>\n",
       "      <td>28.6</td>\n",
       "      <td>157</td>\n",
       "      <td>1.7</td>\n",
       "      <td>TRACK CLEAR</td>\n",
       "      <td>LOW GRIP CONDITIONS</td>\n",
       "      <td>False</td>\n",
       "      <td>False</td>\n",
       "      <td>False</td>\n",
       "      <td>True</td>\n",
       "      <td>False</td>\n",
       "      <td>False</td>\n",
       "      <td>False</td>\n",
       "      <td>False</td>\n",
       "      <td>False</td>\n",
       "      <td>False</td>\n",
       "      <td>False</td>\n",
       "      <td>False</td>\n",
       "      <td>False</td>\n",
       "    </tr>\n",
       "    <tr>\n",
       "      <th>...</th>\n",
       "      <td>...</td>\n",
       "      <td>...</td>\n",
       "      <td>...</td>\n",
       "      <td>...</td>\n",
       "      <td>...</td>\n",
       "      <td>...</td>\n",
       "      <td>...</td>\n",
       "      <td>...</td>\n",
       "      <td>...</td>\n",
       "      <td>...</td>\n",
       "      <td>...</td>\n",
       "      <td>...</td>\n",
       "      <td>...</td>\n",
       "      <td>...</td>\n",
       "      <td>...</td>\n",
       "      <td>...</td>\n",
       "      <td>...</td>\n",
       "      <td>...</td>\n",
       "      <td>...</td>\n",
       "      <td>...</td>\n",
       "      <td>...</td>\n",
       "      <td>...</td>\n",
       "      <td>...</td>\n",
       "      <td>...</td>\n",
       "      <td>...</td>\n",
       "      <td>...</td>\n",
       "      <td>...</td>\n",
       "      <td>...</td>\n",
       "      <td>...</td>\n",
       "      <td>...</td>\n",
       "      <td>...</td>\n",
       "      <td>...</td>\n",
       "      <td>...</td>\n",
       "      <td>...</td>\n",
       "      <td>...</td>\n",
       "      <td>...</td>\n",
       "      <td>...</td>\n",
       "      <td>...</td>\n",
       "      <td>...</td>\n",
       "      <td>...</td>\n",
       "      <td>...</td>\n",
       "      <td>...</td>\n",
       "      <td>...</td>\n",
       "      <td>...</td>\n",
       "      <td>...</td>\n",
       "      <td>...</td>\n",
       "      <td>...</td>\n",
       "      <td>...</td>\n",
       "      <td>...</td>\n",
       "      <td>...</td>\n",
       "      <td>...</td>\n",
       "      <td>...</td>\n",
       "      <td>...</td>\n",
       "      <td>...</td>\n",
       "      <td>...</td>\n",
       "      <td>...</td>\n",
       "      <td>...</td>\n",
       "    </tr>\n",
       "    <tr>\n",
       "      <th>1338</th>\n",
       "      <td>0 days 03:26:34.603000</td>\n",
       "      <td>TSU</td>\n",
       "      <td>22</td>\n",
       "      <td>72.0</td>\n",
       "      <td>0 days 00:01:23.883000</td>\n",
       "      <td>0 days 00:00:28.923000</td>\n",
       "      <td>0 days 00:00:28.789000</td>\n",
       "      <td>0 days 00:00:26.171000</td>\n",
       "      <td>True</td>\n",
       "      <td>13.0</td>\n",
       "      <td>0 days 03:25:10.720000</td>\n",
       "      <td>False</td>\n",
       "      <td>14.0</td>\n",
       "      <td>5.0</td>\n",
       "      <td>0</td>\n",
       "      <td>0</td>\n",
       "      <td>28.923</td>\n",
       "      <td>28.789</td>\n",
       "      <td>26.171</td>\n",
       "      <td>83.883</td>\n",
       "      <td>83.883</td>\n",
       "      <td>12310.720</td>\n",
       "      <td>0.0</td>\n",
       "      <td>0.0</td>\n",
       "      <td>0.0</td>\n",
       "      <td>83.101</td>\n",
       "      <td>0.782</td>\n",
       "      <td>6247.044</td>\n",
       "      <td>90.151</td>\n",
       "      <td>-0.399</td>\n",
       "      <td>False</td>\n",
       "      <td>True</td>\n",
       "      <td>False</td>\n",
       "      <td>False</td>\n",
       "      <td>False</td>\n",
       "      <td>15.8</td>\n",
       "      <td>77.0</td>\n",
       "      <td>1008.2</td>\n",
       "      <td>True</td>\n",
       "      <td>19.1</td>\n",
       "      <td>163</td>\n",
       "      <td>2.7</td>\n",
       "      <td>TRACK CLEAR</td>\n",
       "      <td>CHEQUERED FLAG</td>\n",
       "      <td>False</td>\n",
       "      <td>False</td>\n",
       "      <td>True</td>\n",
       "      <td>False</td>\n",
       "      <td>False</td>\n",
       "      <td>False</td>\n",
       "      <td>False</td>\n",
       "      <td>True</td>\n",
       "      <td>False</td>\n",
       "      <td>False</td>\n",
       "      <td>False</td>\n",
       "      <td>False</td>\n",
       "      <td>False</td>\n",
       "    </tr>\n",
       "    <tr>\n",
       "      <th>1339</th>\n",
       "      <td>0 days 03:26:35.827000</td>\n",
       "      <td>LAW</td>\n",
       "      <td>40</td>\n",
       "      <td>72.0</td>\n",
       "      <td>0 days 00:01:23.592000</td>\n",
       "      <td>0 days 00:00:28.792000</td>\n",
       "      <td>0 days 00:00:28.745000</td>\n",
       "      <td>0 days 00:00:26.055000</td>\n",
       "      <td>True</td>\n",
       "      <td>14.0</td>\n",
       "      <td>0 days 03:25:12.235000</td>\n",
       "      <td>False</td>\n",
       "      <td>16.0</td>\n",
       "      <td>7.0</td>\n",
       "      <td>0</td>\n",
       "      <td>0</td>\n",
       "      <td>28.792</td>\n",
       "      <td>28.745</td>\n",
       "      <td>26.055</td>\n",
       "      <td>83.592</td>\n",
       "      <td>83.592</td>\n",
       "      <td>12312.235</td>\n",
       "      <td>0.0</td>\n",
       "      <td>0.0</td>\n",
       "      <td>0.0</td>\n",
       "      <td>84.122</td>\n",
       "      <td>-0.530</td>\n",
       "      <td>6261.330</td>\n",
       "      <td>104.437</td>\n",
       "      <td>14.286</td>\n",
       "      <td>False</td>\n",
       "      <td>True</td>\n",
       "      <td>False</td>\n",
       "      <td>False</td>\n",
       "      <td>False</td>\n",
       "      <td>15.8</td>\n",
       "      <td>77.0</td>\n",
       "      <td>1008.2</td>\n",
       "      <td>True</td>\n",
       "      <td>19.1</td>\n",
       "      <td>163</td>\n",
       "      <td>2.7</td>\n",
       "      <td>TRACK CLEAR</td>\n",
       "      <td>CHEQUERED FLAG</td>\n",
       "      <td>False</td>\n",
       "      <td>False</td>\n",
       "      <td>True</td>\n",
       "      <td>False</td>\n",
       "      <td>False</td>\n",
       "      <td>False</td>\n",
       "      <td>False</td>\n",
       "      <td>True</td>\n",
       "      <td>False</td>\n",
       "      <td>False</td>\n",
       "      <td>False</td>\n",
       "      <td>False</td>\n",
       "      <td>False</td>\n",
       "    </tr>\n",
       "    <tr>\n",
       "      <th>1340</th>\n",
       "      <td>0 days 03:26:36.084000</td>\n",
       "      <td>MAG</td>\n",
       "      <td>20</td>\n",
       "      <td>72.0</td>\n",
       "      <td>0 days 00:01:23.550000</td>\n",
       "      <td>0 days 00:00:29.009000</td>\n",
       "      <td>0 days 00:00:28.794000</td>\n",
       "      <td>0 days 00:00:25.747000</td>\n",
       "      <td>True</td>\n",
       "      <td>15.0</td>\n",
       "      <td>0 days 03:25:12.534000</td>\n",
       "      <td>False</td>\n",
       "      <td>12.0</td>\n",
       "      <td>6.0</td>\n",
       "      <td>0</td>\n",
       "      <td>0</td>\n",
       "      <td>29.009</td>\n",
       "      <td>28.794</td>\n",
       "      <td>25.747</td>\n",
       "      <td>83.550</td>\n",
       "      <td>83.550</td>\n",
       "      <td>12312.534</td>\n",
       "      <td>0.0</td>\n",
       "      <td>0.0</td>\n",
       "      <td>0.0</td>\n",
       "      <td>83.912</td>\n",
       "      <td>-0.362</td>\n",
       "      <td>6315.824</td>\n",
       "      <td>158.931</td>\n",
       "      <td>54.494</td>\n",
       "      <td>False</td>\n",
       "      <td>True</td>\n",
       "      <td>False</td>\n",
       "      <td>False</td>\n",
       "      <td>False</td>\n",
       "      <td>15.8</td>\n",
       "      <td>77.0</td>\n",
       "      <td>1008.2</td>\n",
       "      <td>True</td>\n",
       "      <td>19.1</td>\n",
       "      <td>163</td>\n",
       "      <td>2.7</td>\n",
       "      <td>TRACK CLEAR</td>\n",
       "      <td>CHEQUERED FLAG</td>\n",
       "      <td>False</td>\n",
       "      <td>False</td>\n",
       "      <td>True</td>\n",
       "      <td>False</td>\n",
       "      <td>False</td>\n",
       "      <td>False</td>\n",
       "      <td>False</td>\n",
       "      <td>True</td>\n",
       "      <td>False</td>\n",
       "      <td>False</td>\n",
       "      <td>False</td>\n",
       "      <td>False</td>\n",
       "      <td>False</td>\n",
       "    </tr>\n",
       "    <tr>\n",
       "      <th>1341</th>\n",
       "      <td>0 days 03:26:37.061000</td>\n",
       "      <td>BOT</td>\n",
       "      <td>77</td>\n",
       "      <td>72.0</td>\n",
       "      <td>0 days 00:01:23.030000</td>\n",
       "      <td>0 days 00:00:28.882000</td>\n",
       "      <td>0 days 00:00:28.443000</td>\n",
       "      <td>0 days 00:00:25.705000</td>\n",
       "      <td>True</td>\n",
       "      <td>16.0</td>\n",
       "      <td>0 days 03:25:14.031000</td>\n",
       "      <td>False</td>\n",
       "      <td>9.0</td>\n",
       "      <td>5.0</td>\n",
       "      <td>0</td>\n",
       "      <td>0</td>\n",
       "      <td>28.882</td>\n",
       "      <td>28.443</td>\n",
       "      <td>25.705</td>\n",
       "      <td>83.030</td>\n",
       "      <td>83.030</td>\n",
       "      <td>12314.031</td>\n",
       "      <td>0.0</td>\n",
       "      <td>0.0</td>\n",
       "      <td>0.0</td>\n",
       "      <td>82.873</td>\n",
       "      <td>0.157</td>\n",
       "      <td>6255.933</td>\n",
       "      <td>99.040</td>\n",
       "      <td>-59.891</td>\n",
       "      <td>False</td>\n",
       "      <td>True</td>\n",
       "      <td>False</td>\n",
       "      <td>False</td>\n",
       "      <td>False</td>\n",
       "      <td>15.8</td>\n",
       "      <td>77.0</td>\n",
       "      <td>1008.2</td>\n",
       "      <td>True</td>\n",
       "      <td>19.1</td>\n",
       "      <td>163</td>\n",
       "      <td>2.7</td>\n",
       "      <td>TRACK CLEAR</td>\n",
       "      <td>CHEQUERED FLAG</td>\n",
       "      <td>False</td>\n",
       "      <td>False</td>\n",
       "      <td>True</td>\n",
       "      <td>False</td>\n",
       "      <td>False</td>\n",
       "      <td>False</td>\n",
       "      <td>False</td>\n",
       "      <td>True</td>\n",
       "      <td>False</td>\n",
       "      <td>False</td>\n",
       "      <td>False</td>\n",
       "      <td>False</td>\n",
       "      <td>False</td>\n",
       "    </tr>\n",
       "    <tr>\n",
       "      <th>1342</th>\n",
       "      <td>0 days 03:27:05.461000</td>\n",
       "      <td>RUS</td>\n",
       "      <td>63</td>\n",
       "      <td>72.0</td>\n",
       "      <td>0 days 00:01:20.769000</td>\n",
       "      <td>0 days 00:00:27.959000</td>\n",
       "      <td>0 days 00:00:27.849000</td>\n",
       "      <td>0 days 00:00:24.961000</td>\n",
       "      <td>True</td>\n",
       "      <td>17.0</td>\n",
       "      <td>0 days 03:25:44.692000</td>\n",
       "      <td>False</td>\n",
       "      <td>20.0</td>\n",
       "      <td>7.0</td>\n",
       "      <td>0</td>\n",
       "      <td>0</td>\n",
       "      <td>27.959</td>\n",
       "      <td>27.849</td>\n",
       "      <td>24.961</td>\n",
       "      <td>80.769</td>\n",
       "      <td>80.769</td>\n",
       "      <td>12344.692</td>\n",
       "      <td>0.0</td>\n",
       "      <td>0.0</td>\n",
       "      <td>0.0</td>\n",
       "      <td>80.548</td>\n",
       "      <td>0.221</td>\n",
       "      <td>6248.199</td>\n",
       "      <td>91.306</td>\n",
       "      <td>-7.734</td>\n",
       "      <td>False</td>\n",
       "      <td>True</td>\n",
       "      <td>False</td>\n",
       "      <td>False</td>\n",
       "      <td>False</td>\n",
       "      <td>15.8</td>\n",
       "      <td>77.0</td>\n",
       "      <td>1008.2</td>\n",
       "      <td>True</td>\n",
       "      <td>19.1</td>\n",
       "      <td>163</td>\n",
       "      <td>2.7</td>\n",
       "      <td>TRACK CLEAR</td>\n",
       "      <td>CHEQUERED FLAG</td>\n",
       "      <td>False</td>\n",
       "      <td>False</td>\n",
       "      <td>True</td>\n",
       "      <td>False</td>\n",
       "      <td>False</td>\n",
       "      <td>False</td>\n",
       "      <td>False</td>\n",
       "      <td>True</td>\n",
       "      <td>False</td>\n",
       "      <td>False</td>\n",
       "      <td>False</td>\n",
       "      <td>False</td>\n",
       "      <td>False</td>\n",
       "    </tr>\n",
       "  </tbody>\n",
       "</table>\n",
       "<p>1343 rows × 57 columns</p>\n",
       "</div>"
      ],
      "text/plain": [
       "                       Time Driver DriverNumber  LapNumber  \\\n",
       "0    0 days 01:03:36.820000    VER            1        1.0   \n",
       "1    0 days 01:03:37.462000    NOR            4        1.0   \n",
       "2    0 days 01:03:38.001000    ALO           14        1.0   \n",
       "3    0 days 01:03:38.476000    RUS           63        1.0   \n",
       "4    0 days 01:03:39.511000    ALB           23        1.0   \n",
       "...                     ...    ...          ...        ...   \n",
       "1338 0 days 03:26:34.603000    TSU           22       72.0   \n",
       "1339 0 days 03:26:35.827000    LAW           40       72.0   \n",
       "1340 0 days 03:26:36.084000    MAG           20       72.0   \n",
       "1341 0 days 03:26:37.061000    BOT           77       72.0   \n",
       "1342 0 days 03:27:05.461000    RUS           63       72.0   \n",
       "\n",
       "                    LapTime            Sector1Time            Sector2Time  \\\n",
       "0    0 days 00:01:31.585000 0 days 00:00:36.330000 0 days 00:00:28.929000   \n",
       "1    0 days 00:01:32.227000 0 days 00:00:37.353000 0 days 00:00:28.594000   \n",
       "2    0 days 00:01:32.766000 0 days 00:00:36.326000 0 days 00:00:28.764000   \n",
       "3    0 days 00:01:33.241000 0 days 00:00:37.093000 0 days 00:00:28.820000   \n",
       "4    0 days 00:01:34.276000 0 days 00:00:36.857000 0 days 00:00:29.096000   \n",
       "...                     ...                    ...                    ...   \n",
       "1338 0 days 00:01:23.883000 0 days 00:00:28.923000 0 days 00:00:28.789000   \n",
       "1339 0 days 00:01:23.592000 0 days 00:00:28.792000 0 days 00:00:28.745000   \n",
       "1340 0 days 00:01:23.550000 0 days 00:00:29.009000 0 days 00:00:28.794000   \n",
       "1341 0 days 00:01:23.030000 0 days 00:00:28.882000 0 days 00:00:28.443000   \n",
       "1342 0 days 00:01:20.769000 0 days 00:00:27.959000 0 days 00:00:27.849000   \n",
       "\n",
       "                Sector3Time  IsAccurate  Position           LapStartTime  \\\n",
       "0    0 days 00:00:30.478000       False       1.0 0 days 01:02:04.960000   \n",
       "1    0 days 00:00:30.567000       False       2.0 0 days 01:02:04.960000   \n",
       "2    0 days 00:00:30.590000       False       3.0 0 days 01:02:04.960000   \n",
       "3    0 days 00:00:30.679000       False       4.0 0 days 01:02:04.960000   \n",
       "4    0 days 00:00:31.301000       False       5.0 0 days 01:02:04.960000   \n",
       "...                     ...         ...       ...                    ...   \n",
       "1338 0 days 00:00:26.171000        True      13.0 0 days 03:25:10.720000   \n",
       "1339 0 days 00:00:26.055000        True      14.0 0 days 03:25:12.235000   \n",
       "1340 0 days 00:00:25.747000        True      15.0 0 days 03:25:12.534000   \n",
       "1341 0 days 00:00:25.705000        True      16.0 0 days 03:25:14.031000   \n",
       "1342 0 days 00:00:24.961000        True      17.0 0 days 03:25:44.692000   \n",
       "\n",
       "      FreshTyre  TyreLife  NumberOfPitStops PitOutTime PitInTime  \\\n",
       "0          True       1.0               0.0          0         0   \n",
       "1          True       1.0               0.0          0         0   \n",
       "2          True       1.0               0.0          0         0   \n",
       "3          True       1.0               0.0          0         0   \n",
       "4          True       1.0               0.0          0         0   \n",
       "...         ...       ...               ...        ...       ...   \n",
       "1338      False      14.0               5.0          0         0   \n",
       "1339      False      16.0               7.0          0         0   \n",
       "1340      False      12.0               6.0          0         0   \n",
       "1341      False       9.0               5.0          0         0   \n",
       "1342      False      20.0               7.0          0         0   \n",
       "\n",
       "      Sector1Time(s)  Sector2Time(s)  Sector3Time(s)  Cum.SectorTime(s)  \\\n",
       "0             36.330          28.929          30.478             95.737   \n",
       "1             37.353          28.594          30.567             96.514   \n",
       "2             36.326          28.764          30.590             95.680   \n",
       "3             37.093          28.820          30.679             96.592   \n",
       "4             36.857          29.096          31.301             97.254   \n",
       "...              ...             ...             ...                ...   \n",
       "1338          28.923          28.789          26.171             83.883   \n",
       "1339          28.792          28.745          26.055             83.592   \n",
       "1340          29.009          28.794          25.747             83.550   \n",
       "1341          28.882          28.443          25.705             83.030   \n",
       "1342          27.959          27.849          24.961             80.769   \n",
       "\n",
       "      LapTime(s)  LapStartTime(s)  PitInTime(s)  PitOutTime(s)  \\\n",
       "0         91.585         3724.960           0.0            0.0   \n",
       "1         92.227         3724.960           0.0            0.0   \n",
       "2         92.766         3724.960           0.0            0.0   \n",
       "3         93.241         3724.960           0.0            0.0   \n",
       "4         94.276         3724.960           0.0            0.0   \n",
       "...          ...              ...           ...            ...   \n",
       "1338      83.883        12310.720           0.0            0.0   \n",
       "1339      83.592        12312.235           0.0            0.0   \n",
       "1340      83.550        12312.534           0.0            0.0   \n",
       "1341      83.030        12314.031           0.0            0.0   \n",
       "1342      80.769        12344.692           0.0            0.0   \n",
       "\n",
       "      PitStopTime(s)  PrevLapTime(s)  LapΔ(s)  CumLapTime(s)  GapToLeader  \\\n",
       "0                0.0           0.000    0.000         91.585        0.000   \n",
       "1                0.0          83.205    9.022         92.227        0.642   \n",
       "2                0.0          81.699   11.067         92.766        1.181   \n",
       "3                0.0          82.652   10.589         93.241        1.656   \n",
       "4                0.0          83.883   10.393         94.276        2.691   \n",
       "...              ...             ...      ...            ...          ...   \n",
       "1338             0.0          83.101    0.782       6247.044       90.151   \n",
       "1339             0.0          84.122   -0.530       6261.330      104.437   \n",
       "1340             0.0          83.912   -0.362       6315.824      158.931   \n",
       "1341             0.0          82.873    0.157       6255.933       99.040   \n",
       "1342             0.0          80.548    0.221       6248.199       91.306   \n",
       "\n",
       "      Interval  Compound_HARD  Compound_INTERMEDIATE  Compound_MEDIUM  \\\n",
       "0        0.000          False                  False            False   \n",
       "1        0.642          False                  False            False   \n",
       "2        0.539          False                  False            False   \n",
       "3        0.475          False                  False            False   \n",
       "4        1.035          False                  False            False   \n",
       "...        ...            ...                    ...              ...   \n",
       "1338    -0.399          False                   True            False   \n",
       "1339    14.286          False                   True            False   \n",
       "1340    54.494          False                   True            False   \n",
       "1341   -59.891          False                   True            False   \n",
       "1342    -7.734          False                   True            False   \n",
       "\n",
       "      Compound_SOFT  Compound_WET  AirTemp  Humidity  Pressure  Rainfall  \\\n",
       "0              True         False     17.5      67.0    1007.7      True   \n",
       "1              True         False     17.5      67.0    1007.7      True   \n",
       "2              True         False     17.5      67.0    1007.7      True   \n",
       "3              True         False     17.5      67.0    1007.7      True   \n",
       "4              True         False     17.5      67.0    1007.7      True   \n",
       "...             ...           ...      ...       ...       ...       ...   \n",
       "1338          False         False     15.8      77.0    1008.2      True   \n",
       "1339          False         False     15.8      77.0    1008.2      True   \n",
       "1340          False         False     15.8      77.0    1008.2      True   \n",
       "1341          False         False     15.8      77.0    1008.2      True   \n",
       "1342          False         False     15.8      77.0    1008.2      True   \n",
       "\n",
       "      TrackTemp  WindDirection  WindSpeed       Status              Message  \\\n",
       "0          28.6            157        1.7  TRACK CLEAR  LOW GRIP CONDITIONS   \n",
       "1          28.6            157        1.7  TRACK CLEAR  LOW GRIP CONDITIONS   \n",
       "2          28.6            157        1.7  TRACK CLEAR  LOW GRIP CONDITIONS   \n",
       "3          28.6            157        1.7  TRACK CLEAR  LOW GRIP CONDITIONS   \n",
       "4          28.6            157        1.7  TRACK CLEAR  LOW GRIP CONDITIONS   \n",
       "...         ...            ...        ...          ...                  ...   \n",
       "1338       19.1            163        2.7  TRACK CLEAR       CHEQUERED FLAG   \n",
       "1339       19.1            163        2.7  TRACK CLEAR       CHEQUERED FLAG   \n",
       "1340       19.1            163        2.7  TRACK CLEAR       CHEQUERED FLAG   \n",
       "1341       19.1            163        2.7  TRACK CLEAR       CHEQUERED FLAG   \n",
       "1342       19.1            163        2.7  TRACK CLEAR       CHEQUERED FLAG   \n",
       "\n",
       "      Category_CarEvent  Category_Drs  Category_Flag  Category_Other  \\\n",
       "0                 False         False          False            True   \n",
       "1                 False         False          False            True   \n",
       "2                 False         False          False            True   \n",
       "3                 False         False          False            True   \n",
       "4                 False         False          False            True   \n",
       "...                 ...           ...            ...             ...   \n",
       "1338              False         False           True           False   \n",
       "1339              False         False           True           False   \n",
       "1340              False         False           True           False   \n",
       "1341              False         False           True           False   \n",
       "1342              False         False           True           False   \n",
       "\n",
       "      Category_SafetyCar  Flag_BLACK AND WHITE  Flag_BLUE  Flag_CHEQUERED  \\\n",
       "0                  False                 False      False           False   \n",
       "1                  False                 False      False           False   \n",
       "2                  False                 False      False           False   \n",
       "3                  False                 False      False           False   \n",
       "4                  False                 False      False           False   \n",
       "...                  ...                   ...        ...             ...   \n",
       "1338               False                 False      False            True   \n",
       "1339               False                 False      False            True   \n",
       "1340               False                 False      False            True   \n",
       "1341               False                 False      False            True   \n",
       "1342               False                 False      False            True   \n",
       "\n",
       "      Flag_CLEAR  Flag_DOUBLE YELLOW  Flag_GREEN  Flag_RED  Flag_YELLOW  \n",
       "0          False               False       False     False        False  \n",
       "1          False               False       False     False        False  \n",
       "2          False               False       False     False        False  \n",
       "3          False               False       False     False        False  \n",
       "4          False               False       False     False        False  \n",
       "...          ...                 ...         ...       ...          ...  \n",
       "1338       False               False       False     False        False  \n",
       "1339       False               False       False     False        False  \n",
       "1340       False               False       False     False        False  \n",
       "1341       False               False       False     False        False  \n",
       "1342       False               False       False     False        False  \n",
       "\n",
       "[1343 rows x 57 columns]"
      ]
     },
     "execution_count": 31,
     "metadata": {},
     "output_type": "execute_result"
    }
   ],
   "source": [
    "merged_data"
   ]
  },
  {
   "cell_type": "markdown",
   "metadata": {},
   "source": [
    "#### LAP TIME PLOTTING BETWEEN DRIVERS USING PLOTLY"
   ]
  },
  {
   "cell_type": "code",
   "execution_count": 41,
   "metadata": {},
   "outputs": [
    {
     "data": {
      "application/vnd.plotly.v1+json": {
       "config": {
        "plotlyServerURL": "https://plot.ly"
       },
       "data": [
        {
         "customdata": [
          [
           94.694,
           1,
           34.694,
           "SAI",
           694.0000000000026
          ],
          [
           113.117,
           1,
           53.117000000000004,
           "SAI",
           117.00000000000443
          ],
          [
           108.225,
           1,
           48.224999999999994,
           "SAI",
           224.99999999999432
          ],
          [
           85.734,
           1,
           25.733999999999995,
           "SAI",
           733.9999999999947
          ],
          [
           83.956,
           1,
           23.956000000000003,
           "SAI",
           956.0000000000031
          ],
          [
           84.297,
           1,
           24.296999999999997,
           "SAI",
           296.99999999999704
          ],
          [
           84.141,
           1,
           24.141000000000005,
           "SAI",
           141.00000000000534
          ],
          [
           85.061,
           1,
           25.061000000000007,
           "SAI",
           61.00000000000705
          ],
          [
           85.156,
           1,
           25.156000000000006,
           "SAI",
           156.0000000000059
          ],
          [
           88.581,
           1,
           28.581000000000003,
           "SAI",
           581.0000000000031
          ],
          [
           98.827,
           1,
           38.827,
           "SAI",
           826.9999999999982
          ],
          [
           77.997,
           1,
           17.997,
           "SAI",
           996.9999999999999
          ],
          [
           76.472,
           1,
           16.471999999999994,
           "SAI",
           471.9999999999942
          ],
          [
           76.782,
           1,
           16.781999999999996,
           "SAI",
           781.9999999999965
          ],
          [
           77.126,
           1,
           17.126000000000005,
           "SAI",
           126.00000000000477
          ],
          [
           88.299,
           1,
           28.299000000000007,
           "SAI",
           299.0000000000066
          ],
          [
           118.497,
           1,
           58.497,
           "SAI",
           496.9999999999999
          ],
          [
           127.367,
           2,
           7.367000000000004,
           "SAI",
           367.00000000000443
          ],
          [
           120.434,
           2,
           0.4339999999999975,
           "SAI",
           433.9999999999975
          ],
          [
           115.913,
           1,
           55.913,
           "SAI",
           912.9999999999967
          ],
          [
           122.828,
           2,
           2.828000000000003,
           "SAI",
           828.000000000003
          ],
          [
           77.72,
           1,
           17.72,
           "SAI",
           719.9999999999989
          ],
          [
           77.214,
           1,
           17.214,
           "SAI",
           213.99999999999864
          ],
          [
           76.338,
           1,
           16.337999999999994,
           "SAI",
           337.99999999999386
          ],
          [
           76.317,
           1,
           16.316999999999993,
           "SAI",
           316.99999999999307
          ],
          [
           76.875,
           1,
           16.875,
           "SAI",
           875
          ],
          [
           76.619,
           1,
           16.619,
           "SAI",
           618.9999999999998
          ],
          [
           76.144,
           1,
           16.144000000000005,
           "SAI",
           144.00000000000546
          ],
          [
           76.217,
           1,
           16.217,
           "SAI",
           216.99999999999875
          ],
          [
           76.042,
           1,
           16.042,
           "SAI",
           42.00000000000159
          ],
          [
           76.054,
           1,
           16.054000000000002,
           "SAI",
           54.000000000002046
          ],
          [
           76.106,
           1,
           16.105999999999995,
           "SAI",
           105.99999999999454
          ],
          [
           76.231,
           1,
           16.230999999999995,
           "SAI",
           230.99999999999454
          ],
          [
           76.146,
           1,
           16.146,
           "SAI",
           146.0000000000008
          ],
          [
           76.041,
           1,
           16.040999999999997,
           "SAI",
           40.99999999999682
          ],
          [
           76.117,
           1,
           16.117000000000004,
           "SAI",
           117.00000000000443
          ],
          [
           75.973,
           1,
           15.972999999999999,
           "SAI",
           972.999999999999
          ],
          [
           75.961,
           1,
           15.960999999999999,
           "SAI",
           960.9999999999985
          ],
          [
           76.076,
           1,
           16.075999999999993,
           "SAI",
           75.9999999999934
          ],
          [
           76.307,
           1,
           16.307000000000002,
           "SAI",
           307.00000000000216
          ],
          [
           79.511,
           1,
           19.510999999999996,
           "SAI",
           510.9999999999957
          ],
          [
           93.523,
           1,
           33.522999999999996,
           "SAI",
           522.9999999999961
          ],
          [
           74.975,
           1,
           14.974999999999994,
           "SAI",
           974.9999999999943
          ],
          [
           74.962,
           1,
           14.962000000000003,
           "SAI",
           962.0000000000033
          ],
          [
           75.093,
           1,
           15.093000000000004,
           "SAI",
           93.00000000000352
          ],
          [
           75.25,
           1,
           15.25,
           "SAI",
           250
          ],
          [
           75.597,
           1,
           15.596999999999994,
           "SAI",
           596.9999999999942
          ],
          [
           75.275,
           1,
           15.275000000000006,
           "SAI",
           275.0000000000057
          ],
          [
           75.288,
           1,
           15.287999999999997,
           "SAI",
           287.9999999999967
          ],
          [
           75.393,
           1,
           15.393,
           "SAI",
           393.0000000000007
          ],
          [
           75.204,
           1,
           15.203999999999994,
           "SAI",
           203.99999999999352
          ],
          [
           76.792,
           1,
           16.792,
           "SAI",
           792.0000000000016
          ],
          [
           75.611,
           1,
           15.611000000000004,
           "SAI",
           611.0000000000042
          ],
          [
           74.934,
           1,
           14.933999999999997,
           "SAI",
           933.9999999999975
          ],
          [
           75.219,
           1,
           15.218999999999994,
           "SAI",
           218.9999999999941
          ],
          [
           74.993,
           1,
           14.992999999999995,
           "SAI",
           992.999999999995
          ],
          [
           75.169,
           1,
           15.168999999999997,
           "SAI",
           168.99999999999693
          ],
          [
           75.299,
           1,
           15.299000000000007,
           "SAI",
           299.0000000000066
          ],
          [
           75.288,
           1,
           15.287999999999997,
           "SAI",
           287.9999999999967
          ],
          [
           81.844,
           1,
           21.843999999999994,
           "SAI",
           843.9999999999941
          ],
          [
           100.849,
           1,
           40.849000000000004,
           "SAI",
           849.0000000000038
          ],
          [
           83.317,
           1,
           23.316999999999993,
           "SAI",
           316.99999999999307
          ],
          [
           100.28,
           1,
           40.28,
           "SAI",
           280.00000000000114
          ],
          [
           134.99,
           2,
           14.990000000000009,
           "SAI",
           990.0000000000091
          ],
          [
           134.99,
           2,
           14.990000000000009,
           "SAI",
           990.0000000000091
          ],
          [
           134.99,
           2,
           14.990000000000009,
           "SAI",
           990.0000000000091
          ],
          [
           88.361,
           1,
           28.361000000000004,
           "SAI",
           361.0000000000042
          ],
          [
           84.482,
           1,
           24.482,
           "SAI",
           481.9999999999993
          ],
          [
           82.74,
           1,
           22.739999999999995,
           "SAI",
           739.9999999999949
          ],
          [
           82.613,
           1,
           22.613,
           "SAI",
           612.9999999999995
          ],
          [
           81.902,
           1,
           21.902,
           "SAI",
           902.000000000001
          ],
          [
           82.652,
           1,
           22.652,
           "SAI",
           652.000000000001
          ],
          [
           92.227,
           1,
           32.227000000000004,
           "NOR",
           227.00000000000387
          ],
          [
           107.848,
           1,
           47.848,
           "NOR",
           847.999999999999
          ],
          [
           115.144,
           1,
           55.144000000000005,
           "NOR",
           144.00000000000546
          ],
          [
           107.537,
           1,
           47.537000000000006,
           "NOR",
           537.0000000000061
          ],
          [
           83.686,
           1,
           23.686000000000007,
           "NOR",
           686.000000000007
          ],
          [
           82.403,
           1,
           22.403000000000006,
           "NOR",
           403.0000000000058
          ],
          [
           83.048,
           1,
           23.048000000000002,
           "NOR",
           48.00000000000182
          ],
          [
           85.236,
           1,
           25.236000000000004,
           "NOR",
           236.0000000000042
          ],
          [
           84.392,
           1,
           24.391999999999996,
           "NOR",
           391.9999999999959
          ],
          [
           88.506,
           1,
           28.506,
           "NOR",
           506.0000000000002
          ],
          [
           98.11,
           1,
           38.11,
           "NOR",
           109.99999999999943
          ],
          [
           76.654,
           1,
           16.653999999999996,
           "NOR",
           653.9999999999964
          ],
          [
           76.2,
           1,
           16.200000000000003,
           "NOR",
           200.00000000000284
          ],
          [
           76.23,
           1,
           16.230000000000004,
           "NOR",
           230.00000000000398
          ],
          [
           76.929,
           1,
           16.929000000000002,
           "NOR",
           929.000000000002
          ],
          [
           99.443,
           1,
           39.443,
           "NOR",
           442.99999999999784
          ],
          [
           112.778,
           1,
           52.778000000000006,
           "NOR",
           778.0000000000058
          ],
          [
           114.245,
           1,
           54.245000000000005,
           "NOR",
           245.00000000000455
          ],
          [
           121.374,
           2,
           1.3739999999999952,
           "NOR",
           373.9999999999952
          ],
          [
           115.853,
           1,
           55.852999999999994,
           "NOR",
           852.9999999999944
          ],
          [
           118.462,
           1,
           58.462,
           "NOR",
           462.0000000000033
          ],
          [
           79.06,
           1,
           19.060000000000002,
           "NOR",
           60.000000000002274
          ],
          [
           78.442,
           1,
           18.441999999999993,
           "NOR",
           441.99999999999307
          ],
          [
           77.416,
           1,
           17.415999999999997,
           "NOR",
           415.9999999999968
          ],
          [
           77.363,
           1,
           17.363,
           "NOR",
           362.99999999999955
          ],
          [
           76.896,
           1,
           16.896,
           "NOR",
           896.0000000000008
          ],
          [
           76.797,
           1,
           16.796999999999997,
           "NOR",
           796.999999999997
          ],
          [
           76.582,
           1,
           16.581999999999994,
           "NOR",
           581.9999999999936
          ],
          [
           77.107,
           1,
           17.107,
           "NOR",
           106.99999999999932
          ],
          [
           76.372,
           1,
           16.372,
           "NOR",
           371.9999999999999
          ],
          [
           77.013,
           1,
           17.013000000000005,
           "NOR",
           13.00000000000523
          ],
          [
           76.416,
           1,
           16.415999999999997,
           "NOR",
           415.9999999999968
          ],
          [
           76.373,
           1,
           16.373000000000005,
           "NOR",
           373.00000000000466
          ],
          [
           76.541,
           1,
           16.540999999999997,
           "NOR",
           540.9999999999968
          ],
          [
           76.032,
           1,
           16.031999999999996,
           "NOR",
           31.999999999996476
          ],
          [
           76.606,
           1,
           16.605999999999995,
           "NOR",
           605.9999999999945
          ],
          [
           76.473,
           1,
           16.473,
           "NOR",
           472.999999999999
          ],
          [
           76.443,
           1,
           16.442999999999998,
           "NOR",
           442.99999999999784
          ],
          [
           76.633,
           1,
           16.632999999999996,
           "NOR",
           632.9999999999956
          ],
          [
           76.347,
           1,
           16.346999999999994,
           "NOR",
           346.9999999999942
          ],
          [
           76.562,
           1,
           16.561999999999998,
           "NOR",
           561.9999999999976
          ],
          [
           80.165,
           1,
           20.165000000000006,
           "NOR",
           165.00000000000625
          ],
          [
           92.039,
           1,
           32.039,
           "NOR",
           39.00000000000148
          ],
          [
           74.905,
           1,
           14.905000000000001,
           "NOR",
           905.0000000000011
          ],
          [
           75.779,
           1,
           15.778999999999996,
           "NOR",
           778.9999999999964
          ],
          [
           75.141,
           1,
           15.141000000000005,
           "NOR",
           141.00000000000534
          ],
          [
           75.088,
           1,
           15.087999999999994,
           "NOR",
           87.99999999999386
          ],
          [
           75.015,
           1,
           15.015,
           "NOR",
           15.000000000000568
          ],
          [
           74.804,
           1,
           14.804000000000002,
           "NOR",
           804.000000000002
          ],
          [
           74.39,
           1,
           14.39,
           "NOR",
           390.00000000000057
          ],
          [
           74.625,
           1,
           14.625,
           "NOR",
           625
          ],
          [
           74.882,
           1,
           14.882000000000005,
           "NOR",
           882.000000000005
          ],
          [
           76.79,
           1,
           16.790000000000006,
           "NOR",
           790.0000000000063
          ],
          [
           76.853,
           1,
           16.852999999999994,
           "NOR",
           852.9999999999944
          ],
          [
           74.997,
           1,
           14.997,
           "NOR",
           996.9999999999999
          ],
          [
           76.156,
           1,
           16.156000000000006,
           "NOR",
           156.0000000000059
          ],
          [
           75.052,
           1,
           15.052000000000007,
           "NOR",
           52.00000000000671
          ],
          [
           75.076,
           1,
           15.075999999999993,
           "NOR",
           75.9999999999934
          ],
          [
           75.085,
           1,
           15.084999999999994,
           "NOR",
           84.99999999999375
          ],
          [
           81.174,
           1,
           21.174000000000007,
           "NOR",
           174.0000000000066
          ],
          [
           100.285,
           1,
           40.285,
           "NOR",
           284.9999999999966
          ],
          [
           82.488,
           1,
           22.488,
           "NOR",
           487.99999999999955
          ],
          [
           111.321,
           1,
           51.321,
           "NOR",
           320.99999999999795
          ],
          [
           133.838,
           2,
           13.837999999999994,
           "NOR",
           837.9999999999939
          ],
          [
           133.838,
           2,
           13.837999999999994,
           "NOR",
           837.9999999999939
          ],
          [
           133.838,
           2,
           13.837999999999994,
           "NOR",
           837.9999999999939
          ],
          [
           88.463,
           1,
           28.462999999999994,
           "NOR",
           462.99999999999386
          ],
          [
           84.53,
           1,
           24.53,
           "NOR",
           530.0000000000011
          ],
          [
           82.506,
           1,
           22.506,
           "NOR",
           506.0000000000002
          ],
          [
           82.49,
           1,
           22.489999999999995,
           "NOR",
           489.9999999999949
          ],
          [
           82.13,
           1,
           22.129999999999995,
           "NOR",
           129.99999999999545
          ],
          [
           82.241,
           1,
           22.241,
           "NOR",
           240.99999999999966
          ]
         ],
         "hovertemplate": "<b>Driver</b>: %{customdata[3]}<br><b>Lap Number</b>: %{x}<br><b>Lap Time</b>: %{customdata[1]}:%{customdata[2]:02.0f}.%{customdata[4]:03.0f}<extra></extra>",
         "legendgroup": "SAI",
         "line": {
          "color": "#dc0000",
          "dash": "solid"
         },
         "marker": {
          "symbol": "circle"
         },
         "mode": "lines+markers",
         "name": "SAI",
         "orientation": "v",
         "showlegend": true,
         "type": "scatter",
         "x": [
          1,
          2,
          3,
          4,
          5,
          6,
          7,
          8,
          9,
          10,
          11,
          12,
          13,
          14,
          15,
          16,
          17,
          18,
          19,
          20,
          21,
          22,
          23,
          24,
          25,
          26,
          27,
          28,
          29,
          30,
          31,
          32,
          33,
          34,
          35,
          36,
          37,
          38,
          39,
          40,
          41,
          42,
          43,
          44,
          45,
          46,
          47,
          48,
          49,
          50,
          51,
          52,
          53,
          54,
          55,
          56,
          57,
          58,
          59,
          60,
          61,
          62,
          63,
          64,
          65,
          66,
          67,
          68,
          69,
          70,
          71,
          72
         ],
         "xaxis": "x",
         "y": [
          94.694,
          113.117,
          108.225,
          85.734,
          83.956,
          84.297,
          84.141,
          85.061,
          85.156,
          88.581,
          98.827,
          77.997,
          76.472,
          76.782,
          77.126,
          88.299,
          118.497,
          127.367,
          120.434,
          115.913,
          122.828,
          77.72,
          77.214,
          76.338,
          76.317,
          76.875,
          76.619,
          76.144,
          76.217,
          76.042,
          76.054,
          76.106,
          76.231,
          76.146,
          76.041,
          76.117,
          75.973,
          75.961,
          76.076,
          76.307,
          79.511,
          93.523,
          74.975,
          74.962,
          75.093,
          75.25,
          75.597,
          75.275,
          75.288,
          75.393,
          75.204,
          76.792,
          75.611,
          74.934,
          75.219,
          74.993,
          75.169,
          75.299,
          75.288,
          81.844,
          100.849,
          83.317,
          100.28,
          134.99,
          134.99,
          134.99,
          88.361,
          84.482,
          82.74,
          82.613,
          81.902,
          82.652
         ],
         "yaxis": "y"
        },
        {
         "customdata": [
          [
           94.694,
           1,
           34.694,
           "SAI",
           694.0000000000026
          ],
          [
           113.117,
           1,
           53.117000000000004,
           "SAI",
           117.00000000000443
          ],
          [
           108.225,
           1,
           48.224999999999994,
           "SAI",
           224.99999999999432
          ],
          [
           85.734,
           1,
           25.733999999999995,
           "SAI",
           733.9999999999947
          ],
          [
           83.956,
           1,
           23.956000000000003,
           "SAI",
           956.0000000000031
          ],
          [
           84.297,
           1,
           24.296999999999997,
           "SAI",
           296.99999999999704
          ],
          [
           84.141,
           1,
           24.141000000000005,
           "SAI",
           141.00000000000534
          ],
          [
           85.061,
           1,
           25.061000000000007,
           "SAI",
           61.00000000000705
          ],
          [
           85.156,
           1,
           25.156000000000006,
           "SAI",
           156.0000000000059
          ],
          [
           88.581,
           1,
           28.581000000000003,
           "SAI",
           581.0000000000031
          ],
          [
           98.827,
           1,
           38.827,
           "SAI",
           826.9999999999982
          ],
          [
           77.997,
           1,
           17.997,
           "SAI",
           996.9999999999999
          ],
          [
           76.472,
           1,
           16.471999999999994,
           "SAI",
           471.9999999999942
          ],
          [
           76.782,
           1,
           16.781999999999996,
           "SAI",
           781.9999999999965
          ],
          [
           77.126,
           1,
           17.126000000000005,
           "SAI",
           126.00000000000477
          ],
          [
           88.299,
           1,
           28.299000000000007,
           "SAI",
           299.0000000000066
          ],
          [
           118.497,
           1,
           58.497,
           "SAI",
           496.9999999999999
          ],
          [
           127.367,
           2,
           7.367000000000004,
           "SAI",
           367.00000000000443
          ],
          [
           120.434,
           2,
           0.4339999999999975,
           "SAI",
           433.9999999999975
          ],
          [
           115.913,
           1,
           55.913,
           "SAI",
           912.9999999999967
          ],
          [
           122.828,
           2,
           2.828000000000003,
           "SAI",
           828.000000000003
          ],
          [
           77.72,
           1,
           17.72,
           "SAI",
           719.9999999999989
          ],
          [
           77.214,
           1,
           17.214,
           "SAI",
           213.99999999999864
          ],
          [
           76.338,
           1,
           16.337999999999994,
           "SAI",
           337.99999999999386
          ],
          [
           76.317,
           1,
           16.316999999999993,
           "SAI",
           316.99999999999307
          ],
          [
           76.875,
           1,
           16.875,
           "SAI",
           875
          ],
          [
           76.619,
           1,
           16.619,
           "SAI",
           618.9999999999998
          ],
          [
           76.144,
           1,
           16.144000000000005,
           "SAI",
           144.00000000000546
          ],
          [
           76.217,
           1,
           16.217,
           "SAI",
           216.99999999999875
          ],
          [
           76.042,
           1,
           16.042,
           "SAI",
           42.00000000000159
          ],
          [
           76.054,
           1,
           16.054000000000002,
           "SAI",
           54.000000000002046
          ],
          [
           76.106,
           1,
           16.105999999999995,
           "SAI",
           105.99999999999454
          ],
          [
           76.231,
           1,
           16.230999999999995,
           "SAI",
           230.99999999999454
          ],
          [
           76.146,
           1,
           16.146,
           "SAI",
           146.0000000000008
          ],
          [
           76.041,
           1,
           16.040999999999997,
           "SAI",
           40.99999999999682
          ],
          [
           76.117,
           1,
           16.117000000000004,
           "SAI",
           117.00000000000443
          ],
          [
           75.973,
           1,
           15.972999999999999,
           "SAI",
           972.999999999999
          ],
          [
           75.961,
           1,
           15.960999999999999,
           "SAI",
           960.9999999999985
          ],
          [
           76.076,
           1,
           16.075999999999993,
           "SAI",
           75.9999999999934
          ],
          [
           76.307,
           1,
           16.307000000000002,
           "SAI",
           307.00000000000216
          ],
          [
           79.511,
           1,
           19.510999999999996,
           "SAI",
           510.9999999999957
          ],
          [
           93.523,
           1,
           33.522999999999996,
           "SAI",
           522.9999999999961
          ],
          [
           74.975,
           1,
           14.974999999999994,
           "SAI",
           974.9999999999943
          ],
          [
           74.962,
           1,
           14.962000000000003,
           "SAI",
           962.0000000000033
          ],
          [
           75.093,
           1,
           15.093000000000004,
           "SAI",
           93.00000000000352
          ],
          [
           75.25,
           1,
           15.25,
           "SAI",
           250
          ],
          [
           75.597,
           1,
           15.596999999999994,
           "SAI",
           596.9999999999942
          ],
          [
           75.275,
           1,
           15.275000000000006,
           "SAI",
           275.0000000000057
          ],
          [
           75.288,
           1,
           15.287999999999997,
           "SAI",
           287.9999999999967
          ],
          [
           75.393,
           1,
           15.393,
           "SAI",
           393.0000000000007
          ],
          [
           75.204,
           1,
           15.203999999999994,
           "SAI",
           203.99999999999352
          ],
          [
           76.792,
           1,
           16.792,
           "SAI",
           792.0000000000016
          ],
          [
           75.611,
           1,
           15.611000000000004,
           "SAI",
           611.0000000000042
          ],
          [
           74.934,
           1,
           14.933999999999997,
           "SAI",
           933.9999999999975
          ],
          [
           75.219,
           1,
           15.218999999999994,
           "SAI",
           218.9999999999941
          ],
          [
           74.993,
           1,
           14.992999999999995,
           "SAI",
           992.999999999995
          ],
          [
           75.169,
           1,
           15.168999999999997,
           "SAI",
           168.99999999999693
          ],
          [
           75.299,
           1,
           15.299000000000007,
           "SAI",
           299.0000000000066
          ],
          [
           75.288,
           1,
           15.287999999999997,
           "SAI",
           287.9999999999967
          ],
          [
           81.844,
           1,
           21.843999999999994,
           "SAI",
           843.9999999999941
          ],
          [
           100.849,
           1,
           40.849000000000004,
           "SAI",
           849.0000000000038
          ],
          [
           83.317,
           1,
           23.316999999999993,
           "SAI",
           316.99999999999307
          ],
          [
           100.28,
           1,
           40.28,
           "SAI",
           280.00000000000114
          ],
          [
           134.99,
           2,
           14.990000000000009,
           "SAI",
           990.0000000000091
          ],
          [
           134.99,
           2,
           14.990000000000009,
           "SAI",
           990.0000000000091
          ],
          [
           134.99,
           2,
           14.990000000000009,
           "SAI",
           990.0000000000091
          ],
          [
           88.361,
           1,
           28.361000000000004,
           "SAI",
           361.0000000000042
          ],
          [
           84.482,
           1,
           24.482,
           "SAI",
           481.9999999999993
          ],
          [
           82.74,
           1,
           22.739999999999995,
           "SAI",
           739.9999999999949
          ],
          [
           82.613,
           1,
           22.613,
           "SAI",
           612.9999999999995
          ],
          [
           81.902,
           1,
           21.902,
           "SAI",
           902.000000000001
          ],
          [
           82.652,
           1,
           22.652,
           "SAI",
           652.000000000001
          ],
          [
           92.227,
           1,
           32.227000000000004,
           "NOR",
           227.00000000000387
          ],
          [
           107.848,
           1,
           47.848,
           "NOR",
           847.999999999999
          ],
          [
           115.144,
           1,
           55.144000000000005,
           "NOR",
           144.00000000000546
          ],
          [
           107.537,
           1,
           47.537000000000006,
           "NOR",
           537.0000000000061
          ],
          [
           83.686,
           1,
           23.686000000000007,
           "NOR",
           686.000000000007
          ],
          [
           82.403,
           1,
           22.403000000000006,
           "NOR",
           403.0000000000058
          ],
          [
           83.048,
           1,
           23.048000000000002,
           "NOR",
           48.00000000000182
          ],
          [
           85.236,
           1,
           25.236000000000004,
           "NOR",
           236.0000000000042
          ],
          [
           84.392,
           1,
           24.391999999999996,
           "NOR",
           391.9999999999959
          ],
          [
           88.506,
           1,
           28.506,
           "NOR",
           506.0000000000002
          ],
          [
           98.11,
           1,
           38.11,
           "NOR",
           109.99999999999943
          ],
          [
           76.654,
           1,
           16.653999999999996,
           "NOR",
           653.9999999999964
          ],
          [
           76.2,
           1,
           16.200000000000003,
           "NOR",
           200.00000000000284
          ],
          [
           76.23,
           1,
           16.230000000000004,
           "NOR",
           230.00000000000398
          ],
          [
           76.929,
           1,
           16.929000000000002,
           "NOR",
           929.000000000002
          ],
          [
           99.443,
           1,
           39.443,
           "NOR",
           442.99999999999784
          ],
          [
           112.778,
           1,
           52.778000000000006,
           "NOR",
           778.0000000000058
          ],
          [
           114.245,
           1,
           54.245000000000005,
           "NOR",
           245.00000000000455
          ],
          [
           121.374,
           2,
           1.3739999999999952,
           "NOR",
           373.9999999999952
          ],
          [
           115.853,
           1,
           55.852999999999994,
           "NOR",
           852.9999999999944
          ],
          [
           118.462,
           1,
           58.462,
           "NOR",
           462.0000000000033
          ],
          [
           79.06,
           1,
           19.060000000000002,
           "NOR",
           60.000000000002274
          ],
          [
           78.442,
           1,
           18.441999999999993,
           "NOR",
           441.99999999999307
          ],
          [
           77.416,
           1,
           17.415999999999997,
           "NOR",
           415.9999999999968
          ],
          [
           77.363,
           1,
           17.363,
           "NOR",
           362.99999999999955
          ],
          [
           76.896,
           1,
           16.896,
           "NOR",
           896.0000000000008
          ],
          [
           76.797,
           1,
           16.796999999999997,
           "NOR",
           796.999999999997
          ],
          [
           76.582,
           1,
           16.581999999999994,
           "NOR",
           581.9999999999936
          ],
          [
           77.107,
           1,
           17.107,
           "NOR",
           106.99999999999932
          ],
          [
           76.372,
           1,
           16.372,
           "NOR",
           371.9999999999999
          ],
          [
           77.013,
           1,
           17.013000000000005,
           "NOR",
           13.00000000000523
          ],
          [
           76.416,
           1,
           16.415999999999997,
           "NOR",
           415.9999999999968
          ],
          [
           76.373,
           1,
           16.373000000000005,
           "NOR",
           373.00000000000466
          ],
          [
           76.541,
           1,
           16.540999999999997,
           "NOR",
           540.9999999999968
          ],
          [
           76.032,
           1,
           16.031999999999996,
           "NOR",
           31.999999999996476
          ],
          [
           76.606,
           1,
           16.605999999999995,
           "NOR",
           605.9999999999945
          ],
          [
           76.473,
           1,
           16.473,
           "NOR",
           472.999999999999
          ],
          [
           76.443,
           1,
           16.442999999999998,
           "NOR",
           442.99999999999784
          ],
          [
           76.633,
           1,
           16.632999999999996,
           "NOR",
           632.9999999999956
          ],
          [
           76.347,
           1,
           16.346999999999994,
           "NOR",
           346.9999999999942
          ],
          [
           76.562,
           1,
           16.561999999999998,
           "NOR",
           561.9999999999976
          ],
          [
           80.165,
           1,
           20.165000000000006,
           "NOR",
           165.00000000000625
          ],
          [
           92.039,
           1,
           32.039,
           "NOR",
           39.00000000000148
          ],
          [
           74.905,
           1,
           14.905000000000001,
           "NOR",
           905.0000000000011
          ],
          [
           75.779,
           1,
           15.778999999999996,
           "NOR",
           778.9999999999964
          ],
          [
           75.141,
           1,
           15.141000000000005,
           "NOR",
           141.00000000000534
          ],
          [
           75.088,
           1,
           15.087999999999994,
           "NOR",
           87.99999999999386
          ],
          [
           75.015,
           1,
           15.015,
           "NOR",
           15.000000000000568
          ],
          [
           74.804,
           1,
           14.804000000000002,
           "NOR",
           804.000000000002
          ],
          [
           74.39,
           1,
           14.39,
           "NOR",
           390.00000000000057
          ],
          [
           74.625,
           1,
           14.625,
           "NOR",
           625
          ],
          [
           74.882,
           1,
           14.882000000000005,
           "NOR",
           882.000000000005
          ],
          [
           76.79,
           1,
           16.790000000000006,
           "NOR",
           790.0000000000063
          ],
          [
           76.853,
           1,
           16.852999999999994,
           "NOR",
           852.9999999999944
          ],
          [
           74.997,
           1,
           14.997,
           "NOR",
           996.9999999999999
          ],
          [
           76.156,
           1,
           16.156000000000006,
           "NOR",
           156.0000000000059
          ],
          [
           75.052,
           1,
           15.052000000000007,
           "NOR",
           52.00000000000671
          ],
          [
           75.076,
           1,
           15.075999999999993,
           "NOR",
           75.9999999999934
          ],
          [
           75.085,
           1,
           15.084999999999994,
           "NOR",
           84.99999999999375
          ],
          [
           81.174,
           1,
           21.174000000000007,
           "NOR",
           174.0000000000066
          ],
          [
           100.285,
           1,
           40.285,
           "NOR",
           284.9999999999966
          ],
          [
           82.488,
           1,
           22.488,
           "NOR",
           487.99999999999955
          ],
          [
           111.321,
           1,
           51.321,
           "NOR",
           320.99999999999795
          ],
          [
           133.838,
           2,
           13.837999999999994,
           "NOR",
           837.9999999999939
          ],
          [
           133.838,
           2,
           13.837999999999994,
           "NOR",
           837.9999999999939
          ],
          [
           133.838,
           2,
           13.837999999999994,
           "NOR",
           837.9999999999939
          ],
          [
           88.463,
           1,
           28.462999999999994,
           "NOR",
           462.99999999999386
          ],
          [
           84.53,
           1,
           24.53,
           "NOR",
           530.0000000000011
          ],
          [
           82.506,
           1,
           22.506,
           "NOR",
           506.0000000000002
          ],
          [
           82.49,
           1,
           22.489999999999995,
           "NOR",
           489.9999999999949
          ],
          [
           82.13,
           1,
           22.129999999999995,
           "NOR",
           129.99999999999545
          ],
          [
           82.241,
           1,
           22.241,
           "NOR",
           240.99999999999966
          ]
         ],
         "hovertemplate": "<b>Driver</b>: %{customdata[3]}<br><b>Lap Number</b>: %{x}<br><b>Lap Time</b>: %{customdata[1]}:%{customdata[2]:02.0f}.%{customdata[4]:03.0f}<extra></extra>",
         "legendgroup": "NOR",
         "line": {
          "color": "#ff8700",
          "dash": "solid"
         },
         "marker": {
          "symbol": "circle"
         },
         "mode": "lines+markers",
         "name": "NOR",
         "orientation": "v",
         "showlegend": true,
         "type": "scatter",
         "x": [
          1,
          2,
          3,
          4,
          5,
          6,
          7,
          8,
          9,
          10,
          11,
          12,
          13,
          14,
          15,
          16,
          17,
          18,
          19,
          20,
          21,
          22,
          23,
          24,
          25,
          26,
          27,
          28,
          29,
          30,
          31,
          32,
          33,
          34,
          35,
          36,
          37,
          38,
          39,
          40,
          41,
          42,
          43,
          44,
          45,
          46,
          47,
          48,
          49,
          50,
          51,
          52,
          53,
          54,
          55,
          56,
          57,
          58,
          59,
          60,
          61,
          62,
          63,
          64,
          65,
          66,
          67,
          68,
          69,
          70,
          71,
          72
         ],
         "xaxis": "x",
         "y": [
          92.227,
          107.848,
          115.144,
          107.537,
          83.686,
          82.403,
          83.048,
          85.236,
          84.392,
          88.506,
          98.11,
          76.654,
          76.2,
          76.23,
          76.929,
          99.443,
          112.778,
          114.245,
          121.374,
          115.853,
          118.462,
          79.06,
          78.442,
          77.416,
          77.363,
          76.896,
          76.797,
          76.582,
          77.107,
          76.372,
          77.013,
          76.416,
          76.373,
          76.541,
          76.032,
          76.606,
          76.473,
          76.443,
          76.633,
          76.347,
          76.562,
          80.165,
          92.039,
          74.905,
          75.779,
          75.141,
          75.088,
          75.015,
          74.804,
          74.39,
          74.625,
          74.882,
          76.79,
          76.853,
          74.997,
          76.156,
          75.052,
          75.076,
          75.085,
          81.174,
          100.285,
          82.488,
          111.321,
          133.838,
          133.838,
          133.838,
          88.463,
          84.53,
          82.506,
          82.49,
          82.13,
          82.241
         ],
         "yaxis": "y"
        }
       ],
       "layout": {
        "legend": {
         "title": {
          "text": "Driver"
         },
         "tracegroupgap": 0
        },
        "template": {
         "data": {
          "bar": [
           {
            "error_x": {
             "color": "#2a3f5f"
            },
            "error_y": {
             "color": "#2a3f5f"
            },
            "marker": {
             "line": {
              "color": "#E5ECF6",
              "width": 0.5
             },
             "pattern": {
              "fillmode": "overlay",
              "size": 10,
              "solidity": 0.2
             }
            },
            "type": "bar"
           }
          ],
          "barpolar": [
           {
            "marker": {
             "line": {
              "color": "#E5ECF6",
              "width": 0.5
             },
             "pattern": {
              "fillmode": "overlay",
              "size": 10,
              "solidity": 0.2
             }
            },
            "type": "barpolar"
           }
          ],
          "carpet": [
           {
            "aaxis": {
             "endlinecolor": "#2a3f5f",
             "gridcolor": "white",
             "linecolor": "white",
             "minorgridcolor": "white",
             "startlinecolor": "#2a3f5f"
            },
            "baxis": {
             "endlinecolor": "#2a3f5f",
             "gridcolor": "white",
             "linecolor": "white",
             "minorgridcolor": "white",
             "startlinecolor": "#2a3f5f"
            },
            "type": "carpet"
           }
          ],
          "choropleth": [
           {
            "colorbar": {
             "outlinewidth": 0,
             "ticks": ""
            },
            "type": "choropleth"
           }
          ],
          "contour": [
           {
            "colorbar": {
             "outlinewidth": 0,
             "ticks": ""
            },
            "colorscale": [
             [
              0,
              "#0d0887"
             ],
             [
              0.1111111111111111,
              "#46039f"
             ],
             [
              0.2222222222222222,
              "#7201a8"
             ],
             [
              0.3333333333333333,
              "#9c179e"
             ],
             [
              0.4444444444444444,
              "#bd3786"
             ],
             [
              0.5555555555555556,
              "#d8576b"
             ],
             [
              0.6666666666666666,
              "#ed7953"
             ],
             [
              0.7777777777777778,
              "#fb9f3a"
             ],
             [
              0.8888888888888888,
              "#fdca26"
             ],
             [
              1,
              "#f0f921"
             ]
            ],
            "type": "contour"
           }
          ],
          "contourcarpet": [
           {
            "colorbar": {
             "outlinewidth": 0,
             "ticks": ""
            },
            "type": "contourcarpet"
           }
          ],
          "heatmap": [
           {
            "colorbar": {
             "outlinewidth": 0,
             "ticks": ""
            },
            "colorscale": [
             [
              0,
              "#0d0887"
             ],
             [
              0.1111111111111111,
              "#46039f"
             ],
             [
              0.2222222222222222,
              "#7201a8"
             ],
             [
              0.3333333333333333,
              "#9c179e"
             ],
             [
              0.4444444444444444,
              "#bd3786"
             ],
             [
              0.5555555555555556,
              "#d8576b"
             ],
             [
              0.6666666666666666,
              "#ed7953"
             ],
             [
              0.7777777777777778,
              "#fb9f3a"
             ],
             [
              0.8888888888888888,
              "#fdca26"
             ],
             [
              1,
              "#f0f921"
             ]
            ],
            "type": "heatmap"
           }
          ],
          "heatmapgl": [
           {
            "colorbar": {
             "outlinewidth": 0,
             "ticks": ""
            },
            "colorscale": [
             [
              0,
              "#0d0887"
             ],
             [
              0.1111111111111111,
              "#46039f"
             ],
             [
              0.2222222222222222,
              "#7201a8"
             ],
             [
              0.3333333333333333,
              "#9c179e"
             ],
             [
              0.4444444444444444,
              "#bd3786"
             ],
             [
              0.5555555555555556,
              "#d8576b"
             ],
             [
              0.6666666666666666,
              "#ed7953"
             ],
             [
              0.7777777777777778,
              "#fb9f3a"
             ],
             [
              0.8888888888888888,
              "#fdca26"
             ],
             [
              1,
              "#f0f921"
             ]
            ],
            "type": "heatmapgl"
           }
          ],
          "histogram": [
           {
            "marker": {
             "pattern": {
              "fillmode": "overlay",
              "size": 10,
              "solidity": 0.2
             }
            },
            "type": "histogram"
           }
          ],
          "histogram2d": [
           {
            "colorbar": {
             "outlinewidth": 0,
             "ticks": ""
            },
            "colorscale": [
             [
              0,
              "#0d0887"
             ],
             [
              0.1111111111111111,
              "#46039f"
             ],
             [
              0.2222222222222222,
              "#7201a8"
             ],
             [
              0.3333333333333333,
              "#9c179e"
             ],
             [
              0.4444444444444444,
              "#bd3786"
             ],
             [
              0.5555555555555556,
              "#d8576b"
             ],
             [
              0.6666666666666666,
              "#ed7953"
             ],
             [
              0.7777777777777778,
              "#fb9f3a"
             ],
             [
              0.8888888888888888,
              "#fdca26"
             ],
             [
              1,
              "#f0f921"
             ]
            ],
            "type": "histogram2d"
           }
          ],
          "histogram2dcontour": [
           {
            "colorbar": {
             "outlinewidth": 0,
             "ticks": ""
            },
            "colorscale": [
             [
              0,
              "#0d0887"
             ],
             [
              0.1111111111111111,
              "#46039f"
             ],
             [
              0.2222222222222222,
              "#7201a8"
             ],
             [
              0.3333333333333333,
              "#9c179e"
             ],
             [
              0.4444444444444444,
              "#bd3786"
             ],
             [
              0.5555555555555556,
              "#d8576b"
             ],
             [
              0.6666666666666666,
              "#ed7953"
             ],
             [
              0.7777777777777778,
              "#fb9f3a"
             ],
             [
              0.8888888888888888,
              "#fdca26"
             ],
             [
              1,
              "#f0f921"
             ]
            ],
            "type": "histogram2dcontour"
           }
          ],
          "mesh3d": [
           {
            "colorbar": {
             "outlinewidth": 0,
             "ticks": ""
            },
            "type": "mesh3d"
           }
          ],
          "parcoords": [
           {
            "line": {
             "colorbar": {
              "outlinewidth": 0,
              "ticks": ""
             }
            },
            "type": "parcoords"
           }
          ],
          "pie": [
           {
            "automargin": true,
            "type": "pie"
           }
          ],
          "scatter": [
           {
            "fillpattern": {
             "fillmode": "overlay",
             "size": 10,
             "solidity": 0.2
            },
            "type": "scatter"
           }
          ],
          "scatter3d": [
           {
            "line": {
             "colorbar": {
              "outlinewidth": 0,
              "ticks": ""
             }
            },
            "marker": {
             "colorbar": {
              "outlinewidth": 0,
              "ticks": ""
             }
            },
            "type": "scatter3d"
           }
          ],
          "scattercarpet": [
           {
            "marker": {
             "colorbar": {
              "outlinewidth": 0,
              "ticks": ""
             }
            },
            "type": "scattercarpet"
           }
          ],
          "scattergeo": [
           {
            "marker": {
             "colorbar": {
              "outlinewidth": 0,
              "ticks": ""
             }
            },
            "type": "scattergeo"
           }
          ],
          "scattergl": [
           {
            "marker": {
             "colorbar": {
              "outlinewidth": 0,
              "ticks": ""
             }
            },
            "type": "scattergl"
           }
          ],
          "scattermapbox": [
           {
            "marker": {
             "colorbar": {
              "outlinewidth": 0,
              "ticks": ""
             }
            },
            "type": "scattermapbox"
           }
          ],
          "scatterpolar": [
           {
            "marker": {
             "colorbar": {
              "outlinewidth": 0,
              "ticks": ""
             }
            },
            "type": "scatterpolar"
           }
          ],
          "scatterpolargl": [
           {
            "marker": {
             "colorbar": {
              "outlinewidth": 0,
              "ticks": ""
             }
            },
            "type": "scatterpolargl"
           }
          ],
          "scatterternary": [
           {
            "marker": {
             "colorbar": {
              "outlinewidth": 0,
              "ticks": ""
             }
            },
            "type": "scatterternary"
           }
          ],
          "surface": [
           {
            "colorbar": {
             "outlinewidth": 0,
             "ticks": ""
            },
            "colorscale": [
             [
              0,
              "#0d0887"
             ],
             [
              0.1111111111111111,
              "#46039f"
             ],
             [
              0.2222222222222222,
              "#7201a8"
             ],
             [
              0.3333333333333333,
              "#9c179e"
             ],
             [
              0.4444444444444444,
              "#bd3786"
             ],
             [
              0.5555555555555556,
              "#d8576b"
             ],
             [
              0.6666666666666666,
              "#ed7953"
             ],
             [
              0.7777777777777778,
              "#fb9f3a"
             ],
             [
              0.8888888888888888,
              "#fdca26"
             ],
             [
              1,
              "#f0f921"
             ]
            ],
            "type": "surface"
           }
          ],
          "table": [
           {
            "cells": {
             "fill": {
              "color": "#EBF0F8"
             },
             "line": {
              "color": "white"
             }
            },
            "header": {
             "fill": {
              "color": "#C8D4E3"
             },
             "line": {
              "color": "white"
             }
            },
            "type": "table"
           }
          ]
         },
         "layout": {
          "annotationdefaults": {
           "arrowcolor": "#2a3f5f",
           "arrowhead": 0,
           "arrowwidth": 1
          },
          "autotypenumbers": "strict",
          "coloraxis": {
           "colorbar": {
            "outlinewidth": 0,
            "ticks": ""
           }
          },
          "colorscale": {
           "diverging": [
            [
             0,
             "#8e0152"
            ],
            [
             0.1,
             "#c51b7d"
            ],
            [
             0.2,
             "#de77ae"
            ],
            [
             0.3,
             "#f1b6da"
            ],
            [
             0.4,
             "#fde0ef"
            ],
            [
             0.5,
             "#f7f7f7"
            ],
            [
             0.6,
             "#e6f5d0"
            ],
            [
             0.7,
             "#b8e186"
            ],
            [
             0.8,
             "#7fbc41"
            ],
            [
             0.9,
             "#4d9221"
            ],
            [
             1,
             "#276419"
            ]
           ],
           "sequential": [
            [
             0,
             "#0d0887"
            ],
            [
             0.1111111111111111,
             "#46039f"
            ],
            [
             0.2222222222222222,
             "#7201a8"
            ],
            [
             0.3333333333333333,
             "#9c179e"
            ],
            [
             0.4444444444444444,
             "#bd3786"
            ],
            [
             0.5555555555555556,
             "#d8576b"
            ],
            [
             0.6666666666666666,
             "#ed7953"
            ],
            [
             0.7777777777777778,
             "#fb9f3a"
            ],
            [
             0.8888888888888888,
             "#fdca26"
            ],
            [
             1,
             "#f0f921"
            ]
           ],
           "sequentialminus": [
            [
             0,
             "#0d0887"
            ],
            [
             0.1111111111111111,
             "#46039f"
            ],
            [
             0.2222222222222222,
             "#7201a8"
            ],
            [
             0.3333333333333333,
             "#9c179e"
            ],
            [
             0.4444444444444444,
             "#bd3786"
            ],
            [
             0.5555555555555556,
             "#d8576b"
            ],
            [
             0.6666666666666666,
             "#ed7953"
            ],
            [
             0.7777777777777778,
             "#fb9f3a"
            ],
            [
             0.8888888888888888,
             "#fdca26"
            ],
            [
             1,
             "#f0f921"
            ]
           ]
          },
          "colorway": [
           "#636efa",
           "#EF553B",
           "#00cc96",
           "#ab63fa",
           "#FFA15A",
           "#19d3f3",
           "#FF6692",
           "#B6E880",
           "#FF97FF",
           "#FECB52"
          ],
          "font": {
           "color": "#2a3f5f"
          },
          "geo": {
           "bgcolor": "white",
           "lakecolor": "white",
           "landcolor": "#E5ECF6",
           "showlakes": true,
           "showland": true,
           "subunitcolor": "white"
          },
          "hoverlabel": {
           "align": "left"
          },
          "hovermode": "closest",
          "mapbox": {
           "style": "light"
          },
          "paper_bgcolor": "white",
          "plot_bgcolor": "#E5ECF6",
          "polar": {
           "angularaxis": {
            "gridcolor": "white",
            "linecolor": "white",
            "ticks": ""
           },
           "bgcolor": "#E5ECF6",
           "radialaxis": {
            "gridcolor": "white",
            "linecolor": "white",
            "ticks": ""
           }
          },
          "scene": {
           "xaxis": {
            "backgroundcolor": "#E5ECF6",
            "gridcolor": "white",
            "gridwidth": 2,
            "linecolor": "white",
            "showbackground": true,
            "ticks": "",
            "zerolinecolor": "white"
           },
           "yaxis": {
            "backgroundcolor": "#E5ECF6",
            "gridcolor": "white",
            "gridwidth": 2,
            "linecolor": "white",
            "showbackground": true,
            "ticks": "",
            "zerolinecolor": "white"
           },
           "zaxis": {
            "backgroundcolor": "#E5ECF6",
            "gridcolor": "white",
            "gridwidth": 2,
            "linecolor": "white",
            "showbackground": true,
            "ticks": "",
            "zerolinecolor": "white"
           }
          },
          "shapedefaults": {
           "line": {
            "color": "#2a3f5f"
           }
          },
          "ternary": {
           "aaxis": {
            "gridcolor": "white",
            "linecolor": "white",
            "ticks": ""
           },
           "baxis": {
            "gridcolor": "white",
            "linecolor": "white",
            "ticks": ""
           },
           "bgcolor": "#E5ECF6",
           "caxis": {
            "gridcolor": "white",
            "linecolor": "white",
            "ticks": ""
           }
          },
          "title": {
           "x": 0.05
          },
          "xaxis": {
           "automargin": true,
           "gridcolor": "white",
           "linecolor": "white",
           "ticks": "",
           "title": {
            "standoff": 15
           },
           "zerolinecolor": "white",
           "zerolinewidth": 2
          },
          "yaxis": {
           "automargin": true,
           "gridcolor": "white",
           "linecolor": "white",
           "ticks": "",
           "title": {
            "standoff": 15
           },
           "zerolinecolor": "white",
           "zerolinewidth": 2
          }
         }
        },
        "title": {
         "text": "Lap Time Evolution"
        },
        "xaxis": {
         "anchor": "y",
         "domain": [
          0,
          1
         ],
         "title": {
          "text": "Lap Number"
         }
        },
        "yaxis": {
         "anchor": "x",
         "domain": [
          0,
          1
         ],
         "ticktext": [
          "0:00.000",
          "0:10.000",
          "0:20.000",
          "0:30.000",
          "0:40.000",
          "0:50.000",
          "1:00.000",
          "1:10.000",
          "1:20.000",
          "1:30.000",
          "1:40.000",
          "1:50.000",
          "2:00.000",
          "2:10.000",
          "2:20.000"
         ],
         "tickvals": [
          0,
          10,
          20,
          30,
          40,
          50,
          60,
          70,
          80,
          90,
          100,
          110,
          120,
          130,
          140
         ],
         "title": {
          "text": "Lap Time (min:sec.msec)"
         }
        }
       }
      }
     },
     "metadata": {},
     "output_type": "display_data"
    }
   ],
   "source": [
    "def format_yaxis_labels(value):\n",
    "    minutes = int(value // 60)\n",
    "    seconds = int(value % 60)\n",
    "    milliseconds = int((value % 1) * 1000)\n",
    "    return f'{minutes}:{seconds:02}.{milliseconds:03}'\n",
    "plot_data_list = []\n",
    "for driver in drivers_to_plot:\n",
    "    driver_data = merged_data[merged_data['Driver'] == driver].copy()\n",
    "    driver_data['LapTime_sec'] = driver_data['LapTime'].dt.total_seconds()\n",
    "    driver_data['TeamColor'] = get_team_color(driver)\n",
    "    plot_data_list.append(driver_data)\n",
    "plot_data = pd.concat(plot_data_list, ignore_index=True)\n",
    "\n",
    "# Determine y-axis tick values for intervals of 10 seconds\n",
    "max_lap_time_sec = plot_data['LapTime_sec'].max()\n",
    "y_tick_values = list(range(0, int(max_lap_time_sec) + 10, 10))\n",
    "\n",
    "plot_data['Minutes'] = plot_data['LapTime_sec'] // 60\n",
    "plot_data['Seconds'] = plot_data['LapTime_sec'] % 60\n",
    "plot_data['Milliseconds'] = (plot_data['LapTime_sec'] % 1) * 1000\n",
    "\n",
    "# Create line plot with markers\n",
    "fig = px.line(\n",
    "    plot_data,\n",
    "    x='LapNumber',\n",
    "    y='LapTime_sec',\n",
    "    color='Driver',\n",
    "    hover_data={\n",
    "        'LapTime_sec': False,\n",
    "        'LapNumber': True,\n",
    "        'TeamColor': False,\n",
    "        'Driver': True\n",
    "    },\n",
    "    title='Lap Time Evolution',\n",
    "    labels={\n",
    "        'LapNumber': 'Lap Number',\n",
    "        'LapTime_sec': 'Lap Time'\n",
    "    },\n",
    "    markers=True,\n",
    "    color_discrete_map={driver: get_team_color(driver) for driver in drivers_to_plot}\n",
    ")\n",
    "# Update hover data to show formatted time\n",
    "fig.update_traces(\n",
    "    hovertemplate='<b>Driver</b>: %{customdata[3]}<br>' +\n",
    "                  '<b>Lap Number</b>: %{x}<br>' +\n",
    "                  '<b>Lap Time</b>: %{customdata[1]}:%{customdata[2]:02.0f}.%{customdata[4]:03.0f}<extra></extra>',\n",
    "    customdata=plot_data[['LapTime_sec', 'Minutes', 'Seconds', 'Driver', 'Milliseconds']].to_numpy()\n",
    ")\n",
    "# Update y-axis to use formatted labels at 10-second intervals\n",
    "fig.update_yaxes(\n",
    "    tickvals=y_tick_values,\n",
    "    ticktext=[format_yaxis_labels(val) for val in y_tick_values],\n",
    "    title='Lap Time (min:sec.msec)'\n",
    ")\n",
    "fig.show()"
   ]
  },
  {
   "cell_type": "code",
   "execution_count": null,
   "metadata": {},
   "outputs": [],
   "source": []
  }
 ],
 "metadata": {
  "kernelspec": {
   "display_name": ".venv",
   "language": "python",
   "name": "python3"
  },
  "language_info": {
   "codemirror_mode": {
    "name": "ipython",
    "version": 3
   },
   "file_extension": ".py",
   "mimetype": "text/x-python",
   "name": "python",
   "nbconvert_exporter": "python",
   "pygments_lexer": "ipython3",
   "version": "3.12.3"
  }
 },
 "nbformat": 4,
 "nbformat_minor": 2
}
